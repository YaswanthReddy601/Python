{
 "cells": [
  {
   "cell_type": "code",
   "execution_count": 1,
   "id": "75abb7db",
   "metadata": {},
   "outputs": [
    {
     "data": {
      "text/plain": [
       "33.49333333333333"
      ]
     },
     "execution_count": 1,
     "metadata": {},
     "output_type": "execute_result"
    }
   ],
   "source": [
    "#Write a function that computes the volume of a sphere given its radius.\n",
    "\n",
    "def vol(rad):\n",
    "    return (4/3)*3.14*rad**3\n",
    "\n",
    "vol(2)"
   ]
  },
  {
   "cell_type": "code",
   "execution_count": 4,
   "id": "95638bed",
   "metadata": {},
   "outputs": [
    {
     "name": "stdout",
     "output_type": "stream",
     "text": [
      "5 is in the range between 2 and 7\n"
     ]
    }
   ],
   "source": [
    "#Write a function that checks whether a number is in a given range\n",
    "#(inclusive of high and low)\n",
    "def ran_check(num,low,high):\n",
    "    a = range(low,high)\n",
    "    if num in a:\n",
    "        print(f\"{num} is in the range between {low} and {high}\")\n",
    "    else:\n",
    "        print(f\"{num} is not in the range between {low} and {high}\")\n",
    "\n",
    "      \n",
    "\n",
    "ran_check(5,2,7)"
   ]
  },
  {
   "cell_type": "code",
   "execution_count": 7,
   "id": "829a3728",
   "metadata": {},
   "outputs": [
    {
     "data": {
      "text/plain": [
       "True"
      ]
     },
     "execution_count": 7,
     "metadata": {},
     "output_type": "execute_result"
    }
   ],
   "source": [
    "#If you only wanted to return a boolean:\n",
    "\n",
    "def ran_check(num,low,high):\n",
    "    a = range(low,high)\n",
    "    if num in a:\n",
    "        return True\n",
    "    else:\n",
    "        return False\n",
    "\n",
    "ran_check(3,1,10)"
   ]
  },
  {
   "cell_type": "code",
   "execution_count": 21,
   "id": "5bad369a",
   "metadata": {},
   "outputs": [],
   "source": [
    "#Write a Python function that accepts a string and calculates the number\n",
    "#of upper case letters and lower case letters.\n",
    "def up_low(s):\n",
    "    upper_count = 0\n",
    "    lower_count = 0\n",
    "    for x in s:\n",
    "        if x.isupper():\n",
    "            upper_count += 1\n",
    "        elif x.islower():\n",
    "            lower_count +=1\n",
    "    print(\"No. of Upper case characters : {}\".format(upper_count))\n",
    "    print(\"No. of Lower case characters : {}\".format(lower_count))\n",
    "\n"
   ]
  },
  {
   "cell_type": "code",
   "execution_count": 22,
   "id": "8fa1681e",
   "metadata": {},
   "outputs": [
    {
     "name": "stdout",
     "output_type": "stream",
     "text": [
      "No. of Upper case characters : 4\n",
      "No. of Lower case characters : 33\n"
     ]
    }
   ],
   "source": [
    "s = 'Hello Mr. Rogers, how are you this fine Tuesday?'\n",
    "up_low(s)"
   ]
  },
  {
   "cell_type": "code",
   "execution_count": 25,
   "id": "a05dfa12",
   "metadata": {},
   "outputs": [],
   "source": [
    "#Write a Python function that takes a list and returns a new list with unique \n",
    "#elements of the first list.\n",
    "def unique_list(lst):\n",
    "    st = set(lst)\n",
    "    return list(st)"
   ]
  },
  {
   "cell_type": "code",
   "execution_count": 26,
   "id": "39ebfcd9",
   "metadata": {},
   "outputs": [
    {
     "data": {
      "text/plain": [
       "[1, 2, 3, 4, 5]"
      ]
     },
     "execution_count": 26,
     "metadata": {},
     "output_type": "execute_result"
    }
   ],
   "source": [
    "unique_list([1,1,1,1,2,2,3,3,3,3,4,5])\n"
   ]
  },
  {
   "cell_type": "code",
   "execution_count": 4,
   "id": "b159ac31",
   "metadata": {},
   "outputs": [
    {
     "data": {
      "text/plain": [
       "-24"
      ]
     },
     "execution_count": 4,
     "metadata": {},
     "output_type": "execute_result"
    }
   ],
   "source": [
    "#Write a Python function to multiply all the numbers in a list.\n",
    "def multiply(numbers):  \n",
    "    y = 1\n",
    "    for x in numbers:\n",
    "        y *= x\n",
    "    return y\n",
    "    \n",
    "multiply([1,2,3,-4])\n"
   ]
  },
  {
   "cell_type": "code",
   "execution_count": 5,
   "id": "5ff3ddee",
   "metadata": {},
   "outputs": [
    {
     "data": {
      "text/plain": [
       "True"
      ]
     },
     "execution_count": 5,
     "metadata": {},
     "output_type": "execute_result"
    }
   ],
   "source": [
    "#Write a Python function that checks whether a word or phrase is palindrome or not.\n",
    "def palindrome(s):\n",
    "    rev = s[::-1]\n",
    "    if s == rev:\n",
    "        return True\n",
    "    else:\n",
    "        return False\n",
    "    \n",
    "palindrome('helleh')\n"
   ]
  },
  {
   "cell_type": "code",
   "execution_count": 25,
   "id": "0cca6090",
   "metadata": {},
   "outputs": [
    {
     "data": {
      "text/plain": [
       "True"
      ]
     },
     "execution_count": 25,
     "metadata": {},
     "output_type": "execute_result"
    }
   ],
   "source": [
    "#Write a Python function to check whether a string is pangram or not. \n",
    "#(Assume the string passed in does not have any punctuation)\n",
    "import string \n",
    "\n",
    "def ispangram(str1, alphabet=string.ascii_lowercase):\n",
    "    alphaset = set(alphabet)  \n",
    "    str1 = str1.replace(\" \",'')\n",
    "    str1 = str1.lower()\n",
    "    str1 = set(str1)\n",
    "    return str1 == alphaset\n",
    "          \n",
    "ispangram(\"The quick brown fox jumps over the lazy dog\")\n"
   ]
  },
  {
   "cell_type": "code",
   "execution_count": null,
   "id": "e92f0de8",
   "metadata": {},
   "outputs": [],
   "source": []
  },
  {
   "cell_type": "code",
   "execution_count": null,
   "id": "b553bff8",
   "metadata": {},
   "outputs": [],
   "source": []
  }
 ],
 "metadata": {
  "kernelspec": {
   "display_name": "Python 3 (ipykernel)",
   "language": "python",
   "name": "python3"
  },
  "language_info": {
   "codemirror_mode": {
    "name": "ipython",
    "version": 3
   },
   "file_extension": ".py",
   "mimetype": "text/x-python",
   "name": "python",
   "nbconvert_exporter": "python",
   "pygments_lexer": "ipython3",
   "version": "3.10.9"
  }
 },
 "nbformat": 4,
 "nbformat_minor": 5
}
