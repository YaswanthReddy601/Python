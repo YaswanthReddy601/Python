{
 "cells": [
  {
   "cell_type": "code",
   "execution_count": 48,
   "id": "12c695a6",
   "metadata": {},
   "outputs": [],
   "source": [
    "import random"
   ]
  },
  {
   "cell_type": "code",
   "execution_count": 49,
   "id": "d7aaca42",
   "metadata": {},
   "outputs": [],
   "source": [
    "suits = ('Hearts', 'Diamonds', 'Spades', 'Clubs')\n",
    "ranks = ('Two', 'Three', 'Four', 'Five', 'Six', 'Seven', 'Eight', 'Nine', 'Ten', 'Jack', 'Queen', 'King', 'Ace')\n",
    "values = {'Two':2, 'Three':3, 'Four':4, 'Five':5, 'Six':6, 'Seven':7, 'Eight':8, 'Nine':9, 'Ten':10, 'Jack':10,\n",
    "         'Queen':10, 'King':10, 'Ace':11}"
   ]
  },
  {
   "cell_type": "code",
   "execution_count": 50,
   "id": "66a9d043",
   "metadata": {},
   "outputs": [],
   "source": [
    "import random\n",
    "\n",
    "suits = ('Hearts', 'Diamonds', 'Spades', 'Clubs')\n",
    "ranks = ('Two', 'Three', 'Four', 'Five', 'Six', 'Seven', 'Eight', 'Nine', 'Ten', 'Jack', 'Queen', 'King', 'Ace')\n",
    "values = {'Two':2, 'Three':3, 'Four':4, 'Five':5, 'Six':6, 'Seven':7, 'Eight':8, 'Nine':9, 'Ten':10, 'Jack':10,\n",
    "         'Queen':10, 'King':10, 'Ace':11}\n",
    "\n",
    "playing = True"
   ]
  },
  {
   "cell_type": "code",
   "execution_count": 51,
   "id": "11d625e2",
   "metadata": {},
   "outputs": [],
   "source": [
    "class Card:\n",
    "    \n",
    "    def __init__(self,suit,rank):\n",
    "        self.suit = suit\n",
    "        self.rank = rank\n",
    "    \n",
    "    def __str__(self):\n",
    "        return self.suit+\" of \"+self.rank"
   ]
  },
  {
   "cell_type": "code",
   "execution_count": 52,
   "id": "47322010",
   "metadata": {},
   "outputs": [],
   "source": [
    "caed = Card(\"Heart\",\"Four\")"
   ]
  },
  {
   "cell_type": "code",
   "execution_count": 53,
   "id": "4b38d161",
   "metadata": {},
   "outputs": [],
   "source": [
    "class Deck:\n",
    "    \n",
    "    def __init__(self):\n",
    "        self.deck = []  # start with an empty list\n",
    "        for suit in suits:\n",
    "            for rank in ranks:\n",
    "                self.deck.append(Card(suit,rank))\n",
    "    \n",
    "    def __str__(self):\n",
    "        deck_comp = \"\"\n",
    "        for card in self.deck:\n",
    "            deck_comp +=\"\\n\"+card.__str__()\n",
    "        return \"deck has : \" +deck_comp\n",
    "\n",
    "    def shuffle(self):\n",
    "        random.shuffle(self.deck)\n",
    "        \n",
    "    def deal(self):\n",
    "        return self.deck.pop()\n"
   ]
  },
  {
   "cell_type": "code",
   "execution_count": 54,
   "id": "e6f88451",
   "metadata": {},
   "outputs": [],
   "source": [
    "test_deck = Deck()"
   ]
  },
  {
   "cell_type": "code",
   "execution_count": 55,
   "id": "55234423",
   "metadata": {},
   "outputs": [
    {
     "name": "stdout",
     "output_type": "stream",
     "text": [
      "deck has : \n",
      "Hearts of Two\n",
      "Hearts of Three\n",
      "Hearts of Four\n",
      "Hearts of Five\n",
      "Hearts of Six\n",
      "Hearts of Seven\n",
      "Hearts of Eight\n",
      "Hearts of Nine\n",
      "Hearts of Ten\n",
      "Hearts of Jack\n",
      "Hearts of Queen\n",
      "Hearts of King\n",
      "Hearts of Ace\n",
      "Diamonds of Two\n",
      "Diamonds of Three\n",
      "Diamonds of Four\n",
      "Diamonds of Five\n",
      "Diamonds of Six\n",
      "Diamonds of Seven\n",
      "Diamonds of Eight\n",
      "Diamonds of Nine\n",
      "Diamonds of Ten\n",
      "Diamonds of Jack\n",
      "Diamonds of Queen\n",
      "Diamonds of King\n",
      "Diamonds of Ace\n",
      "Spades of Two\n",
      "Spades of Three\n",
      "Spades of Four\n",
      "Spades of Five\n",
      "Spades of Six\n",
      "Spades of Seven\n",
      "Spades of Eight\n",
      "Spades of Nine\n",
      "Spades of Ten\n",
      "Spades of Jack\n",
      "Spades of Queen\n",
      "Spades of King\n",
      "Spades of Ace\n",
      "Clubs of Two\n",
      "Clubs of Three\n",
      "Clubs of Four\n",
      "Clubs of Five\n",
      "Clubs of Six\n",
      "Clubs of Seven\n",
      "Clubs of Eight\n",
      "Clubs of Nine\n",
      "Clubs of Ten\n",
      "Clubs of Jack\n",
      "Clubs of Queen\n",
      "Clubs of King\n",
      "Clubs of Ace\n"
     ]
    }
   ],
   "source": [
    "print(test_deck)"
   ]
  },
  {
   "cell_type": "code",
   "execution_count": 56,
   "id": "241407e5",
   "metadata": {},
   "outputs": [],
   "source": [
    "test_deck.shuffle()"
   ]
  },
  {
   "cell_type": "code",
   "execution_count": 57,
   "id": "0b2632a6",
   "metadata": {},
   "outputs": [
    {
     "name": "stdout",
     "output_type": "stream",
     "text": [
      "deck has : \n",
      "Hearts of Ace\n",
      "Clubs of Four\n",
      "Hearts of Queen\n",
      "Hearts of Four\n",
      "Diamonds of Six\n",
      "Clubs of Six\n",
      "Hearts of Jack\n",
      "Clubs of Two\n",
      "Diamonds of King\n",
      "Spades of Ace\n",
      "Hearts of Three\n",
      "Diamonds of Ten\n",
      "Diamonds of Two\n",
      "Spades of Nine\n",
      "Spades of Jack\n",
      "Spades of Ten\n",
      "Clubs of Nine\n",
      "Spades of Two\n",
      "Hearts of King\n",
      "Spades of King\n",
      "Hearts of Ten\n",
      "Diamonds of Nine\n",
      "Hearts of Nine\n",
      "Diamonds of Four\n",
      "Hearts of Seven\n",
      "Spades of Seven\n",
      "Diamonds of Three\n",
      "Clubs of Five\n",
      "Clubs of Jack\n",
      "Spades of Four\n",
      "Diamonds of Eight\n",
      "Spades of Five\n",
      "Spades of Queen\n",
      "Clubs of Three\n",
      "Hearts of Five\n",
      "Clubs of Ten\n",
      "Diamonds of Five\n",
      "Clubs of Seven\n",
      "Clubs of Ace\n",
      "Diamonds of Seven\n",
      "Hearts of Two\n",
      "Spades of Eight\n",
      "Clubs of King\n",
      "Spades of Three\n",
      "Diamonds of Jack\n",
      "Diamonds of Queen\n",
      "Clubs of Queen\n",
      "Spades of Six\n",
      "Hearts of Eight\n",
      "Diamonds of Ace\n",
      "Clubs of Eight\n",
      "Hearts of Six\n"
     ]
    }
   ],
   "source": [
    "print(test_deck)"
   ]
  },
  {
   "cell_type": "code",
   "execution_count": 58,
   "id": "7bd34836",
   "metadata": {},
   "outputs": [],
   "source": [
    "class Hand:\n",
    "    def __init__(self):\n",
    "        self.cards = []  # start with an empty list as we did in the Deck class\n",
    "        self.value = 0   # start with zero value\n",
    "        self.aces = 0    # add an attribute to keep track of aces\n",
    "    \n",
    "    def add_card(self,card):\n",
    "        self.cards.append(card)\n",
    "        self.value += values[card.rank]\n",
    "        \n",
    "        if card.rank == \"Ace\":\n",
    "            self.aces += 1\n",
    "    def adjust_for_ace(self):\n",
    "        \n",
    "        while self.value > 21 and self.aces > 0:\n",
    "            self.value -= 10\n",
    "            self.aces -= 1"
   ]
  },
  {
   "cell_type": "code",
   "execution_count": 59,
   "id": "71cac1cc",
   "metadata": {},
   "outputs": [
    {
     "name": "stdout",
     "output_type": "stream",
     "text": [
      "Hearts of Five\n"
     ]
    },
    {
     "data": {
      "text/plain": [
       "5"
      ]
     },
     "execution_count": 59,
     "metadata": {},
     "output_type": "execute_result"
    }
   ],
   "source": [
    "test_deck = Deck()\n",
    "test_deck.shuffle()\n",
    "\n",
    "test_hand = Hand()\n",
    "card = test_deck.deal()\n",
    "print(card)\n",
    "test_hand.add_card(card)\n",
    "test_hand.value"
   ]
  },
  {
   "cell_type": "code",
   "execution_count": 60,
   "id": "dd582d2b",
   "metadata": {},
   "outputs": [],
   "source": [
    "test_hand.add_card(test_deck.deal())"
   ]
  },
  {
   "cell_type": "code",
   "execution_count": 61,
   "id": "8cbfda10",
   "metadata": {},
   "outputs": [],
   "source": [
    "class Chips:\n",
    "    \n",
    "    def __init__(self,total=100):\n",
    "        self.total = total  # This can be set to a default value or supplied by a user input\n",
    "        self.bet = 0\n",
    "        \n",
    "    def win_bet(self):\n",
    "        self.total += self.bet\n",
    "    \n",
    "    def lose_bet(self):\n",
    "        self.total -= self.bet\n"
   ]
  },
  {
   "cell_type": "code",
   "execution_count": 62,
   "id": "a92b09eb",
   "metadata": {},
   "outputs": [],
   "source": [
    "def take_bet(chips):\n",
    "    \n",
    "    while True:\n",
    "        try:\n",
    "            chips.bet = int(input(\"Enter the numbet of cheps you want to bet: \"))\n",
    "        except:\n",
    "            print(\"Sorry, a bet must be in integer\")\n",
    "        else:\n",
    "            if chips.bet > chips.total:\n",
    "                print(\"Sorry you can.t bet over \",chip.total)\n",
    "            else:\n",
    "                break\n",
    "                "
   ]
  },
  {
   "cell_type": "code",
   "execution_count": 63,
   "id": "68b86d15",
   "metadata": {},
   "outputs": [],
   "source": [
    "def hit(deck,hand):\n",
    "    single_card = deck.deal()\n",
    "    hand.add_card(single_card)\n",
    "    hand.adjust_for_ase()"
   ]
  },
  {
   "cell_type": "code",
   "execution_count": 64,
   "id": "41607ebd",
   "metadata": {},
   "outputs": [],
   "source": [
    "def hit_or_stand(deck,hand):\n",
    "    global playing  # to control an upcoming while loop\n",
    "    \n",
    "    while True:\n",
    "        x = input(\"Hit or Stand? (h/s)\")\n",
    "        \n",
    "        if x[0].lower() == 'h':\n",
    "            hit(deck,hand)\n",
    "            \n",
    "        elif x[0].lower() == 's':\n",
    "            print(\"player stands, Dealer's turn\")\n",
    "            playing = False\n",
    "        \n",
    "        else:\n",
    "            print(\"Sorry I wrong input try again...\")\n",
    "            continue\n",
    "        break"
   ]
  },
  {
   "cell_type": "code",
   "execution_count": 65,
   "id": "3e8d72a7",
   "metadata": {},
   "outputs": [
    {
     "ename": "SyntaxError",
     "evalue": "invalid syntax. Perhaps you forgot a comma? (4043918439.py, line 15)",
     "output_type": "error",
     "traceback": [
      "\u001b[1;36m  Cell \u001b[1;32mIn[65], line 15\u001b[1;36m\u001b[0m\n\u001b[1;33m    print(\"value of the Dealer's hand is : {}\".formate{dealer.value})\u001b[0m\n\u001b[1;37m          ^\u001b[0m\n\u001b[1;31mSyntaxError\u001b[0m\u001b[1;31m:\u001b[0m invalid syntax. Perhaps you forgot a comma?\n"
     ]
    }
   ],
   "source": [
    "def show_some(player,dealer):\n",
    "    \n",
    "    print(\" Dealer's hand: \")\n",
    "    print(\"First card hidden\")\n",
    "    print(dealer.card[1])\n",
    "    pass\n",
    "    print(\" Players's hand: \")\n",
    "    for card in player.cards:\n",
    "        print(card)\n",
    "    \n",
    "def show_all(player,dealer):\n",
    "    print(\" Players's hand: \")\n",
    "    for card in player.cards:\n",
    "        print(card)\n",
    "    print(\"value of the Dealer's hand is : {}\".formate{dealer.value})\n",
    "    print(\" Dealer's hand: \")\n",
    "    for card in dealer.cards:\n",
    "        print(card)\n",
    "    print(\"value of the Player's hand is : {}\".formate{Player.value})\n",
    "    \n"
   ]
  },
  {
   "cell_type": "code",
   "execution_count": 46,
   "id": "4e6bc8ca",
   "metadata": {},
   "outputs": [],
   "source": [
    "def player_busts(player,dealer,chips):\n",
    "    print(\"Player busts!\")\n",
    "    chips.lose_bet()\n",
    "\n",
    "def player_wins(player,dealer,chips):\n",
    "    print(\"Player wins!\")\n",
    "    chips.win_bet()\n",
    "\n",
    "def dealer_busts(player,dealer,chips):\n",
    "    print(\"Dealer busts!\")\n",
    "    chips.win_bet()\n",
    "    \n",
    "def dealer_wins(player,dealer,chips):\n",
    "    print(\"Dealer wins!\")\n",
    "    chips.lose_bet()\n",
    "    \n",
    "def push(player,dealer):\n",
    "    print(\"Dealer and Player tie! It's a push.\")"
   ]
  },
  {
   "cell_type": "code",
   "execution_count": 47,
   "id": "00e8981f",
   "metadata": {},
   "outputs": [
    {
     "name": "stdout",
     "output_type": "stream",
     "text": [
      "Welcome to BlackJack! Get as close to 21 as you can without going over!\n",
      "    Dealer hits until she reaches 17. Aces count as 1 or 11.\n",
      "Enter the numbet of cheps you want to bet: 5\n"
     ]
    },
    {
     "ename": "NameError",
     "evalue": "name 'show_some' is not defined",
     "output_type": "error",
     "traceback": [
      "\u001b[1;31m---------------------------------------------------------------------------\u001b[0m",
      "\u001b[1;31mNameError\u001b[0m                                 Traceback (most recent call last)",
      "Cell \u001b[1;32mIn[47], line 25\u001b[0m\n\u001b[0;32m     22\u001b[0m take_bet(player_chips)\n\u001b[0;32m     24\u001b[0m \u001b[38;5;66;03m# Show cards (but keep one dealer card hidden)\u001b[39;00m\n\u001b[1;32m---> 25\u001b[0m \u001b[43mshow_some\u001b[49m(player_hand,dealer_hand)\n\u001b[0;32m     27\u001b[0m \u001b[38;5;28;01mwhile\u001b[39;00m playing:  \u001b[38;5;66;03m# recall this variable from our hit_or_stand function\u001b[39;00m\n\u001b[0;32m     28\u001b[0m     \n\u001b[0;32m     29\u001b[0m     \u001b[38;5;66;03m# Prompt for Player to Hit or Stand\u001b[39;00m\n\u001b[0;32m     30\u001b[0m     hit_or_stand(deck,player_hand) \n",
      "\u001b[1;31mNameError\u001b[0m: name 'show_some' is not defined"
     ]
    }
   ],
   "source": [
    "while True:\n",
    "    # Print an opening statement\n",
    "    print('Welcome to BlackJack! Get as close to 21 as you can without going over!\\n\\\n",
    "    Dealer hits until she reaches 17. Aces count as 1 or 11.')\n",
    "    \n",
    "    # Create & shuffle the deck, deal two cards to each player\n",
    "    deck = Deck()\n",
    "    deck.shuffle()\n",
    "    \n",
    "    player_hand = Hand()\n",
    "    player_hand.add_card(deck.deal())\n",
    "    player_hand.add_card(deck.deal())\n",
    "    \n",
    "    dealer_hand = Hand()\n",
    "    dealer_hand.add_card(deck.deal())\n",
    "    dealer_hand.add_card(deck.deal())\n",
    "            \n",
    "    # Set up the Player's chips\n",
    "    player_chips = Chips()  # remember the default value is 100    \n",
    "    \n",
    "    # Prompt the Player for their bet\n",
    "    take_bet(player_chips)\n",
    "    \n",
    "    # Show cards (but keep one dealer card hidden)\n",
    "    show_some(player_hand,dealer_hand)\n",
    "    \n",
    "    while playing:  # recall this variable from our hit_or_stand function\n",
    "        \n",
    "        # Prompt for Player to Hit or Stand\n",
    "        hit_or_stand(deck,player_hand) \n",
    "        \n",
    "        # Show cards (but keep one dealer card hidden)\n",
    "        show_some(player_hand,dealer_hand)  \n",
    "        \n",
    "        # If player's hand exceeds 21, run player_busts() and break out of loop\n",
    "        if player_hand.value > 21:\n",
    "            player_busts(player_hand,dealer_hand,player_chips)\n",
    "            break        \n",
    "\n",
    "\n",
    "    # If Player hasn't busted, play Dealer's hand until Dealer reaches 17 \n",
    "    if player_hand.value <= 21:\n",
    "        \n",
    "        while dealer_hand.value < 17:\n",
    "            hit(deck,dealer_hand)    \n",
    "    \n",
    "        # Show all cards\n",
    "        show_all(player_hand,dealer_hand)\n",
    "        \n",
    "        # Run different winning scenarios\n",
    "        if dealer_hand.value > 21:\n",
    "            dealer_busts(player_hand,dealer_hand,player_chips)\n",
    "\n",
    "        elif dealer_hand.value > player_hand.value:\n",
    "            dealer_wins(player_hand,dealer_hand,player_chips)\n",
    "\n",
    "        elif dealer_hand.value < player_hand.value:\n",
    "            player_wins(player_hand,dealer_hand,player_chips)\n",
    "\n",
    "        else:\n",
    "            push(player_hand,dealer_hand)        \n",
    "    \n",
    "    # Inform Player of their chips total \n",
    "    print(\"\\nPlayer's winnings stand at\",player_chips.total)\n",
    "    \n",
    "    # Ask to play again\n",
    "    new_game = input(\"Would you like to play another hand? Enter 'y' or 'n' \")\n",
    "    \n",
    "    if new_game[0].lower()=='y':\n",
    "        playing=True\n",
    "        continue\n",
    "    else:\n",
    "        print(\"Thanks for playing!\")\n",
    "        break"
   ]
  },
  {
   "cell_type": "code",
   "execution_count": null,
   "id": "4ff2824e",
   "metadata": {},
   "outputs": [],
   "source": []
  }
 ],
 "metadata": {
  "kernelspec": {
   "display_name": "Python 3 (ipykernel)",
   "language": "python",
   "name": "python3"
  },
  "language_info": {
   "codemirror_mode": {
    "name": "ipython",
    "version": 3
   },
   "file_extension": ".py",
   "mimetype": "text/x-python",
   "name": "python",
   "nbconvert_exporter": "python",
   "pygments_lexer": "ipython3",
   "version": "3.10.9"
  }
 },
 "nbformat": 4,
 "nbformat_minor": 5
}
