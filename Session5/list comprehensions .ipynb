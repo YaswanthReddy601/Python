{
 "cells": [
  {
   "cell_type": "code",
   "execution_count": 3,
   "id": "fd2f0384",
   "metadata": {},
   "outputs": [
    {
     "data": {
      "text/plain": [
       "[0, 1, 2, 3, 4, 5, 6, 7, 8, 9]"
      ]
     },
     "execution_count": 3,
     "metadata": {},
     "output_type": "execute_result"
    }
   ],
   "source": [
    "#list comprehensions: it is the shorter syntax to create or add data to the list. \n",
    "li1 = []\n",
    "for x in range(0,10):\n",
    "    li1.append(x)\n",
    "li1"
   ]
  },
  {
   "cell_type": "code",
   "execution_count": 7,
   "id": "6442363b",
   "metadata": {},
   "outputs": [
    {
     "name": "stdout",
     "output_type": "stream",
     "text": [
      "[0, 1, 2, 3, 4, 5, 6, 7, 8, 9]\n"
     ]
    }
   ],
   "source": [
    "#we can write the above code in shorter formate\n",
    "li1 = [x for x in range(0,10)]\n",
    "\n",
    "print(li1)"
   ]
  },
  {
   "cell_type": "code",
   "execution_count": 8,
   "id": "ceb5d63f",
   "metadata": {},
   "outputs": [
    {
     "data": {
      "text/plain": [
       "[0, 2, 4, 6, 8, 10, 12, 14, 16, 18]"
      ]
     },
     "execution_count": 8,
     "metadata": {},
     "output_type": "execute_result"
    }
   ],
   "source": [
    "li2 = [x for x in range(0,20) if x%2==0]\n",
    "\n",
    "li2"
   ]
  },
  {
   "cell_type": "code",
   "execution_count": 9,
   "id": "85776744",
   "metadata": {},
   "outputs": [
    {
     "data": {
      "text/plain": [
       "[-1, 1, 3, 5, 7, 9, 11, 13, 15, 17]"
      ]
     },
     "execution_count": 9,
     "metadata": {},
     "output_type": "execute_result"
    }
   ],
   "source": [
    "li3 = [x-1 for x in li2]\n",
    "\n",
    "li3"
   ]
  },
  {
   "cell_type": "code",
   "execution_count": 10,
   "id": "39a6e709",
   "metadata": {},
   "outputs": [
    {
     "data": {
      "text/plain": [
       "[0, 2, 4, 6, 8, 10]"
      ]
     },
     "execution_count": 10,
     "metadata": {},
     "output_type": "execute_result"
    }
   ],
   "source": [
    "li4 = [x*2 for x in range(0,6)]\n",
    "\n",
    "li4"
   ]
  },
  {
   "cell_type": "code",
   "execution_count": 18,
   "id": "eb05d970",
   "metadata": {},
   "outputs": [
    {
     "data": {
      "text/plain": [
       "[0, 1, 4, 9, 16, 25, 36, 49, 64, 81, 100, 121, 144, 169, 196, 225]"
      ]
     },
     "execution_count": 18,
     "metadata": {},
     "output_type": "execute_result"
    }
   ],
   "source": [
    "li5 = [x**2 for x in range(0,16)]\n",
    "\n",
    "li5"
   ]
  },
  {
   "cell_type": "code",
   "execution_count": 19,
   "id": "cc6c751a",
   "metadata": {},
   "outputs": [
    {
     "data": {
      "text/plain": [
       "[0.0,\n",
       " 1.0,\n",
       " 2.0,\n",
       " 3.0,\n",
       " 4.0,\n",
       " 5.0,\n",
       " 6.0,\n",
       " 7.0,\n",
       " 8.0,\n",
       " 9.0,\n",
       " 10.0,\n",
       " 11.0,\n",
       " 12.0,\n",
       " 13.0,\n",
       " 14.0,\n",
       " 15.0]"
      ]
     },
     "execution_count": 19,
     "metadata": {},
     "output_type": "execute_result"
    }
   ],
   "source": [
    "li6 = [x**0.5 for x in li5]\n",
    "\n",
    "li6"
   ]
  },
  {
   "cell_type": "code",
   "execution_count": 17,
   "id": "c67eddac",
   "metadata": {},
   "outputs": [
    {
     "data": {
      "text/plain": [
       "list"
      ]
     },
     "execution_count": 17,
     "metadata": {},
     "output_type": "execute_result"
    }
   ],
   "source": [
    "type(li6)"
   ]
  },
  {
   "cell_type": "code",
   "execution_count": 30,
   "id": "87399171",
   "metadata": {},
   "outputs": [
    {
     "name": "stdout",
     "output_type": "stream",
     "text": [
      "True\n"
     ]
    }
   ],
   "source": [
    "from random import randint\n",
    "a = randint(0,6)\n",
    "li7 = [print(True) if a==3 else print(False)]"
   ]
  },
  {
   "cell_type": "code",
   "execution_count": null,
   "id": "67ccd1fd",
   "metadata": {},
   "outputs": [],
   "source": [
    "range():it returns the sequence of the numbers based on the given range\n",
    "enumerate(): it tracks the given iterator and returns the tuple that contains index number and an emement of the iterator\n",
    "zip(): it combains multible iterators and returns one iterator which contains the sequence of the tuple \n",
    "    that contains the elements of the each iterator\n",
    "min() returns the lowest value\n",
    "max() returns higheset value\n",
    "import shuffle and randint \n",
    "shuffle, shuffles the values in the list. randint returns random number ifrom the given range\n",
    "dynamic output : takes the dynamic output"
   ]
  }
 ],
 "metadata": {
  "kernelspec": {
   "display_name": "Python 3 (ipykernel)",
   "language": "python",
   "name": "python3"
  },
  "language_info": {
   "codemirror_mode": {
    "name": "ipython",
    "version": 3
   },
   "file_extension": ".py",
   "mimetype": "text/x-python",
   "name": "python",
   "nbconvert_exporter": "python",
   "pygments_lexer": "ipython3",
   "version": "3.10.9"
  }
 },
 "nbformat": 4,
 "nbformat_minor": 5
}
