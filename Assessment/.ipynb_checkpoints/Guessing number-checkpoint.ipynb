{
 "cells": [
  {
   "cell_type": "code",
   "execution_count": 20,
   "id": "2df8e4bf",
   "metadata": {},
   "outputs": [
    {
     "name": "stdout",
     "output_type": "stream",
     "text": [
      "Welcome to the Number Guessing Game...\n",
      "choose the difficulty : type 'easy' or 'hard': easy\n",
      "You have 10 guess\n",
      "make a guess: 50\n",
      "Too low\n",
      "Your have 9 attemts left\n",
      "make a guess: 60\n",
      "Too high\n",
      "Your have 8 attemts left\n",
      "make a guess: 55\n",
      "Too high\n",
      "Your have 7 attemts left\n",
      "make a guess: 54\n",
      "Too high\n",
      "Your have 6 attemts left\n",
      "make a guess: 53\n",
      "Too high\n",
      "Your have 5 attemts left\n",
      "make a guess: 52\n",
      "Too high\n",
      "Your have 4 attemts left\n",
      "make a guess: 51\n",
      "Great you guessed it right\n",
      "Your have 3 attemts left\n"
     ]
    }
   ],
   "source": [
    "import random\n",
    "print(\"Welcome to the Number Guessing Game...\")\n",
    "rand_number = random.randint(1,101)\n",
    "\n",
    "difficulty= input(\"choose the difficulty : type 'easy' or 'hard': \")\n",
    "\n",
    "if difficulty == \"easy\":\n",
    "    chances = 10\n",
    "    print(\"You have 10 guess\")\n",
    "elif difficulty == \"hard\":\n",
    "    chances = 5\n",
    "    print(\"You have 5 guess\")\n",
    "    \n",
    "\n",
    "while chances >= 0:\n",
    "\n",
    "    if chances > 0:\n",
    "        guess = int(input(\"make a guess: \"))\n",
    "        chances -= 1\n",
    "        if rand_number > guess:    \n",
    "            print(\"Too low\")\n",
    "        elif rand_number < guess:\n",
    "            print(\"Too high\")\n",
    "        elif rand_number == guess:\n",
    "            print(\"Great you guessed it right\")\n",
    "            print(f\"Your have {chances} attemts left\")\n",
    "            break\n",
    "        print(f\"Your have {chances} attemts left\")\n",
    "    else:\n",
    "        print(f\"Your have {chances} attemts you lose\")\n",
    "        print(f\"{rand_number}\")"
   ]
  },
  {
   "cell_type": "code",
   "execution_count": null,
   "id": "c418077e",
   "metadata": {},
   "outputs": [],
   "source": []
  },
  {
   "cell_type": "code",
   "execution_count": null,
   "id": "ea39d1f5",
   "metadata": {},
   "outputs": [],
   "source": []
  }
 ],
 "metadata": {
  "kernelspec": {
   "display_name": "Python 3 (ipykernel)",
   "language": "python",
   "name": "python3"
  },
  "language_info": {
   "codemirror_mode": {
    "name": "ipython",
    "version": 3
   },
   "file_extension": ".py",
   "mimetype": "text/x-python",
   "name": "python",
   "nbconvert_exporter": "python",
   "pygments_lexer": "ipython3",
   "version": "3.10.9"
  }
 },
 "nbformat": 4,
 "nbformat_minor": 5
}
