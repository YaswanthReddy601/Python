{
 "cells": [
  {
   "cell_type": "code",
   "execution_count": 43,
   "id": "4e8907af",
   "metadata": {},
   "outputs": [],
   "source": [
    "#Fill in the Line class methods to accept coordinates as a pair of tuples and return the slope and distance of the line.\n",
    "class Line:\n",
    "    \n",
    "    def __init__(self,coor1,coor2):\n",
    "        self.coor1 = coor1\n",
    "        self.coor2 = coor2\n",
    "        \n",
    "    def distance(self):\n",
    "        x1,y1 = self.coor1\n",
    "        x2,y2 = self.coor2\n",
    "        dist = ((x2-x1)**2+(y2-y1)**2)**0.5\n",
    "        return dist\n",
    "    def slope(self):\n",
    "        x1,y1 = self.coor1\n",
    "        x2,y2 = self.coor2\n",
    "        m = (y2-y1)/(x2-x1)\n",
    "        return m"
   ]
  },
  {
   "cell_type": "code",
   "execution_count": 44,
   "id": "b5660e0f",
   "metadata": {},
   "outputs": [],
   "source": [
    "# EXAMPLE OUTPUT\n",
    "\n",
    "coordinate1 = (3,2)\n",
    "coordinate2 = (8,10)\n",
    "\n",
    "li = Line(coordinate1,coordinate2)"
   ]
  },
  {
   "cell_type": "code",
   "execution_count": 45,
   "id": "c5dca267",
   "metadata": {},
   "outputs": [
    {
     "data": {
      "text/plain": [
       "9.433981132056603"
      ]
     },
     "execution_count": 45,
     "metadata": {},
     "output_type": "execute_result"
    }
   ],
   "source": [
    "li.distance()"
   ]
  },
  {
   "cell_type": "code",
   "execution_count": 48,
   "id": "f496dbf4",
   "metadata": {},
   "outputs": [
    {
     "data": {
      "text/plain": [
       "1.6"
      ]
     },
     "execution_count": 48,
     "metadata": {},
     "output_type": "execute_result"
    }
   ],
   "source": [
    "li.slope()"
   ]
  },
  {
   "cell_type": "code",
   "execution_count": null,
   "id": "ab99b399",
   "metadata": {},
   "outputs": [],
   "source": [
    "#Fill in the class\n",
    "#V=πr2h\n",
    "2πrh+2πr2"
   ]
  },
  {
   "cell_type": "code",
   "execution_count": 103,
   "id": "0ac02aab",
   "metadata": {},
   "outputs": [],
   "source": [
    "class Cylinder:\n",
    "    \n",
    "    def __init__(self,height=1,radius=1):\n",
    "        self.height = height\n",
    "        self.radius = radius\n",
    "        \n",
    "    def volume(self):\n",
    "        self.pi = 3.14\n",
    "        vol = self.pi*self.radius*self.radius*self.height\n",
    "        return \"{0:.2f}\".format(vol)\n",
    "    def surface_area(self):\n",
    "        sa = (2*self.pi*self.radius*self.height)+(2*self.pi*self.radius*self.radius)\n",
    "        return \"{0:.1f}\".format(sa)"
   ]
  },
  {
   "cell_type": "code",
   "execution_count": 104,
   "id": "5e6decd7",
   "metadata": {},
   "outputs": [],
   "source": [
    "# EXAMPLE OUTPUT\n",
    "c = Cylinder(2,3)"
   ]
  },
  {
   "cell_type": "code",
   "execution_count": 105,
   "id": "cedb3f5a",
   "metadata": {},
   "outputs": [
    {
     "data": {
      "text/plain": [
       "'56.52'"
      ]
     },
     "execution_count": 105,
     "metadata": {},
     "output_type": "execute_result"
    }
   ],
   "source": [
    "c.volume()"
   ]
  },
  {
   "cell_type": "code",
   "execution_count": 106,
   "id": "35231bb9",
   "metadata": {},
   "outputs": [
    {
     "data": {
      "text/plain": [
       "'94.2'"
      ]
     },
     "execution_count": 106,
     "metadata": {},
     "output_type": "execute_result"
    }
   ],
   "source": [
    "c.surface_area()"
   ]
  },
  {
   "cell_type": "code",
   "execution_count": null,
   "id": "8f89b3b8",
   "metadata": {},
   "outputs": [],
   "source": []
  }
 ],
 "metadata": {
  "kernelspec": {
   "display_name": "Python 3 (ipykernel)",
   "language": "python",
   "name": "python3"
  },
  "language_info": {
   "codemirror_mode": {
    "name": "ipython",
    "version": 3
   },
   "file_extension": ".py",
   "mimetype": "text/x-python",
   "name": "python",
   "nbconvert_exporter": "python",
   "pygments_lexer": "ipython3",
   "version": "3.10.9"
  }
 },
 "nbformat": 4,
 "nbformat_minor": 5
}
