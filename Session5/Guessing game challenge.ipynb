{
 "cells": [
  {
   "cell_type": "code",
   "execution_count": 1,
   "id": "721c989e",
   "metadata": {},
   "outputs": [
    {
     "name": "stdout",
     "output_type": "stream",
     "text": [
      "\n"
     ]
    }
   ],
   "source": [
    "'''\n",
    "Guessing Game Challenge:\n",
    "Let's use while loops to create a guessing game.\n",
    "\n",
    "The Challenge:\n",
    "\n",
    "Write a program that picks a random integer from 1 to 100, and has players guess the number. The rules are:\n",
    "\n",
    "1. If a player's guess is less than 1 or greater than 100, say \"OUT OF BOUNDS\"\n",
    "2. On a player's first turn, if their guess is\n",
    "  *within 10 of the number, return \"WARM!\"\n",
    "  *further than 10 away from the number, return \"COLD!\"\n",
    "3. On all subsequent turns, if a guess is\n",
    "  *closer to the number than the previous guess return \"WARMER!\"\n",
    "  *farther from the number than the previous guess, return \"COLDER!\"\n",
    "4. When the player's guess equals the number, tell them they've guessed correctly and how many guesses it took!\n",
    "'''\n",
    "print()"
   ]
  },
  {
   "cell_type": "code",
   "execution_count": 1,
   "id": "d6291326",
   "metadata": {},
   "outputs": [
    {
     "data": {
      "text/plain": [
       "74"
      ]
     },
     "execution_count": 1,
     "metadata": {},
     "output_type": "execute_result"
    }
   ],
   "source": [
    "from random import randint\n",
    "\n",
    "random_by_pc = randint(1,100)\n",
    "random_by_pc"
   ]
  },
  {
   "cell_type": "code",
   "execution_count": 2,
   "id": "3ae8a483",
   "metadata": {},
   "outputs": [
    {
     "name": "stdout",
     "output_type": "stream",
     "text": [
      "Guess a number between 1-100, if it is lessthan 0 or greaterthen 100 you will get 'OUT OF BOUNCE'. \n",
      "If the number is with in 10 of your number you get 'WARM' message\n",
      "if the number is further than 10 away from your number then you will get 'COLD' message.\n",
      "if the number you guessed is closer to the number randomly choosed by the computer than the previous guess return 'WARMER!'\n",
      "if the number you picked is farther from the number than the previous guess, return 'COLDER!'\n",
      "if your numbe matched the computer random number then you will return 'you've guessed correctly and how many guesses you took!'\n",
      "\n"
     ]
    }
   ],
   "source": [
    "print(\"\"\"Guess a number between 1-100, if it is lessthan 0 or greaterthen 100 you will get 'OUT OF BOUNCE'. \n",
    "If the number is with in 10 of your number you get 'WARM' message\n",
    "if the number is further than 10 away from your number then you will get 'COLD' message.\n",
    "if the number you guessed is closer to the number randomly choosed by the computer than the previous guess return 'WARMER!'\n",
    "if the number you picked is farther from the number than the previous guess, return 'COLDER!'\n",
    "if your numbe matched the computer random number then you will return 'you've guessed correctly and how many guesses you took!'\n",
    "\"\"\")"
   ]
  },
  {
   "cell_type": "code",
   "execution_count": null,
   "id": "c8076893",
   "metadata": {},
   "outputs": [],
   "source": [
    "print(\"pick a number between 0 to 100 \")\n",
    "random_by_gamer = int(input())\n",
    "count = 0\n",
    "first_pick = random_by_pc - random_by_gamer\n",
    "if first_pick<0:\n",
    "    first_pick = -(first_pick)\n",
    "    \n",
    "if random_by_gamer<1 or random_by_gamer>100:\n",
    "    print(\"OUT OF BOUNS\")\n",
    "    count +=1\n",
    "elif first_pick>10:\n",
    "    print('COLD')\n",
    "    count +=1\n",
    "elif first_pick<10:\n",
    "    print('WARM')\n",
    "    count +=1\n",
    "elif random_by_gamer==again_by_gamer:\n",
    "        print(\"you've guessed correctly and you took {} chances to guess the currect answer\".format(count))\n",
    "while random_by_gamer!=random_by_pc:\n",
    "    print(\"pick again\")\n",
    "    again_by_gamer = int(input())\n",
    "    further_picks = again_by_gamer - random_by_pc\n",
    "    if further_picks<0:\n",
    "        further_picks = -(further_picks)\n",
    "    if random_by_gamer<1 or random_by_gamer>100:\n",
    "        print(\"OUT OF BOUNS\")\n",
    "        count +=1\n",
    "    elif again_by_gamer < random_by_pc and further_picks<=10:\n",
    "        print(\"WARMER\")\n",
    "        count +=1\n",
    "    elif again_by_gamer < random_by_pc and further_picks>10:\n",
    "        print(\"COOLER\")\n",
    "        count +=1\n",
    "    elif again_by_gamer > random_by_pc and further_picks>10:\n",
    "        print(\"COOLER\")\n",
    "        count +=1\n",
    "    elif again_by_gamer > random_by_pc and further_picks<=10:\n",
    "        print(\"WARMER\")\n",
    "        count +=1\n",
    "    elif again_by_gamer==random_by_pc:\n",
    "        print(\"you've guessed correctly and you took {} chances to guess the currect answer\".format(count))\n",
    "        break\n",
    "    "
   ]
  },
  {
   "cell_type": "code",
   "execution_count": null,
   "id": "59b17ed4",
   "metadata": {},
   "outputs": [],
   "source": []
  }
 ],
 "metadata": {
  "kernelspec": {
   "display_name": "Python 3 (ipykernel)",
   "language": "python",
   "name": "python3"
  },
  "language_info": {
   "codemirror_mode": {
    "name": "ipython",
    "version": 3
   },
   "file_extension": ".py",
   "mimetype": "text/x-python",
   "name": "python",
   "nbconvert_exporter": "python",
   "pygments_lexer": "ipython3",
   "version": "3.10.9"
  }
 },
 "nbformat": 4,
 "nbformat_minor": 5
}
