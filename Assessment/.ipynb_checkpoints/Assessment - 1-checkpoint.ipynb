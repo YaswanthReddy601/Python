{
 "cells": [
  {
   "cell_type": "code",
   "execution_count": 1,
   "id": "e59d2f9e",
   "metadata": {},
   "outputs": [
    {
     "name": "stdout",
     "output_type": "stream",
     "text": [
      "118\n"
     ]
    }
   ],
   "source": [
    "#1. Write a Python program to reverse a number \n",
    "def rev_num(num):\n",
    "    rev = 0\n",
    "    while(num>0):\n",
    "        temp = int(num%10) \n",
    "        rev = rev*10+temp\n",
    "        num = int(num/10)\n",
    "    print(rev)\n",
    "\n",
    "rev_num(811)"
   ]
  },
  {
   "cell_type": "code",
   "execution_count": 9,
   "id": "2594db6e",
   "metadata": {},
   "outputs": [
    {
     "name": "stdout",
     "output_type": "stream",
     "text": [
      "amar\n"
     ]
    }
   ],
   "source": [
    "#2. Write a program in Python to reverse a word using loop and slicing\n",
    "def rev_word(word):\n",
    "    rev = \"\"\n",
    "    x = -1\n",
    "    while(x>=-len(word)):\n",
    "        rev += word[x]\n",
    "        x -= 1\n",
    "    print(rev)\n",
    "rev_word(\"rama\")\n",
    "        "
   ]
  },
  {
   "cell_type": "code",
   "execution_count": 8,
   "id": "be48df74",
   "metadata": {},
   "outputs": [
    {
     "name": "stdout",
     "output_type": "stream",
     "text": [
      "amar\n"
     ]
    }
   ],
   "source": [
    "#using slicing\n",
    "def rev_word(word):\n",
    "    print(word[::-1])\n",
    "\n",
    "rev_word(\"rama\")"
   ]
  },
  {
   "cell_type": "code",
   "execution_count": 7,
   "id": "5bc3b9b9",
   "metadata": {},
   "outputs": [
    {
     "name": "stdout",
     "output_type": "stream",
     "text": [
      "factorial of 5 is 120\n"
     ]
    }
   ],
   "source": [
    "#3. Write a program in Python to display the Factorial of a number.\n",
    "def factorial(num):\n",
    "    fact = 1\n",
    "    num1 = num\n",
    "    while(num>0):\n",
    "        fact *= num\n",
    "        num -= 1\n",
    "    print(f\"factorial of {num1} is {fact}\")\n",
    "factorial(5)"
   ]
  },
  {
   "cell_type": "code",
   "execution_count": 5,
   "id": "8471fbbc",
   "metadata": {},
   "outputs": [
    {
     "name": "stdout",
     "output_type": "stream",
     "text": [
      "3\n"
     ]
    }
   ],
   "source": [
    "#4. Write a Python program to calculate the product, multiplying all the numbers in a given tuple.\n",
    "def product(arg):\n",
    "    a = 1\n",
    "    for x in arg:\n",
    "        a *= x\n",
    "    print(a)\n",
    "product((1,2,3))"
   ]
  },
  {
   "cell_type": "code",
   "execution_count": 6,
   "id": "005f0fed",
   "metadata": {},
   "outputs": [
    {
     "data": {
      "text/plain": [
       "['ramayana']"
      ]
     },
     "execution_count": 6,
     "metadata": {},
     "output_type": "execute_result"
    }
   ],
   "source": [
    "#5. Write a Python program to extract specified size of strings from a give list of string values.\n",
    "def extract_string(arg,size):\n",
    "    ex_strings = []\n",
    "    for x in arg:\n",
    "        if len(x)==size:\n",
    "            ex_strings.append(x)\n",
    "    return ex_strings\n",
    "    \n",
    "    \n",
    "extract_string([\"ramayana\",\"mar\",\"pama\",\"rama\"],8)\n"
   ]
  },
  {
   "cell_type": "code",
   "execution_count": 31,
   "id": "90bcf228",
   "metadata": {},
   "outputs": [
    {
     "data": {
      "text/plain": [
       "3"
      ]
     },
     "execution_count": 31,
     "metadata": {},
     "output_type": "execute_result"
    }
   ],
   "source": [
    "\n"
   ]
  },
  {
   "cell_type": "code",
   "execution_count": null,
   "id": "627f0e26",
   "metadata": {},
   "outputs": [],
   "source": []
  }
 ],
 "metadata": {
  "kernelspec": {
   "display_name": "Python 3 (ipykernel)",
   "language": "python",
   "name": "python3"
  },
  "language_info": {
   "codemirror_mode": {
    "name": "ipython",
    "version": 3
   },
   "file_extension": ".py",
   "mimetype": "text/x-python",
   "name": "python",
   "nbconvert_exporter": "python",
   "pygments_lexer": "ipython3",
   "version": "3.10.9"
  }
 },
 "nbformat": 4,
 "nbformat_minor": 5
}
