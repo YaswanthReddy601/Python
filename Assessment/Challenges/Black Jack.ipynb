{
 "cells": [
  {
   "cell_type": "code",
   "execution_count": 3,
   "id": "a5ac8006",
   "metadata": {},
   "outputs": [
    {
     "name": "stdout",
     "output_type": "stream",
     "text": [
      "Are you ready to start the game? Type 'y' or 'n' : y\n"
     ]
    }
   ],
   "source": [
    "#BlackJack\n",
    "play = input(\"Are you ready to start the game? Type 'y' or 'n' : \")"
   ]
  },
  {
   "cell_type": "code",
   "execution_count": 28,
   "id": "0a23a00f",
   "metadata": {},
   "outputs": [],
   "source": [
    "import random\n",
    "def deal():    \n",
    "    cards = [11,2,3,4,5,6,7,8,9,10,10,10,10]\n",
    "    card = random.choice(cards)\n",
    "    return card"
   ]
  },
  {
   "cell_type": "code",
   "execution_count": 29,
   "id": "4ffd0c1a",
   "metadata": {},
   "outputs": [],
   "source": [
    "def calculate_score(cards):\n",
    "    if sum(cards) == 21 and len(cards) == 2:\n",
    "        return 0\n",
    "    elif 11 in cards and sum(cards) > 21:\n",
    "        cards.remove(11)\n",
    "        cards.append(1)\n",
    "    return sum(cards)\n"
   ]
  },
  {
   "cell_type": "code",
   "execution_count": 30,
   "id": "29cf0d07",
   "metadata": {},
   "outputs": [],
   "source": [
    "def compare_scores(user_score, computer_score):\n",
    "    if user_score == computer_score:\n",
    "        return \"Draw\"\n",
    "    elif computer_score == 0:\n",
    "        return \"Lose, Opponent has Blackjack\"\n",
    "    elif user_score == 0:\n",
    "        return \"Win! got blackjack\"\n",
    "    elif user_score > 21:\n",
    "        return \"You went over 21, you lose\"\n",
    "    elif computer_score > 21:\n",
    "        return \"Opponent went over 21, you win\"\n",
    "    elif user_score > computer_score:\n",
    "        return \"you win, you got blackjack\"\n",
    "    else:\n",
    "        return \"you lose, Opponent has Blackjack\""
   ]
  },
  {
   "cell_type": "code",
   "execution_count": null,
   "id": "4cb3403c",
   "metadata": {},
   "outputs": [
    {
     "name": "stdout",
     "output_type": "stream",
     "text": [
      "Your cards are [11, 9] and your score is 20\n",
      "Your cards are [6] and your score is 6\n",
      "type 'y' to take another card type 'n' to pass:n\n",
      "your final hand : [11, 9], final score is 20\n",
      "computer final hand : [6, 10, 10], final score is 26\n",
      "Opponent went over 21, you win\n"
     ]
    }
   ],
   "source": [
    "play_on = \"yes\"\n",
    "while play_on == \"yes\":\n",
    "    user_cards = []\n",
    "    computer_cards = []\n",
    "\n",
    "    for x in range(2):\n",
    "        user_cards.append(deal())\n",
    "    computer_cards.append(deal())\n",
    "    flag = True\n",
    "    while flag:    \n",
    "        user_score = calculate_score(user_cards)\n",
    "        computer_score = calculate_score(computer_cards)\n",
    "\n",
    "        print(f\"Your cards are {user_cards} and your score is {user_score}\")\n",
    "        print(f\"Your cards are {computer_cards} and your score is {computer_score}\")\n",
    "\n",
    "        if user_score == 0 or computer_score == 0 or user_score > 21:\n",
    "            flag = False\n",
    "        else:\n",
    "            user_card_choice = input(\"type 'y' to take another card type 'n' to pass:\")\n",
    "            if user_card_choice == 'y':\n",
    "                user_cards.append(deal())\n",
    "            else:\n",
    "                flag = False\n",
    "    while computer_score !=0 and computer_score<17:#computer takes card only if it is < 17\n",
    "        computer_cards.append(deal())\n",
    "        computer_score = calculate_score(computer_cards)\n",
    "\n",
    "    print(f\"your final hand : {user_cards}, final score is {user_score}\")\n",
    "    print(f\"computer final hand : {computer_cards}, final score is {computer_score}\")\n",
    "\n",
    "    print(compare_scores(user_score, computer_score))\n",
    "\n",
    "    play_on = input(\"Do you want to play again? type 'yes to play' : \")"
   ]
  },
  {
   "cell_type": "code",
   "execution_count": null,
   "id": "381feec4",
   "metadata": {},
   "outputs": [],
   "source": []
  },
  {
   "cell_type": "code",
   "execution_count": null,
   "id": "c9824d9f",
   "metadata": {},
   "outputs": [],
   "source": []
  }
 ],
 "metadata": {
  "kernelspec": {
   "display_name": "Python 3 (ipykernel)",
   "language": "python",
   "name": "python3"
  },
  "language_info": {
   "codemirror_mode": {
    "name": "ipython",
    "version": 3
   },
   "file_extension": ".py",
   "mimetype": "text/x-python",
   "name": "python",
   "nbconvert_exporter": "python",
   "pygments_lexer": "ipython3",
   "version": "3.10.9"
  }
 },
 "nbformat": 4,
 "nbformat_minor": 5
}
