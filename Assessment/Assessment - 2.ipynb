{
 "cells": [
  {
   "cell_type": "code",
   "execution_count": 1,
   "id": "76b9399e",
   "metadata": {},
   "outputs": [
    {
     "name": "stdout",
     "output_type": "stream",
     "text": [
      "\n"
     ]
    }
   ],
   "source": [
    "\"\"\"\n",
    "Exception handling : Calculator\n",
    "User input is assumed to be a formula that consist of a number, an operator (at least + and -), \n",
    "and another number, separated by white space (e.g. 1 + 1). Split user input using str.split(), \n",
    "and check whether the resulting list is valid:\n",
    "\t•\tIf the input does not consist of 3 elements, raise a FormulaError, which is a custom Exception.\n",
    "\t•\tTry to convert the first and third input to a float (like so: float_value = float(str_value)). Catch any ValueError that occurs, and instead raise a FormulaError\n",
    "\t•\tIf the second input is not '+' or '-', again raise a FormulaError\n",
    "If the input is valid, perform the calculation and print out the result. The user is then prompted to provide new input, and so on, until the user enters quit.\n",
    "\"\"\"\n",
    "print()"
   ]
  },
  {
   "cell_type": "code",
   "execution_count": 1,
   "id": "9965bcfd",
   "metadata": {},
   "outputs": [],
   "source": [
    "class FormulaError(Exception):\n",
    "    \n",
    "    def __init__(self,error):\n",
    "        print(error)\n",
    "        "
   ]
  },
  {
   "cell_type": "code",
   "execution_count": null,
   "id": "2a4a5360",
   "metadata": {},
   "outputs": [],
   "source": []
  },
  {
   "cell_type": "code",
   "execution_count": 8,
   "id": "89cd080c",
   "metadata": {},
   "outputs": [],
   "source": [
    "def asmnt():\n",
    "    option = \"start\"\n",
    "    while option != 'quit':\n",
    "        try:\n",
    "            equation = input(\"Enter an equation separated with a white space \")\n",
    "\n",
    "            splited = equation.split()\n",
    "            if len(splited) < 3:\n",
    "                raise FormulaError(\"Given equation length is lessthan 3\")\n",
    "            try:\n",
    "                splited[0] = float(splited[0])\n",
    "                splited[2] = float(splited[2])\n",
    "                \n",
    "            except ValueError:\n",
    "                raise FormulaError(\"You gave alphabets but you can only give numbers as input\")\n",
    "            if splited[1] in ['+','-']:\n",
    "                if splited[1] == '+':\n",
    "                    print(splited[0]+splited[2])\n",
    "                elif splited[1] == '-':\n",
    "                    print(splited[0]-splited[2])\n",
    "            else:\n",
    "                raise FormulaError(\"You cannot give operator other then '+', '-' \")\n",
    "        except FormulaError:\n",
    "            raise FormulaError(\"Given equation is not correct\")\n",
    "                \n",
    "        else:\n",
    "            option = input(\"If you want to type 'quit' else press enter  \")\n",
    "                 "
   ]
  },
  {
   "cell_type": "code",
   "execution_count": 9,
   "id": "3d107168",
   "metadata": {},
   "outputs": [
    {
     "name": "stdout",
     "output_type": "stream",
     "text": [
      "Enter an equation separated with a white space 1\n",
      "Given equation length is lessthan 3\n",
      "Given equation is not correct\n"
     ]
    },
    {
     "ename": "FormulaError",
     "evalue": "Given equation is not correct",
     "output_type": "error",
     "traceback": [
      "\u001b[1;31m---------------------------------------------------------------------------\u001b[0m",
      "\u001b[1;31mFormulaError\u001b[0m                              Traceback (most recent call last)",
      "Cell \u001b[1;32mIn[8], line 9\u001b[0m, in \u001b[0;36masmnt\u001b[1;34m()\u001b[0m\n\u001b[0;32m      8\u001b[0m \u001b[38;5;28;01mif\u001b[39;00m \u001b[38;5;28mlen\u001b[39m(splited) \u001b[38;5;241m<\u001b[39m \u001b[38;5;241m3\u001b[39m:\n\u001b[1;32m----> 9\u001b[0m     \u001b[38;5;28;01mraise\u001b[39;00m FormulaError(\u001b[38;5;124m\"\u001b[39m\u001b[38;5;124mGiven equation length is lessthan 3\u001b[39m\u001b[38;5;124m\"\u001b[39m)\n\u001b[0;32m     10\u001b[0m \u001b[38;5;28;01mtry\u001b[39;00m:\n",
      "\u001b[1;31mFormulaError\u001b[0m: Given equation length is lessthan 3",
      "\nDuring handling of the above exception, another exception occurred:\n",
      "\u001b[1;31mFormulaError\u001b[0m                              Traceback (most recent call last)",
      "Cell \u001b[1;32mIn[9], line 1\u001b[0m\n\u001b[1;32m----> 1\u001b[0m \u001b[43masmnt\u001b[49m\u001b[43m(\u001b[49m\u001b[43m)\u001b[49m\n",
      "Cell \u001b[1;32mIn[8], line 24\u001b[0m, in \u001b[0;36masmnt\u001b[1;34m()\u001b[0m\n\u001b[0;32m     22\u001b[0m         \u001b[38;5;28;01mraise\u001b[39;00m FormulaError(\u001b[38;5;124m\"\u001b[39m\u001b[38;5;124mYou cannot give operator other then \u001b[39m\u001b[38;5;124m'\u001b[39m\u001b[38;5;124m+\u001b[39m\u001b[38;5;124m'\u001b[39m\u001b[38;5;124m, \u001b[39m\u001b[38;5;124m'\u001b[39m\u001b[38;5;124m-\u001b[39m\u001b[38;5;124m'\u001b[39m\u001b[38;5;124m \u001b[39m\u001b[38;5;124m\"\u001b[39m)\n\u001b[0;32m     23\u001b[0m \u001b[38;5;28;01mexcept\u001b[39;00m FormulaError:\n\u001b[1;32m---> 24\u001b[0m     \u001b[38;5;28;01mraise\u001b[39;00m FormulaError(\u001b[38;5;124m\"\u001b[39m\u001b[38;5;124mGiven equation is not correct\u001b[39m\u001b[38;5;124m\"\u001b[39m)\n\u001b[0;32m     26\u001b[0m \u001b[38;5;28;01melse\u001b[39;00m:\n\u001b[0;32m     27\u001b[0m     option \u001b[38;5;241m=\u001b[39m \u001b[38;5;28minput\u001b[39m(\u001b[38;5;124m\"\u001b[39m\u001b[38;5;124mIf you want to type \u001b[39m\u001b[38;5;124m'\u001b[39m\u001b[38;5;124mquit\u001b[39m\u001b[38;5;124m'\u001b[39m\u001b[38;5;124m else press enter  \u001b[39m\u001b[38;5;124m\"\u001b[39m)\n",
      "\u001b[1;31mFormulaError\u001b[0m: Given equation is not correct"
     ]
    }
   ],
   "source": [
    "asmnt()"
   ]
  },
  {
   "cell_type": "code",
   "execution_count": 10,
   "id": "ffc35f75",
   "metadata": {},
   "outputs": [
    {
     "name": "stdout",
     "output_type": "stream",
     "text": [
      "Enter an equation separated with a white space 1 + d\n",
      "You gave alphabets but you can only give numbers as input\n",
      "Given equation is not correct\n"
     ]
    },
    {
     "ename": "FormulaError",
     "evalue": "Given equation is not correct",
     "output_type": "error",
     "traceback": [
      "\u001b[1;31m---------------------------------------------------------------------------\u001b[0m",
      "\u001b[1;31mValueError\u001b[0m                                Traceback (most recent call last)",
      "Cell \u001b[1;32mIn[8], line 12\u001b[0m, in \u001b[0;36masmnt\u001b[1;34m()\u001b[0m\n\u001b[0;32m     11\u001b[0m     splited[\u001b[38;5;241m0\u001b[39m] \u001b[38;5;241m=\u001b[39m \u001b[38;5;28mfloat\u001b[39m(splited[\u001b[38;5;241m0\u001b[39m])\n\u001b[1;32m---> 12\u001b[0m     splited[\u001b[38;5;241m2\u001b[39m] \u001b[38;5;241m=\u001b[39m \u001b[38;5;28;43mfloat\u001b[39;49m\u001b[43m(\u001b[49m\u001b[43msplited\u001b[49m\u001b[43m[\u001b[49m\u001b[38;5;241;43m2\u001b[39;49m\u001b[43m]\u001b[49m\u001b[43m)\u001b[49m\n\u001b[0;32m     14\u001b[0m \u001b[38;5;28;01mexcept\u001b[39;00m \u001b[38;5;167;01mValueError\u001b[39;00m:\n",
      "\u001b[1;31mValueError\u001b[0m: could not convert string to float: 'd'",
      "\nDuring handling of the above exception, another exception occurred:\n",
      "\u001b[1;31mFormulaError\u001b[0m                              Traceback (most recent call last)",
      "Cell \u001b[1;32mIn[8], line 15\u001b[0m, in \u001b[0;36masmnt\u001b[1;34m()\u001b[0m\n\u001b[0;32m     14\u001b[0m \u001b[38;5;28;01mexcept\u001b[39;00m \u001b[38;5;167;01mValueError\u001b[39;00m:\n\u001b[1;32m---> 15\u001b[0m     \u001b[38;5;28;01mraise\u001b[39;00m FormulaError(\u001b[38;5;124m\"\u001b[39m\u001b[38;5;124mYou gave alphabets but you can only give numbers as input\u001b[39m\u001b[38;5;124m\"\u001b[39m)\n\u001b[0;32m     16\u001b[0m \u001b[38;5;28;01mif\u001b[39;00m splited[\u001b[38;5;241m1\u001b[39m] \u001b[38;5;129;01min\u001b[39;00m [\u001b[38;5;124m'\u001b[39m\u001b[38;5;124m+\u001b[39m\u001b[38;5;124m'\u001b[39m,\u001b[38;5;124m'\u001b[39m\u001b[38;5;124m-\u001b[39m\u001b[38;5;124m'\u001b[39m]:\n",
      "\u001b[1;31mFormulaError\u001b[0m: You gave alphabets but you can only give numbers as input",
      "\nDuring handling of the above exception, another exception occurred:\n",
      "\u001b[1;31mFormulaError\u001b[0m                              Traceback (most recent call last)",
      "Cell \u001b[1;32mIn[10], line 1\u001b[0m\n\u001b[1;32m----> 1\u001b[0m \u001b[43masmnt\u001b[49m\u001b[43m(\u001b[49m\u001b[43m)\u001b[49m\n",
      "Cell \u001b[1;32mIn[8], line 24\u001b[0m, in \u001b[0;36masmnt\u001b[1;34m()\u001b[0m\n\u001b[0;32m     22\u001b[0m         \u001b[38;5;28;01mraise\u001b[39;00m FormulaError(\u001b[38;5;124m\"\u001b[39m\u001b[38;5;124mYou cannot give operator other then \u001b[39m\u001b[38;5;124m'\u001b[39m\u001b[38;5;124m+\u001b[39m\u001b[38;5;124m'\u001b[39m\u001b[38;5;124m, \u001b[39m\u001b[38;5;124m'\u001b[39m\u001b[38;5;124m-\u001b[39m\u001b[38;5;124m'\u001b[39m\u001b[38;5;124m \u001b[39m\u001b[38;5;124m\"\u001b[39m)\n\u001b[0;32m     23\u001b[0m \u001b[38;5;28;01mexcept\u001b[39;00m FormulaError:\n\u001b[1;32m---> 24\u001b[0m     \u001b[38;5;28;01mraise\u001b[39;00m FormulaError(\u001b[38;5;124m\"\u001b[39m\u001b[38;5;124mGiven equation is not correct\u001b[39m\u001b[38;5;124m\"\u001b[39m)\n\u001b[0;32m     26\u001b[0m \u001b[38;5;28;01melse\u001b[39;00m:\n\u001b[0;32m     27\u001b[0m     option \u001b[38;5;241m=\u001b[39m \u001b[38;5;28minput\u001b[39m(\u001b[38;5;124m\"\u001b[39m\u001b[38;5;124mIf you want to type \u001b[39m\u001b[38;5;124m'\u001b[39m\u001b[38;5;124mquit\u001b[39m\u001b[38;5;124m'\u001b[39m\u001b[38;5;124m else press enter  \u001b[39m\u001b[38;5;124m\"\u001b[39m)\n",
      "\u001b[1;31mFormulaError\u001b[0m: Given equation is not correct"
     ]
    }
   ],
   "source": [
    "asmnt()"
   ]
  },
  {
   "cell_type": "code",
   "execution_count": 11,
   "id": "7ce5a883",
   "metadata": {},
   "outputs": [
    {
     "name": "stdout",
     "output_type": "stream",
     "text": [
      "Enter an equation separated with a white space 1 * 1\n",
      "You cannot give operator other then '+', '-' \n",
      "Given equation is not correct\n"
     ]
    },
    {
     "ename": "FormulaError",
     "evalue": "Given equation is not correct",
     "output_type": "error",
     "traceback": [
      "\u001b[1;31m---------------------------------------------------------------------------\u001b[0m",
      "\u001b[1;31mFormulaError\u001b[0m                              Traceback (most recent call last)",
      "Cell \u001b[1;32mIn[8], line 22\u001b[0m, in \u001b[0;36masmnt\u001b[1;34m()\u001b[0m\n\u001b[0;32m     21\u001b[0m     \u001b[38;5;28;01melse\u001b[39;00m:\n\u001b[1;32m---> 22\u001b[0m         \u001b[38;5;28;01mraise\u001b[39;00m FormulaError(\u001b[38;5;124m\"\u001b[39m\u001b[38;5;124mYou cannot give operator other then \u001b[39m\u001b[38;5;124m'\u001b[39m\u001b[38;5;124m+\u001b[39m\u001b[38;5;124m'\u001b[39m\u001b[38;5;124m, \u001b[39m\u001b[38;5;124m'\u001b[39m\u001b[38;5;124m-\u001b[39m\u001b[38;5;124m'\u001b[39m\u001b[38;5;124m \u001b[39m\u001b[38;5;124m\"\u001b[39m)\n\u001b[0;32m     23\u001b[0m \u001b[38;5;28;01mexcept\u001b[39;00m FormulaError:\n",
      "\u001b[1;31mFormulaError\u001b[0m: You cannot give operator other then '+', '-' ",
      "\nDuring handling of the above exception, another exception occurred:\n",
      "\u001b[1;31mFormulaError\u001b[0m                              Traceback (most recent call last)",
      "Cell \u001b[1;32mIn[11], line 1\u001b[0m\n\u001b[1;32m----> 1\u001b[0m \u001b[43masmnt\u001b[49m\u001b[43m(\u001b[49m\u001b[43m)\u001b[49m\n",
      "Cell \u001b[1;32mIn[8], line 24\u001b[0m, in \u001b[0;36masmnt\u001b[1;34m()\u001b[0m\n\u001b[0;32m     22\u001b[0m         \u001b[38;5;28;01mraise\u001b[39;00m FormulaError(\u001b[38;5;124m\"\u001b[39m\u001b[38;5;124mYou cannot give operator other then \u001b[39m\u001b[38;5;124m'\u001b[39m\u001b[38;5;124m+\u001b[39m\u001b[38;5;124m'\u001b[39m\u001b[38;5;124m, \u001b[39m\u001b[38;5;124m'\u001b[39m\u001b[38;5;124m-\u001b[39m\u001b[38;5;124m'\u001b[39m\u001b[38;5;124m \u001b[39m\u001b[38;5;124m\"\u001b[39m)\n\u001b[0;32m     23\u001b[0m \u001b[38;5;28;01mexcept\u001b[39;00m FormulaError:\n\u001b[1;32m---> 24\u001b[0m     \u001b[38;5;28;01mraise\u001b[39;00m FormulaError(\u001b[38;5;124m\"\u001b[39m\u001b[38;5;124mGiven equation is not correct\u001b[39m\u001b[38;5;124m\"\u001b[39m)\n\u001b[0;32m     26\u001b[0m \u001b[38;5;28;01melse\u001b[39;00m:\n\u001b[0;32m     27\u001b[0m     option \u001b[38;5;241m=\u001b[39m \u001b[38;5;28minput\u001b[39m(\u001b[38;5;124m\"\u001b[39m\u001b[38;5;124mIf you want to type \u001b[39m\u001b[38;5;124m'\u001b[39m\u001b[38;5;124mquit\u001b[39m\u001b[38;5;124m'\u001b[39m\u001b[38;5;124m else press enter  \u001b[39m\u001b[38;5;124m\"\u001b[39m)\n",
      "\u001b[1;31mFormulaError\u001b[0m: Given equation is not correct"
     ]
    }
   ],
   "source": [
    "asmnt()"
   ]
  },
  {
   "cell_type": "code",
   "execution_count": 12,
   "id": "bd33be27",
   "metadata": {},
   "outputs": [
    {
     "data": {
      "text/plain": [
       "2"
      ]
     },
     "execution_count": 12,
     "metadata": {},
     "output_type": "execute_result"
    }
   ],
   "source": [
    "1 + 1\n"
   ]
  },
  {
   "cell_type": "code",
   "execution_count": null,
   "id": "c6778c9b",
   "metadata": {},
   "outputs": [],
   "source": []
  }
 ],
 "metadata": {
  "kernelspec": {
   "display_name": "Python 3 (ipykernel)",
   "language": "python",
   "name": "python3"
  },
  "language_info": {
   "codemirror_mode": {
    "name": "ipython",
    "version": 3
   },
   "file_extension": ".py",
   "mimetype": "text/x-python",
   "name": "python",
   "nbconvert_exporter": "python",
   "pygments_lexer": "ipython3",
   "version": "3.10.9"
  }
 },
 "nbformat": 4,
 "nbformat_minor": 5
}
