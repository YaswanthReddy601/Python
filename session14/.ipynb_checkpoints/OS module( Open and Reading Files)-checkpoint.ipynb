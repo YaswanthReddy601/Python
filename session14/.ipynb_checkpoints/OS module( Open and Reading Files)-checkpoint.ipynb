{
 "cells": [
  {
   "cell_type": "code",
   "execution_count": 1,
   "id": "3dbcca05",
   "metadata": {},
   "outputs": [
    {
     "data": {
      "text/plain": [
       "'C:\\\\Users\\\\yaswa\\\\Desktop\\\\My_python\\\\session14'"
      ]
     },
     "execution_count": 1,
     "metadata": {},
     "output_type": "execute_result"
    }
   ],
   "source": [
    "pwd"
   ]
  },
  {
   "cell_type": "code",
   "execution_count": 3,
   "id": "a068f498",
   "metadata": {},
   "outputs": [],
   "source": [
    "#Creating a file in currect directory"
   ]
  },
  {
   "cell_type": "code",
   "execution_count": 4,
   "id": "1a1bbefd",
   "metadata": {},
   "outputs": [],
   "source": [
    "file = open(\"CreatingFileFJN.txt\",\"w+\")"
   ]
  },
  {
   "cell_type": "code",
   "execution_count": 5,
   "id": "5ddae39e",
   "metadata": {},
   "outputs": [
    {
     "data": {
      "text/plain": [
       "11"
      ]
     },
     "execution_count": 5,
     "metadata": {},
     "output_type": "execute_result"
    }
   ],
   "source": [
    "file.write(\"Hello World\")"
   ]
  },
  {
   "cell_type": "code",
   "execution_count": 10,
   "id": "fa7b0583",
   "metadata": {},
   "outputs": [
    {
     "data": {
      "text/plain": [
       "''"
      ]
     },
     "execution_count": 10,
     "metadata": {},
     "output_type": "execute_result"
    }
   ],
   "source": [
    "file.read()"
   ]
  },
  {
   "cell_type": "code",
   "execution_count": 12,
   "id": "7cca4720",
   "metadata": {},
   "outputs": [
    {
     "data": {
      "text/plain": [
       "0"
      ]
     },
     "execution_count": 12,
     "metadata": {},
     "output_type": "execute_result"
    }
   ],
   "source": [
    "file.seek(0)"
   ]
  },
  {
   "cell_type": "code",
   "execution_count": 13,
   "id": "67820037",
   "metadata": {},
   "outputs": [
    {
     "data": {
      "text/plain": [
       "'Hello World'"
      ]
     },
     "execution_count": 13,
     "metadata": {},
     "output_type": "execute_result"
    }
   ],
   "source": [
    "file.read()"
   ]
  },
  {
   "cell_type": "code",
   "execution_count": 14,
   "id": "30dff9f1",
   "metadata": {},
   "outputs": [
    {
     "data": {
      "text/plain": [
       "0"
      ]
     },
     "execution_count": 14,
     "metadata": {},
     "output_type": "execute_result"
    }
   ],
   "source": [
    "file.seek(0)"
   ]
  },
  {
   "cell_type": "code",
   "execution_count": 15,
   "id": "5d7ef5e2",
   "metadata": {},
   "outputs": [],
   "source": [
    "import os"
   ]
  },
  {
   "cell_type": "code",
   "execution_count": 34,
   "id": "83795301",
   "metadata": {},
   "outputs": [
    {
     "data": {
      "text/plain": [
       "'C:\\\\Users\\\\yaswa\\\\Desktop\\\\My_python\\\\session14'"
      ]
     },
     "execution_count": 34,
     "metadata": {},
     "output_type": "execute_result"
    }
   ],
   "source": [
    "os.getcwd()"
   ]
  },
  {
   "cell_type": "code",
   "execution_count": 19,
   "id": "75c5f395",
   "metadata": {},
   "outputs": [
    {
     "data": {
      "text/plain": [
       "['.ipynb_checkpoints',\n",
       " 'Collection modules.ipynb',\n",
       " 'CreatingFileFJN.txt',\n",
       " 'OS module( Open and Reading Files).ipynb']"
      ]
     },
     "execution_count": 19,
     "metadata": {},
     "output_type": "execute_result"
    }
   ],
   "source": [
    "#List of current directories\n",
    "\n",
    "os.listdir()"
   ]
  },
  {
   "cell_type": "code",
   "execution_count": 24,
   "id": "26b92f51",
   "metadata": {},
   "outputs": [
    {
     "data": {
      "text/plain": [
       "['$RECYCLE.BIN',\n",
       " '.dropbox.device',\n",
       " 'aaaaaaaaaaaaaaaaaaaaaaaaa.txt',\n",
       " 'abc',\n",
       " 'Avd Java by nataraj sir',\n",
       " 'AVD Java vid',\n",
       " 'Avd JAVA-Jsp',\n",
       " 'Avd JAVA-Servlet',\n",
       " 'Avd JAVA1',\n",
       " 'Collection framework questions.txt',\n",
       " 'Complete-Python-3-Bootcamp-master',\n",
       " 'Core Java Full_Notes (Nit) by Kishan sir',\n",
       " 'Core Java Interview interview questions.txt',\n",
       " 'Core Java Interview interview questions2.txt',\n",
       " 'DateApp',\n",
       " \"DEMO's of ADV Java @ 4.00 PM  by Mr. Nataraj.txt\",\n",
       " 'HashMap.docx',\n",
       " 'Interview questions on Collectionsd.txt',\n",
       " 'ITVQ',\n",
       " 'Jdbc_Notes',\n",
       " 'JScript',\n",
       " 'JspApp1',\n",
       " 'LINKS.txt',\n",
       " 'logs',\n",
       " 'Meterials of ratan sir',\n",
       " 'microservices by nataraj sir',\n",
       " 'MS7AM',\n",
       " 'MS@7AM',\n",
       " 'My_python',\n",
       " 'NatrajSir_J2ee_All_Programs',\n",
       " 'NatrajSir_Programs',\n",
       " 'NatrajzSir_J2EE_All_Notes',\n",
       " 'New Text Document.txt',\n",
       " 'NTSPBMS715-master',\n",
       " 'NTSPBMS715-springBasics',\n",
       " 'pending videos varun',\n",
       " 'Python Running Notes.docx',\n",
       " 'Reactjs',\n",
       " 'sd',\n",
       " 'self.txt',\n",
       " 'servlet',\n",
       " 'slef details.txt',\n",
       " 'spring-boot-microservices-series-master',\n",
       " 'SpringBoot & Microservices-workspace',\n",
       " 'SpringBoot Notes',\n",
       " 'SQL notes.pdf',\n",
       " 'Student-ang-app',\n",
       " 'student-rjs-app',\n",
       " 'System Volume Information',\n",
       " 't+.txt',\n",
       " 'varunNatrajvideos',\n",
       " 'vscode',\n",
       " 'zipkin',\n",
       " '~$thon Running Notes.docx']"
      ]
     },
     "execution_count": 24,
     "metadata": {},
     "output_type": "execute_result"
    }
   ],
   "source": [
    "#To see files in other directories\n",
    "os.listdir(\"z:\\\\\")"
   ]
  },
  {
   "cell_type": "code",
   "execution_count": 40,
   "id": "e4ab3d60",
   "metadata": {},
   "outputs": [],
   "source": [
    "x = os.getcwd()"
   ]
  },
  {
   "cell_type": "code",
   "execution_count": 41,
   "id": "d05ed0d3",
   "metadata": {},
   "outputs": [
    {
     "data": {
      "text/plain": [
       "['.ipynb_checkpoints',\n",
       " 'Collection modules.ipynb',\n",
       " 'CreatingFileFJN.txt',\n",
       " 'OS module( Open and Reading Files).ipynb']"
      ]
     },
     "execution_count": 41,
     "metadata": {},
     "output_type": "execute_result"
    }
   ],
   "source": [
    "os.listdir(x)"
   ]
  },
  {
   "cell_type": "code",
   "execution_count": 47,
   "id": "0f29c295",
   "metadata": {},
   "outputs": [
    {
     "data": {
      "text/plain": [
       "['.git',\n",
       " '.ipynb_checkpoints',\n",
       " 'Assesment',\n",
       " 'Assessment',\n",
       " 'file.txt',\n",
       " 'Outer_Folder',\n",
       " 'Session 4',\n",
       " 'session10',\n",
       " 'session11',\n",
       " 'session12',\n",
       " 'session13',\n",
       " 'session14',\n",
       " 'session3',\n",
       " 'Session5',\n",
       " 'session6',\n",
       " 'session7',\n",
       " 'session8',\n",
       " 'session9']"
      ]
     },
     "execution_count": 47,
     "metadata": {},
     "output_type": "execute_result"
    }
   ],
   "source": [
    "os.listdir(\"C:\\\\Users\\\\yaswa\\\\Desktop\\\\My_python\")"
   ]
  },
  {
   "cell_type": "code",
   "execution_count": 42,
   "id": "3cc7dd6b",
   "metadata": {},
   "outputs": [],
   "source": [
    "#To move a file from one directory to another\n",
    "import shutil"
   ]
  },
  {
   "cell_type": "code",
   "execution_count": 48,
   "id": "73f11c26",
   "metadata": {},
   "outputs": [
    {
     "data": {
      "text/plain": [
       "'C:\\\\Users\\\\yaswa\\\\Desktop\\\\My_python\\\\Outer_Folder\\\\file.txt'"
      ]
     },
     "execution_count": 48,
     "metadata": {},
     "output_type": "execute_result"
    }
   ],
   "source": [
    "shutil.move(\"C:\\\\Users\\\\yaswa\\\\Desktop\\\\My_python\\\\file.txt\",\"C:\\\\Users\\\\yaswa\\\\Desktop\\\\My_python\\\\Outer_Folder\")"
   ]
  },
  {
   "cell_type": "code",
   "execution_count": 49,
   "id": "76d88263",
   "metadata": {},
   "outputs": [
    {
     "data": {
      "text/plain": [
       "['file.txt', 'MIddle_File.txt', 'Middle_Folder_1', 'Middle_Folder_2']"
      ]
     },
     "execution_count": 49,
     "metadata": {},
     "output_type": "execute_result"
    }
   ],
   "source": [
    "os.listdir(\"C:\\\\Users\\\\yaswa\\\\Desktop\\\\My_python\\\\Outer_Folder\")"
   ]
  },
  {
   "cell_type": "code",
   "execution_count": 50,
   "id": "215a7c56",
   "metadata": {},
   "outputs": [
    {
     "data": {
      "text/plain": [
       "'C:\\\\Users\\\\yaswa\\\\Desktop\\\\My_python\\\\file.txt'"
      ]
     },
     "execution_count": 50,
     "metadata": {},
     "output_type": "execute_result"
    }
   ],
   "source": [
    "shutil.move(\"C:\\\\Users\\\\yaswa\\\\Desktop\\\\My_python\\\\Outer_Folder\\\\file.txt\",\"C:\\\\Users\\\\yaswa\\\\Desktop\\\\My_python\")"
   ]
  },
  {
   "cell_type": "code",
   "execution_count": 51,
   "id": "41d25e53",
   "metadata": {},
   "outputs": [
    {
     "name": "stdout",
     "output_type": "stream",
     "text": [
      "\n"
     ]
    }
   ],
   "source": [
    "\"\"\"To Delete a file\n",
    "we have 3 methods\n",
    "1.os.unlink(path) -- deletes a file at the path we provide\n",
    "2.os.rmdir(path)  --  which deletes a folder at the path we provide\n",
    "3.shutil.rmtree(path) -- removes all files and folders in the path we provided.\n",
    "\"\"\"\n",
    "print()"
   ]
  },
  {
   "cell_type": "code",
   "execution_count": null,
   "id": "afbd5832",
   "metadata": {},
   "outputs": [],
   "source": [
    "#To delete temporaryly we use send2trach module it sends file to trah"
   ]
  },
  {
   "cell_type": "code",
   "execution_count": 52,
   "id": "1d8e3a39",
   "metadata": {},
   "outputs": [],
   "source": [
    "import send2trash"
   ]
  },
  {
   "cell_type": "code",
   "execution_count": 58,
   "id": "1d3889af",
   "metadata": {},
   "outputs": [],
   "source": [
    "send2trash.send2trash('C:\\\\Users\\\\yaswa\\\\Desktop\\\\My_python\\\\session14\\\\trash.txt')"
   ]
  },
  {
   "cell_type": "code",
   "execution_count": 59,
   "id": "916b2b66",
   "metadata": {},
   "outputs": [],
   "source": [
    "#To walk through the directory, to see all files and folders in a directory"
   ]
  },
  {
   "cell_type": "code",
   "execution_count": 66,
   "id": "19772c71",
   "metadata": {},
   "outputs": [
    {
     "name": "stdout",
     "output_type": "stream",
     "text": [
      "Current directory: C:\\Users\\yaswa\\Desktop\\My_python\\Outer_Folder\n",
      "\n",
      "The sub folders\n",
      "sub_folders are : Middle_Folder_1\n",
      "sub_folders are : Middle_Folder_2\n",
      "\n",
      "\n",
      "Files are : MIddle_File.txt\n",
      "\n",
      "\n",
      "Current directory: C:\\Users\\yaswa\\Desktop\\My_python\\Outer_Folder\\Middle_Folder_1\n",
      "\n",
      "The sub folders\n",
      "\n",
      "\n",
      "\n",
      "\n",
      "Current directory: C:\\Users\\yaswa\\Desktop\\My_python\\Outer_Folder\\Middle_Folder_2\n",
      "\n",
      "The sub folders\n",
      "sub_folders are : Inner_Folder\n",
      "\n",
      "\n",
      "Files are : Inner_File.txt\n",
      "\n",
      "\n",
      "Current directory: C:\\Users\\yaswa\\Desktop\\My_python\\Outer_Folder\\Middle_Folder_2\\Inner_Folder\n",
      "\n",
      "The sub folders\n",
      "\n",
      "\n",
      "\n",
      "\n"
     ]
    }
   ],
   "source": [
    "for folder, sub_folder, files in os.walk(\"C:\\\\Users\\\\yaswa\\\\Desktop\\\\My_python\\\\Outer_Folder\"):\n",
    "    print(\"Current directory: \"+folder)\n",
    "    print(\"\\nThe sub folders\")\n",
    "    for subs in sub_folder:\n",
    "        print(\"sub_folders are : \"+subs)\n",
    "    print(\"\\n\")\n",
    "    for f in files:\n",
    "        print( \"Files are : \"+f)\n",
    "    print(\"\\n\")"
   ]
  },
  {
   "cell_type": "code",
   "execution_count": 63,
   "id": "aadcdc8c",
   "metadata": {},
   "outputs": [
    {
     "data": {
      "text/plain": [
       "['MIddle_File.txt', 'Middle_Folder_1', 'Middle_Folder_2']"
      ]
     },
     "execution_count": 63,
     "metadata": {},
     "output_type": "execute_result"
    }
   ],
   "source": [
    "os.listdir(\"C:\\\\Users\\\\yaswa\\\\Desktop\\\\My_python\\\\Outer_Folder\")"
   ]
  },
  {
   "cell_type": "code",
   "execution_count": null,
   "id": "990b13af",
   "metadata": {},
   "outputs": [],
   "source": []
  }
 ],
 "metadata": {
  "kernelspec": {
   "display_name": "Python 3 (ipykernel)",
   "language": "python",
   "name": "python3"
  },
  "language_info": {
   "codemirror_mode": {
    "name": "ipython",
    "version": 3
   },
   "file_extension": ".py",
   "mimetype": "text/x-python",
   "name": "python",
   "nbconvert_exporter": "python",
   "pygments_lexer": "ipython3",
   "version": "3.10.9"
  }
 },
 "nbformat": 4,
 "nbformat_minor": 5
}
