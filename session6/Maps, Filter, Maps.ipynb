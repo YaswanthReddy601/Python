{
 "cells": [
  {
   "cell_type": "code",
   "execution_count": 5,
   "id": "944eea28",
   "metadata": {},
   "outputs": [],
   "source": [
    "#Maps\n",
    "def summ(num):\n",
    "    return num+10"
   ]
  },
  {
   "cell_type": "code",
   "execution_count": 6,
   "id": "d4b8670c",
   "metadata": {},
   "outputs": [],
   "source": [
    "l1 = [1,2,3,4,5,6,7,8,9]"
   ]
  },
  {
   "cell_type": "code",
   "execution_count": 7,
   "id": "2de52c6d",
   "metadata": {},
   "outputs": [
    {
     "data": {
      "text/plain": [
       "[11, 12, 13, 14, 15, 16, 17, 18, 19]"
      ]
     },
     "execution_count": 7,
     "metadata": {},
     "output_type": "execute_result"
    }
   ],
   "source": [
    "list(map(summ,l1))"
   ]
  },
  {
   "cell_type": "code",
   "execution_count": 10,
   "id": "03f603b8",
   "metadata": {},
   "outputs": [
    {
     "name": "stdout",
     "output_type": "stream",
     "text": [
      "11\n",
      "12\n",
      "13\n",
      "14\n",
      "15\n",
      "16\n",
      "17\n",
      "18\n",
      "19\n"
     ]
    }
   ],
   "source": [
    "for x in map(summ,l1):\n",
    "    print(x)"
   ]
  },
  {
   "cell_type": "code",
   "execution_count": 11,
   "id": "38d61a25",
   "metadata": {},
   "outputs": [],
   "source": [
    " def root(num):\n",
    "        return num**0.5"
   ]
  },
  {
   "cell_type": "code",
   "execution_count": 16,
   "id": "e714f414",
   "metadata": {},
   "outputs": [],
   "source": [
    "l2 = [1,2,3,4,5,6,7,8,9]"
   ]
  },
  {
   "cell_type": "code",
   "execution_count": 17,
   "id": "9c4b28ea",
   "metadata": {},
   "outputs": [
    {
     "data": {
      "text/plain": [
       "[1.0,\n",
       " 1.4142135623730951,\n",
       " 1.7320508075688772,\n",
       " 2.0,\n",
       " 2.23606797749979,\n",
       " 2.449489742783178,\n",
       " 2.6457513110645907,\n",
       " 2.8284271247461903,\n",
       " 3.0]"
      ]
     },
     "execution_count": 17,
     "metadata": {},
     "output_type": "execute_result"
    }
   ],
   "source": [
    "list(map(root,l2))"
   ]
  },
  {
   "cell_type": "code",
   "execution_count": 28,
   "id": "1e7662d6",
   "metadata": {},
   "outputs": [],
   "source": [
    "\n",
    "def perferct_squares(num):\n",
    "    return num**0.5\n"
   ]
  },
  {
   "cell_type": "code",
   "execution_count": 31,
   "id": "e009d75b",
   "metadata": {},
   "outputs": [],
   "source": [
    "l3 = [4,16,36,25,64,81]"
   ]
  },
  {
   "cell_type": "code",
   "execution_count": 33,
   "id": "ac017362",
   "metadata": {},
   "outputs": [
    {
     "data": {
      "text/plain": [
       "[2.0, 4.0, 6.0, 5.0, 8.0, 9.0]"
      ]
     },
     "execution_count": 33,
     "metadata": {},
     "output_type": "execute_result"
    }
   ],
   "source": [
    "list(map(perferct_squares,l3))"
   ]
  },
  {
   "cell_type": "code",
   "execution_count": 34,
   "id": "07b15e8a",
   "metadata": {},
   "outputs": [],
   "source": [
    "#filter\n",
    "def x(num):\n",
    "    return num %2 ==0"
   ]
  },
  {
   "cell_type": "code",
   "execution_count": 35,
   "id": "6d96543b",
   "metadata": {},
   "outputs": [],
   "source": [
    "l4 = [5,9,7,8,4,6,2,1,55,99,88,22]"
   ]
  },
  {
   "cell_type": "code",
   "execution_count": 36,
   "id": "22f7d21f",
   "metadata": {},
   "outputs": [
    {
     "data": {
      "text/plain": [
       "[8, 4, 6, 2, 88, 22]"
      ]
     },
     "execution_count": 36,
     "metadata": {},
     "output_type": "execute_result"
    }
   ],
   "source": [
    "list(filter(x,l4))"
   ]
  },
  {
   "cell_type": "code",
   "execution_count": 51,
   "id": "03dae872",
   "metadata": {},
   "outputs": [],
   "source": [
    "def y(num):\n",
    "    if num/2 < 15:\n",
    "        return num"
   ]
  },
  {
   "cell_type": "code",
   "execution_count": 52,
   "id": "8f0b0519",
   "metadata": {},
   "outputs": [],
   "source": [
    "l5 = [99,88,77,43,17,66,11,22,33,10]"
   ]
  },
  {
   "cell_type": "code",
   "execution_count": 53,
   "id": "2b6e2809",
   "metadata": {},
   "outputs": [
    {
     "data": {
      "text/plain": [
       "[17, 11, 22, 10]"
      ]
     },
     "execution_count": 53,
     "metadata": {},
     "output_type": "execute_result"
    }
   ],
   "source": [
    "list(filter(y,l5))"
   ]
  },
  {
   "cell_type": "code",
   "execution_count": 54,
   "id": "22922751",
   "metadata": {},
   "outputs": [],
   "source": [
    "#Using Lambda expression"
   ]
  },
  {
   "cell_type": "code",
   "execution_count": 64,
   "id": "c7ebf1d6",
   "metadata": {},
   "outputs": [
    {
     "data": {
      "text/plain": [
       "[13, 14, 15, 16]"
      ]
     },
     "execution_count": 64,
     "metadata": {},
     "output_type": "execute_result"
    }
   ],
   "source": [
    "l5 = [3,4,5,6]\n",
    "list(map(lambda x : x+10,l5))"
   ]
  },
  {
   "cell_type": "code",
   "execution_count": 59,
   "id": "37b1dec9",
   "metadata": {},
   "outputs": [
    {
     "data": {
      "text/plain": [
       "12"
      ]
     },
     "execution_count": 59,
     "metadata": {},
     "output_type": "execute_result"
    }
   ],
   "source": [
    "summ = lambda x : x +2\n",
    "summ(10)"
   ]
  },
  {
   "cell_type": "code",
   "execution_count": 66,
   "id": "227726eb",
   "metadata": {},
   "outputs": [
    {
     "name": "stdout",
     "output_type": "stream",
     "text": [
      "2\n",
      "4\n"
     ]
    }
   ],
   "source": [
    "l6 = [2,4,6,8,10]\n",
    "for x in filter(lambda x : x < 5,l6):\n",
    "    print(x)"
   ]
  },
  {
   "cell_type": "code",
   "execution_count": 67,
   "id": "6ae83c9e",
   "metadata": {},
   "outputs": [],
   "source": [
    "l7 =range(0,9)"
   ]
  },
  {
   "cell_type": "code",
   "execution_count": 73,
   "id": "a039d210",
   "metadata": {},
   "outputs": [
    {
     "name": "stdout",
     "output_type": "stream",
     "text": [
      "6\n",
      "7\n",
      "8\n"
     ]
    }
   ],
   "source": [
    "for x in filter(lambda x :x+4>9,l7):\n",
    "    print(x)"
   ]
  },
  {
   "cell_type": "code",
   "execution_count": null,
   "id": "87ae1ef4",
   "metadata": {},
   "outputs": [],
   "source": []
  }
 ],
 "metadata": {
  "kernelspec": {
   "display_name": "Python 3 (ipykernel)",
   "language": "python",
   "name": "python3"
  },
  "language_info": {
   "codemirror_mode": {
    "name": "ipython",
    "version": 3
   },
   "file_extension": ".py",
   "mimetype": "text/x-python",
   "name": "python",
   "nbconvert_exporter": "python",
   "pygments_lexer": "ipython3",
   "version": "3.10.9"
  }
 },
 "nbformat": 4,
 "nbformat_minor": 5
}
