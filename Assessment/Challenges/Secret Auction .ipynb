{
 "cells": [
  {
   "cell_type": "code",
   "execution_count": null,
   "id": "e600e6e2",
   "metadata": {},
   "outputs": [],
   "source": []
  },
  {
   "cell_type": "code",
   "execution_count": 35,
   "id": "4148eb94",
   "metadata": {},
   "outputs": [],
   "source": [
    "from IPython.display import clear_output\n",
    "\n",
    "def auction():\n",
    "    auction_book = {}\n",
    "    winner = \"\"\n",
    "    amount = 0\n",
    "    next = \"yes\"\n",
    "    while next == \"yes\":\n",
    "        name = input(\"Enter your name\")\n",
    "        bid = int(input(\"Enter your bidding amount\"))\n",
    "        auction_book[name] = bid\n",
    "        clear_output(wait=True)\n",
    "        next = input(\"if there are other users type 'yes' else 'no' \")\n",
    "    for bid in auction_book:\n",
    "        if auction_book[bid] > amount:\n",
    "            amount = auction_book[bid]\n",
    "            winner = bid\n",
    "    print(f\"{winner} won the bid\")"
   ]
  },
  {
   "cell_type": "code",
   "execution_count": 37,
   "id": "f601e423",
   "metadata": {},
   "outputs": [
    {
     "name": "stdout",
     "output_type": "stream",
     "text": [
      "if there are other users type 'yes' else 'no' no\n",
      "praveen won the bid\n"
     ]
    }
   ],
   "source": [
    "auction()"
   ]
  },
  {
   "cell_type": "code",
   "execution_count": null,
   "id": "00695147",
   "metadata": {},
   "outputs": [],
   "source": []
  }
 ],
 "metadata": {
  "kernelspec": {
   "display_name": "Python 3 (ipykernel)",
   "language": "python",
   "name": "python3"
  },
  "language_info": {
   "codemirror_mode": {
    "name": "ipython",
    "version": 3
   },
   "file_extension": ".py",
   "mimetype": "text/x-python",
   "name": "python",
   "nbconvert_exporter": "python",
   "pygments_lexer": "ipython3",
   "version": "3.10.9"
  }
 },
 "nbformat": 4,
 "nbformat_minor": 5
}
