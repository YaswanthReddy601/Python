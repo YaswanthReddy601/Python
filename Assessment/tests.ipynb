{
 "cells": [
  {
   "cell_type": "code",
   "execution_count": 5,
   "id": "09c97487",
   "metadata": {},
   "outputs": [
    {
     "name": "stdout",
     "output_type": "stream",
     "text": [
      "I want {} pens5\n",
      "5\n"
     ]
    }
   ],
   "source": [
    "x = int(input(\"I want {} pens\"))\n",
    "print(x)"
   ]
  },
  {
   "cell_type": "code",
   "execution_count": 15,
   "id": "3cf75381",
   "metadata": {},
   "outputs": [
    {
     "data": {
      "text/plain": [
       "26"
      ]
     },
     "execution_count": 15,
     "metadata": {},
     "output_type": "execute_result"
    }
   ],
   "source": [
    "x = [11,2,3,5,5]\n",
    "sum(x)"
   ]
  },
  {
   "cell_type": "code",
   "execution_count": 1,
   "id": "ccbb42f5",
   "metadata": {},
   "outputs": [],
   "source": [
    "x = 0 "
   ]
  },
  {
   "cell_type": "code",
   "execution_count": 3,
   "id": "1be802d8",
   "metadata": {},
   "outputs": [
    {
     "name": "stdout",
     "output_type": "stream",
     "text": [
      "2\n"
     ]
    }
   ],
   "source": [
    "x += 1\n",
    "print(x)"
   ]
  },
  {
   "cell_type": "code",
   "execution_count": 66,
   "id": "9ee4228f",
   "metadata": {},
   "outputs": [],
   "source": [
    "class x:\n",
    "    count = 0\n",
    "    def a(self):\n",
    "        print(\"asdf\")    \n",
    "        return \"d\"\n",
    "        print(\"adsfsdf\")\n",
    "    \n",
    "    def b(self):\n",
    "        global count\n",
    "        x().a()\n",
    "        return \"f\""
   ]
  },
  {
   "cell_type": "code",
   "execution_count": 67,
   "id": "bd2da112",
   "metadata": {},
   "outputs": [
    {
     "name": "stdout",
     "output_type": "stream",
     "text": [
      "asdf\n"
     ]
    },
    {
     "data": {
      "text/plain": [
       "'d'"
      ]
     },
     "execution_count": 67,
     "metadata": {},
     "output_type": "execute_result"
    }
   ],
   "source": [
    "x().a()"
   ]
  },
  {
   "cell_type": "code",
   "execution_count": 68,
   "id": "ebb52501",
   "metadata": {},
   "outputs": [
    {
     "name": "stdout",
     "output_type": "stream",
     "text": [
      "asdf\n"
     ]
    },
    {
     "data": {
      "text/plain": [
       "'f'"
      ]
     },
     "execution_count": 68,
     "metadata": {},
     "output_type": "execute_result"
    }
   ],
   "source": [
    "x().b()"
   ]
  },
  {
   "cell_type": "code",
   "execution_count": 12,
   "id": "c97e3c58",
   "metadata": {},
   "outputs": [
    {
     "ename": "KeyError",
     "evalue": "0",
     "output_type": "error",
     "traceback": [
      "\u001b[1;31m---------------------------------------------------------------------------\u001b[0m",
      "\u001b[1;31mKeyError\u001b[0m                                  Traceback (most recent call last)",
      "Cell \u001b[1;32mIn[12], line 2\u001b[0m\n\u001b[0;32m      1\u001b[0m a \u001b[38;5;241m=\u001b[39m {\u001b[38;5;124m\"\u001b[39m\u001b[38;5;124ma\u001b[39m\u001b[38;5;124m\"\u001b[39m:\u001b[38;5;241m9\u001b[39m,\u001b[38;5;124m\"\u001b[39m\u001b[38;5;124mb\u001b[39m\u001b[38;5;124m\"\u001b[39m:\u001b[38;5;241m8\u001b[39m}\n\u001b[1;32m----> 2\u001b[0m \u001b[43ma\u001b[49m\u001b[43m[\u001b[49m\u001b[38;5;241;43m0\u001b[39;49m\u001b[43m]\u001b[49m\n",
      "\u001b[1;31mKeyError\u001b[0m: 0"
     ]
    }
   ],
   "source": [
    "a = {\"a\":9,\"b\":8}"
   ]
  },
  {
   "cell_type": "code",
   "execution_count": 25,
   "id": "b172dea5",
   "metadata": {},
   "outputs": [
    {
     "name": "stdout",
     "output_type": "stream",
     "text": [
      "a:9\n",
      "b:8\n"
     ]
    }
   ],
   "source": [
    "for x,y in a.items():\n",
    "    if y>0:\n",
    "        print(f\"{x}:{y}\")"
   ]
  },
  {
   "cell_type": "code",
   "execution_count": 24,
   "id": "8eacf912",
   "metadata": {},
   "outputs": [
    {
     "name": "stdout",
     "output_type": "stream",
     "text": [
      "a\n",
      "b\n"
     ]
    }
   ],
   "source": [
    "for x,y in a.items():\n",
    "    print(x)"
   ]
  },
  {
   "cell_type": "code",
   "execution_count": null,
   "id": "2b8c909f",
   "metadata": {},
   "outputs": [],
   "source": []
  },
  {
   "cell_type": "code",
   "execution_count": 72,
   "id": "47da2432",
   "metadata": {},
   "outputs": [
    {
     "name": "stdout",
     "output_type": "stream",
     "text": [
      "B\n"
     ]
    }
   ],
   "source": [
    "score = 67\n",
    "if score < 80 and score > 70:\n",
    "    print(\"A\")\n",
    "elif score < 90 or score > 80:\n",
    "    print(\"B\")\n",
    "elif score > 60:\n",
    "    print(\"C\")\n",
    "else:\n",
    "    print(\"D\")"
   ]
  },
  {
   "cell_type": "code",
   "execution_count": 73,
   "id": "6da72073",
   "metadata": {},
   "outputs": [
    {
     "name": "stdout",
     "output_type": "stream",
     "text": [
      "15\n"
     ]
    }
   ],
   "source": [
    "def outer_function(a, b):\n",
    "    def inner_function(c, d):\n",
    "        return c + d\n",
    "    return inner_function(a, b)\n",
    " \n",
    "result = outer_function(5, 10)\n",
    "print(result)\n"
   ]
  },
  {
   "cell_type": "code",
   "execution_count": 71,
   "id": "f71e7536",
   "metadata": {},
   "outputs": [
    {
     "name": "stdout",
     "output_type": "stream",
     "text": [
      "3\n"
     ]
    }
   ],
   "source": [
    "print(len(\"1+1\"))"
   ]
  },
  {
   "cell_type": "code",
   "execution_count": 83,
   "id": "39440f43",
   "metadata": {},
   "outputs": [
    {
     "name": "stdout",
     "output_type": "stream",
     "text": [
      "30.37\n"
     ]
    }
   ],
   "source": [
    "x = 30.3669\n",
    "print(f\"{x:.2f}\")"
   ]
  },
  {
   "cell_type": "code",
   "execution_count": 86,
   "id": "6eea9649",
   "metadata": {},
   "outputs": [
    {
     "data": {
      "text/plain": [
       "'POASJDF'"
      ]
     },
     "execution_count": 86,
     "metadata": {},
     "output_type": "execute_result"
    }
   ],
   "source": [
    "x = \"poasjdf\"\n",
    "x.upper()"
   ]
  },
  {
   "cell_type": "code",
   "execution_count": 87,
   "id": "8d384414",
   "metadata": {},
   "outputs": [
    {
     "data": {
      "text/plain": [
       "'poasjdf'"
      ]
     },
     "execution_count": 87,
     "metadata": {},
     "output_type": "execute_result"
    }
   ],
   "source": [
    "x"
   ]
  },
  {
   "cell_type": "code",
   "execution_count": null,
   "id": "1e777b16",
   "metadata": {},
   "outputs": [],
   "source": []
  },
  {
   "cell_type": "code",
   "execution_count": 74,
   "id": "10d6b7b0",
   "metadata": {},
   "outputs": [
    {
     "name": "stdout",
     "output_type": "stream",
     "text": [
      "20 4 12\n"
     ]
    }
   ],
   "source": [
    "def foo(a, b=4, c=6):\n",
    "    print(a, b, c)\n",
    " \n",
    "foo(20, c=12)"
   ]
  },
  {
   "cell_type": "code",
   "execution_count": 76,
   "id": "7db89557",
   "metadata": {},
   "outputs": [
    {
     "data": {
      "text/plain": [
       "float"
      ]
     },
     "execution_count": 76,
     "metadata": {},
     "output_type": "execute_result"
    }
   ],
   "source": [
    "mystery = 734_529.678\n",
    "\n",
    "\n",
    "\n",
    "\n",
    "\n",
    "type(mystery)"
   ]
  },
  {
   "cell_type": "code",
   "execution_count": 45,
   "id": "15d71611",
   "metadata": {},
   "outputs": [],
   "source": [
    "#Customer\n",
    "class Customer:\n",
    "    name = \"\"\n",
    "    total = 0\n",
    "    def selecting_items(self):\n",
    "        global total\n",
    "        item = input(\"I want : \")\n",
    "        if item == \"pens\":\n",
    "            self.total = InventoryShop().item(\"pens\")\n",
    "            return self.total\n",
    "        elif item == \"pencils\":\n",
    "            self.total = InventoryShop().pencil() \n",
    "            return self.total\n",
    "        elif item == \"notebooks\":\n",
    "            self.total = InventoryShop().notebook()\n",
    "            return self.total\n",
    "        elif item == \"erasers\":\n",
    "            self.total = InventoryShop().eraser()\n",
    "            return self.total\n",
    "        elif item == \"chocolates\":\n",
    "            self.total = InventoryShop().chocolate()\n",
    "            return self.total\n",
    "        elif item == \"biscuits\":\n",
    "            self.total = InventoryShop().biscuit()\n",
    "            return self.total\n",
    "        else:\n",
    "            print(\"Sorry we dont have that item\")\n",
    "            self.shopping = input(\"Do you want any thing else (Yes/No)\")\n",
    "            return self.total, self.shopping\n",
    "            \n",
    "    def choose_quantity(self):\n",
    "        self.quant = int(input(\"I want : \"))\n",
    "        return self.quant\n",
    "    \n",
    "    \n",
    "    def choose_decide(self):\n",
    "        option = str(input(\"choose yes or no : \"))\n",
    "        return option\n",
    "    \n",
    "    def name(self):\n",
    "        self.name = input(\"My name is :\")\n",
    "        return self.name"
   ]
  },
  {
   "cell_type": "code",
   "execution_count": 46,
   "id": "84083a4f",
   "metadata": {},
   "outputs": [],
   "source": [
    "#Cart\n",
    "\n",
    "class Cart:\n",
    "    \n",
    "    quantity = []\n",
    "    cost = []\n",
    "    total_cost = 0\n",
    "    cart = {\"pens\":0,\"pencils\":0,\"notebooks\":0, \"erasers\":0, \"chocolates\":0,\"biscuits\":0}\n",
    "    \n",
    "    def add_cart(self,item,item_quantity,item_cost):\n",
    "        global cart, cost, total_cost\n",
    "        self.cart[item] += item_quantity\n",
    "        self.cost.append(item_cost)\n",
    "        self.total_cost = sum(self.cost)\n",
    "        print(f\"cart :{self.cart}\")\n",
    "        print(f\"your cart costs : {self.total_cost}\")    \n",
    "        return self.total_cost\n",
    "    \n",
    "    def cleaning_cart(self):\n",
    "        global cart, cost, total_cost\n",
    "        self.quantity = []\n",
    "        self.cost = []\n",
    "        self.total_cost = 0\n",
    "        self.cart = {\"pens\":0,\"pencils\":0,\"notebooks\":0, \"erasers\":0, \"chocolates\":0,\"biscuits\":0}"
   ]
  },
  {
   "cell_type": "code",
   "execution_count": 47,
   "id": "9fb4d7af",
   "metadata": {},
   "outputs": [],
   "source": [
    "#Payment\n",
    "\n",
    "import datetime\n",
    "class Payment:\n",
    "    name = \"\"\n",
    "    total_money = 0\n",
    "    def final_Payment(self,money):\n",
    "        global name, total_money\n",
    "        self.total_money = money\n",
    "        print(self.total_money)\n",
    "        print(f\"Your bill is {money}\")\n",
    "        self.name = InventoryShop().Owner()\n",
    "        Payment().billing(self.name, money)\n",
    "       \n",
    "    \n",
    "    def billing(self,name,money):\n",
    "        bill = datetime.datetime.now()\n",
    "        x = print(f\"on {bill} {name} paid {money} for the products he bought in shop 'X'\")\n",
    "        "
   ]
  },
  {
   "cell_type": "code",
   "execution_count": 61,
   "id": "d94685b5",
   "metadata": {},
   "outputs": [],
   "source": [
    "#Vendor\n",
    "import time\n",
    "\n",
    "class Vendor:\n",
    "    \n",
    "    def refill(self,items):\n",
    "        item = 10\n",
    "        print(f\"{items} are refilling...\")\n",
    "        time.sleep(5)\n",
    "        print(f\"{items} are refilled\")\n",
    "        return item"
   ]
  },
  {
   "cell_type": "code",
   "execution_count": 62,
   "id": "d0554271",
   "metadata": {},
   "outputs": [],
   "source": [
    "#Shop\n",
    "class InventoryShop:\n",
    "    pencils = {\"quantity\":10,\"price\":3}\n",
    "    pens = {\"quantity\":10,\"price\":5}\n",
    "    notebooks = {\"quantity\":10,\"price\":20}\n",
    "    erasers = {\"quantity\":10,\"price\":2}\n",
    "    chocolates = {\"quantity\":10,\"price\":1}\n",
    "    biscuits = {\"quantity\":10,\"price\":5}\n",
    "    total_cost = 0\n",
    "    quantity = 0\n",
    "    total = 0\n",
    "    cart = Cart()\n",
    "    name = \"\"\n",
    "\n",
    "    def asking(self,shopping = \"yes\"):\n",
    "        while shopping == \"yes\" or shopping == \"Yes\":\n",
    "            print(\"What do you want?\")\n",
    "            self.total_cost, shopping = Customer().selecting_items()\n",
    "            if self.total_cost == 0:\n",
    "                print(\"Your haven't purchased anything\")\n",
    "                exit()\n",
    "        Payment().final_Payment(self.total_cost) \n",
    "        self.cart.cleaning_cart()\n",
    "    \n",
    "    def Owner(self):\n",
    "        print(\"did the customer paid the money? (Yes/NO)\")\n",
    "        answer = input()\n",
    "        if answer == \"yes\" or answer == \"Yes\":\n",
    "            print(\"may i know your name ?\")\n",
    "            self.name = Customer().name()\n",
    "            return self.name\n",
    "        else:\n",
    "            print(\"Please pay to get the items...\")\n",
    "            InventoryShop().Owner()\n",
    "         \n",
    "    def out_of_stock(self,items):\n",
    "        item = Vendor().refill(items)\n",
    "        return item\n",
    "    \n",
    "    def pencil(self):\n",
    "        global pencils\n",
    "        if self.pencils[\"quantity\"] >= 1:\n",
    "            print(f\"Ok! each pencil cost is {self.pencils['price']} rupees, How many pencils do you want?:\")\n",
    "            quantity = Customer().choose_quantity()\n",
    "            if self.pencils[\"quantity\"] >= quantity:\n",
    "                self.pencils[\"quantity\"] = self.pencils[\"quantity\"] - quantity\n",
    "                cost = self.pencils[\"price\"]*quantity\n",
    "                print(f\"{quantity} pencils cost is {cost} rupees can i add to cart\")\n",
    "                opt = Customer().choose_decide()\n",
    "                if opt == \"yes\" or opt == \"Yes\":\n",
    "                    self.total =  self.cart.add_cart(\"pencils\",quantity,cost)\n",
    "                else:\n",
    "                    self.total = self.cart.total_cost\n",
    "                \n",
    "            else:\n",
    "                print(f\"sorry sir, we have only {self.pencils['quantity']} pencils\")\n",
    "                \n",
    "        else:\n",
    "            print(\"Sorry sir, we dont have pencils!! please wait for 5 seconds to refill the pencils\")\n",
    "            self.pencils[\"quantity\"] = InventoryShop().out_of_stock(\"pencils\")\n",
    "            \n",
    "        self.shopping = input(\"Do you want any thing else (Yes/No)\")\n",
    "        return self.total, self.shopping"
   ]
  },
  {
   "cell_type": "code",
   "execution_count": 64,
   "id": "c29c9868",
   "metadata": {},
   "outputs": [
    {
     "name": "stdout",
     "output_type": "stream",
     "text": [
      "What do you want?\n",
      "I want : pencils\n",
      "Ok! each pencil cost is 3 rupees, How many pencils do you want?:\n",
      "I want : 10\n",
      "10 pencils cost is 30 rupees can i add to cart\n",
      "choose yes or no : yes\n",
      "cart :{'pens': 0, 'pencils': 25, 'notebooks': 0, 'erasers': 0, 'chocolates': 0, 'biscuits': 0}\n",
      "your cart costs : 75\n",
      "Do you want any thing else (Yes/No)yes\n",
      "What do you want?\n",
      "I want : p\n",
      "Sorry we dont have that item\n",
      "Do you want any thing else (Yes/No)no\n",
      "Your haven't purchased anything\n"
     ]
    },
    {
     "ename": "SystemExit",
     "evalue": "",
     "output_type": "error",
     "traceback": [
      "An exception has occurred, use %tb to see the full traceback.\n",
      "\u001b[1;31mSystemExit\u001b[0m\n"
     ]
    }
   ],
   "source": [
    "InventoryShop().asking()"
   ]
  },
  {
   "cell_type": "code",
   "execution_count": 60,
   "id": "ecddb50c",
   "metadata": {},
   "outputs": [
    {
     "name": "stdout",
     "output_type": "stream",
     "text": [
      "What do you want?\n",
      "I want : pencils\n",
      "Sorry sir, we dont have pencils!! please wait for 5 seconds to refill the pencils\n",
      "pencils are refilling...\n"
     ]
    },
    {
     "ename": "NameError",
     "evalue": "name 'ptint' is not defined",
     "output_type": "error",
     "traceback": [
      "\u001b[1;31m---------------------------------------------------------------------------\u001b[0m",
      "\u001b[1;31mNameError\u001b[0m                                 Traceback (most recent call last)",
      "Cell \u001b[1;32mIn[60], line 1\u001b[0m\n\u001b[1;32m----> 1\u001b[0m \u001b[43mInventoryShop\u001b[49m\u001b[43m(\u001b[49m\u001b[43m)\u001b[49m\u001b[38;5;241;43m.\u001b[39;49m\u001b[43masking\u001b[49m\u001b[43m(\u001b[49m\u001b[43m)\u001b[49m\n",
      "Cell \u001b[1;32mIn[57], line 18\u001b[0m, in \u001b[0;36mInventoryShop.asking\u001b[1;34m(self, shopping)\u001b[0m\n\u001b[0;32m     16\u001b[0m \u001b[38;5;28;01mwhile\u001b[39;00m shopping \u001b[38;5;241m==\u001b[39m \u001b[38;5;124m\"\u001b[39m\u001b[38;5;124myes\u001b[39m\u001b[38;5;124m\"\u001b[39m \u001b[38;5;129;01mor\u001b[39;00m shopping \u001b[38;5;241m==\u001b[39m \u001b[38;5;124m\"\u001b[39m\u001b[38;5;124mYes\u001b[39m\u001b[38;5;124m\"\u001b[39m:\n\u001b[0;32m     17\u001b[0m     \u001b[38;5;28mprint\u001b[39m(\u001b[38;5;124m\"\u001b[39m\u001b[38;5;124mWhat do you want?\u001b[39m\u001b[38;5;124m\"\u001b[39m)\n\u001b[1;32m---> 18\u001b[0m     \u001b[38;5;28mself\u001b[39m\u001b[38;5;241m.\u001b[39mtotal_cost, shopping \u001b[38;5;241m=\u001b[39m \u001b[43mCustomer\u001b[49m\u001b[43m(\u001b[49m\u001b[43m)\u001b[49m\u001b[38;5;241;43m.\u001b[39;49m\u001b[43mselecting_items\u001b[49m\u001b[43m(\u001b[49m\u001b[43m)\u001b[49m\n\u001b[0;32m     19\u001b[0m     \u001b[38;5;28;01mif\u001b[39;00m \u001b[38;5;28mself\u001b[39m\u001b[38;5;241m.\u001b[39mtotal_cost \u001b[38;5;241m==\u001b[39m \u001b[38;5;241m0\u001b[39m:\n\u001b[0;32m     20\u001b[0m         \u001b[38;5;28mprint\u001b[39m(\u001b[38;5;124m\"\u001b[39m\u001b[38;5;124mYour haven\u001b[39m\u001b[38;5;124m'\u001b[39m\u001b[38;5;124mt purchased anything\u001b[39m\u001b[38;5;124m\"\u001b[39m)\n",
      "Cell \u001b[1;32mIn[45], line 12\u001b[0m, in \u001b[0;36mCustomer.selecting_items\u001b[1;34m(self)\u001b[0m\n\u001b[0;32m     10\u001b[0m     \u001b[38;5;28;01mreturn\u001b[39;00m \u001b[38;5;28mself\u001b[39m\u001b[38;5;241m.\u001b[39mtotal\n\u001b[0;32m     11\u001b[0m \u001b[38;5;28;01melif\u001b[39;00m item \u001b[38;5;241m==\u001b[39m \u001b[38;5;124m\"\u001b[39m\u001b[38;5;124mpencils\u001b[39m\u001b[38;5;124m\"\u001b[39m:\n\u001b[1;32m---> 12\u001b[0m     \u001b[38;5;28mself\u001b[39m\u001b[38;5;241m.\u001b[39mtotal \u001b[38;5;241m=\u001b[39m \u001b[43mInventoryShop\u001b[49m\u001b[43m(\u001b[49m\u001b[43m)\u001b[49m\u001b[38;5;241;43m.\u001b[39;49m\u001b[43mpencil\u001b[49m\u001b[43m(\u001b[49m\u001b[43m)\u001b[49m \n\u001b[0;32m     13\u001b[0m     \u001b[38;5;28;01mreturn\u001b[39;00m \u001b[38;5;28mself\u001b[39m\u001b[38;5;241m.\u001b[39mtotal\n\u001b[0;32m     14\u001b[0m \u001b[38;5;28;01melif\u001b[39;00m item \u001b[38;5;241m==\u001b[39m \u001b[38;5;124m\"\u001b[39m\u001b[38;5;124mnotebooks\u001b[39m\u001b[38;5;124m\"\u001b[39m:\n",
      "Cell \u001b[1;32mIn[57], line 60\u001b[0m, in \u001b[0;36mInventoryShop.pencil\u001b[1;34m(self)\u001b[0m\n\u001b[0;32m     58\u001b[0m \u001b[38;5;28;01melse\u001b[39;00m:\n\u001b[0;32m     59\u001b[0m     \u001b[38;5;28mprint\u001b[39m(\u001b[38;5;124m\"\u001b[39m\u001b[38;5;124mSorry sir, we dont have pencils!! please wait for 5 seconds to refill the pencils\u001b[39m\u001b[38;5;124m\"\u001b[39m)\n\u001b[1;32m---> 60\u001b[0m     \u001b[38;5;28mself\u001b[39m\u001b[38;5;241m.\u001b[39mpencils[\u001b[38;5;124m\"\u001b[39m\u001b[38;5;124mquantity\u001b[39m\u001b[38;5;124m\"\u001b[39m] \u001b[38;5;241m=\u001b[39m \u001b[43mInventoryShop\u001b[49m\u001b[43m(\u001b[49m\u001b[43m)\u001b[49m\u001b[38;5;241;43m.\u001b[39;49m\u001b[43mout_of_stock\u001b[49m\u001b[43m(\u001b[49m\u001b[38;5;124;43m\"\u001b[39;49m\u001b[38;5;124;43mpencils\u001b[39;49m\u001b[38;5;124;43m\"\u001b[39;49m\u001b[43m)\u001b[49m\n\u001b[0;32m     62\u001b[0m \u001b[38;5;28mself\u001b[39m\u001b[38;5;241m.\u001b[39mshopping \u001b[38;5;241m=\u001b[39m \u001b[38;5;28minput\u001b[39m(\u001b[38;5;124m\"\u001b[39m\u001b[38;5;124mDo you want any thing else (Yes/No)\u001b[39m\u001b[38;5;124m\"\u001b[39m)\n\u001b[0;32m     63\u001b[0m \u001b[38;5;28;01mreturn\u001b[39;00m \u001b[38;5;28mself\u001b[39m\u001b[38;5;241m.\u001b[39mtotal, \u001b[38;5;28mself\u001b[39m\u001b[38;5;241m.\u001b[39mshopping\n",
      "Cell \u001b[1;32mIn[57], line 37\u001b[0m, in \u001b[0;36mInventoryShop.out_of_stock\u001b[1;34m(self, items)\u001b[0m\n\u001b[0;32m     36\u001b[0m \u001b[38;5;28;01mdef\u001b[39;00m \u001b[38;5;21mout_of_stock\u001b[39m(\u001b[38;5;28mself\u001b[39m,items):\n\u001b[1;32m---> 37\u001b[0m     item \u001b[38;5;241m=\u001b[39m \u001b[43mVendor\u001b[49m\u001b[43m(\u001b[49m\u001b[43m)\u001b[49m\u001b[38;5;241;43m.\u001b[39;49m\u001b[43mrefill\u001b[49m\u001b[43m(\u001b[49m\u001b[43mitems\u001b[49m\u001b[43m)\u001b[49m\n\u001b[0;32m     38\u001b[0m     \u001b[38;5;28;01mreturn\u001b[39;00m item\n",
      "Cell \u001b[1;32mIn[48], line 10\u001b[0m, in \u001b[0;36mVendor.refill\u001b[1;34m(self, items)\u001b[0m\n\u001b[0;32m      8\u001b[0m \u001b[38;5;28mprint\u001b[39m(\u001b[38;5;124mf\u001b[39m\u001b[38;5;124m\"\u001b[39m\u001b[38;5;132;01m{\u001b[39;00mitems\u001b[38;5;132;01m}\u001b[39;00m\u001b[38;5;124m are refilling...\u001b[39m\u001b[38;5;124m\"\u001b[39m)\n\u001b[0;32m      9\u001b[0m time\u001b[38;5;241m.\u001b[39msleep(\u001b[38;5;241m5\u001b[39m)\n\u001b[1;32m---> 10\u001b[0m \u001b[43mptint\u001b[49m(\u001b[38;5;124mf\u001b[39m\u001b[38;5;124m\"\u001b[39m\u001b[38;5;132;01m{\u001b[39;00mitems\u001b[38;5;132;01m}\u001b[39;00m\u001b[38;5;124m are refilled\u001b[39m\u001b[38;5;124m\"\u001b[39m)\n\u001b[0;32m     11\u001b[0m \u001b[38;5;28;01mreturn\u001b[39;00m item\n",
      "\u001b[1;31mNameError\u001b[0m: name 'ptint' is not defined"
     ]
    }
   ],
   "source": [
    "InventoryShop().asking()"
   ]
  },
  {
   "cell_type": "code",
   "execution_count": null,
   "id": "f680ebc5",
   "metadata": {},
   "outputs": [],
   "source": []
  },
  {
   "cell_type": "code",
   "execution_count": 69,
   "id": "d99fa24a",
   "metadata": {},
   "outputs": [
    {
     "data": {
      "text/plain": [
       "<__main__.x at 0x22b734d2740>"
      ]
     },
     "execution_count": 69,
     "metadata": {},
     "output_type": "execute_result"
    }
   ],
   "source": [
    "x()"
   ]
  },
  {
   "cell_type": "code",
   "execution_count": 31,
   "id": "673546c5",
   "metadata": {},
   "outputs": [],
   "source": [
    "import datetime\n",
    "\n",
    "x = datetime.datetime.now().month"
   ]
  },
  {
   "cell_type": "code",
   "execution_count": 32,
   "id": "842b8af3",
   "metadata": {},
   "outputs": [
    {
     "data": {
      "text/plain": [
       "6"
      ]
     },
     "execution_count": 32,
     "metadata": {},
     "output_type": "execute_result"
    }
   ],
   "source": [
    "x"
   ]
  },
  {
   "cell_type": "code",
   "execution_count": 41,
   "id": "cd9b9435",
   "metadata": {},
   "outputs": [
    {
     "name": "stdout",
     "output_type": "stream",
     "text": [
      "9\n"
     ]
    }
   ],
   "source": [
    "from random import randint\n",
    "random_month = randint(1,12)\n",
    "print(random_month)"
   ]
  },
  {
   "cell_type": "code",
   "execution_count": 25,
   "id": "0c92b656",
   "metadata": {},
   "outputs": [
    {
     "data": {
      "text/plain": [
       "2"
      ]
     },
     "execution_count": 25,
     "metadata": {},
     "output_type": "execute_result"
    }
   ],
   "source": [
    "randint(1,5)"
   ]
  },
  {
   "cell_type": "code",
   "execution_count": 42,
   "id": "5098e8f9",
   "metadata": {},
   "outputs": [],
   "source": [
    "offer_month = [1,6]\n",
    "if random_month == 7  or random_month == offer_month:\n",
    "    print(\"Offer\")"
   ]
  },
  {
   "cell_type": "code",
   "execution_count": null,
   "id": "7db2bde9",
   "metadata": {},
   "outputs": [],
   "source": []
  },
  {
   "cell_type": "code",
   "execution_count": 81,
   "id": "1d0f9ffb",
   "metadata": {},
   "outputs": [
    {
     "name": "stdout",
     "output_type": "stream",
     "text": [
      "sdfg\n",
      "uuu\n",
      "uuu\n",
      "fff uuu\n"
     ]
    }
   ],
   "source": [
    "class x:\n",
    "    cart = []\n",
    "\n",
    "    def x1(self):\n",
    "        global cart\n",
    "        print(cart)\n",
    "        cart = input()\n",
    "        print(cart)\n",
    "        \n",
    "    def x2(self):\n",
    "        print(\"fff\",cart)\n",
    "x().x1()\n",
    "x().x2()"
   ]
  },
  {
   "cell_type": "code",
   "execution_count": 75,
   "id": "a2723c7a",
   "metadata": {},
   "outputs": [
    {
     "data": {
      "text/plain": [
       "{'pens': 12, 'pencles': 0, 'notebooks': 0, 'chocolates': 0, 'biscuits': 0}"
      ]
     },
     "execution_count": 75,
     "metadata": {},
     "output_type": "execute_result"
    }
   ],
   "source": [
    "caart = {\"pens\":0,\"pencles\":0,\"notebooks\":0,\"chocolates\":0,\"biscuits\":0}\n",
    "caart[\"pens\"] += 6\n",
    "caart[\"pens\"] += 6\n",
    "caart"
   ]
  },
  {
   "cell_type": "code",
   "execution_count": 49,
   "id": "7ae16da6",
   "metadata": {},
   "outputs": [
    {
     "ename": "IndentationError",
     "evalue": "expected an indented block after function definition on line 24 (2158223403.py, line 25)",
     "output_type": "error",
     "traceback": [
      "\u001b[1;36m  Cell \u001b[1;32mIn[49], line 25\u001b[1;36m\u001b[0m\n\u001b[1;33m    global pens\u001b[0m\n\u001b[1;37m    ^\u001b[0m\n\u001b[1;31mIndentationError\u001b[0m\u001b[1;31m:\u001b[0m expected an indented block after function definition on line 24\n"
     ]
    }
   ],
   "source": []
  },
  {
   "cell_type": "code",
   "execution_count": 50,
   "id": "a7bf090e",
   "metadata": {},
   "outputs": [],
   "source": [
    "import datetime\n",
    "bill = datetime.datetime.now()"
   ]
  },
  {
   "cell_type": "code",
   "execution_count": 52,
   "id": "85f69f60",
   "metadata": {},
   "outputs": [
    {
     "name": "stdout",
     "output_type": "stream",
     "text": [
      "2023-06-09 13:23:45.926628\n"
     ]
    }
   ],
   "source": [
    "print(bill)"
   ]
  },
  {
   "cell_type": "code",
   "execution_count": 54,
   "id": "c24e9495",
   "metadata": {},
   "outputs": [
    {
     "ename": "IndentationError",
     "evalue": "unindent does not match any outer indentation level (<tokenize>, line 24)",
     "output_type": "error",
     "traceback": [
      "\u001b[1;36m  File \u001b[1;32m<tokenize>:24\u001b[1;36m\u001b[0m\n\u001b[1;33m    def notebook(self):\u001b[0m\n\u001b[1;37m    ^\u001b[0m\n\u001b[1;31mIndentationError\u001b[0m\u001b[1;31m:\u001b[0m unindent does not match any outer indentation level\n"
     ]
    }
   ],
   "source": [
    "class Customer:\n",
    "    name = \"\"\n",
    "    total = 0\n",
    "    def selecting_items(self):\n",
    "        global total\n",
    "        item = input(\"I want : \")\n",
    "        if item == \"pens\":\n",
    "            self.total = invent.pen()\n",
    "            return self.total\n",
    "        elif item == \"pencils\":\n",
    "            self.total = invent.pencil() \n",
    "            return self.total\n",
    "        elif item == \"notebooks\":\n",
    "            self.total = invent.notebook()\n",
    "            return self.total\n",
    "        elif item == \"erasers\":\n",
    "            self.total = invent.eraser()\n",
    "            return self.total\n",
    "        elif item == \"chocolates\":\n",
    "            self.total = invent.chocolate()\n",
    "            return self.total\n",
    "        elif item == \"biscuits\":\n",
    "            self.total = invent.biscuit()\n",
    "            return self.total\n",
    "        else:\n",
    "            print(\"Sorry we dont have that item\")\n",
    "            \n",
    "    def choose_quantity(self):\n",
    "        self.quant = int(input(\"I want : \"))\n",
    "        return self.quant\n",
    "    \n",
    "    \n",
    "    def choose_decide(self):\n",
    "        option = str(input(\"choose yes or no : \"))\n",
    "        return option\n",
    "    \n",
    "    def name(self):\n",
    "        self.name = input(\"My name is :\")\n",
    "        return self.name"
   ]
  },
  {
   "cell_type": "code",
   "execution_count": 71,
   "id": "57ce0931",
   "metadata": {},
   "outputs": [],
   "source": [
    "class Cart:\n",
    "    \n",
    "    quantity = []\n",
    "    cost = []\n",
    "    total_cost = 0\n",
    "    cart = {\"pens\":0,\"pencils\":0,\"notebooks\":0, \"erasers\":0, \"chocolates\":0,\"biscuits\":0}\n",
    "    \n",
    "    def add_cart(self,item,item_quantity,item_cost):\n",
    "        global cart, cost, total_cost\n",
    "        self.cart[item] += item_quantity\n",
    "        self.cost.append(item_cost)\n",
    "        self.total_cost = sum(self.cost)\n",
    "        print(f\"cart :{self.cart}\")\n",
    "        print(f\"your cart costs : {self.total_cost}\")    \n",
    "        return self.total_cost\n",
    "    \n"
   ]
  },
  {
   "cell_type": "code",
   "execution_count": null,
   "id": "85b4ce7e",
   "metadata": {},
   "outputs": [],
   "source": [
    "import datetime\n",
    "class Payment:\n",
    "    name = \"\"\n",
    "    total_money = 0\n",
    "    def final_Payment(self,money):\n",
    "        global name, total_money\n",
    "        self.total_money = money\n",
    "        print(self.total_money)\n",
    "        print(f\"Your bill is {money}\")\n",
    "        name = InventoryShop().Owner()\n",
    "        Payment().billing(name, money)\n",
    "       \n",
    "    \n",
    "    def billing(self,name,money):\n",
    "        bill = datetime.datetime.now()\n",
    "        x = print(f\"on {bill} {name} paid {money} for the products he buyed in shop 'X'\")\n",
    "        "
   ]
  },
  {
   "cell_type": "code",
   "execution_count": null,
   "id": "133201d0",
   "metadata": {},
   "outputs": [],
   "source": [
    "class InventoryShop:\n",
    "    pencils = [10,3]\n",
    "    pens = [10,5]\n",
    "    notebooks = [10,20]\n",
    "    erasers = [10,2]\n",
    "    chocolates = [10,1]\n",
    "    biscuits = [10,5]\n",
    "    total_cost = 0\n",
    "    quantity = 0\n",
    "    \n",
    "    shopping = \"yes\"\n",
    "    cart = Cart()\n",
    "    \n",
    "    def Owner(self):\n",
    "        print(\"did the customer paid the money? (Yes/NO)\")\n",
    "        answer = input()\n",
    "        if answer == \"yes\" or answer == \"Yes\":\n",
    "            print(\"may i know your name ?\")\n",
    "            name = Customer().name()\n",
    "            print(name,\"rrr\")\n",
    "            return name\n",
    "        else:\n",
    "            print(\"Please pay to get the items...\")\n",
    "            InventoryShop().Owner()\n",
    "            \n",
    "    \n",
    "    \n",
    "    \n",
    "    def asking(self):\n",
    "        while self.shopping == \"yes\" or self.shopping == \"Yes\":\n",
    "            print(\"What do you want?\")\n",
    "            self.total_cost = Customer().selecting_items()\n",
    "            print(self.total_cost)\n",
    "        Payment().final_Payment(self.total_cost)\n",
    "            \n",
    "            \n",
    "    def pencil(self):\n",
    "        global pencils\n",
    "        if self.pencils[0] >= 1:\n",
    "            print(f\"Ok! each pencil cost is {self.pencils[1]} rupees, How many pencils do you want?:\")\n",
    "            quantity = Customer().choose_quantity()\n",
    "            if self.pencils[0] >= quantity:\n",
    "                self.pencils[0] = self.pencils[0] - self.quantity\n",
    "                cost = self.pencils[1]*quantity\n",
    "                print(f\"{quantity} pencils cost is {cost} rupees can i add to cart\")\n",
    "                opt = Customer().choose_decide()\n",
    "                if opt == \"yes\" or opt == \"Yes\":\n",
    "                    self.total =  self.cart.add_cart(\"pencils\",quantity,cost)\n",
    "                else:\n",
    "                    pass\n",
    "                \n",
    "            else:\n",
    "                print(f\"sorry sir, we have only {self.pencils[0]} pencils\")\n",
    "        else:\n",
    "            print(\"Sorry sir, we dont have pencils!! any thing else do you want sir\")\n",
    "            \n",
    "        self.shopping = input(\"Do you want any thing else (Yes/No)\")\n",
    "        return self.total\n",
    "        \n",
    "  \n",
    "        "
   ]
  },
  {
   "cell_type": "code",
   "execution_count": null,
   "id": "772196c9",
   "metadata": {},
   "outputs": [],
   "source": []
  },
  {
   "cell_type": "code",
   "execution_count": 1,
   "id": "40d35632",
   "metadata": {},
   "outputs": [
    {
     "ename": "NameError",
     "evalue": "name 'Cart' is not defined",
     "output_type": "error",
     "traceback": [
      "\u001b[1;31m---------------------------------------------------------------------------\u001b[0m",
      "\u001b[1;31mNameError\u001b[0m                                 Traceback (most recent call last)",
      "Cell \u001b[1;32mIn[1], line 1\u001b[0m\n\u001b[1;32m----> 1\u001b[0m \u001b[38;5;28;01mclass\u001b[39;00m \u001b[38;5;21;01mInventoryShop\u001b[39;00m:\n\u001b[0;32m      2\u001b[0m     pencils \u001b[38;5;241m=\u001b[39m [\u001b[38;5;241m10\u001b[39m,\u001b[38;5;241m3\u001b[39m]\n\u001b[0;32m      3\u001b[0m     pens \u001b[38;5;241m=\u001b[39m [\u001b[38;5;241m10\u001b[39m,\u001b[38;5;241m5\u001b[39m]\n",
      "Cell \u001b[1;32mIn[1], line 12\u001b[0m, in \u001b[0;36mInventoryShop\u001b[1;34m()\u001b[0m\n\u001b[0;32m      9\u001b[0m quantity \u001b[38;5;241m=\u001b[39m \u001b[38;5;241m0\u001b[39m\n\u001b[0;32m     11\u001b[0m shopping \u001b[38;5;241m=\u001b[39m \u001b[38;5;124m\"\u001b[39m\u001b[38;5;124myes\u001b[39m\u001b[38;5;124m\"\u001b[39m\n\u001b[1;32m---> 12\u001b[0m cart \u001b[38;5;241m=\u001b[39m \u001b[43mCart\u001b[49m()\n\u001b[0;32m     13\u001b[0m name \u001b[38;5;241m=\u001b[39m \u001b[38;5;124m\"\u001b[39m\u001b[38;5;124m\"\u001b[39m\n\u001b[0;32m     14\u001b[0m \u001b[38;5;28;01mdef\u001b[39;00m \u001b[38;5;21mOwner\u001b[39m(\u001b[38;5;28mself\u001b[39m):\n",
      "\u001b[1;31mNameError\u001b[0m: name 'Cart' is not defined"
     ]
    }
   ],
   "source": [
    "class InventoryShop:\n",
    "    pencils = [10,3]\n",
    "    pens = [10,5]\n",
    "    notebooks = [10,20]\n",
    "    erasers = [10,2]\n",
    "    chocolates = [10,1]\n",
    "    biscuits = [10,5]\n",
    "    total_cost = 0\n",
    "    quantity = 0\n",
    "    \n",
    "    shopping = \"yes\"\n",
    "    cart = Cart()\n",
    "    name = \"\"\n",
    "    def Owner(self):\n",
    "        print(\"did the customer paid the money? (Yes/NO)\")\n",
    "        answer = input()\n",
    "        if answer == \"yes\" or answer == \"Yes\":\n",
    "            print(\"may i know your name ?\")\n",
    "            self.name = Customer().name()\n",
    "            print(self.name,\"rrr\")\n",
    "            return self.name\n",
    "        else:\n",
    "            print(\"Please pay to get the items...\")\n",
    "            InventoryShop().Owner()\n",
    "            \n",
    "    \n",
    "    \n",
    "    \n",
    "    def asking(self):\n",
    "        while self.shopping == \"yes\" or self.shopping == \"Yes\":\n",
    "            print(\"What do you want?\")\n",
    "            self.total_cost = Customer().selecting_items()\n",
    "            print(self.shopping)\n",
    "        Payment().final_Payment(self.total_cost)\n",
    "            \n",
    "            \n",
    "    def pencil(self):\n",
    "        global pencils\n",
    "        if self.pencils[0] >= 1:\n",
    "            print(f\"Ok! each pencil cost is {self.pencils[1]} rupees, How many pencils do you want?:\")\n",
    "            quantity = Customer().choose_quantity()\n",
    "            if self.pencils[0] >= quantity:\n",
    "                self.pencils[0] = self.pencils[0] - self.quantity\n",
    "                cost = self.pencils[1]*quantity\n",
    "                print(f\"{quantity} pencils cost is {cost} rupees can i add to cart\")\n",
    "                opt = Customer().choose_decide()\n",
    "                if opt == \"yes\" or opt == \"Yes\":\n",
    "                    self.total =  self.cart.add_cart(\"pencils\",quantity,cost)\n",
    "                else:\n",
    "                    pass\n",
    "                \n",
    "            else:\n",
    "                print(f\"sorry sir, we have only {self.pencils[0]} pencils\")\n",
    "        else:\n",
    "            print(\"Sorry sir, we dont have pencils!! any thing else do you want sir\")\n",
    "            \n",
    "        self.shopping = input(\"Do you want any thing else (Yes/No)\")\n",
    "        return self.total\n",
    "        \n",
    "    def pen(self):\n",
    "        global pens\n",
    "        if self.pens[0] >= 1:\n",
    "            print(f\"Ok! each pen cost is {self.pens[1]} rupees, How many pens do you want?:\")\n",
    "            quantity = Customer().choose_quantity()\n",
    "            if self.pens[0] >= quantity:\n",
    "                self.pens[0] = self.pens[0] - self.quantity\n",
    "                cost = self.pens[1]*quantity\n",
    "                print(f\"{quantity} pens cost is {cost} rupees can i add to cart\")\n",
    "                opt = Customer().choose_decide()\n",
    "                if opt == \"yes\" or opt == \"Yes\":\n",
    "                    self.total =  self.cart.add_cart(\"pens\",quantity,cost)\n",
    "                else:\n",
    "                    pass\n",
    "                \n",
    "            else:\n",
    "                print(f\"sorry sir, we have only {self.pens[0]} pens\")\n",
    "        else:\n",
    "            print(\"Sorry sir, we dont have pens!! any thing else do you want sir\")\n",
    "            \n",
    "        self.shopping = input(\"Do you want any thing else (Yes/No)\")\n",
    "        return self.total\n",
    "    \n",
    "    def notebook(self):\n",
    "        global notebooks\n",
    "        if self.pens[0] >= 1:\n",
    "            print(f\"Ok! each notebook cost is {self.notebooks[1]} rupees, How many notebooks do you want?:\")\n",
    "            quantity = Customer().choose_quantity()\n",
    "            if self.notebooks[0] >= quantity:\n",
    "                self.notebooks[0] = self.notebooks[0] - self.quantity\n",
    "                cost = self.notebooks[1]*quantity\n",
    "                print(f\"{quantity} notebooks cost is {cost} rupees can i add to cart\")\n",
    "                opt = Customer().choose_decide()\n",
    "                if opt == \"yes\" or opt == \"Yes\":\n",
    "                    self.total =  self.cart.add_cart(\"notebooks\",quantity,cost)\n",
    "                else:\n",
    "                    pass\n",
    "                \n",
    "            else:\n",
    "                print(f\"sorry sir, we have only {self.notebooks[0]} notebooks\")\n",
    "        else:\n",
    "            print(\"Sorry sir, we dont have notebooks!! any thing else do you want sir\")\n",
    "            \n",
    "        self.shopping = input(\"Do you want any thing else (Yes/No)\")\n",
    "        return self.total\n",
    "       \n",
    "    def eraser(self):\n",
    "        global erasers\n",
    "        if self.pens[0] >= 1:\n",
    "            print(f\"Ok! each erasers cost is {self.erasers[1]} rupees, How many erasers do you want?:\")\n",
    "            quantity = Customer().choose_quantity()\n",
    "            if self.erasers[0] >= quantity:\n",
    "                self.erasers[0] = self.erasers[0] - self.quantity\n",
    "                cost = self.erasers[1]*quantity\n",
    "                print(f\"{quantity} erasers cost is {cost} rupees can i add to cart\")\n",
    "                opt = Customer().choose_decide()\n",
    "                if opt == \"yes\" or opt == \"Yes\":\n",
    "                    self.total =  self.cart.add_cart(\"erasers\",quantity,cost)\n",
    "                else:\n",
    "                    pass\n",
    "                \n",
    "            else:\n",
    "                print(f\"sorry sir, we have only {self.erasers[0]} erasers\")\n",
    "        else:\n",
    "            print(\"Sorry sir, we dont have erasers!! any thing else do you want sir\")\n",
    "            \n",
    "        self.shopping = input(\"Do you want any thing else (Yes/No)\")\n",
    "        return self.total\n",
    "        \n",
    "    def chocolate(self):\n",
    "        global chocolates\n",
    "        if self.chocolates[0] >= 1:\n",
    "            print(f\"Ok! each chocolates cost is {self.chocolates[1]} rupees, How many chocolates do you want?:\")\n",
    "            quantity = Customer().choose_quantity()\n",
    "            if self.chocolates[0] >= quantity:\n",
    "                self.chocolates[0] = self.chocolates[0] - self.quantity\n",
    "                cost = self.chocolates[1]*quantity\n",
    "                print(f\"{quantity} chocolates cost is {cost} rupees can i add to cart\")\n",
    "                opt = Customer().choose_decide()\n",
    "                if opt == \"yes\" or opt == \"Yes\":\n",
    "                    self.total =  self.cart.add_cart(\"chocolates\",quantity,cost)\n",
    "                else:\n",
    "                    pass\n",
    "                \n",
    "            else:\n",
    "                print(f\"sorry sir, we have only {self.chocolates[0]} chocolates\")\n",
    "        else:\n",
    "            print(\"Sorry sir, we dont have chocolates!! any thing else do you want sir\")\n",
    "            \n",
    "        self.shopping = input(\"Do you want any thing else (Yes/No)\")\n",
    "        return self.total\n",
    "        \n",
    "    def biscuit(self):\n",
    "        global biscuits\n",
    "        if self.biscuits[0] >= 1:\n",
    "            print(f\"Ok! each biscuits cost is {self.biscuits[1]} rupees, How many biscuits do you want?:\")\n",
    "            quantity = Customer().choose_quantity()\n",
    "            if self.biscuits[0] >= quantity:\n",
    "                self.biscuits[0] = self.biscuits[0] - self.quantity\n",
    "                cost = self.biscuits[1]*quantity\n",
    "                print(f\"{quantity} biscuits cost is {cost} rupees can i add to cart\")\n",
    "                opt = Customer().choose_decide()\n",
    "                if opt == \"yes\" or opt == \"Yes\":\n",
    "                    self.total =  self.cart.add_cart(\"biscuits\",quantity,cost)\n",
    "                else:\n",
    "                    pass\n",
    "                \n",
    "            else:\n",
    "                print(f\"sorry sir, we have only {self.biscuits[0]} biscuits\")\n",
    "        else:\n",
    "            print(\"Sorry sir, we dont have biscuits!! any thing else do you want sir\")\n",
    "            \n",
    "        self.shopping = input(\"Do you want any thing else (Yes/No)\")\n",
    "        return self.total\n",
    "        \n",
    "        "
   ]
  },
  {
   "cell_type": "code",
   "execution_count": 7,
   "id": "86628529",
   "metadata": {},
   "outputs": [],
   "source": [
    "x = {\"quantity\":15,\"price\":5}"
   ]
  },
  {
   "cell_type": "code",
   "execution_count": 8,
   "id": "52494d31",
   "metadata": {},
   "outputs": [
    {
     "data": {
      "text/plain": [
       "5"
      ]
     },
     "execution_count": 8,
     "metadata": {},
     "output_type": "execute_result"
    }
   ],
   "source": [
    "x[\"price\"]"
   ]
  },
  {
   "cell_type": "code",
   "execution_count": null,
   "id": "a8f75536",
   "metadata": {},
   "outputs": [],
   "source": []
  },
  {
   "cell_type": "code",
   "execution_count": null,
   "id": "b705f294",
   "metadata": {},
   "outputs": [],
   "source": []
  },
  {
   "cell_type": "code",
   "execution_count": null,
   "id": "ecc587d9",
   "metadata": {},
   "outputs": [],
   "source": []
  },
  {
   "cell_type": "code",
   "execution_count": null,
   "id": "d63ec95a",
   "metadata": {},
   "outputs": [],
   "source": []
  },
  {
   "cell_type": "code",
   "execution_count": null,
   "id": "9764de3b",
   "metadata": {},
   "outputs": [],
   "source": []
  },
  {
   "cell_type": "code",
   "execution_count": null,
   "id": "78e992c3",
   "metadata": {},
   "outputs": [],
   "source": []
  },
  {
   "cell_type": "code",
   "execution_count": null,
   "id": "fc5ed40d",
   "metadata": {},
   "outputs": [],
   "source": []
  },
  {
   "cell_type": "code",
   "execution_count": null,
   "id": "50215a14",
   "metadata": {},
   "outputs": [],
   "source": []
  },
  {
   "cell_type": "code",
   "execution_count": null,
   "id": "576972b9",
   "metadata": {},
   "outputs": [],
   "source": []
  },
  {
   "cell_type": "code",
   "execution_count": 28,
   "id": "848ada1b",
   "metadata": {},
   "outputs": [
    {
     "name": "stdout",
     "output_type": "stream",
     "text": [
      "10\n",
      "9\n",
      "8\n",
      "7\n",
      "6\n",
      "5\n",
      "4\n",
      "3\n",
      "2\n",
      "1\n",
      "0\n"
     ]
    }
   ],
   "source": [
    "c = 10\n",
    "while c>0:\n",
    "    print(c)\n",
    "    c -=1\n",
    "print(c)\n",
    "    "
   ]
  },
  {
   "cell_type": "code",
   "execution_count": 1,
   "id": "07f24e6a",
   "metadata": {},
   "outputs": [],
   "source": [
    "class p:\n",
    "    c = 0\n",
    "    def fun1(self):\n",
    "        global c\n",
    "        print(self.c)\n",
    "        while self.c <= 5 :\n",
    "            print(self.c)\n",
    "            self.c +=1\n",
    "            if self.c == 5:\n",
    "                p().fun1()\n",
    "                break\n",
    "        return self.c\n",
    "    \n",
    "    def fun2(self):\n",
    "        global c\n",
    "        print(self.c)\n",
    "\n"
   ]
  },
  {
   "cell_type": "code",
   "execution_count": null,
   "id": "ac6f9809",
   "metadata": {},
   "outputs": [],
   "source": [
    "x = p().fun1()\n",
    "p().fun2()\n",
    "x"
   ]
  },
  {
   "cell_type": "code",
   "execution_count": 1,
   "id": "9dcedc29",
   "metadata": {},
   "outputs": [
    {
     "ename": "SyntaxError",
     "evalue": "invalid syntax (2947730336.py, line 3)",
     "output_type": "error",
     "traceback": [
      "\u001b[1;36m  Cell \u001b[1;32mIn[1], line 3\u001b[1;36m\u001b[0m\n\u001b[1;33m    def\u001b[0m\n\u001b[1;37m        ^\u001b[0m\n\u001b[1;31mSyntaxError\u001b[0m\u001b[1;31m:\u001b[0m invalid syntax\n"
     ]
    }
   ],
   "source": [
    "class q:\n",
    "    c = 1\n",
    "    def "
   ]
  },
  {
   "cell_type": "code",
   "execution_count": 3,
   "id": "d450920d",
   "metadata": {},
   "outputs": [
    {
     "name": "stdout",
     "output_type": "stream",
     "text": [
      "0\n",
      "else\n"
     ]
    }
   ],
   "source": [
    "x = 0\n",
    "while x == 0:\n",
    "    print(x)\n",
    "    x = 1\n",
    "else:\n",
    "    print(\"else\")"
   ]
  },
  {
   "cell_type": "code",
   "execution_count": 4,
   "id": "df6a9515",
   "metadata": {},
   "outputs": [
    {
     "name": "stdout",
     "output_type": "stream",
     "text": [
      "['one', 'eleven', 'twelve', 'five', 'six', 'ten']\n",
      "eleven\n",
      "one\n",
      "one\n",
      "one\n",
      "one\n"
     ]
    }
   ],
   "source": [
    "import random\n",
    "\n",
    "a = ['one', 'eleven', 'twelve', 'five', 'six', 'ten']\n",
    "\n",
    "print(a)\n",
    "\n",
    "for i in range(5):\n",
    "    print(random.choice(a))"
   ]
  },
  {
   "cell_type": "code",
   "execution_count": 6,
   "id": "cb4f0eba",
   "metadata": {},
   "outputs": [
    {
     "ename": "SyntaxError",
     "evalue": "'(' was never closed (242213879.py, line 2)",
     "output_type": "error",
     "traceback": [
      "\u001b[1;36m  Cell \u001b[1;32mIn[6], line 2\u001b[1;36m\u001b[0m\n\u001b[1;33m    option = int(input(\"0 for Rock/ 1 for Paper/ 2 for Scissors...\")\u001b[0m\n\u001b[1;37m                ^\u001b[0m\n\u001b[1;31mSyntaxError\u001b[0m\u001b[1;31m:\u001b[0m '(' was never closed\n"
     ]
    }
   ],
   "source": [
    "import random\n",
    "option = int(input(\"0 for Rock/ 1 for Paper/ 2 for Scissors...\")\n",
    "print(c)"
   ]
  },
  {
   "cell_type": "code",
   "execution_count": null,
   "id": "fc0d0f55",
   "metadata": {},
   "outputs": [],
   "source": []
  }
 ],
 "metadata": {
  "kernelspec": {
   "display_name": "Python 3 (ipykernel)",
   "language": "python",
   "name": "python3"
  },
  "language_info": {
   "codemirror_mode": {
    "name": "ipython",
    "version": 3
   },
   "file_extension": ".py",
   "mimetype": "text/x-python",
   "name": "python",
   "nbconvert_exporter": "python",
   "pygments_lexer": "ipython3",
   "version": "3.10.9"
  }
 },
 "nbformat": 4,
 "nbformat_minor": 5
}
