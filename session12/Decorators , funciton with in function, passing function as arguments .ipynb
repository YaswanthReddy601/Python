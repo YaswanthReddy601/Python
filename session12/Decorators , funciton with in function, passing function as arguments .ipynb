{
 "cells": [
  {
   "cell_type": "code",
   "execution_count": 1,
   "id": "2d975dfe",
   "metadata": {},
   "outputs": [],
   "source": [
    "#Decorators can be thought of as functions which modify the functionality of another function.\n",
    "#They help to make your code shorter and more \"Pythonic\"."
   ]
  },
  {
   "cell_type": "code",
   "execution_count": 2,
   "id": "ff48ef3b",
   "metadata": {},
   "outputs": [],
   "source": [
    "#normla function\n",
    "def func():\n",
    "    return \"ram\""
   ]
  },
  {
   "cell_type": "code",
   "execution_count": 5,
   "id": "27fabda1",
   "metadata": {},
   "outputs": [
    {
     "data": {
      "text/plain": [
       "'ram'"
      ]
     },
     "execution_count": 5,
     "metadata": {},
     "output_type": "execute_result"
    }
   ],
   "source": [
    "func()"
   ]
  },
  {
   "cell_type": "code",
   "execution_count": 6,
   "id": "baac9712",
   "metadata": {},
   "outputs": [],
   "source": [
    "x = \"ram\"\n",
    "\n",
    "def my_func():\n",
    "    print(locals())"
   ]
  },
  {
   "cell_type": "code",
   "execution_count": 8,
   "id": "783c4df5",
   "metadata": {},
   "outputs": [
    {
     "name": "stdout",
     "output_type": "stream",
     "text": [
      "{}\n"
     ]
    }
   ],
   "source": [
    "my_func()"
   ]
  },
  {
   "cell_type": "code",
   "execution_count": 10,
   "id": "072341a4",
   "metadata": {},
   "outputs": [
    {
     "name": "stdout",
     "output_type": "stream",
     "text": [
      "{'__name__': '__main__', '__doc__': 'Automatically created module for IPython interactive environment', '__package__': None, '__loader__': None, '__spec__': None, '__builtin__': <module 'builtins' (built-in)>, '__builtins__': <module 'builtins' (built-in)>, '_ih': ['', '#Decorators can be thought of as functions which modify the functionality of another function.\\n#They help to make your code shorter and more \"Pythonic\".', '#normla function\\ndef func():\\n    return \"ram\"', 'func', 'func()', 'func()', 'x = \"ram\"\\n\\ndef my_func():\\n    print(locals())', 'my_functions', 'my_func()', 'print(globas())', 'print(globals())'], '_oh': {3: <function func at 0x000001ECE182C820>, 4: 'ram', 5: 'ram'}, '_dh': [WindowsPath('C:/Users/yaswa/Desktop/My_python/session12')], 'In': ['', '#Decorators can be thought of as functions which modify the functionality of another function.\\n#They help to make your code shorter and more \"Pythonic\".', '#normla function\\ndef func():\\n    return \"ram\"', 'func', 'func()', 'func()', 'x = \"ram\"\\n\\ndef my_func():\\n    print(locals())', 'my_functions', 'my_func()', 'print(globas())', 'print(globals())'], 'Out': {3: <function func at 0x000001ECE182C820>, 4: 'ram', 5: 'ram'}, 'get_ipython': <bound method InteractiveShell.get_ipython of <ipykernel.zmqshell.ZMQInteractiveShell object at 0x000001ECE13E23B0>>, 'exit': <IPython.core.autocall.ZMQExitAutocall object at 0x000001ECE13E1900>, 'quit': <IPython.core.autocall.ZMQExitAutocall object at 0x000001ECE13E1900>, 'open': <function open at 0x000001ECDFBB8790>, '_': 'ram', '__': 'ram', '___': <function func at 0x000001ECE182C820>, '_i': 'print(globas())', '_ii': 'my_func()', '_iii': 'my_functions', '_i1': '#Decorators can be thought of as functions which modify the functionality of another function.\\n#They help to make your code shorter and more \"Pythonic\".', '_i2': '#normla function\\ndef func():\\n    return \"ram\"', 'func': <function func at 0x000001ECE182C820>, '_i3': 'func', '_3': <function func at 0x000001ECE182C820>, '_i4': 'func()', '_4': 'ram', '_i5': 'func()', '_5': 'ram', '_i6': 'x = \"ram\"\\n\\ndef my_func():\\n    print(locals())', 'x': 'ram', 'my_func': <function my_func at 0x000001ECE182C670>, '_i7': 'my_functions', '_i8': 'my_func()', '_i9': 'print(globas())', '_i10': 'print(globals())'}\n"
     ]
    }
   ],
   "source": [
    "print(globals())"
   ]
  },
  {
   "cell_type": "code",
   "execution_count": 16,
   "id": "bda057f3",
   "metadata": {},
   "outputs": [
    {
     "data": {
      "text/plain": [
       "'ram'"
      ]
     },
     "execution_count": 16,
     "metadata": {},
     "output_type": "execute_result"
    }
   ],
   "source": [
    "globals()['x']"
   ]
  },
  {
   "cell_type": "code",
   "execution_count": 15,
   "id": "4c863dbe",
   "metadata": {},
   "outputs": [
    {
     "name": "stdout",
     "output_type": "stream",
     "text": [
      "dict_keys(['__name__', '__doc__', '__package__', '__loader__', '__spec__', '__builtin__', '__builtins__', '_ih', '_oh', '_dh', 'In', 'Out', 'get_ipython', 'exit', 'quit', 'open', '_', '__', '___', '_i', '_ii', '_iii', '_i1', '_i2', 'func', '_i3', '_3', '_i4', '_4', '_i5', '_5', '_i6', 'x', 'my_func', '_i7', '_i8', '_i9', '_i10', '_i11', '_i12', '_i13', '_i14', '_i15'])\n"
     ]
    }
   ],
   "source": [
    "print(globals().keys())"
   ]
  },
  {
   "cell_type": "code",
   "execution_count": 18,
   "id": "17ac3a05",
   "metadata": {},
   "outputs": [
    {
     "name": "stdout",
     "output_type": "stream",
     "text": [
      "{}\n"
     ]
    }
   ],
   "source": [
    "my_func()"
   ]
  },
  {
   "cell_type": "code",
   "execution_count": 30,
   "id": "1650799a",
   "metadata": {},
   "outputs": [],
   "source": [
    "def person():\n",
    "    return \"balakrishna\"\n"
   ]
  },
  {
   "cell_type": "code",
   "execution_count": 32,
   "id": "882ba737",
   "metadata": {},
   "outputs": [],
   "source": [
    "Human = person #the whose person() fuction assigned to Human"
   ]
  },
  {
   "cell_type": "code",
   "execution_count": 35,
   "id": "e3445224",
   "metadata": {},
   "outputs": [
    {
     "data": {
      "text/plain": [
       "'balakrishna'"
      ]
     },
     "execution_count": 35,
     "metadata": {},
     "output_type": "execute_result"
    }
   ],
   "source": [
    "Human()"
   ]
  },
  {
   "cell_type": "code",
   "execution_count": 31,
   "id": "4c3503d6",
   "metadata": {},
   "outputs": [
    {
     "data": {
      "text/plain": [
       "'balakrishna'"
      ]
     },
     "execution_count": 31,
     "metadata": {},
     "output_type": "execute_result"
    }
   ],
   "source": [
    "person()"
   ]
  },
  {
   "cell_type": "code",
   "execution_count": 34,
   "id": "0b46d3c1",
   "metadata": {},
   "outputs": [
    {
     "data": {
      "text/plain": [
       "<function __main__.person()>"
      ]
     },
     "execution_count": 34,
     "metadata": {},
     "output_type": "execute_result"
    }
   ],
   "source": [
    "Human"
   ]
  },
  {
   "cell_type": "code",
   "execution_count": 39,
   "id": "7de17990",
   "metadata": {},
   "outputs": [
    {
     "data": {
      "text/plain": [
       "<function __main__.person()>"
      ]
     },
     "execution_count": 39,
     "metadata": {},
     "output_type": "execute_result"
    }
   ],
   "source": [
    "person"
   ]
  },
  {
   "cell_type": "code",
   "execution_count": 41,
   "id": "e2d1728c",
   "metadata": {},
   "outputs": [
    {
     "name": "stdout",
     "output_type": "stream",
     "text": [
      "<function person at 0x000001ECE33476D0>\n"
     ]
    }
   ],
   "source": [
    "print(Human)"
   ]
  },
  {
   "cell_type": "code",
   "execution_count": 38,
   "id": "2005634e",
   "metadata": {},
   "outputs": [
    {
     "name": "stdout",
     "output_type": "stream",
     "text": [
      "<function person at 0x000001ECE33476D0>\n"
     ]
    }
   ],
   "source": [
    "print(person)"
   ]
  },
  {
   "cell_type": "code",
   "execution_count": 44,
   "id": "b4c32c8a",
   "metadata": {},
   "outputs": [],
   "source": [
    "del person"
   ]
  },
  {
   "cell_type": "code",
   "execution_count": 45,
   "id": "443aec20",
   "metadata": {},
   "outputs": [
    {
     "ename": "NameError",
     "evalue": "name 'person' is not defined",
     "output_type": "error",
     "traceback": [
      "\u001b[1;31m---------------------------------------------------------------------------\u001b[0m",
      "\u001b[1;31mNameError\u001b[0m                                 Traceback (most recent call last)",
      "Cell \u001b[1;32mIn[45], line 1\u001b[0m\n\u001b[1;32m----> 1\u001b[0m \u001b[43mperson\u001b[49m\n",
      "\u001b[1;31mNameError\u001b[0m: name 'person' is not defined"
     ]
    }
   ],
   "source": [
    "person"
   ]
  },
  {
   "cell_type": "code",
   "execution_count": 46,
   "id": "a6e0e7f5",
   "metadata": {},
   "outputs": [
    {
     "data": {
      "text/plain": [
       "'balakrishna'"
      ]
     },
     "execution_count": 46,
     "metadata": {},
     "output_type": "execute_result"
    }
   ],
   "source": [
    "Human()"
   ]
  },
  {
   "cell_type": "code",
   "execution_count": 62,
   "id": "92cbf145",
   "metadata": {},
   "outputs": [],
   "source": [
    "#functions with in functions\n",
    "def human(name):\n",
    "    print(f\"Hai {name} : from global space\")\n",
    "    \n",
    "    def male():\n",
    "        s = f\"Hai {name} : from male()\"\n",
    "        return s\n",
    "    def female():\n",
    "        print(male())\n",
    "        return f\"Hai {name} : from female()\"\n",
    "    print(female())\n"
   ]
  },
  {
   "cell_type": "code",
   "execution_count": 63,
   "id": "3d9c8461",
   "metadata": {},
   "outputs": [
    {
     "name": "stdout",
     "output_type": "stream",
     "text": [
      "Hai ramana : from global space\n",
      "Hai ramana : from male()\n",
      "Hai ramana : from female()\n"
     ]
    }
   ],
   "source": [
    "human(\"ramana\")"
   ]
  },
  {
   "cell_type": "code",
   "execution_count": null,
   "id": "eb826111",
   "metadata": {},
   "outputs": [],
   "source": []
  },
  {
   "cell_type": "code",
   "execution_count": 72,
   "id": "5d956145",
   "metadata": {},
   "outputs": [],
   "source": [
    "#Funcaion passing as args\n",
    "def func1(arg):\n",
    "    print(\"from func1\")\n",
    "    return arg()"
   ]
  },
  {
   "cell_type": "code",
   "execution_count": 73,
   "id": "b7f6b18c",
   "metadata": {},
   "outputs": [],
   "source": [
    "def func2():\n",
    "    return \"from func2\""
   ]
  },
  {
   "cell_type": "code",
   "execution_count": 74,
   "id": "28d4a6b6",
   "metadata": {},
   "outputs": [
    {
     "name": "stdout",
     "output_type": "stream",
     "text": [
      "from func1\n",
      "from func2\n"
     ]
    }
   ],
   "source": [
    "print(func1(func2))"
   ]
  },
  {
   "cell_type": "code",
   "execution_count": 75,
   "id": "e5723ba3",
   "metadata": {},
   "outputs": [],
   "source": [
    "def person():\n",
    "    return \"person\""
   ]
  },
  {
   "cell_type": "code",
   "execution_count": 77,
   "id": "a458d685",
   "metadata": {},
   "outputs": [],
   "source": [
    "def human(x):\n",
    "    return person()"
   ]
  },
  {
   "cell_type": "code",
   "execution_count": 79,
   "id": "1aa695c1",
   "metadata": {},
   "outputs": [
    {
     "data": {
      "text/plain": [
       "'person'"
      ]
     },
     "execution_count": 79,
     "metadata": {},
     "output_type": "execute_result"
    }
   ],
   "source": [
    "human(person())"
   ]
  },
  {
   "cell_type": "code",
   "execution_count": 80,
   "id": "4ec29aa5",
   "metadata": {},
   "outputs": [],
   "source": [
    "#Decorator"
   ]
  },
  {
   "cell_type": "code",
   "execution_count": 82,
   "id": "33a19e50",
   "metadata": {},
   "outputs": [],
   "source": [
    "def new_dec_func(fun):\n",
    "    def func():\n",
    "        print(\"Before\")\n",
    "        \n",
    "        fun()\n",
    "        \n",
    "        print(\"After\")\n",
    "    return func"
   ]
  },
  {
   "cell_type": "code",
   "execution_count": 83,
   "id": "109d1e13",
   "metadata": {},
   "outputs": [],
   "source": [
    "def old_dec_func():\n",
    "    print(\"the actual origainal function\")"
   ]
  },
  {
   "cell_type": "code",
   "execution_count": 84,
   "id": "de12b167",
   "metadata": {},
   "outputs": [
    {
     "name": "stdout",
     "output_type": "stream",
     "text": [
      "the actual origainal function\n"
     ]
    },
    {
     "data": {
      "text/plain": [
       "<function __main__.new_dec_func.<locals>.func()>"
      ]
     },
     "execution_count": 84,
     "metadata": {},
     "output_type": "execute_result"
    }
   ],
   "source": [
    "new_dec_func(old_dec_func())"
   ]
  },
  {
   "cell_type": "code",
   "execution_count": 89,
   "id": "96610c3c",
   "metadata": {},
   "outputs": [],
   "source": [
    "overall_func = new_dec_func(old_dec_func)"
   ]
  },
  {
   "cell_type": "code",
   "execution_count": 90,
   "id": "569d34a9",
   "metadata": {},
   "outputs": [
    {
     "name": "stdout",
     "output_type": "stream",
     "text": [
      "Before\n",
      "the actual origainal function\n",
      "After\n"
     ]
    }
   ],
   "source": [
    "overall_func()"
   ]
  },
  {
   "cell_type": "code",
   "execution_count": 91,
   "id": "fc0cabe4",
   "metadata": {},
   "outputs": [],
   "source": [
    "#we can also write this as follows"
   ]
  },
  {
   "cell_type": "code",
   "execution_count": 92,
   "id": "a0f5f9e6",
   "metadata": {},
   "outputs": [],
   "source": [
    "def new_dec_func(fun):\n",
    "    def func():\n",
    "        print(\"Before\")\n",
    "        \n",
    "        fun()\n",
    "        \n",
    "        print(\"After\")\n",
    "    return func"
   ]
  },
  {
   "cell_type": "code",
   "execution_count": 95,
   "id": "069fdfbb",
   "metadata": {},
   "outputs": [],
   "source": [
    "@new_dec_func\n",
    "def old_d_func():\n",
    "    print(\"original\")"
   ]
  },
  {
   "cell_type": "code",
   "execution_count": 96,
   "id": "e91a3659",
   "metadata": {},
   "outputs": [
    {
     "name": "stdout",
     "output_type": "stream",
     "text": [
      "Before\n",
      "original\n",
      "After\n"
     ]
    }
   ],
   "source": [
    "old_d_func()"
   ]
  },
  {
   "cell_type": "code",
   "execution_count": null,
   "id": "bde37c7c",
   "metadata": {},
   "outputs": [],
   "source": []
  }
 ],
 "metadata": {
  "kernelspec": {
   "display_name": "Python 3 (ipykernel)",
   "language": "python",
   "name": "python3"
  },
  "language_info": {
   "codemirror_mode": {
    "name": "ipython",
    "version": 3
   },
   "file_extension": ".py",
   "mimetype": "text/x-python",
   "name": "python",
   "nbconvert_exporter": "python",
   "pygments_lexer": "ipython3",
   "version": "3.10.9"
  }
 },
 "nbformat": 4,
 "nbformat_minor": 5
}
