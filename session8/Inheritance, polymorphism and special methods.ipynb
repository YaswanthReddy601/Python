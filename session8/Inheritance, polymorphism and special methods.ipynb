{
 "cells": [
  {
   "cell_type": "code",
   "execution_count": 1,
   "id": "141a18cb",
   "metadata": {},
   "outputs": [],
   "source": [
    "#Inheritance"
   ]
  },
  {
   "cell_type": "code",
   "execution_count": 145,
   "id": "f4b14f15",
   "metadata": {},
   "outputs": [],
   "source": [
    "class Father:\n",
    "    def __init__(self):\n",
    "        cultivated = \"15 acrs\"\n",
    "        houses = \"2 houses\"\n",
    "        print(cultivated,\" land and \",houses)\n",
    "    def accessories(self): \n",
    "        mobile = \"nokia\"\n",
    "        gold = \"500 grams chain\"\n",
    "        print(mobile, gold)\n"
   ]
  },
  {
   "cell_type": "code",
   "execution_count": 146,
   "id": "14d63b11",
   "metadata": {},
   "outputs": [],
   "source": [
    "class Son(Father):\n",
    "    def __init__(self):\n",
    "        Father.__init__(self)\n",
    "        car = \"wols vagen\"\n",
    "        bike = \"pulser\"\n",
    "    "
   ]
  },
  {
   "cell_type": "code",
   "execution_count": 147,
   "id": "393de331",
   "metadata": {},
   "outputs": [
    {
     "name": "stdout",
     "output_type": "stream",
     "text": [
      "15 acrs  land and  2 houses\n"
     ]
    }
   ],
   "source": [
    "x = Son()"
   ]
  },
  {
   "cell_type": "code",
   "execution_count": 148,
   "id": "0a94616c",
   "metadata": {},
   "outputs": [
    {
     "name": "stdout",
     "output_type": "stream",
     "text": [
      "nokia 500 grams chain\n"
     ]
    }
   ],
   "source": [
    "x.accessories()"
   ]
  },
  {
   "cell_type": "code",
   "execution_count": null,
   "id": "a9c404fc",
   "metadata": {},
   "outputs": [],
   "source": []
  },
  {
   "cell_type": "code",
   "execution_count": null,
   "id": "0ad203d5",
   "metadata": {},
   "outputs": [],
   "source": []
  },
  {
   "cell_type": "code",
   "execution_count": 171,
   "id": "80d35f0c",
   "metadata": {},
   "outputs": [],
   "source": [
    "class Food:\n",
    "    def name(self):\n",
    "        namee=\"apple\"\n",
    "        return namee"
   ]
  },
  {
   "cell_type": "code",
   "execution_count": 172,
   "id": "255299aa",
   "metadata": {},
   "outputs": [],
   "source": [
    "class Fruit(Food):\n",
    "    pass"
   ]
  },
  {
   "cell_type": "code",
   "execution_count": 173,
   "id": "d1b72651",
   "metadata": {},
   "outputs": [],
   "source": [
    "f1 = Fruit()"
   ]
  },
  {
   "cell_type": "code",
   "execution_count": 174,
   "id": "49ae0fc4",
   "metadata": {},
   "outputs": [
    {
     "data": {
      "text/plain": [
       "'apple'"
      ]
     },
     "execution_count": 174,
     "metadata": {},
     "output_type": "execute_result"
    }
   ],
   "source": [
    "f1.name()"
   ]
  },
  {
   "cell_type": "code",
   "execution_count": null,
   "id": "bcbe8a4b",
   "metadata": {},
   "outputs": [],
   "source": []
  },
  {
   "cell_type": "code",
   "execution_count": null,
   "id": "86f64d91",
   "metadata": {},
   "outputs": [],
   "source": []
  },
  {
   "cell_type": "code",
   "execution_count": 175,
   "id": "e4d01f16",
   "metadata": {},
   "outputs": [],
   "source": [
    "#Polymorphism\n",
    "#that refers to the use of the same function name, but with different signatures, for multiple types. ex: len() used for strings as well as lists also"
   ]
  },
  {
   "cell_type": "code",
   "execution_count": 195,
   "id": "9543524d",
   "metadata": {},
   "outputs": [],
   "source": [
    "class Me:\n",
    "    def m1(self):\n",
    "        print(\"m1\")\n",
    "        "
   ]
  },
  {
   "cell_type": "code",
   "execution_count": 199,
   "id": "8ca42c24",
   "metadata": {},
   "outputs": [],
   "source": [
    "class You:\n",
    "    def m1(self):\n",
    "        print(\"y1\")"
   ]
  },
  {
   "cell_type": "code",
   "execution_count": 200,
   "id": "2ac036f1",
   "metadata": {},
   "outputs": [],
   "source": [
    "m = Me()\n",
    "y = You()"
   ]
  },
  {
   "cell_type": "code",
   "execution_count": 201,
   "id": "d2667aa9",
   "metadata": {},
   "outputs": [
    {
     "name": "stdout",
     "output_type": "stream",
     "text": [
      "m1\n",
      "y1\n"
     ]
    }
   ],
   "source": [
    "for x in m,y:\n",
    "    x.m1()"
   ]
  },
  {
   "cell_type": "code",
   "execution_count": 186,
   "id": "f8f199aa",
   "metadata": {},
   "outputs": [],
   "source": [
    "\n",
    "class India():\n",
    "    def capital(self):\n",
    "        print(\"New Delhi is the capital of India.\")\n",
    " \n",
    "    def language(self):\n",
    "        print(\"Hindi is the most widely spoken language of India.\")\n",
    " "
   ]
  },
  {
   "cell_type": "code",
   "execution_count": 187,
   "id": "9b33d3e7",
   "metadata": {},
   "outputs": [],
   "source": [
    "class USA():\n",
    "    def capital(self):\n",
    "        print(\"Washington, D.C. is the capital of USA.\")\n",
    " \n",
    "    def language(self):\n",
    "        print(\"English is the primary language of USA.\")\n"
   ]
  },
  {
   "cell_type": "code",
   "execution_count": 191,
   "id": "d50f8590",
   "metadata": {},
   "outputs": [],
   "source": [
    "ind = India()"
   ]
  },
  {
   "cell_type": "code",
   "execution_count": 192,
   "id": "b4379e27",
   "metadata": {},
   "outputs": [],
   "source": [
    "usa = USA()"
   ]
  },
  {
   "cell_type": "code",
   "execution_count": 194,
   "id": "654edc08",
   "metadata": {},
   "outputs": [
    {
     "name": "stdout",
     "output_type": "stream",
     "text": [
      "New Delhi is the capital of India.\n",
      "Hindi is the most widely spoken language of India.\n",
      "Washington, D.C. is the capital of USA.\n",
      "English is the primary language of USA.\n"
     ]
    }
   ],
   "source": [
    "for country in (ind, usa):\n",
    "    country.capital()\n",
    "    country.language()"
   ]
  },
  {
   "cell_type": "code",
   "execution_count": 202,
   "id": "168816f8",
   "metadata": {},
   "outputs": [],
   "source": [
    "#special methods\n",
    "#__init__() -- executed when object is created \n",
    "#__str__() -- acts like tostring() in java\n",
    "#__len__() -- returns length\n",
    "#__del__() -- delets the specified object"
   ]
  },
  {
   "cell_type": "code",
   "execution_count": 230,
   "id": "1db52c1b",
   "metadata": {},
   "outputs": [],
   "source": [
    "#using all these at once\n",
    "class Cart:\n",
    "    def __init__(self,items,price):\n",
    "        self.items = items\n",
    "        self.price = price\n",
    "    def __str__(self):\n",
    "        return \" {} in cart, costs {}\".format(self.items,self.price)\n",
    "    def __len__(self):\n",
    "        return self.items\n",
    "    def __del__(self):\n",
    "        print(\"an object is deleted\")"
   ]
  },
  {
   "cell_type": "code",
   "execution_count": 231,
   "id": "80994c74",
   "metadata": {},
   "outputs": [],
   "source": [
    "c = Cart(20,2500)"
   ]
  },
  {
   "cell_type": "code",
   "execution_count": 232,
   "id": "35eb322d",
   "metadata": {},
   "outputs": [
    {
     "name": "stdout",
     "output_type": "stream",
     "text": [
      " 20 in cart, costs 2500\n"
     ]
    }
   ],
   "source": [
    "print(c) #it asks the class if you have any strin g representation form if there is any, prints it else prints obj location"
   ]
  },
  {
   "cell_type": "code",
   "execution_count": 233,
   "id": "2ab05d80",
   "metadata": {},
   "outputs": [
    {
     "data": {
      "text/plain": [
       "20"
      ]
     },
     "execution_count": 233,
     "metadata": {},
     "output_type": "execute_result"
    }
   ],
   "source": [
    "len(c)"
   ]
  },
  {
   "cell_type": "code",
   "execution_count": 234,
   "id": "ec08a2c6",
   "metadata": {},
   "outputs": [
    {
     "name": "stdout",
     "output_type": "stream",
     "text": [
      "an object is deleted\n"
     ]
    }
   ],
   "source": [
    "del c"
   ]
  },
  {
   "cell_type": "code",
   "execution_count": 241,
   "id": "63cd7321",
   "metadata": {},
   "outputs": [],
   "source": [
    "class Person:\n",
    "    def __init__(self,age):\n",
    "        self.age = age\n",
    "        print(age)\n",
    "    def Personality(self):\n",
    "        pass #can call as abstract method"
   ]
  },
  {
   "cell_type": "code",
   "execution_count": 255,
   "id": "b0e6d56a",
   "metadata": {},
   "outputs": [],
   "source": [
    "class Human(Person):   \n",
    "    def Personality(self):#Overriding\n",
    "        print(\"hair_clr,height\")"
   ]
  },
  {
   "cell_type": "code",
   "execution_count": 252,
   "id": "0130cf72",
   "metadata": {},
   "outputs": [
    {
     "name": "stdout",
     "output_type": "stream",
     "text": [
      "22\n"
     ]
    }
   ],
   "source": [
    "p = Person(22)"
   ]
  },
  {
   "cell_type": "code",
   "execution_count": 253,
   "id": "19bf2067",
   "metadata": {},
   "outputs": [
    {
     "name": "stdout",
     "output_type": "stream",
     "text": [
      "22\n"
     ]
    }
   ],
   "source": [
    "h = Human(22)#calling __init__() of parent"
   ]
  },
  {
   "cell_type": "code",
   "execution_count": 254,
   "id": "74ee0070",
   "metadata": {},
   "outputs": [
    {
     "name": "stdout",
     "output_type": "stream",
     "text": [
      "hair_clr,height\n"
     ]
    }
   ],
   "source": [
    "h.Personality()"
   ]
  },
  {
   "cell_type": "code",
   "execution_count": null,
   "id": "0e587946",
   "metadata": {},
   "outputs": [],
   "source": []
  }
 ],
 "metadata": {
  "kernelspec": {
   "display_name": "Python 3 (ipykernel)",
   "language": "python",
   "name": "python3"
  },
  "language_info": {
   "codemirror_mode": {
    "name": "ipython",
    "version": 3
   },
   "file_extension": ".py",
   "mimetype": "text/x-python",
   "name": "python",
   "nbconvert_exporter": "python",
   "pygments_lexer": "ipython3",
   "version": "3.10.9"
  }
 },
 "nbformat": 4,
 "nbformat_minor": 5
}
