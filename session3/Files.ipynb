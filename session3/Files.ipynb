{
 "cells": [
  {
   "cell_type": "code",
   "execution_count": 39,
   "id": "806ccc68",
   "metadata": {},
   "outputs": [
    {
     "name": "stdout",
     "output_type": "stream",
     "text": [
      "Overwriting temp.txt\n"
     ]
    }
   ],
   "source": [
    "\n",
    "%%writefile temp.txt\n",
    "hi i am tomm #creates a new file in exists then overrides\n"
   ]
  },
  {
   "cell_type": "code",
   "execution_count": 40,
   "id": "15ad52f0",
   "metadata": {},
   "outputs": [],
   "source": [
    "a = open(\"file.txt\",\"r\")# opens the file"
   ]
  },
  {
   "cell_type": "code",
   "execution_count": null,
   "id": "c72e94db",
   "metadata": {},
   "outputs": [],
   "source": []
  },
  {
   "cell_type": "code",
   "execution_count": 41,
   "id": "c0fa9dc5",
   "metadata": {},
   "outputs": [
    {
     "data": {
      "text/plain": [
       "'hi i am tom\\nhello'"
      ]
     },
     "execution_count": 41,
     "metadata": {},
     "output_type": "execute_result"
    }
   ],
   "source": [
    "a.read()# once we run this method then the curser will go to last position so we dont get any output when we run this line 2nd time"
   ]
  },
  {
   "cell_type": "code",
   "execution_count": 37,
   "id": "7b2aef07",
   "metadata": {},
   "outputs": [
    {
     "data": {
      "text/plain": [
       "0"
      ]
     },
     "execution_count": 37,
     "metadata": {},
     "output_type": "execute_result"
    }
   ],
   "source": [
    "a.seek(0)#gets the curser back to start position before running the read() we need to run this seek(0) method once"
   ]
  },
  {
   "cell_type": "code",
   "execution_count": 56,
   "id": "bbdb7ac1",
   "metadata": {},
   "outputs": [],
   "source": [
    "b = open(\"file.text\",\"r+\")"
   ]
  },
  {
   "cell_type": "code",
   "execution_count": 57,
   "id": "63a070bc",
   "metadata": {},
   "outputs": [
    {
     "data": {
      "text/plain": [
       "18"
      ]
     },
     "execution_count": 57,
     "metadata": {},
     "output_type": "execute_result"
    }
   ],
   "source": [
    "b.write(\"this is overridden\")"
   ]
  },
  {
   "cell_type": "code",
   "execution_count": 61,
   "id": "e2ab9c22",
   "metadata": {},
   "outputs": [
    {
     "data": {
      "text/plain": [
       "0"
      ]
     },
     "execution_count": 61,
     "metadata": {},
     "output_type": "execute_result"
    }
   ],
   "source": [
    "b.seek(0)"
   ]
  },
  {
   "cell_type": "code",
   "execution_count": 62,
   "id": "8fea8e65",
   "metadata": {},
   "outputs": [
    {
     "data": {
      "text/plain": [
       "'this is overriddenagain'"
      ]
     },
     "execution_count": 62,
     "metadata": {},
     "output_type": "execute_result"
    }
   ],
   "source": [
    "b.read()"
   ]
  },
  {
   "cell_type": "code",
   "execution_count": 63,
   "id": "abdc3d90",
   "metadata": {},
   "outputs": [],
   "source": [
    "c = open(\"temp.txt\",'a+')"
   ]
  },
  {
   "cell_type": "code",
   "execution_count": 64,
   "id": "9ac60f41",
   "metadata": {},
   "outputs": [
    {
     "data": {
      "text/plain": [
       "13"
      ]
     },
     "execution_count": 64,
     "metadata": {},
     "output_type": "execute_result"
    }
   ],
   "source": [
    "c.write(\"this is first\")"
   ]
  },
  {
   "cell_type": "code",
   "execution_count": 66,
   "id": "1bc8e929",
   "metadata": {},
   "outputs": [
    {
     "data": {
      "text/plain": [
       "0"
      ]
     },
     "execution_count": 66,
     "metadata": {},
     "output_type": "execute_result"
    }
   ],
   "source": [
    "c.seek(0)"
   ]
  },
  {
   "cell_type": "code",
   "execution_count": 67,
   "id": "4b196655",
   "metadata": {},
   "outputs": [
    {
     "data": {
      "text/plain": [
       "'hi i am tomm \\nthis is first'"
      ]
     },
     "execution_count": 67,
     "metadata": {},
     "output_type": "execute_result"
    }
   ],
   "source": [
    "c.read()"
   ]
  },
  {
   "cell_type": "code",
   "execution_count": 73,
   "id": "11390407",
   "metadata": {},
   "outputs": [
    {
     "data": {
      "text/plain": [
       "0"
      ]
     },
     "execution_count": 73,
     "metadata": {},
     "output_type": "execute_result"
    }
   ],
   "source": [
    "c.seek(0)"
   ]
  },
  {
   "cell_type": "code",
   "execution_count": 74,
   "id": "54dbd510",
   "metadata": {},
   "outputs": [
    {
     "data": {
      "text/plain": [
       "['hi i am tomm \\n', 'this is first']"
      ]
     },
     "execution_count": 74,
     "metadata": {},
     "output_type": "execute_result"
    }
   ],
   "source": [
    "c.readlines()"
   ]
  },
  {
   "cell_type": "code",
   "execution_count": 75,
   "id": "e0bac04e",
   "metadata": {},
   "outputs": [
    {
     "data": {
      "text/plain": [
       "''"
      ]
     },
     "execution_count": 75,
     "metadata": {},
     "output_type": "execute_result"
    }
   ],
   "source": [
    "c.read()"
   ]
  },
  {
   "cell_type": "code",
   "execution_count": 78,
   "id": "e1826800",
   "metadata": {},
   "outputs": [
    {
     "data": {
      "text/plain": [
       "0"
      ]
     },
     "execution_count": 78,
     "metadata": {},
     "output_type": "execute_result"
    }
   ],
   "source": [
    "c.seek(0)"
   ]
  },
  {
   "cell_type": "code",
   "execution_count": 79,
   "id": "45bd8f42",
   "metadata": {},
   "outputs": [
    {
     "name": "stdout",
     "output_type": "stream",
     "text": [
      "hi i am tomm \n",
      "this is first\n"
     ]
    }
   ],
   "source": [
    "print(c.read())"
   ]
  },
  {
   "cell_type": "code",
   "execution_count": 85,
   "id": "a8d1d25f",
   "metadata": {},
   "outputs": [],
   "source": [
    "ylinks = open(\"Z:\\\\LINKS.txt\",\"r\")"
   ]
  },
  {
   "cell_type": "code",
   "execution_count": 86,
   "id": "32a6bf17",
   "metadata": {},
   "outputs": [
    {
     "name": "stdout",
     "output_type": "stream",
     "text": [
      "i all please save the class videos till yesterday\n",
      "H\n",
      "ADV.JAVA (SERVLET) @ 9:00 AM (1ST) by Mr. Nataraj\n",
      "Day-I https://youtu.be/w8mWn0cKXIk\n",
      "Day-2 https://youtu.be/wpMt3jAAlNM\n",
      "Day-3 https://youtu.be/FXpTteB-p5A\n",
      "Day-4 https://youtu.be/EAtPbWIJJw M\n",
      "Day-5 https://youtu.be/Ix1LzF yAmO\n",
      "Day-6 https://youtu.be/ffJQu3CoMmc\n",
      "Day-7 part-I https://youtu.be/B11 DEXr2JLw\n",
      "Day-7 part-2 https://youtu.be/Y0ds4YmLsoU\n",
      "Day-8 https://youtu.be/ucYvS-8Kxk8\n",
      "Day-9 https.â€¢//youtu.be/9yEKArJBTzl\n"
     ]
    }
   ],
   "source": [
    "print(ylinks.read())"
   ]
  },
  {
   "cell_type": "code",
   "execution_count": 87,
   "id": "6b99f1e8",
   "metadata": {},
   "outputs": [],
   "source": [
    "a.close()"
   ]
  },
  {
   "cell_type": "code",
   "execution_count": 88,
   "id": "86dd92cd",
   "metadata": {},
   "outputs": [],
   "source": [
    "b.close()"
   ]
  },
  {
   "cell_type": "code",
   "execution_count": 89,
   "id": "8432ebb2",
   "metadata": {},
   "outputs": [],
   "source": [
    "c.close()"
   ]
  },
  {
   "cell_type": "code",
   "execution_count": 90,
   "id": "a8d10c29",
   "metadata": {},
   "outputs": [],
   "source": [
    "ylinks.close()"
   ]
  },
  {
   "cell_type": "code",
   "execution_count": null,
   "id": "e3442e72",
   "metadata": {},
   "outputs": [],
   "source": []
  }
 ],
 "metadata": {
  "kernelspec": {
   "display_name": "Python 3 (ipykernel)",
   "language": "python",
   "name": "python3"
  },
  "language_info": {
   "codemirror_mode": {
    "name": "ipython",
    "version": 3
   },
   "file_extension": ".py",
   "mimetype": "text/x-python",
   "name": "python",
   "nbconvert_exporter": "python",
   "pygments_lexer": "ipython3",
   "version": "3.10.9"
  }
 },
 "nbformat": 4,
 "nbformat_minor": 5
}
