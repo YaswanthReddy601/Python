{
 "cells": [
  {
   "cell_type": "code",
   "execution_count": 67,
   "id": "c19140bb",
   "metadata": {},
   "outputs": [],
   "source": [
    "#Customer\n",
    "class Customer:\n",
    "    name = \"\"\n",
    "    total = 0\n",
    "    def selecting_items(self):\n",
    "        global total\n",
    "        item = input(\"I want : \")\n",
    "        if item == \"pens\":\n",
    "            self.total = InventoryShop().pen()\n",
    "            return self.total\n",
    "        elif item == \"pencils\":\n",
    "            self.total = InventoryShop().pencil() \n",
    "            return self.total\n",
    "        elif item == \"notebooks\":\n",
    "            self.total = InventoryShop().notebook()\n",
    "            print(self.total)\n",
    "            return self.total\n",
    "        elif item == \"erasers\":\n",
    "            self.total = InventoryShop().eraser()\n",
    "            return self.total\n",
    "        elif item == \"chocolates\":\n",
    "            self.total = InventoryShop().chocolate()\n",
    "            return self.total\n",
    "        elif item == \"biscuits\":\n",
    "            self.total = InventoryShop().biscuit()\n",
    "            return self.total\n",
    "        else:\n",
    "            print(\"Sorry we dont have that item\")\n",
    "            self.shopping = input(\"Do you want any thing else (Yes/No)\")\n",
    "            return self.total, self.shopping\n",
    "            \n",
    "    def choose_quantity(self):\n",
    "        quant = int(input(\"I want : \"))\n",
    "        if quant > 10:\n",
    "            print(\"Sorry you can buy only quantity of 10 at a time\")\n",
    "            InventoryShop().asking()\n",
    "        elif quant < 0:\n",
    "            print(\"Sorry invalid input\")\n",
    "            InventoryShop().asking()\n",
    "        else:\n",
    "            return quant\n",
    "    \n",
    "    def choose_decide(self):\n",
    "        option = str(input(\"choose yes or no : \"))\n",
    "        return option\n",
    "    \n",
    "    def name(self):\n",
    "        self.name = input(\"My name is :\")\n",
    "        return self.name"
   ]
  },
  {
   "cell_type": "code",
   "execution_count": null,
   "id": "268e7260",
   "metadata": {},
   "outputs": [],
   "source": []
  },
  {
   "cell_type": "code",
   "execution_count": 68,
   "id": "9652f7be",
   "metadata": {},
   "outputs": [],
   "source": [
    "#Cart\n",
    "\n",
    "class Cart:\n",
    "    quantity = []\n",
    "    cost = []\n",
    "    total_cost = 0\n",
    "    cart = {\"pens\":0,\"pencils\":0,\"notebooks\":0, \"erasers\":0, \"chocolates\":0,\"biscuits\":0}\n",
    "    \n",
    "    def add_cart(self,item,item_quantity,item_cost):\n",
    "        global cart, cost, total_cost\n",
    "        self.cart[item] += item_quantity\n",
    "        self.cost.append(item_cost)\n",
    "        self.total_cost = sum(self.cost)\n",
    "        print(f\"cart :{self.cart}\")\n",
    "        print(f\"your cart costs : {self.total_cost}\")    \n",
    "        return self.total_cost\n",
    "    \n",
    "    def cleaning_cart(self):\n",
    "        global cart, cost, total_cost\n",
    "        self.quantity = []\n",
    "        self.cost = []\n",
    "        self.total_cost = 0\n",
    "        self.cart = {\"pens\":0,\"pencils\":0,\"notebooks\":0, \"erasers\":0, \"chocolates\":0,\"biscuits\":0}"
   ]
  },
  {
   "cell_type": "code",
   "execution_count": null,
   "id": "5d50f8bc",
   "metadata": {},
   "outputs": [],
   "source": []
  },
  {
   "cell_type": "code",
   "execution_count": 69,
   "id": "354fdf4a",
   "metadata": {},
   "outputs": [],
   "source": [
    "#Payment\n",
    "import datetime\n",
    "from random import randint\n",
    "\n",
    "\n",
    "class Payment:\n",
    "    name = \"\"\n",
    "    total_money = 0\n",
    "    offerr = \"\"\n",
    "    def final_Payment(self,money):\n",
    "        global name, total_money\n",
    "        if money == 0:\n",
    "            print(\"You have 0 items in the cart, So your cart is not billable...\")\n",
    "        else:\n",
    "            self.total_money = money\n",
    "            print(self.total_money)\n",
    "            print(f\"Your bill is {money}\")\n",
    "            if self.offerr == \"offer\":\n",
    "                if self.total_money >= 200:\n",
    "                    discount = randint(0,10)\n",
    "                    print(f\"Congrats you got {discount} discount from your bill\")\n",
    "                    bill = (discount/100)*self.total_money\n",
    "                    print(f\"After discount your bill is : {bill}\")\n",
    "                else:\n",
    "                    print(\"You are not eligible to monthly offer\")\n",
    "            else: \n",
    "                print(\"Not Offer month\")\n",
    "            self.name = InventoryShop().owner()\n",
    "            Payment().billing(self.name, money)\n",
    "        \n",
    "    \n",
    "    def billing(self,name,money):\n",
    "        bill = datetime.datetime.now()\n",
    "        x = print(f\"on {bill} {name} paid {money} for the products he bought in shop 'X'\")\n",
    "        \n",
    "    def offers(self):\n",
    "        random_month = randint(1,12)\n",
    "        current_month = datetime.datetime.now().month\n",
    "        offer_months = [1,8]\n",
    "        if 6 == current_month  or random_month == offer_months:\n",
    "            self.offerr = \"offer\"\n",
    "            return self.offerr"
   ]
  },
  {
   "cell_type": "code",
   "execution_count": null,
   "id": "12fbe8e8",
   "metadata": {},
   "outputs": [],
   "source": []
  },
  {
   "cell_type": "code",
   "execution_count": 70,
   "id": "ed4dff80",
   "metadata": {},
   "outputs": [],
   "source": [
    "#Vendor\n",
    "import time\n",
    "\n",
    "class Vendor:\n",
    "    \n",
    "    def refill(self,items):\n",
    "        item = 10\n",
    "        print(f\"{items} are refilling...\")\n",
    "        time.sleep(5)\n",
    "        print(f\"{items} are refilled\")\n",
    "        return item"
   ]
  },
  {
   "cell_type": "code",
   "execution_count": null,
   "id": "26df0c32",
   "metadata": {},
   "outputs": [],
   "source": []
  },
  {
   "cell_type": "code",
   "execution_count": 72,
   "id": "1927ac3f",
   "metadata": {},
   "outputs": [],
   "source": [
    "#Shop\n",
    "class InventoryShop:\n",
    "    pencils = {\"quantity\":10,\"price\":3}\n",
    "    pens = {\"quantity\":10,\"price\":5}\n",
    "    notebooks = {\"quantity\":10,\"price\":20}\n",
    "    erasers = {\"quantity\":10,\"price\":2}\n",
    "    chocolates = {\"quantity\":10,\"price\":1}\n",
    "    biscuits = {\"quantity\":10,\"price\":5}\n",
    "    total_cost = 0\n",
    "    quantity = 0\n",
    "    total = 0\n",
    "    cart = Cart()\n",
    "    name = \"\"\n",
    "    \n",
    "    \n",
    "    def asking(self,shopping = \"yes\"):\n",
    "        self.cart.cleaning_cart()\n",
    "        if \"offer\" == Payment().offers():\n",
    "            print(\"This is 'OFFER' month. you can get upto 10% discount if you buy products worth of minimun 200\")\n",
    "        while shopping == \"yes\" or shopping == \"Yes\":\n",
    "            print(\"What do you want?\")\n",
    "            self.total_costs, shopping = Customer().selecting_items()\n",
    "        Payment().final_Payment(self.total_cost) \n",
    "    \n",
    "    def owner(self):\n",
    "        print(\"did the customer paid the money? (Yes/NO)\")\n",
    "        answer = input()\n",
    "        if answer == \"yes\" or answer == \"Yes\":\n",
    "            print(\"may i know your name ?\")\n",
    "            self.name = Customer().name()\n",
    "            return self.name\n",
    "        else:\n",
    "            print(\"Please pay to get the items...\")\n",
    "            InventoryShop().owner()\n",
    "         \n",
    "    def out_of_stock(self,items):\n",
    "        item = Vendor().refill(items)\n",
    "        return item\n",
    "\n",
    "    def notebook(self):\n",
    "        global notebooks, shopping\n",
    "        if self.pens[\"quantity\"] >= 1:\n",
    "            print(f\"Ok! each notebook cost is {self.notebooks['price']} rupees, How many notebooks do you want?:\")\n",
    "            quantity = Customer().choose_quantity()\n",
    "            if self.notebooks[\"quantity\"] >= quantity:\n",
    "                self.notebooks[\"quantity\"] = self.notebooks[\"quantity\"] - quantity\n",
    "                cost = self.notebooks['price']*quantity\n",
    "                print(f\"{quantity} notebooks cost is {cost} rupees can i add to cart\")\n",
    "                opt = Customer().choose_decide()\n",
    "                if opt == \"yes\" or opt == \"Yes\":\n",
    "                    self.total =  self.cart.add_cart(\"notebooks\",quantity,cost)\n",
    "                    \n",
    "                    self.shopping = input(\"Dooo you want any thing else (Yes/No)\")\n",
    "                    print(self.shopping)\n",
    "                    print(self.total)\n",
    "                    return self.total, self.shopping\n",
    "                else:\n",
    "                    self.total = self.cart.total_cost\n",
    "                    self.shopping = input(\"Dooo you want any thing else (Yes/No)\")\n",
    "                    return self.total\n",
    "                \n",
    "            else:\n",
    "                print(f\"sorry sir, we have only {self.notebooks['quantity']} notebooks! please wait for 5 seconds to refill the notebooks\")\n",
    "                self.notebooks[\"quantity\"] = InventoryShop().out_of_stock(\"notebooks\")\n",
    "                self.total, self.shopping = InventoryShop().notebook()\n",
    "                return self.total, self.shopping\n",
    "\n",
    "        else:\n",
    "            print(\"Sorry sir, we dont have notebooks!! please wait for 5 seconds to refill the notebooks\")\n",
    "            self.notebooks[\"quantity\"] = InventoryShop().out_of_stock(\"notebooks\")\n",
    "            return InventoryShop().notebook()\n",
    "            \n",
    "        \n"
   ]
  },
  {
   "cell_type": "code",
   "execution_count": null,
   "id": "61840ede",
   "metadata": {},
   "outputs": [
    {
     "name": "stdout",
     "output_type": "stream",
     "text": [
      "This is 'OFFER' month. you can get upto 10% discount if you buy products worth of minimun 200\n",
      "What do you want?\n",
      "I want : notebooks\n",
      "Ok! each notebook cost is 20 rupees, How many notebooks do you want?:\n",
      "I want : 10\n",
      "10 notebooks cost is 200 rupees can i add to cart\n",
      "choose yes or no : yes\n",
      "cart :{'pens': 0, 'pencils': 0, 'notebooks': 10, 'erasers': 0, 'chocolates': 0, 'biscuits': 0}\n",
      "your cart costs : 200\n",
      "Dooo you want any thing else (Yes/No)yes\n",
      "yes\n",
      "200\n",
      "(200, 'yes')\n",
      "What do you want?\n",
      "I want : notebooks\n",
      "Ok! each notebook cost is 20 rupees, How many notebooks do you want?:\n",
      "I want : 10\n",
      "sorry sir, we have only 0 notebooks! please wait for 5 seconds to refill the notebooks\n",
      "notebooks are refilling...\n",
      "notebooks are refilled\n",
      "Ok! each notebook cost is 20 rupees, How many notebooks do you want?:\n",
      "I want : 10\n",
      "10 notebooks cost is 200 rupees can i add to cart\n",
      "choose yes or no : yes\n",
      "cart :{'pens': 0, 'pencils': 0, 'notebooks': 20, 'erasers': 0, 'chocolates': 0, 'biscuits': 0}\n",
      "your cart costs : 400\n",
      "Dooo you want any thing else (Yes/No)no\n",
      "no\n",
      "400\n",
      "(400, 'no')\n",
      "What do you want?\n"
     ]
    }
   ],
   "source": [
    "\n",
    "i.asking()\n"
   ]
  },
  {
   "cell_type": "code",
   "execution_count": null,
   "id": "f8426548",
   "metadata": {
    "collapsed": true
   },
   "outputs": [],
   "source": [
    "InventoryShop().asking()"
   ]
  },
  {
   "cell_type": "code",
   "execution_count": null,
   "id": "206c2354",
   "metadata": {},
   "outputs": [],
   "source": []
  },
  {
   "cell_type": "code",
   "execution_count": 59,
   "id": "229de827",
   "metadata": {},
   "outputs": [
    {
     "name": "stdout",
     "output_type": "stream",
     "text": [
      "What do you want?\n",
      "I want : chocolates\n",
      "Ok! each chocolates cost is 1 rupees, How many chocolates do you want?:\n",
      "I want : 9\n",
      "9 chocolates cost is 9 rupees can i add to cart\n",
      "choose yes or no : yes\n",
      "cart :{'pens': 9, 'pencils': 0, 'notebooks': 0, 'erasers': 0, 'chocolates': 17, 'biscuits': 0}\n",
      "your cart costs : 62\n",
      "Do you want any thing else (Yes/No)no\n",
      "62\n",
      "Your bill is 62\n",
      "Not Offer month\n",
      "did the customer paid the money? (Yes/NO)\n",
      "yes\n",
      "may i know your name ?\n",
      "My name is :yan\n",
      "on 2023-06-12 15:20:01.911405 yan paid 62 for the products he bought in shop 'X'\n"
     ]
    }
   ],
   "source": [
    "i.asking()"
   ]
  },
  {
   "cell_type": "code",
   "execution_count": 61,
   "id": "6ac2c0bf",
   "metadata": {},
   "outputs": [
    {
     "name": "stdout",
     "output_type": "stream",
     "text": [
      "What do you want?\n",
      "I want : pens\n",
      "Ok! each pen cost is 5 rupees, How many pens do you want?:\n",
      "I want : 8\n",
      "8 pens cost is 40 rupees can i add to cart\n",
      "choose yes or no : yes\n",
      "cart :{'pens': 17, 'pencils': 0, 'notebooks': 0, 'erasers': 0, 'chocolates': 17, 'biscuits': 0}\n",
      "your cart costs : 102\n",
      "pDo you want any thing else (Yes/No)no\n",
      "102\n",
      "Your bill is 102\n",
      "Not Offer month\n",
      "did the customer paid the money? (Yes/NO)\n",
      "yes\n",
      "may i know your name ?\n",
      "My name is :pp\n",
      "on 2023-06-12 15:20:50.561178 pp paid 102 for the products he bought in shop 'X'\n"
     ]
    }
   ],
   "source": [
    "InventoryShop().asking()"
   ]
  },
  {
   "cell_type": "code",
   "execution_count": 14,
   "id": "488dc0b7",
   "metadata": {},
   "outputs": [],
   "source": [
    "#InventoryShop().asking()"
   ]
  },
  {
   "cell_type": "code",
   "execution_count": 15,
   "id": "a3578870",
   "metadata": {},
   "outputs": [
    {
     "name": "stdout",
     "output_type": "stream",
     "text": [
      "This is 'OFFER' month. you can get upto 10% discount if you buy products worth of minimun 200\n",
      "What do you want?\n",
      "I want : pens\n",
      "Ok! each pen cost is 5 rupees, How many pens do you want?:\n",
      "I want : 10\n",
      "sorry sir, we have only 3 pens.\n",
      "pens are refilling...\n",
      "pens are refilled\n",
      "Ok! each pen cost is 5 rupees, How many pens do you want?:\n",
      "I want : 10\n",
      "10 pens cost is 50 rupees can i add to cart\n",
      "choose yes or no : yes\n",
      "cart :{'pens': 10, 'pencils': 0, 'notebooks': 0, 'erasers': 0, 'chocolates': 0, 'biscuits': 0}\n",
      "your cart costs : 50\n",
      "Do you want any thing else (Yes/No)yes\n",
      "Do you want any thing else (Yes/No)\n",
      "You have 0 items in the cart, So your cart is not billable...\n"
     ]
    }
   ],
   "source": [
    "i = InventoryShop()\n",
    "i.asking()"
   ]
  },
  {
   "cell_type": "code",
   "execution_count": null,
   "id": "5a2d9833",
   "metadata": {},
   "outputs": [],
   "source": [
    "i.asking()"
   ]
  },
  {
   "cell_type": "code",
   "execution_count": 64,
   "id": "202d770d",
   "metadata": {},
   "outputs": [
    {
     "name": "stdout",
     "output_type": "stream",
     "text": [
      "What do you want?\n",
      "I want : chocolates\n",
      "Ok! each chocolates cost is 1 rupees, How many chocolates do you want?:\n",
      "I want : 8\n",
      "sorry sir, we have only 1 chocolates\n",
      "chocolates are refilling...\n",
      "chocolates are refilled\n",
      "Ok! each chocolates cost is 1 rupees, How many chocolates do you want?:\n",
      "I want : 8\n",
      "8 chocolates cost is 8 rupees can i add to cart\n",
      "choose yes or no : yes\n",
      "cart :{'pens': 5, 'pencils': 0, 'notebooks': 0, 'erasers': 0, 'chocolates': 8, 'biscuits': 0}\n",
      "your cart costs : 33\n",
      "Do you want any thing else (Yes/No)no\n",
      "Do you want any thing else (Yes/No)no\n",
      "You have 0 items in the cart, So your cart is not billable...\n"
     ]
    }
   ],
   "source": [
    "i.asking()"
   ]
  },
  {
   "cell_type": "code",
   "execution_count": null,
   "id": "d02241cf",
   "metadata": {},
   "outputs": [],
   "source": []
  },
  {
   "cell_type": "code",
   "execution_count": null,
   "id": "58bc0439",
   "metadata": {},
   "outputs": [],
   "source": []
  },
  {
   "cell_type": "code",
   "execution_count": null,
   "id": "b182519a",
   "metadata": {},
   "outputs": [],
   "source": []
  },
  {
   "cell_type": "code",
   "execution_count": null,
   "id": "eca685b3",
   "metadata": {},
   "outputs": [],
   "source": []
  },
  {
   "cell_type": "code",
   "execution_count": null,
   "id": "3d7614c4",
   "metadata": {},
   "outputs": [],
   "source": []
  },
  {
   "cell_type": "code",
   "execution_count": null,
   "id": "493c08c6",
   "metadata": {},
   "outputs": [],
   "source": []
  },
  {
   "cell_type": "code",
   "execution_count": null,
   "id": "e2c774fb",
   "metadata": {},
   "outputs": [],
   "source": []
  },
  {
   "cell_type": "code",
   "execution_count": null,
   "id": "e4ab8791",
   "metadata": {},
   "outputs": [],
   "source": []
  },
  {
   "cell_type": "code",
   "execution_count": null,
   "id": "dd81668c",
   "metadata": {},
   "outputs": [],
   "source": []
  },
  {
   "cell_type": "code",
   "execution_count": null,
   "id": "c69934d4",
   "metadata": {},
   "outputs": [],
   "source": []
  },
  {
   "cell_type": "code",
   "execution_count": null,
   "id": "ee571f13",
   "metadata": {},
   "outputs": [],
   "source": []
  },
  {
   "cell_type": "code",
   "execution_count": null,
   "id": "19370bf3",
   "metadata": {},
   "outputs": [],
   "source": []
  },
  {
   "cell_type": "code",
   "execution_count": null,
   "id": "859f3e3d",
   "metadata": {},
   "outputs": [],
   "source": []
  },
  {
   "cell_type": "code",
   "execution_count": null,
   "id": "472952f0",
   "metadata": {},
   "outputs": [],
   "source": []
  }
 ],
 "metadata": {
  "kernelspec": {
   "display_name": "Python 3 (ipykernel)",
   "language": "python",
   "name": "python3"
  },
  "language_info": {
   "codemirror_mode": {
    "name": "ipython",
    "version": 3
   },
   "file_extension": ".py",
   "mimetype": "text/x-python",
   "name": "python",
   "nbconvert_exporter": "python",
   "pygments_lexer": "ipython3",
   "version": "3.10.9"
  }
 },
 "nbformat": 4,
 "nbformat_minor": 5
}
