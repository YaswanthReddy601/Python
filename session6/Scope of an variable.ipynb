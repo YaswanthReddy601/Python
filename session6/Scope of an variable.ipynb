{
 "cells": [
  {
   "cell_type": "code",
   "execution_count": 3,
   "id": "0501b48e",
   "metadata": {},
   "outputs": [],
   "source": [
    "x = 5#global variable\n",
    "def abcd():\n",
    "    print(x)"
   ]
  },
  {
   "cell_type": "code",
   "execution_count": 4,
   "id": "1dbe3e18",
   "metadata": {},
   "outputs": [
    {
     "name": "stdout",
     "output_type": "stream",
     "text": [
      "5\n"
     ]
    }
   ],
   "source": [
    "abcd()"
   ]
  },
  {
   "cell_type": "code",
   "execution_count": 5,
   "id": "c8730490",
   "metadata": {},
   "outputs": [],
   "source": [
    "x = 5\n",
    "def meth():\n",
    "    x = 10 #Local scope\n",
    "    print(x)"
   ]
  },
  {
   "cell_type": "code",
   "execution_count": 6,
   "id": "e2e6af9c",
   "metadata": {},
   "outputs": [
    {
     "name": "stdout",
     "output_type": "stream",
     "text": [
      "10\n"
     ]
    }
   ],
   "source": [
    "meth()"
   ]
  },
  {
   "cell_type": "code",
   "execution_count": 23,
   "id": "6dec4829",
   "metadata": {},
   "outputs": [
    {
     "name": "stdout",
     "output_type": "stream",
     "text": [
      "15\n"
     ]
    }
   ],
   "source": [
    "x = 5\n",
    "def meth1():\n",
    "    x = 10\n",
    "    def meth2():\n",
    "        x=15 #Enclosed function locals\n",
    "        print(x)\n",
    "    meth2()   \n",
    "        \n",
    "meth1()"
   ]
  },
  {
   "cell_type": "code",
   "execution_count": 28,
   "id": "753f264d",
   "metadata": {},
   "outputs": [],
   "source": [
    "x = 5\n",
    "def meth1():\n",
    "    global x \n",
    "    x= 10 #overrided global variable\n",
    "    print(x)\n",
    "    def meth2():\n",
    "        x=15 #Enclosed function locals\n",
    "        print(x)\n",
    "    meth2()"
   ]
  },
  {
   "cell_type": "code",
   "execution_count": 29,
   "id": "5de0399f",
   "metadata": {},
   "outputs": [
    {
     "name": "stdout",
     "output_type": "stream",
     "text": [
      "10\n",
      "15\n"
     ]
    }
   ],
   "source": [
    "meth1()"
   ]
  },
  {
   "cell_type": "code",
   "execution_count": 34,
   "id": "395ce1f1",
   "metadata": {},
   "outputs": [],
   "source": [
    "x = 5\n",
    "def meth1():\n",
    "    x = 10\n",
    "    def meth2():\n",
    "       # x=15 #Enclosed function locals\n",
    "        print(x)\n",
    "    meth2()\n",
    "    print(x)"
   ]
  },
  {
   "cell_type": "code",
   "execution_count": 35,
   "id": "1be9e810",
   "metadata": {},
   "outputs": [
    {
     "name": "stdout",
     "output_type": "stream",
     "text": [
      "10\n",
      "10\n"
     ]
    }
   ],
   "source": [
    "meth1()"
   ]
  },
  {
   "cell_type": "code",
   "execution_count": 46,
   "id": "b53c96f6",
   "metadata": {},
   "outputs": [],
   "source": [
    "x = 5\n",
    "def meth1():\n",
    "    global x\n",
    "    print(x)\n",
    "    x = 99 #reassigning the value\n",
    "    def meth2():\n",
    "        x=15 #Enclosed function locals\n",
    "        print(x)\n",
    "    meth2()\n",
    "    print(x)"
   ]
  },
  {
   "cell_type": "code",
   "execution_count": 47,
   "id": "e17ee624",
   "metadata": {},
   "outputs": [
    {
     "name": "stdout",
     "output_type": "stream",
     "text": [
      "5\n",
      "15\n",
      "99\n"
     ]
    }
   ],
   "source": [
    "meth1()"
   ]
  },
  {
   "cell_type": "code",
   "execution_count": null,
   "id": "b51ccbab",
   "metadata": {},
   "outputs": [],
   "source": []
  },
  {
   "cell_type": "code",
   "execution_count": null,
   "id": "268ee33f",
   "metadata": {},
   "outputs": [],
   "source": []
  }
 ],
 "metadata": {
  "kernelspec": {
   "display_name": "Python 3 (ipykernel)",
   "language": "python",
   "name": "python3"
  },
  "language_info": {
   "codemirror_mode": {
    "name": "ipython",
    "version": 3
   },
   "file_extension": ".py",
   "mimetype": "text/x-python",
   "name": "python",
   "nbconvert_exporter": "python",
   "pygments_lexer": "ipython3",
   "version": "3.10.9"
  }
 },
 "nbformat": 4,
 "nbformat_minor": 5
}
