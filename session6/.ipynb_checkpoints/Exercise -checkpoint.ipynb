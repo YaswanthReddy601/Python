{
 "cells": [
  {
   "cell_type": "code",
   "execution_count": 1,
   "id": "2d022506",
   "metadata": {},
   "outputs": [
    {
     "name": "stdout",
     "output_type": "stream",
     "text": [
      "\n"
     ]
    }
   ],
   "source": [
    "'''\n",
    "LESSER OF TWO EVENS: Write a function that returns the lesser of two given\n",
    "numbers if both numbers are even, but returns the greater if \n",
    "one or both numbers are odd\n",
    "'''\n",
    "print()"
   ]
  },
  {
   "cell_type": "code",
   "execution_count": 12,
   "id": "72b0c787",
   "metadata": {},
   "outputs": [
    {
     "data": {
      "text/plain": [
       "2"
      ]
     },
     "execution_count": 12,
     "metadata": {},
     "output_type": "execute_result"
    }
   ],
   "source": [
    "def lesser_of_two_numbers(num1, num2):\n",
    "    nums=[num1,num2]\n",
    "    if num1%2 !=0 or num2%2 !=0:\n",
    "        if num1>num2:  #return max(num1,num2)\n",
    "            return num1\n",
    "        else:\n",
    "            return num2\n",
    "    elif num1%2 == 0 and num2%2 ==0:\n",
    "        if num1>num2:   #return min(num1,num2)\n",
    "            return num2\n",
    "        else:\n",
    "            return num1\n",
    "            \n",
    "lesser_of_two_numbers(2,4)"
   ]
  },
  {
   "cell_type": "code",
   "execution_count": 13,
   "id": "fd153a5c",
   "metadata": {},
   "outputs": [
    {
     "data": {
      "text/plain": [
       "5"
      ]
     },
     "execution_count": 13,
     "metadata": {},
     "output_type": "execute_result"
    }
   ],
   "source": [
    "lesser_of_two_numbers(2,5)"
   ]
  },
  {
   "cell_type": "code",
   "execution_count": null,
   "id": "63d2ab0f",
   "metadata": {},
   "outputs": [],
   "source": [
    "\"\"\"\n",
    "NIMAL CRACKERS: Write a function takes a two-word string and returns True\n",
    "if both words begin with same letter\n",
    "\"\"\"\n",
    "print()"
   ]
  },
  {
   "cell_type": "code",
   "execution_count": 27,
   "id": "3db7d9c7",
   "metadata": {},
   "outputs": [
    {
     "data": {
      "text/plain": [
       "True"
      ]
     },
     "execution_count": 27,
     "metadata": {},
     "output_type": "execute_result"
    }
   ],
   "source": [
    "def animal_crackers(word):\n",
    "    splited_words = word.split()\n",
    "    if splited_words[0][0] == splited_words[1][0]:\n",
    "        return True\n",
    "    else:\n",
    "        return False\n",
    "    \n",
    "    \n",
    "    \n",
    "animal_crackers('Levelheaded Llama')"
   ]
  },
  {
   "cell_type": "code",
   "execution_count": 26,
   "id": "d98b5597",
   "metadata": {},
   "outputs": [
    {
     "data": {
      "text/plain": [
       "False"
      ]
     },
     "execution_count": 26,
     "metadata": {},
     "output_type": "execute_result"
    }
   ],
   "source": [
    "animal_crackers('Crazy Kangaroo')"
   ]
  },
  {
   "cell_type": "code",
   "execution_count": 29,
   "id": "c0ed77bf",
   "metadata": {},
   "outputs": [
    {
     "name": "stdout",
     "output_type": "stream",
     "text": [
      "\n"
     ]
    }
   ],
   "source": [
    "\"\"\"\n",
    "MAKES TWENTY: Given two integers, return True if the sum of the integers\n",
    "is 20 or if one of the integers is 20. If not, return False\n",
    "\n",
    "\"\"\"\n",
    "print()"
   ]
  },
  {
   "cell_type": "code",
   "execution_count": 1,
   "id": "2435dc78",
   "metadata": {},
   "outputs": [],
   "source": [
    "def makes_twenty(n1,n2):\n",
    "    int(n1)\n",
    "    int(n2)\n",
    "    if n1 == 20 or n2 == 20 or n1 + n2 == 20:\n",
    "        return True\n",
    "    else :\n",
    "        return False"
   ]
  },
  {
   "cell_type": "code",
   "execution_count": 2,
   "id": "d3d40f51",
   "metadata": {},
   "outputs": [
    {
     "data": {
      "text/plain": [
       "True"
      ]
     },
     "execution_count": 2,
     "metadata": {},
     "output_type": "execute_result"
    }
   ],
   "source": [
    "makes_twenty(20,10)\n"
   ]
  },
  {
   "cell_type": "code",
   "execution_count": 3,
   "id": "44c7fc6c",
   "metadata": {},
   "outputs": [
    {
     "data": {
      "text/plain": [
       "True"
      ]
     },
     "execution_count": 3,
     "metadata": {},
     "output_type": "execute_result"
    }
   ],
   "source": [
    "makes_twenty(12,8)\n"
   ]
  },
  {
   "cell_type": "code",
   "execution_count": 4,
   "id": "abf824cf",
   "metadata": {},
   "outputs": [
    {
     "data": {
      "text/plain": [
       "False"
      ]
     },
     "execution_count": 4,
     "metadata": {},
     "output_type": "execute_result"
    }
   ],
   "source": [
    "makes_twenty(2,8)\n"
   ]
  },
  {
   "cell_type": "code",
   "execution_count": 5,
   "id": "705a26b0",
   "metadata": {},
   "outputs": [
    {
     "name": "stdout",
     "output_type": "stream",
     "text": [
      "\n"
     ]
    }
   ],
   "source": [
    "\"\"\"\n",
    "OLD MACDONALD: Write a function that capitalizes the first and\n",
    "fourth letters of a name\n",
    "\"\"\"\n",
    "print()"
   ]
  },
  {
   "cell_type": "code",
   "execution_count": 9,
   "id": "8e675925",
   "metadata": {},
   "outputs": [
    {
     "data": {
      "text/plain": [
       "'MacDo'"
      ]
     },
     "execution_count": 9,
     "metadata": {},
     "output_type": "execute_result"
    }
   ],
   "source": [
    "\n",
    "\n",
    "def old_macdonald(name):\n",
    "    x= \"\"\n",
    "    for ind in range(len(name)):\n",
    "        if ind == 0 or ind == 3:\n",
    "            x += name[ind].upper()\n",
    "        else:\n",
    "            x += name[ind]\n",
    "    return x\n",
    "'''\n",
    "def old_macdonald(name):\n",
    "    zeroth_index = name[0]\n",
    "    one_to_three = name[1:3]\n",
    "    fourth =name[3]\n",
    "    remaining =name[4]\n",
    "    return zeroth_index.upper()+one_to_three+fourth.upper()+remaining\n",
    "\n",
    "old_macdonald('macdonal')\n",
    "''''"
   ]
  },
  {
   "cell_type": "code",
   "execution_count": 12,
   "id": "935523a1",
   "metadata": {},
   "outputs": [
    {
     "name": "stdout",
     "output_type": "stream",
     "text": [
      "\n"
     ]
    }
   ],
   "source": [
    "'''\n",
    "MASTER YODA: Given a sentence, return a sentence with the words reversed\n",
    "'''\n",
    "print()"
   ]
  },
  {
   "cell_type": "code",
   "execution_count": 18,
   "id": "5ab48e61",
   "metadata": {},
   "outputs": [],
   "source": [
    "def master_yoda(text):\n",
    "    a = \"\"\n",
    "    splited_text = text.split()\n",
    "    for x in [2,1,0]:\n",
    "        a += splited_text[x]\n",
    "        a += \" \"\n",
    "    return a\n",
    "        "
   ]
  },
  {
   "cell_type": "code",
   "execution_count": 19,
   "id": "b8f4da49",
   "metadata": {},
   "outputs": [
    {
     "data": {
      "text/plain": [
       "'home am I '"
      ]
     },
     "execution_count": 19,
     "metadata": {},
     "output_type": "execute_result"
    }
   ],
   "source": [
    "master_yoda('I am home')\n"
   ]
  },
  {
   "cell_type": "code",
   "execution_count": 21,
   "id": "dfe90343",
   "metadata": {},
   "outputs": [],
   "source": [
    "def master_yoda(text):\n",
    "    \n",
    "    splited_text = text.split()\n",
    "    rev = splited_text[::-1]\n",
    "    return \" \".join(rev)"
   ]
  },
  {
   "cell_type": "code",
   "execution_count": 22,
   "id": "0503edc9",
   "metadata": {},
   "outputs": [
    {
     "data": {
      "text/plain": [
       "'home am I'"
      ]
     },
     "execution_count": 22,
     "metadata": {},
     "output_type": "execute_result"
    }
   ],
   "source": [
    "master_yoda('I am home')\n"
   ]
  },
  {
   "cell_type": "code",
   "execution_count": 44,
   "id": "c0e9c449",
   "metadata": {},
   "outputs": [
    {
     "data": {
      "text/plain": [
       "True"
      ]
     },
     "execution_count": 44,
     "metadata": {},
     "output_type": "execute_result"
    }
   ],
   "source": [
    "#ALMOST THERE: Given an integer n, return True if n is within 10 of either 100 or 200\n",
    "def almost_there(n):\n",
    "    \n",
    "    if abs(n-200) <= 10 or abs(n-100) <= 10:\n",
    "        return True\n",
    "    else:\n",
    "        return False\n",
    "    \n",
    "almost_there(90)"
   ]
  },
  {
   "cell_type": "code",
   "execution_count": 45,
   "id": "55e1f818",
   "metadata": {},
   "outputs": [
    {
     "data": {
      "text/plain": [
       "True"
      ]
     },
     "execution_count": 45,
     "metadata": {},
     "output_type": "execute_result"
    }
   ],
   "source": [
    "almost_there(104)"
   ]
  },
  {
   "cell_type": "code",
   "execution_count": 46,
   "id": "1b5d22df",
   "metadata": {},
   "outputs": [
    {
     "data": {
      "text/plain": [
       "False"
      ]
     },
     "execution_count": 46,
     "metadata": {},
     "output_type": "execute_result"
    }
   ],
   "source": [
    "almost_there(150)\n"
   ]
  },
  {
   "cell_type": "code",
   "execution_count": 48,
   "id": "b2da1a23",
   "metadata": {},
   "outputs": [
    {
     "data": {
      "text/plain": [
       "True"
      ]
     },
     "execution_count": 48,
     "metadata": {},
     "output_type": "execute_result"
    }
   ],
   "source": [
    "almost_there(209)\n"
   ]
  },
  {
   "cell_type": "code",
   "execution_count": 77,
   "id": "3aa58c17",
   "metadata": {},
   "outputs": [],
   "source": [
    "#Given a list of ints, return True if the array contains a 3 next to a 3 somewhere.\n",
    "def has_33(nums):\n",
    "    for x in range(len(nums)-1):\n",
    "        if nums[x] == 3:\n",
    "            if nums[x+1] == 3:\n",
    "                return True\n",
    "            else:\n",
    "                return False\n"
   ]
  },
  {
   "cell_type": "code",
   "execution_count": 78,
   "id": "7f66648f",
   "metadata": {},
   "outputs": [
    {
     "data": {
      "text/plain": [
       "True"
      ]
     },
     "execution_count": 78,
     "metadata": {},
     "output_type": "execute_result"
    }
   ],
   "source": [
    "has_33([1, 3, 3])\n"
   ]
  },
  {
   "cell_type": "code",
   "execution_count": 79,
   "id": "3393dbef",
   "metadata": {},
   "outputs": [
    {
     "data": {
      "text/plain": [
       "False"
      ]
     },
     "execution_count": 79,
     "metadata": {},
     "output_type": "execute_result"
    }
   ],
   "source": [
    "has_33([1, 3, 1, 3]) "
   ]
  },
  {
   "cell_type": "code",
   "execution_count": 80,
   "id": "724b2c51",
   "metadata": {},
   "outputs": [
    {
     "data": {
      "text/plain": [
       "False"
      ]
     },
     "execution_count": 80,
     "metadata": {},
     "output_type": "execute_result"
    }
   ],
   "source": [
    "has_33([3, 1, 3])\n"
   ]
  },
  {
   "cell_type": "code",
   "execution_count": 81,
   "id": "11cd05e5",
   "metadata": {},
   "outputs": [
    {
     "data": {
      "text/plain": [
       "'HHHeeellllllooo'"
      ]
     },
     "execution_count": 81,
     "metadata": {},
     "output_type": "execute_result"
    }
   ],
   "source": [
    "#PAPER DOLL: Given a string, return a string where for every character in the original there are three character\n",
    "def paper_doll(text):\n",
    "    a = \"\"\n",
    "    for x in text:\n",
    "        a+=x*3\n",
    "    return a\n",
    "paper_doll('Hello')\n"
   ]
  },
  {
   "cell_type": "code",
   "execution_count": 82,
   "id": "3cf7c1c5",
   "metadata": {},
   "outputs": [
    {
     "data": {
      "text/plain": [
       "'MMMiiissssssiiissssssiiippppppiii'"
      ]
     },
     "execution_count": 82,
     "metadata": {},
     "output_type": "execute_result"
    }
   ],
   "source": [
    "paper_doll('Mississippi')\n"
   ]
  },
  {
   "cell_type": "code",
   "execution_count": 84,
   "id": "2a32b736",
   "metadata": {},
   "outputs": [
    {
     "name": "stdout",
     "output_type": "stream",
     "text": [
      "\n"
     ]
    }
   ],
   "source": [
    "\"\"\"\n",
    "BLACKJACK: Given three integers between 1 and 11, if their sum is less than or equal to 21, \n",
    "return their sum. If their sum exceeds 21 and there's an eleven, reduce the total sum by 10. \n",
    "Finally, if the sum (even after adjustment) exceeds 21, return 'BUST\n",
    "\"\"\"\n",
    "print()"
   ]
  },
  {
   "cell_type": "code",
   "execution_count": 94,
   "id": "4d82cba0",
   "metadata": {},
   "outputs": [],
   "source": [
    "def blackjack(a,b,c):\n",
    "    added = a+b+c\n",
    "    if added<=21:\n",
    "        return added\n",
    "    elif added>21 and a == 11 or b==11 or c ==11:\n",
    "        if added-10 <= 21:\n",
    "            return added-10\n",
    "        else:\n",
    "            return \"Burst\"\n",
    "    else:\n",
    "        return \"Burst\""
   ]
  },
  {
   "cell_type": "code",
   "execution_count": 95,
   "id": "7b1f098f",
   "metadata": {},
   "outputs": [
    {
     "data": {
      "text/plain": [
       "18"
      ]
     },
     "execution_count": 95,
     "metadata": {},
     "output_type": "execute_result"
    }
   ],
   "source": [
    "blackjack(5,6,7)\n"
   ]
  },
  {
   "cell_type": "code",
   "execution_count": 96,
   "id": "939de744",
   "metadata": {},
   "outputs": [
    {
     "data": {
      "text/plain": [
       "'Burst'"
      ]
     },
     "execution_count": 96,
     "metadata": {},
     "output_type": "execute_result"
    }
   ],
   "source": [
    "blackjack(9,9,9)\n"
   ]
  },
  {
   "cell_type": "code",
   "execution_count": 97,
   "id": "6176e642",
   "metadata": {},
   "outputs": [
    {
     "data": {
      "text/plain": [
       "19"
      ]
     },
     "execution_count": 97,
     "metadata": {},
     "output_type": "execute_result"
    }
   ],
   "source": [
    "blackjack(9,9,11)\n"
   ]
  },
  {
   "cell_type": "code",
   "execution_count": 98,
   "id": "5cfdcc3b",
   "metadata": {},
   "outputs": [
    {
     "name": "stdout",
     "output_type": "stream",
     "text": [
      "\n"
     ]
    }
   ],
   "source": [
    "'''\n",
    "SUMMER OF '69: Return the sum of the numbers in the array, except ignore sections of numbers starting with a 6 and\n",
    "extending to the next 9 (every 6 will be followed by at least one 9). Return 0 for no numbers.\n",
    "'''\n",
    "print()"
   ]
  },
  {
   "cell_type": "code",
   "execution_count": 5,
   "id": "8e82b6aa",
   "metadata": {},
   "outputs": [
    {
     "data": {
      "text/plain": [
       "9"
      ]
     },
     "execution_count": 5,
     "metadata": {},
     "output_type": "execute_result"
    }
   ],
   "source": [
    "def summer_69(arr):\n",
    "    c = 0\n",
    "    boo = True\n",
    "    for x in arr:\n",
    "        while boo:\n",
    "            if x!=6:\n",
    "                c += x\n",
    "                break\n",
    "            else:\n",
    "                boo = False\n",
    "        while not boo:\n",
    "            if x!=9:\n",
    "                break\n",
    "            else:\n",
    "                boo = True\n",
    "                break\n",
    "    return c\n",
    "    \n",
    "summer_69([4, 5, 6, 7, 8, 9])"
   ]
  },
  {
   "cell_type": "code",
   "execution_count": 6,
   "id": "62406415",
   "metadata": {},
   "outputs": [
    {
     "data": {
      "text/plain": [
       "14"
      ]
     },
     "execution_count": 6,
     "metadata": {},
     "output_type": "execute_result"
    }
   ],
   "source": [
    "summer_69([2, 1, 6, 9, 11])\n"
   ]
  },
  {
   "cell_type": "code",
   "execution_count": 7,
   "id": "7f7f7dbd",
   "metadata": {},
   "outputs": [
    {
     "data": {
      "text/plain": [
       "9"
      ]
     },
     "execution_count": 7,
     "metadata": {},
     "output_type": "execute_result"
    }
   ],
   "source": [
    "summer_69([1, 3, 5])\n"
   ]
  },
  {
   "cell_type": "code",
   "execution_count": null,
   "id": "87857242",
   "metadata": {},
   "outputs": [],
   "source": []
  }
 ],
 "metadata": {
  "kernelspec": {
   "display_name": "Python 3 (ipykernel)",
   "language": "python",
   "name": "python3"
  },
  "language_info": {
   "codemirror_mode": {
    "name": "ipython",
    "version": 3
   },
   "file_extension": ".py",
   "mimetype": "text/x-python",
   "name": "python",
   "nbconvert_exporter": "python",
   "pygments_lexer": "ipython3",
   "version": "3.10.9"
  }
 },
 "nbformat": 4,
 "nbformat_minor": 5
}
