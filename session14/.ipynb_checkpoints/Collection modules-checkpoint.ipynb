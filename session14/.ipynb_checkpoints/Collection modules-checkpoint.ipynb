{
 "cells": [
  {
   "cell_type": "code",
   "execution_count": 3,
   "id": "de4eff5d",
   "metadata": {},
   "outputs": [],
   "source": [
    "#need to import the collection modules and the classes ehich we want to use"
   ]
  },
  {
   "cell_type": "code",
   "execution_count": 11,
   "id": "b93e35b3",
   "metadata": {},
   "outputs": [],
   "source": [
    "#importing counter class\n",
    "from collections import Counter"
   ]
  },
  {
   "cell_type": "code",
   "execution_count": 12,
   "id": "e6022152",
   "metadata": {},
   "outputs": [],
   "source": [
    "li1 = [1,1,1,1,1,1,1,2,2,2,2,2,3,3,3,6,6,6,6,6]"
   ]
  },
  {
   "cell_type": "code",
   "execution_count": 13,
   "id": "dfc3b547",
   "metadata": {},
   "outputs": [
    {
     "data": {
      "text/plain": [
       "Counter({1: 7, 2: 5, 3: 3, 6: 5})"
      ]
     },
     "execution_count": 13,
     "metadata": {},
     "output_type": "execute_result"
    }
   ],
   "source": [
    "Counter(li1)"
   ]
  },
  {
   "cell_type": "code",
   "execution_count": 14,
   "id": "e0ecf002",
   "metadata": {},
   "outputs": [],
   "source": [
    "li2 = \"rrrrrrrrrrrraaaaaaaaaaaammmmmmmmmmmm\""
   ]
  },
  {
   "cell_type": "code",
   "execution_count": null,
   "id": "e47cf8b1",
   "metadata": {},
   "outputs": [],
   "source": []
  },
  {
   "cell_type": "code",
   "execution_count": 15,
   "id": "6f964d0d",
   "metadata": {},
   "outputs": [],
   "source": [
    "li3 = \"my name is rama and i am a boy . . .\""
   ]
  },
  {
   "cell_type": "code",
   "execution_count": 16,
   "id": "4917e092",
   "metadata": {},
   "outputs": [
    {
     "data": {
      "text/plain": [
       "Counter({'my': 1,\n",
       "         'name': 1,\n",
       "         'is': 1,\n",
       "         'rama': 1,\n",
       "         'and': 1,\n",
       "         'i': 1,\n",
       "         'am': 1,\n",
       "         'a': 1,\n",
       "         'boy': 1,\n",
       "         '.': 3})"
      ]
     },
     "execution_count": 16,
     "metadata": {},
     "output_type": "execute_result"
    }
   ],
   "source": [
    "Counter(li3.split())"
   ]
  },
  {
   "cell_type": "code",
   "execution_count": 17,
   "id": "887ef084",
   "metadata": {},
   "outputs": [],
   "source": [
    "c = Counter(li3.split())"
   ]
  },
  {
   "cell_type": "code",
   "execution_count": 18,
   "id": "cd8fa760",
   "metadata": {},
   "outputs": [
    {
     "data": {
      "text/plain": [
       "1"
      ]
     },
     "execution_count": 18,
     "metadata": {},
     "output_type": "execute_result"
    }
   ],
   "source": [
    "c['my']"
   ]
  },
  {
   "cell_type": "code",
   "execution_count": 19,
   "id": "dcf32cc3",
   "metadata": {},
   "outputs": [
    {
     "data": {
      "text/plain": [
       "3"
      ]
     },
     "execution_count": 19,
     "metadata": {},
     "output_type": "execute_result"
    }
   ],
   "source": [
    "c[\".\"]"
   ]
  },
  {
   "cell_type": "code",
   "execution_count": 20,
   "id": "dbfd6229",
   "metadata": {},
   "outputs": [
    {
     "data": {
      "text/plain": [
       "12"
      ]
     },
     "execution_count": 20,
     "metadata": {},
     "output_type": "execute_result"
    }
   ],
   "source": [
    "sum(Counter(li1))"
   ]
  },
  {
   "cell_type": "code",
   "execution_count": 44,
   "id": "ecbbd27a",
   "metadata": {},
   "outputs": [],
   "source": [
    "#namedtuple() is Like dictionarie, they contain keys that are hashed to a particular value\n",
    "#namedtuple() provide a way to access their values using field names and the dot notation which makes the code readable\n",
    "\n",
    "from collections import namedtuple\n",
    "\n",
    "person = namedtuple(\"person\",[\"name\",\"age\"])\n"
   ]
  },
  {
   "cell_type": "code",
   "execution_count": 67,
   "id": "25aec79c",
   "metadata": {},
   "outputs": [],
   "source": [
    "x = person(name=\"ram\",age=22)"
   ]
  },
  {
   "cell_type": "code",
   "execution_count": 46,
   "id": "86508ef1",
   "metadata": {},
   "outputs": [
    {
     "data": {
      "text/plain": [
       "person(name='ram', age=22)"
      ]
     },
     "execution_count": 46,
     "metadata": {},
     "output_type": "execute_result"
    }
   ],
   "source": [
    "x"
   ]
  },
  {
   "cell_type": "code",
   "execution_count": 47,
   "id": "7b50302e",
   "metadata": {},
   "outputs": [],
   "source": [
    "y = person(name=\"rama\",age=23)"
   ]
  },
  {
   "cell_type": "code",
   "execution_count": 49,
   "id": "da793b19",
   "metadata": {},
   "outputs": [
    {
     "name": "stdout",
     "output_type": "stream",
     "text": [
      "person(name='rama', age=23)\n"
     ]
    }
   ],
   "source": [
    "print(y)"
   ]
  },
  {
   "cell_type": "code",
   "execution_count": 55,
   "id": "3a0dafd7",
   "metadata": {},
   "outputs": [
    {
     "name": "stdout",
     "output_type": "stream",
     "text": [
      "ram\n"
     ]
    },
    {
     "data": {
      "text/plain": [
       "'rama'"
      ]
     },
     "execution_count": 55,
     "metadata": {},
     "output_type": "execute_result"
    }
   ],
   "source": [
    "print(x.name)\n",
    "y.name"
   ]
  },
  {
   "cell_type": "code",
   "execution_count": 70,
   "id": "1803e01e",
   "metadata": {},
   "outputs": [
    {
     "name": "stdout",
     "output_type": "stream",
     "text": [
      "ram\n",
      "22\n"
     ]
    }
   ],
   "source": [
    "for a in x:\n",
    "    print(a)"
   ]
  },
  {
   "cell_type": "code",
   "execution_count": 71,
   "id": "747c4adc",
   "metadata": {},
   "outputs": [
    {
     "name": "stdout",
     "output_type": "stream",
     "text": [
      "rama\n",
      "23\n"
     ]
    }
   ],
   "source": [
    "for a in y:\n",
    "    print(a)"
   ]
  },
  {
   "cell_type": "code",
   "execution_count": 76,
   "id": "2b8e5526",
   "metadata": {},
   "outputs": [
    {
     "name": "stdout",
     "output_type": "stream",
     "text": [
      "1\n",
      "2\n"
     ]
    },
    {
     "ename": "AttributeError",
     "evalue": "'dict' object has no attribute 'a'",
     "output_type": "error",
     "traceback": [
      "\u001b[1;31m---------------------------------------------------------------------------\u001b[0m",
      "\u001b[1;31mAttributeError\u001b[0m                            Traceback (most recent call last)",
      "Cell \u001b[1;32mIn[76], line 4\u001b[0m\n\u001b[0;32m      2\u001b[0m \u001b[38;5;28;01mfor\u001b[39;00m x \u001b[38;5;129;01min\u001b[39;00m d\u001b[38;5;241m.\u001b[39mvalues():\n\u001b[0;32m      3\u001b[0m     \u001b[38;5;28mprint\u001b[39m(x)\n\u001b[1;32m----> 4\u001b[0m \u001b[43md\u001b[49m\u001b[38;5;241;43m.\u001b[39;49m\u001b[43ma\u001b[49m\n",
      "\u001b[1;31mAttributeError\u001b[0m: 'dict' object has no attribute 'a'"
     ]
    }
   ],
   "source": [
    "d ={\"a\":1,\"b\":2}\n",
    "for x in d.values():\n",
    "    print(x)\n",
    "d.a"
   ]
  },
  {
   "cell_type": "code",
   "execution_count": 85,
   "id": "f6584df4",
   "metadata": {},
   "outputs": [],
   "source": [
    "bike = namedtuple(\"Bike\",[\"owner\",\"name\",\"number\"])"
   ]
  },
  {
   "cell_type": "code",
   "execution_count": 86,
   "id": "2b38c2a2",
   "metadata": {},
   "outputs": [],
   "source": [
    "Bobj = bike(\"ram\",\"pulser\",\"2414\")"
   ]
  },
  {
   "cell_type": "code",
   "execution_count": 87,
   "id": "3101b205",
   "metadata": {},
   "outputs": [
    {
     "data": {
      "text/plain": [
       "'ram'"
      ]
     },
     "execution_count": 87,
     "metadata": {},
     "output_type": "execute_result"
    }
   ],
   "source": [
    "Bobj.owner"
   ]
  },
  {
   "cell_type": "code",
   "execution_count": 88,
   "id": "4d250042",
   "metadata": {},
   "outputs": [
    {
     "data": {
      "text/plain": [
       "'pulser'"
      ]
     },
     "execution_count": 88,
     "metadata": {},
     "output_type": "execute_result"
    }
   ],
   "source": [
    "Bobj.name"
   ]
  },
  {
   "cell_type": "code",
   "execution_count": 89,
   "id": "06ea94ec",
   "metadata": {},
   "outputs": [
    {
     "data": {
      "text/plain": [
       "'2414'"
      ]
     },
     "execution_count": 89,
     "metadata": {},
     "output_type": "execute_result"
    }
   ],
   "source": [
    "Bobj.number"
   ]
  },
  {
   "cell_type": "code",
   "execution_count": 90,
   "id": "04c4e330",
   "metadata": {},
   "outputs": [
    {
     "data": {
      "text/plain": [
       "Bike(owner='ram', name='pulser', number='2414')"
      ]
     },
     "execution_count": 90,
     "metadata": {},
     "output_type": "execute_result"
    }
   ],
   "source": [
    "Bobj"
   ]
  },
  {
   "cell_type": "code",
   "execution_count": null,
   "id": "a810c793",
   "metadata": {},
   "outputs": [],
   "source": [
    "#defaultdict : it is a subclass of the dictionary, but it stores an default value which is used when we call a key --\n",
    "# --which is not in dictionary then the default value will assigns to that key\n",
    "#this doesnot throws KeyError"
   ]
  },
  {
   "cell_type": "code",
   "execution_count": 91,
   "id": "2649231b",
   "metadata": {},
   "outputs": [],
   "source": [
    "from collections import defaultdict"
   ]
  },
  {
   "cell_type": "code",
   "execution_count": 111,
   "id": "b417c62b",
   "metadata": {},
   "outputs": [],
   "source": [
    "def def_val():\n",
    "    return \"def_value\""
   ]
  },
  {
   "cell_type": "code",
   "execution_count": 133,
   "id": "79b8ea1d",
   "metadata": {},
   "outputs": [],
   "source": [
    "    a = defaultdict(def_val)\n",
    "    a[1] = \"a\"\n",
    "    a[2] = \"b\""
   ]
  },
  {
   "cell_type": "code",
   "execution_count": 134,
   "id": "860b43fd",
   "metadata": {},
   "outputs": [
    {
     "data": {
      "text/plain": [
       "'a'"
      ]
     },
     "execution_count": 134,
     "metadata": {},
     "output_type": "execute_result"
    }
   ],
   "source": [
    "a[1]\n"
   ]
  },
  {
   "cell_type": "code",
   "execution_count": 135,
   "id": "5dd222eb",
   "metadata": {},
   "outputs": [
    {
     "data": {
      "text/plain": [
       "'b'"
      ]
     },
     "execution_count": 135,
     "metadata": {},
     "output_type": "execute_result"
    }
   ],
   "source": [
    "a[2]"
   ]
  },
  {
   "cell_type": "code",
   "execution_count": 136,
   "id": "1ab88a27",
   "metadata": {},
   "outputs": [
    {
     "data": {
      "text/plain": [
       "'def_value'"
      ]
     },
     "execution_count": 136,
     "metadata": {},
     "output_type": "execute_result"
    }
   ],
   "source": [
    "a[3]"
   ]
  },
  {
   "cell_type": "code",
   "execution_count": 138,
   "id": "d781ace5",
   "metadata": {},
   "outputs": [],
   "source": [
    "b = defaultdict(lambda : \"d_v\")\n",
    "b[\"a\"] = 1\n",
    "b[\"b\"] = 2"
   ]
  },
  {
   "cell_type": "code",
   "execution_count": 139,
   "id": "fe89157b",
   "metadata": {},
   "outputs": [
    {
     "data": {
      "text/plain": [
       "2"
      ]
     },
     "execution_count": 139,
     "metadata": {},
     "output_type": "execute_result"
    }
   ],
   "source": [
    "b[\"b\"]"
   ]
  },
  {
   "cell_type": "code",
   "execution_count": 141,
   "id": "20e3c578",
   "metadata": {},
   "outputs": [
    {
     "name": "stdout",
     "output_type": "stream",
     "text": [
      "d_v\n",
      "d_v\n"
     ]
    }
   ],
   "source": [
    "print(b[\"d\"])\n",
    "print(b[\"p\"])"
   ]
  },
  {
   "cell_type": "code",
   "execution_count": null,
   "id": "27563dce",
   "metadata": {},
   "outputs": [],
   "source": []
  }
 ],
 "metadata": {
  "kernelspec": {
   "display_name": "Python 3 (ipykernel)",
   "language": "python",
   "name": "python3"
  },
  "language_info": {
   "codemirror_mode": {
    "name": "ipython",
    "version": 3
   },
   "file_extension": ".py",
   "mimetype": "text/x-python",
   "name": "python",
   "nbconvert_exporter": "python",
   "pygments_lexer": "ipython3",
   "version": "3.10.9"
  }
 },
 "nbformat": 4,
 "nbformat_minor": 5
}
