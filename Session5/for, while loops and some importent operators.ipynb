{
 "cells": [
  {
   "cell_type": "code",
   "execution_count": 1,
   "id": "e616e32c",
   "metadata": {},
   "outputs": [
    {
     "name": "stdout",
     "output_type": "stream",
     "text": [
      "100\n",
      "200\n",
      "300\n",
      "400\n",
      "500\n"
     ]
    }
   ],
   "source": [
    "marks = [100,200,300,400,500]\n",
    "\n",
    "for num in marks:\n",
    "    print(num)"
   ]
  },
  {
   "cell_type": "code",
   "execution_count": 2,
   "id": "04448cda",
   "metadata": {},
   "outputs": [
    {
     "name": "stdout",
     "output_type": "stream",
     "text": [
      "23\n",
      "-----\n",
      "24\n",
      "-----\n",
      "23\n",
      "-----\n",
      "22\n",
      "-----\n",
      "19\n",
      "-----\n"
     ]
    }
   ],
   "source": [
    "ages = [23,24,23,22,19]\n",
    "\n",
    "for x in ages:\n",
    "    print(x)\n",
    "    print(\"-----\")"
   ]
  },
  {
   "cell_type": "code",
   "execution_count": 3,
   "id": "9ba8722f",
   "metadata": {},
   "outputs": [
    {
     "name": "stdout",
     "output_type": "stream",
     "text": [
      "1\n",
      "2\n",
      "3\n"
     ]
    }
   ],
   "source": [
    "t = (1,2,3)\n",
    "\n",
    "for x in t:\n",
    "    print(x)"
   ]
  },
  {
   "cell_type": "code",
   "execution_count": 4,
   "id": "1a31b258",
   "metadata": {},
   "outputs": [
    {
     "name": "stdout",
     "output_type": "stream",
     "text": [
      "r\n",
      "a\n",
      "m\n"
     ]
    }
   ],
   "source": [
    "for x in \"ram\":\n",
    "    print(x)"
   ]
  },
  {
   "cell_type": "code",
   "execution_count": 5,
   "id": "63560e06",
   "metadata": {},
   "outputs": [
    {
     "name": "stdout",
     "output_type": "stream",
     "text": [
      "hai\n",
      "hai\n",
      "hai\n",
      "hai\n"
     ]
    }
   ],
   "source": [
    "for x in \"raja\":\n",
    "    print(\"hai\")"
   ]
  },
  {
   "cell_type": "code",
   "execution_count": 6,
   "id": "b7c7f447",
   "metadata": {},
   "outputs": [
    {
     "name": "stdout",
     "output_type": "stream",
     "text": [
      "(1, 1, 2, 4)\n",
      "(1, 5, 3, 9)\n"
     ]
    }
   ],
   "source": [
    "v = [(1,1,2,4),(1,5,3,9)]\n",
    "\n",
    "for x in v:\n",
    "    print(x)"
   ]
  },
  {
   "cell_type": "code",
   "execution_count": 7,
   "id": "242db5f3",
   "metadata": {},
   "outputs": [
    {
     "name": "stdout",
     "output_type": "stream",
     "text": [
      "1\n",
      "1\n",
      "2\n",
      "4\n",
      "1\n",
      "5\n",
      "3\n",
      "9\n"
     ]
    }
   ],
   "source": [
    "for x,y,z,a in v:\n",
    "    print(x)\n",
    "    print(y)\n",
    "    print(z)\n",
    "    print(a)"
   ]
  },
  {
   "cell_type": "code",
   "execution_count": 8,
   "id": "9d63a134",
   "metadata": {},
   "outputs": [
    {
     "name": "stdout",
     "output_type": "stream",
     "text": [
      "1\n",
      "2\n",
      "3\n",
      "4\n",
      "5\n"
     ]
    }
   ],
   "source": [
    "num = 5\n",
    "x = 1\n",
    "while x <= num:\n",
    "   print(x)\n",
    "   x+=1\n",
    "        "
   ]
  },
  {
   "cell_type": "code",
   "execution_count": 9,
   "id": "67c802f6",
   "metadata": {},
   "outputs": [
    {
     "name": "stdout",
     "output_type": "stream",
     "text": [
      "10\n",
      "11\n",
      "12\n",
      "13\n",
      "14\n",
      "15\n",
      "16\n",
      "17\n",
      "18\n",
      "19\n"
     ]
    }
   ],
   "source": [
    "num1 = 10\n",
    "\n",
    "while num1 < 20:\n",
    "    print(num1)\n",
    "    num1 +=1"
   ]
  },
  {
   "cell_type": "code",
   "execution_count": 10,
   "id": "fe1e1b27",
   "metadata": {},
   "outputs": [
    {
     "name": "stdout",
     "output_type": "stream",
     "text": [
      "raj\n",
      "raj\n",
      "raj\n",
      "raj\n",
      "raj\n",
      "ram\n"
     ]
    }
   ],
   "source": [
    "a = 0\n",
    "\n",
    "while a < 5:\n",
    "    print('raj')\n",
    "    a +=1\n",
    "else:\n",
    "    print(\"ram\")"
   ]
  },
  {
   "cell_type": "code",
   "execution_count": 11,
   "id": "1b69c192",
   "metadata": {},
   "outputs": [
    {
     "name": "stdout",
     "output_type": "stream",
     "text": [
      "1 is odd\n",
      "2 is even\n",
      "3 is odd\n",
      "4 is even\n",
      "5 is odd\n",
      "6 is even\n",
      "7 is odd\n",
      "8 is even\n",
      "9 is odd\n",
      "end of the loop\n"
     ]
    }
   ],
   "source": [
    "x=1\n",
    "while x < 10:\n",
    "    if x%2==0:\n",
    "        print(f\"{x} is even\")\n",
    "    else:\n",
    "        print(f\"{x} is odd\")\n",
    "    x += 1\n",
    "else:\n",
    "    print(\"end of the loop\")"
   ]
  },
  {
   "cell_type": "code",
   "execution_count": 12,
   "id": "2e7bf39e",
   "metadata": {},
   "outputs": [],
   "source": [
    "names = [\"ram\",'lakshman',\"ravana\"]\n",
    "num,i = 5,0"
   ]
  },
  {
   "cell_type": "code",
   "execution_count": null,
   "id": "ee9ae321",
   "metadata": {},
   "outputs": [
    {
     "name": "stdout",
     "output_type": "stream",
     "text": [
      "ram\n",
      "lakshman\n"
     ]
    }
   ],
   "source": [
    "while num > 0:\n",
    "    if names[i] == \"ravana\":\n",
    "        continue\n",
    "        print(names[i])\n",
    "    else:\n",
    "        print(names[i])\n",
    "    i += 1\n",
    "    num -=1\n",
    "\n"
   ]
  },
  {
   "cell_type": "code",
   "execution_count": null,
   "id": "c91f47e2",
   "metadata": {},
   "outputs": [],
   "source": [
    "x = 1\n",
    "num = 1\n",
    "while num < 14:\n",
    "    if x%2==0:\n",
    "        if x==12:\n",
    "            print(f\"x is {x} so loop breaked\")\n",
    "            break\n",
    "        else:\n",
    "            print(f\"{x} is not 12\")\n",
    "        print(f\"but {x} is even\")\n",
    "    else:\n",
    "        print(f\"{x} is odd\")\n",
    "    num +=1 \n",
    "    x+=1\n",
    "else:\n",
    "    print(\"you are out of the while loop\")"
   ]
  },
  {
   "cell_type": "code",
   "execution_count": 11,
   "id": "99b37aea",
   "metadata": {},
   "outputs": [
    {
     "name": "stdout",
     "output_type": "stream",
     "text": [
      "0 is not 12\n",
      "but 0 is even\n",
      "1 is odd\n",
      "2 is not 12\n",
      "but 2 is even\n",
      "3 is odd\n",
      "4 is not 12\n",
      "but 4 is even\n",
      "5 is odd\n",
      "6 is not 12\n",
      "but 6 is even\n",
      "7 is odd\n",
      "x is 8 so is loop breaked\n"
     ]
    }
   ],
   "source": [
    "#using range: generates a sequence of numbers with in the specific range \n",
    "for x in range(0,10):\n",
    "    if x%2==0:\n",
    "        if x==8:\n",
    "            print(\"x is {} so is loop breaked\".format(x))\n",
    "            break\n",
    "        else:\n",
    "            print(f\"{x} is not 12\")\n",
    "        print(f\"but {x} is even\")\n",
    "    else:\n",
    "        print(f\"{x} is odd\")\n",
    "else:\n",
    "    print(\"the range is ended\")\n",
    "    "
   ]
  },
  {
   "cell_type": "code",
   "execution_count": 12,
   "id": "60f388f3",
   "metadata": {},
   "outputs": [
    {
     "name": "stdout",
     "output_type": "stream",
     "text": [
      "hai ram\n",
      "hai ram\n",
      "hai ram\n",
      "hai ram\n",
      "hai ram\n"
     ]
    }
   ],
   "source": [
    "for x in range(0,5):\n",
    "    print(\"hai ram\")"
   ]
  },
  {
   "cell_type": "code",
   "execution_count": 13,
   "id": "b57032ce",
   "metadata": {},
   "outputs": [
    {
     "data": {
      "text/plain": [
       "list[range(1, 6)]"
      ]
     },
     "execution_count": 13,
     "metadata": {},
     "output_type": "execute_result"
    }
   ],
   "source": [
    "x = list[range(1,6)]#we can not add values to list in this way, instead of this way we need to use list function\n",
    "x"
   ]
  },
  {
   "cell_type": "code",
   "execution_count": 14,
   "id": "37f89abe",
   "metadata": {},
   "outputs": [
    {
     "name": "stdout",
     "output_type": "stream",
     "text": [
      "[0, 1, 2, 3, 4, 5]\n"
     ]
    },
    {
     "data": {
      "text/plain": [
       "list"
      ]
     },
     "execution_count": 14,
     "metadata": {},
     "output_type": "execute_result"
    }
   ],
   "source": [
    "x = list(range(0,6))#Here we are inserting 0 to 5 integers into the list\n",
    "print(x)\n",
    "type(x)"
   ]
  },
  {
   "cell_type": "code",
   "execution_count": 15,
   "id": "b89617b9",
   "metadata": {},
   "outputs": [
    {
     "data": {
      "text/plain": [
       "['k']"
      ]
     },
     "execution_count": 15,
     "metadata": {},
     "output_type": "execute_result"
    }
   ],
   "source": [
    "x = list(\"k\")#list() function can accepts only one argument which is iteratable\n",
    "x"
   ]
  },
  {
   "cell_type": "code",
   "execution_count": 16,
   "id": "6d47f2cf",
   "metadata": {},
   "outputs": [
    {
     "name": "stdout",
     "output_type": "stream",
     "text": [
      "{0, 1, 2, 3, 4, 5}\n"
     ]
    }
   ],
   "source": [
    "l1 = set(range(0,6))\n",
    "print(l1)"
   ]
  },
  {
   "cell_type": "code",
   "execution_count": 17,
   "id": "988e7157",
   "metadata": {},
   "outputs": [
    {
     "name": "stdout",
     "output_type": "stream",
     "text": [
      "{0, 3, 6, 9, 12, 15, 18}\n"
     ]
    }
   ],
   "source": [
    "l2 = set(range(0,20,3))\n",
    "print(l2)"
   ]
  },
  {
   "cell_type": "code",
   "execution_count": 18,
   "id": "ee831832",
   "metadata": {},
   "outputs": [
    {
     "name": "stdout",
     "output_type": "stream",
     "text": [
      "at the index 0 letter n is there\n",
      "at the index 1 letter a is there\n",
      "at the index 2 letter r is there\n",
      "at the index 3 letter a is there\n",
      "at the index 4 letter y is there\n",
      "at the index 5 letter a is there\n",
      "at the index 6 letter n is there\n"
     ]
    }
   ],
   "source": [
    "count = 0\n",
    "for x in \"narayan\":\n",
    "    print(f\"at the index {count} letter {x} is there\")\n",
    "    count +=1"
   ]
  },
  {
   "cell_type": "code",
   "execution_count": 19,
   "id": "8171dfbc",
   "metadata": {},
   "outputs": [
    {
     "name": "stdout",
     "output_type": "stream",
     "text": [
      "at the index 0, 100 is there in the list\n",
      "at the index 0, 300 is there in the list\n",
      "at the index 0, 400 is there in the list\n",
      "at the index 0, 500 is there in the list\n",
      "at the index 0, 900 is there in the list\n"
     ]
    }
   ],
   "source": [
    "count = 0\n",
    "for x in [100,300,400,500,900]:\n",
    "    print(\"at the index {}, {} is there in the list\".format(count,x))"
   ]
  },
  {
   "cell_type": "code",
   "execution_count": null,
   "id": "da51f722",
   "metadata": {},
   "outputs": [],
   "source": [
    "#using Enumerate: enumerate() function keeps track on iterable objects and returns an index value and the element\n",
    "name = \"python\"\n",
    "for x in enumerate(name):\n",
    "    print(x)\n",
    "    \n",
    "type(x)"
   ]
  },
  {
   "cell_type": "code",
   "execution_count": null,
   "id": "b18833fb",
   "metadata": {},
   "outputs": [],
   "source": [
    "x = [2,4,\"r\",\"ye\"]\n",
    "for y in enumerate(x):\n",
    "     print(y)"
   ]
  },
  {
   "cell_type": "code",
   "execution_count": null,
   "id": "7b01d31d",
   "metadata": {},
   "outputs": [],
   "source": [
    "'''\n",
    "zip(): zip function takes multiple iterators as arugments and returns one iterator \n",
    "which contains the series of tuples that contains elements from the each iterator.\n",
    "'''\n",
    "it1 = [1,0,5,5,6]\n",
    "it2 = [\"one\",\"zero\",\"five\",\"five\"]\n",
    "it3 = {1,4,7,3}\n",
    "\n",
    "zip(it1,it2,it3)\n",
    "\n",
    "for x in zip(it1,it2,it3):\n",
    "    print(x)"
   ]
  },
  {
   "cell_type": "code",
   "execution_count": null,
   "id": "a9ae5015",
   "metadata": {},
   "outputs": [],
   "source": [
    "it4 = {\"k1\":\"v1\",\"k2\":\"v2\"}\n",
    "it5 = {1,3,5}\n",
    "\n",
    "for x in zip(it4,it5):\n",
    "    print(x)"
   ]
  },
  {
   "cell_type": "code",
   "execution_count": null,
   "id": "c37cf391",
   "metadata": {},
   "outputs": [],
   "source": [
    "for x in zip(it4.values(),it5):\n",
    "    print(x)"
   ]
  },
  {
   "cell_type": "code",
   "execution_count": null,
   "id": "f886175b",
   "metadata": {},
   "outputs": [],
   "source": [
    "for x in zip(it4.items(),it5):\n",
    "    print(x)"
   ]
  },
  {
   "cell_type": "code",
   "execution_count": null,
   "id": "7f33beab",
   "metadata": {},
   "outputs": [],
   "source": [
    "for x in enumerate(it4):\n",
    "    print(x)"
   ]
  },
  {
   "cell_type": "code",
   "execution_count": null,
   "id": "4fcbb7cb",
   "metadata": {},
   "outputs": [],
   "source": [
    "for x in enumerate(it4.values()):\n",
    "    print(x)"
   ]
  },
  {
   "cell_type": "code",
   "execution_count": null,
   "id": "4691f6a9",
   "metadata": {},
   "outputs": [],
   "source": [
    "for x in enumerate(it4.items()):\n",
    "    print(x)"
   ]
  },
  {
   "cell_type": "code",
   "execution_count": null,
   "id": "df2b219e",
   "metadata": {},
   "outputs": [],
   "source": [
    "min(it4)"
   ]
  },
  {
   "cell_type": "code",
   "execution_count": null,
   "id": "f25d0b99",
   "metadata": {},
   "outputs": [],
   "source": [
    "it1 = [1,0,5,5,6]\n",
    "min(it1)"
   ]
  },
  {
   "cell_type": "code",
   "execution_count": null,
   "id": "2d4c4d66",
   "metadata": {},
   "outputs": [],
   "source": [
    "max(it1)"
   ]
  },
  {
   "cell_type": "code",
   "execution_count": 20,
   "id": "d0441daa",
   "metadata": {},
   "outputs": [
    {
     "data": {
      "text/plain": [
       "'five'"
      ]
     },
     "execution_count": 20,
     "metadata": {},
     "output_type": "execute_result"
    }
   ],
   "source": [
    "it2 = [\"one\",\"zero\",\"five\",\"five\"]\n",
    "min(it2)"
   ]
  },
  {
   "cell_type": "code",
   "execution_count": 21,
   "id": "b6c21add",
   "metadata": {},
   "outputs": [
    {
     "data": {
      "text/plain": [
       "{'five', 'one', 'zero'}"
      ]
     },
     "execution_count": 21,
     "metadata": {},
     "output_type": "execute_result"
    }
   ],
   "source": [
    "set(it2)"
   ]
  },
  {
   "cell_type": "code",
   "execution_count": 22,
   "id": "40782f1a",
   "metadata": {},
   "outputs": [
    {
     "data": {
      "text/plain": [
       "'five'"
      ]
     },
     "execution_count": 22,
     "metadata": {},
     "output_type": "execute_result"
    }
   ],
   "source": [
    "min(it2)"
   ]
  },
  {
   "cell_type": "code",
   "execution_count": 23,
   "id": "6eefde98",
   "metadata": {},
   "outputs": [
    {
     "data": {
      "text/plain": [
       "'zero'"
      ]
     },
     "execution_count": 23,
     "metadata": {},
     "output_type": "execute_result"
    }
   ],
   "source": [
    "max(it2)"
   ]
  },
  {
   "cell_type": "code",
   "execution_count": 24,
   "id": "ba5aeb34",
   "metadata": {},
   "outputs": [],
   "source": [
    "from random import shuffle"
   ]
  },
  {
   "cell_type": "code",
   "execution_count": 25,
   "id": "66df11f6",
   "metadata": {},
   "outputs": [],
   "source": [
    "l5 = [1,2,3,4,5,6]\n",
    "shuffle(l5)"
   ]
  },
  {
   "cell_type": "code",
   "execution_count": 26,
   "id": "4ea04779",
   "metadata": {},
   "outputs": [
    {
     "name": "stdout",
     "output_type": "stream",
     "text": [
      "[2, 6, 1, 4, 3, 5]\n"
     ]
    }
   ],
   "source": [
    "print(l5)"
   ]
  },
  {
   "cell_type": "code",
   "execution_count": 27,
   "id": "1b704f22",
   "metadata": {},
   "outputs": [],
   "source": [
    "s2 = {1,2,5,9}"
   ]
  },
  {
   "cell_type": "code",
   "execution_count": 28,
   "id": "9f5ae770",
   "metadata": {},
   "outputs": [
    {
     "name": "stdout",
     "output_type": "stream",
     "text": [
      "{9, 2, 5, 1}\n"
     ]
    }
   ],
   "source": [
    "li = list(s2)\n",
    "shuffle(li)\n",
    "s = set(li)\n",
    "print(s)"
   ]
  },
  {
   "cell_type": "code",
   "execution_count": 3,
   "id": "77f2bd50",
   "metadata": {},
   "outputs": [],
   "source": [
    "from random import randint\n",
    "\n"
   ]
  },
  {
   "cell_type": "code",
   "execution_count": 4,
   "id": "c46c6868",
   "metadata": {},
   "outputs": [
    {
     "data": {
      "text/plain": [
       "3"
      ]
     },
     "execution_count": 4,
     "metadata": {},
     "output_type": "execute_result"
    }
   ],
   "source": [
    "randint(1,7)"
   ]
  },
  {
   "cell_type": "code",
   "execution_count": 5,
   "id": "1aedfcf5",
   "metadata": {},
   "outputs": [
    {
     "data": {
      "text/plain": [
       "-1"
      ]
     },
     "execution_count": 5,
     "metadata": {},
     "output_type": "execute_result"
    }
   ],
   "source": [
    "randint(-1,5)"
   ]
  },
  {
   "cell_type": "code",
   "execution_count": 6,
   "id": "564ac8bd",
   "metadata": {},
   "outputs": [
    {
     "data": {
      "text/plain": [
       "9"
      ]
     },
     "execution_count": 6,
     "metadata": {},
     "output_type": "execute_result"
    }
   ],
   "source": [
    "randint(0,9)"
   ]
  },
  {
   "cell_type": "code",
   "execution_count": 9,
   "id": "91f644d5",
   "metadata": {},
   "outputs": [
    {
     "name": "stdout",
     "output_type": "stream",
     "text": [
      "enter a number: 55\n"
     ]
    },
    {
     "data": {
      "text/plain": [
       "str"
      ]
     },
     "execution_count": 9,
     "metadata": {},
     "output_type": "execute_result"
    }
   ],
   "source": [
    "a = input(\"enter a number: \")\n",
    "type(a)"
   ]
  },
  {
   "cell_type": "code",
   "execution_count": 10,
   "id": "338dde5e",
   "metadata": {},
   "outputs": [
    {
     "name": "stdout",
     "output_type": "stream",
     "text": [
      "enter starting range: 0\n",
      "enter ending range which will be ignored: 100\n"
     ]
    },
    {
     "data": {
      "text/plain": [
       "61"
      ]
     },
     "execution_count": 10,
     "metadata": {},
     "output_type": "execute_result"
    }
   ],
   "source": [
    "randint(int(input(\"enter starting range: \")),int(input(\"enter ending range which will be ignored: \")))"
   ]
  },
  {
   "cell_type": "code",
   "execution_count": null,
   "id": "c783e562",
   "metadata": {},
   "outputs": [],
   "source": []
  }
 ],
 "metadata": {
  "kernelspec": {
   "display_name": "Python 3 (ipykernel)",
   "language": "python",
   "name": "python3"
  },
  "language_info": {
   "codemirror_mode": {
    "name": "ipython",
    "version": 3
   },
   "file_extension": ".py",
   "mimetype": "text/x-python",
   "name": "python",
   "nbconvert_exporter": "python",
   "pygments_lexer": "ipython3",
   "version": "3.10.9"
  }
 },
 "nbformat": 4,
 "nbformat_minor": 5
}
