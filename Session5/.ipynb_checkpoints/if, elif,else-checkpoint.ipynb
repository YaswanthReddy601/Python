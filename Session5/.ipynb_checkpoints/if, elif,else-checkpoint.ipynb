{
 "cells": [
  {
   "cell_type": "code",
   "execution_count": 4,
   "id": "2b53945c",
   "metadata": {},
   "outputs": [
    {
     "name": "stdout",
     "output_type": "stream",
     "text": [
      "may i know your name\n"
     ]
    }
   ],
   "source": [
    "#if we have one statement then we use if else statement\n",
    "name = 'ram'\n",
    "if(name == 'raja'):\n",
    "    print(\"Hello Raja\")\n",
    "else:\n",
    "    print(\"may i know your name\")"
   ]
  },
  {
   "cell_type": "code",
   "execution_count": 9,
   "id": "aa1328dd",
   "metadata": {},
   "outputs": [
    {
     "name": "stdout",
     "output_type": "stream",
     "text": [
      "welcome ram\n"
     ]
    }
   ],
   "source": [
    "#if we have more than one statement then we use elif statement\n",
    "name = 'ram'\n",
    "if(name == \"raja\"):\n",
    "    print(\"Welcome\",name)\n",
    "elif(name == \"raina\"):\n",
    "    print(\"welcome\",name)\n",
    "elif(name == 'ram'):\n",
    "    print(\"welcome\",name)\n",
    "else:\n",
    "    print(\"sorry i dont k now who you are!\")"
   ]
  },
  {
   "cell_type": "code",
   "execution_count": null,
   "id": "e6725447",
   "metadata": {},
   "outputs": [],
   "source": []
  }
 ],
 "metadata": {
  "kernelspec": {
   "display_name": "Python 3 (ipykernel)",
   "language": "python",
   "name": "python3"
  },
  "language_info": {
   "codemirror_mode": {
    "name": "ipython",
    "version": 3
   },
   "file_extension": ".py",
   "mimetype": "text/x-python",
   "name": "python",
   "nbconvert_exporter": "python",
   "pygments_lexer": "ipython3",
   "version": "3.10.9"
  }
 },
 "nbformat": 4,
 "nbformat_minor": 5
}
