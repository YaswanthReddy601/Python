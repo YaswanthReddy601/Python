{
 "cells": [
  {
   "cell_type": "code",
   "execution_count": 111,
   "id": "9bd53dec",
   "metadata": {},
   "outputs": [
    {
     "name": "stdout",
     "output_type": "stream",
     "text": [
      "Wrong input\n",
      "Your wrong\n",
      "Your score is 2\n"
     ]
    }
   ],
   "source": [
    "import random\n",
    "from IPython.display import clear_output\n",
    "accounts=[\n",
    "            {\"name\" : \"Virat Kohli\",\n",
    "             \"followers\" : 252.6,\n",
    "             \"profession\" : \"Cricketer\"},\n",
    "    \n",
    "            {\"name\" : \"Narendra Modi\",\n",
    "             \"followers\" : 75.9, \n",
    "             \"profession\" : \"politician\"},\n",
    "    \n",
    "            {\"name\" : \"Anushka Sharma\",\n",
    "             \"followers\" : 65.1, \n",
    "             \"profession\" : \"Actress\"},\n",
    "            \n",
    "            {\"name\" : \"Salman Khan\",\n",
    "             \"followers\" : 56.2, \n",
    "             \"profession\" : \"Actor\"},\n",
    "            \n",
    "            {\"name\" : \"MS Dhoni\",\n",
    "             \"followers\" : 40.1, \n",
    "             \"profession\" : \"Cricketer\"},\n",
    "            \n",
    "            {\"name\" : \"Sachin Tendulkar\",\n",
    "             \"followers\" : 37.9, \n",
    "             \"profession\" : \"Cricketer\"},\n",
    "    \n",
    "            {\"name\" : \"Rohit Sharma\",\n",
    "             \"followers\" : 26.6, \n",
    "             \"profession\" : \"Cricketer\"}]\n",
    "\n",
    "\n",
    "def acc_details(acc):\n",
    "    acc_name = acc[\"name\"]\n",
    "    acc_profession = acc[\"profession\"]\n",
    "    return (f\" {acc_name}, {acc_profession}\")\n",
    "\n",
    "def check(acc1,acc2):\n",
    "    if answer == 'a':\n",
    "        if acc1[\"followers\"] > acc2[\"followers\"]:\n",
    "            return True\n",
    "        else:\n",
    "            return False\n",
    "    elif answer == 'b':\n",
    "        if acc2[\"followers\"] > acc1[\"followers\"]:\n",
    "            return True\n",
    "        else:\n",
    "            return False\n",
    "    else:\n",
    "        print(\"Wrong input\")\n",
    "score = 0\n",
    "game_on = True\n",
    "acc2 = random.choice(accounts)\n",
    "\n",
    "while game_on:\n",
    "    \n",
    "    acc1 = acc2\n",
    "    acc2 = random.choice(accounts)\n",
    "\n",
    "    if acc1 == acc2:\n",
    "        acc2 = random.choice(accounts)\n",
    "    print(f\"Compare A: {acc_details(acc1)}\\n\")\n",
    "    print(f\"Compare B: {acc_details(acc2)}\")\n",
    "\n",
    "    answer = input(f\"Who has more instagram followers? 'A' or 'B'\").lower()\n",
    "        \n",
    "    clear_output(wait=True)\n",
    "    \n",
    "    is_correct = check(acc1,acc2)\n",
    "    if is_correct == True:\n",
    "        score += 1\n",
    "        print(\"Your correct\")\n",
    "    else:\n",
    "        game_on = False\n",
    "        print(\"Your wrong\")\n",
    "    \n",
    "print(f\"Your score is {score}\")"
   ]
  },
  {
   "cell_type": "code",
   "execution_count": null,
   "id": "cd676454",
   "metadata": {},
   "outputs": [],
   "source": []
  },
  {
   "cell_type": "code",
   "execution_count": null,
   "id": "e396a7d4",
   "metadata": {},
   "outputs": [],
   "source": []
  },
  {
   "cell_type": "code",
   "execution_count": null,
   "id": "87a8139f",
   "metadata": {},
   "outputs": [],
   "source": []
  }
 ],
 "metadata": {
  "kernelspec": {
   "display_name": "Python 3 (ipykernel)",
   "language": "python",
   "name": "python3"
  },
  "language_info": {
   "codemirror_mode": {
    "name": "ipython",
    "version": 3
   },
   "file_extension": ".py",
   "mimetype": "text/x-python",
   "name": "python",
   "nbconvert_exporter": "python",
   "pygments_lexer": "ipython3",
   "version": "3.10.9"
  }
 },
 "nbformat": 4,
 "nbformat_minor": 5
}
