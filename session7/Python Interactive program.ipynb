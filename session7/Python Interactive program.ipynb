{
 "cells": [
  {
   "cell_type": "code",
   "execution_count": 1,
   "id": "f5e1a688",
   "metadata": {},
   "outputs": [],
   "source": [
    "#To display\n",
    "def display_numbers(list_of_numbers):\n",
    "    print(list_of_numbers)"
   ]
  },
  {
   "cell_type": "code",
   "execution_count": 2,
   "id": "8334af6a",
   "metadata": {},
   "outputs": [],
   "source": [
    "#To choose\n",
    "from IPython.display import clear_output\n",
    "\n",
    "def choose_position():\n",
    "    \n",
    "    choice = \"choice\"\n",
    "    #NUmberic check\n",
    "    while choice.isnumeric() == False:\n",
    "        choice = input(\"choose a position from 0-2 : \")\n",
    "        if choice.isnumeric() == False:\n",
    "            print(\"please give numeric vaule between 0-2 : \")\n",
    "        if choice.isnumeric() == True:\n",
    "            if int(choice) in range(0,3):\n",
    "                pass\n",
    "            else:\n",
    "                print(\"please give a valid number between 0 - 2\")\n",
    "                choice = \"choice\"\n",
    "                \n",
    "    return int(choice)"
   ]
  },
  {
   "cell_type": "code",
   "execution_count": 7,
   "id": "1781ec4e",
   "metadata": {},
   "outputs": [],
   "source": [
    "#To replace\n",
    "def replacement_choice(list_of_numbers,choice):\n",
    "    replacement = input(\"Enter the value that need to replace position {} : \".format(choice))\n",
    "    list_of_numbers[choice] = replacement\n",
    "    print(list_of_numbers)\n",
    "    return list_of_numbers\n",
    "    "
   ]
  },
  {
   "cell_type": "code",
   "execution_count": 8,
   "id": "bc80b8d7",
   "metadata": {},
   "outputs": [],
   "source": [
    "#To continue or not\n",
    "def gameon_choice():\n",
    "    choice = \"chioce\"\n",
    "    while choice not in [\"Y\",\"N\"]:\n",
    "        choice = input(\"Do yo want to continue the game ? (Y/N) :\")\n",
    "        if choice not in [\"Y\",\"N\"]:\n",
    "            print(\"Please provide a valid input (Y/N) : \")\n",
    "    if choice == 'Y':\n",
    "        return True\n",
    "    else:\n",
    "        return False\n",
    "            \n",
    "        \n",
    "        "
   ]
  },
  {
   "cell_type": "code",
   "execution_count": 13,
   "id": "896fb8ad",
   "metadata": {},
   "outputs": [],
   "source": [
    "from IPython.display import clear_output\n",
    "\n",
    "def game():\n",
    "    \n",
    "    game_play = True\n",
    "    \n",
    "    list_of_numbers = [0,1,2]\n",
    "    \n",
    "    while game_play == True:\n",
    "    \n",
    "        display_numbers(list_of_numbers)\n",
    "\n",
    "        choice = choose_position()\n",
    "\n",
    "        replacement_choice(list_of_numbers,choice)\n",
    "\n",
    "        game_play = gameon_choice()\n",
    "        clear_output()"
   ]
  },
  {
   "cell_type": "code",
   "execution_count": 14,
   "id": "a680d438",
   "metadata": {},
   "outputs": [],
   "source": [
    "game()"
   ]
  },
  {
   "cell_type": "code",
   "execution_count": null,
   "id": "e0d2800c",
   "metadata": {},
   "outputs": [],
   "source": []
  }
 ],
 "metadata": {
  "kernelspec": {
   "display_name": "Python 3 (ipykernel)",
   "language": "python",
   "name": "python3"
  },
  "language_info": {
   "codemirror_mode": {
    "name": "ipython",
    "version": 3
   },
   "file_extension": ".py",
   "mimetype": "text/x-python",
   "name": "python",
   "nbconvert_exporter": "python",
   "pygments_lexer": "ipython3",
   "version": "3.10.9"
  }
 },
 "nbformat": 4,
 "nbformat_minor": 5
}
