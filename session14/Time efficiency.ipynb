{
 "cells": [
  {
   "cell_type": "code",
   "execution_count": 1,
   "id": "fdb2159a",
   "metadata": {},
   "outputs": [],
   "source": [
    "#we have 3 ways to know it"
   ]
  },
  {
   "cell_type": "code",
   "execution_count": 2,
   "id": "082a6bd2",
   "metadata": {},
   "outputs": [],
   "source": [
    "#1\n",
    "def func_one(n):\n",
    "    return [str(x) for x in range(0,n)]"
   ]
  },
  {
   "cell_type": "code",
   "execution_count": 3,
   "id": "bc3a4f6a",
   "metadata": {},
   "outputs": [
    {
     "data": {
      "text/plain": [
       "['0',\n",
       " '1',\n",
       " '2',\n",
       " '3',\n",
       " '4',\n",
       " '5',\n",
       " '6',\n",
       " '7',\n",
       " '8',\n",
       " '9',\n",
       " '10',\n",
       " '11',\n",
       " '12',\n",
       " '13',\n",
       " '14']"
      ]
     },
     "execution_count": 3,
     "metadata": {},
     "output_type": "execute_result"
    }
   ],
   "source": [
    "func_one(15)"
   ]
  },
  {
   "cell_type": "code",
   "execution_count": 4,
   "id": "7fd1e6f7",
   "metadata": {},
   "outputs": [],
   "source": [
    "def func_two(n):\n",
    "    return list(map(str, range(0,n)))"
   ]
  },
  {
   "cell_type": "code",
   "execution_count": 5,
   "id": "e1fdb56a",
   "metadata": {},
   "outputs": [
    {
     "data": {
      "text/plain": [
       "['0',\n",
       " '1',\n",
       " '2',\n",
       " '3',\n",
       " '4',\n",
       " '5',\n",
       " '6',\n",
       " '7',\n",
       " '8',\n",
       " '9',\n",
       " '10',\n",
       " '11',\n",
       " '12',\n",
       " '13',\n",
       " '14']"
      ]
     },
     "execution_count": 5,
     "metadata": {},
     "output_type": "execute_result"
    }
   ],
   "source": [
    "func_two(15)"
   ]
  },
  {
   "cell_type": "code",
   "execution_count": 6,
   "id": "efd3fcda",
   "metadata": {},
   "outputs": [],
   "source": [
    "#TO know which way gives you faster output\n",
    "import time"
   ]
  },
  {
   "cell_type": "code",
   "execution_count": 8,
   "id": "867f1127",
   "metadata": {},
   "outputs": [],
   "source": [
    "start1 = time.time()\n",
    "x = func_one(100000)\n",
    "stop1 = time.time() - start1"
   ]
  },
  {
   "cell_type": "code",
   "execution_count": 9,
   "id": "9850d316",
   "metadata": {},
   "outputs": [
    {
     "data": {
      "text/plain": [
       "0.04409313201904297"
      ]
     },
     "execution_count": 9,
     "metadata": {},
     "output_type": "execute_result"
    }
   ],
   "source": [
    "stop1"
   ]
  },
  {
   "cell_type": "code",
   "execution_count": 12,
   "id": "78bfdbd2",
   "metadata": {},
   "outputs": [],
   "source": [
    "start2 = time.time()\n",
    "x = func_two(100000)\n",
    "stop2 = time.time() - start2"
   ]
  },
  {
   "cell_type": "code",
   "execution_count": 13,
   "id": "d14bd814",
   "metadata": {},
   "outputs": [
    {
     "data": {
      "text/plain": [
       "0.0343472957611084"
      ]
     },
     "execution_count": 13,
     "metadata": {},
     "output_type": "execute_result"
    }
   ],
   "source": [
    "stop2"
   ]
  },
  {
   "cell_type": "code",
   "execution_count": 14,
   "id": "3cbb8019",
   "metadata": {},
   "outputs": [],
   "source": [
    "#2\n",
    "import timeit\n",
    "\n",
    "setup = \"\"\"\n",
    "def func_one(n):\n",
    "    return [str(num) for num in range(n)]\n",
    "\"\"\""
   ]
  },
  {
   "cell_type": "code",
   "execution_count": 15,
   "id": "23a31991",
   "metadata": {},
   "outputs": [],
   "source": [
    "stmt = \"func_one(1000)\""
   ]
  },
  {
   "cell_type": "code",
   "execution_count": 16,
   "id": "174edb1d",
   "metadata": {},
   "outputs": [
    {
     "data": {
      "text/plain": [
       "38.59328109999478"
      ]
     },
     "execution_count": 16,
     "metadata": {},
     "output_type": "execute_result"
    }
   ],
   "source": [
    "timeit.timeit(stmt,setup,number=100000)"
   ]
  },
  {
   "cell_type": "code",
   "execution_count": 17,
   "id": "d2cb3b47",
   "metadata": {},
   "outputs": [],
   "source": [
    "setup1 = \"\"\"\n",
    "def func_two(n):\n",
    "    return list(map(str,range(n)))\n",
    "\"\"\""
   ]
  },
  {
   "cell_type": "code",
   "execution_count": 18,
   "id": "cfe9e55b",
   "metadata": {},
   "outputs": [],
   "source": [
    "stmt1 = \" func_two(1000) \"\n"
   ]
  },
  {
   "cell_type": "code",
   "execution_count": 19,
   "id": "feee632c",
   "metadata": {},
   "outputs": [
    {
     "data": {
      "text/plain": [
       "37.82640039999387"
      ]
     },
     "execution_count": 19,
     "metadata": {},
     "output_type": "execute_result"
    }
   ],
   "source": [
    "timeit.timeit(stmt,setup,number=100000)"
   ]
  },
  {
   "cell_type": "code",
   "execution_count": null,
   "id": "38cbf333",
   "metadata": {},
   "outputs": [],
   "source": [
    "#3"
   ]
  },
  {
   "cell_type": "code",
   "execution_count": 23,
   "id": "bcdd4d7b",
   "metadata": {},
   "outputs": [
    {
     "name": "stdout",
     "output_type": "stream",
     "text": [
      "35.8 µs ± 1.53 µs per loop (mean ± std. dev. of 7 runs, 10,000 loops each)\n"
     ]
    }
   ],
   "source": [
    "%%timeit\n",
    "func_one(100)"
   ]
  },
  {
   "cell_type": "code",
   "execution_count": 21,
   "id": "0e58c371",
   "metadata": {},
   "outputs": [
    {
     "name": "stdout",
     "output_type": "stream",
     "text": [
      "30.7 µs ± 1.65 µs per loop (mean ± std. dev. of 7 runs, 10,000 loops each)\n"
     ]
    }
   ],
   "source": [
    "%%timeit\n",
    "func_two(100)"
   ]
  },
  {
   "cell_type": "code",
   "execution_count": null,
   "id": "f8ea3f69",
   "metadata": {},
   "outputs": [],
   "source": []
  }
 ],
 "metadata": {
  "kernelspec": {
   "display_name": "Python 3 (ipykernel)",
   "language": "python",
   "name": "python3"
  },
  "language_info": {
   "codemirror_mode": {
    "name": "ipython",
    "version": 3
   },
   "file_extension": ".py",
   "mimetype": "text/x-python",
   "name": "python",
   "nbconvert_exporter": "python",
   "pygments_lexer": "ipython3",
   "version": "3.10.9"
  }
 },
 "nbformat": 4,
 "nbformat_minor": 5
}
