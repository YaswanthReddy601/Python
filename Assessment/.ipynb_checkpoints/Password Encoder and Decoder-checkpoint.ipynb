{
 "cells": [
  {
   "cell_type": "code",
   "execution_count": 31,
   "id": "97e51a35",
   "metadata": {},
   "outputs": [
    {
     "name": "stdout",
     "output_type": "stream",
     "text": [
      "Enter 'encode' or 'decode'decode\n",
      "Enter your message: egycgtzn\n",
      "Type the shifting position6\n",
      "yaswanth\n"
     ]
    }
   ],
   "source": [
    "letters = ['a','b','c','d','e','f','g','h','i','j','k','l','m','n','o','p','q','r','s','t','u','v','w','x','y','z','a','b','c','d','e','f','g','h','i','j','k','l','m','n','o','p','q','r','s','t','u','v','w','x','y','z']\n",
    "\n",
    "code = input(\"Enter 'encode' or 'decode'\")\n",
    "message = input(\"Enter your message: \").lower()\n",
    "position_shift = int(input(\"Type the shifting position\"))\n",
    "\n",
    "if code == \"encode\":\n",
    "    encode(message,position_shift)\n",
    "elif code == \"decode\":\n",
    "    decode(message,position_shift)\n",
    "else:\n",
    "    print(\"Invalid input restart the program\")\n",
    "def encode(secret_message,shift):\n",
    "    encoded = \"\" \n",
    "    for letter in message:\n",
    "        position = letters.index(letter)\n",
    "        position += shift\n",
    "        encoded +=letters[position]\n",
    "    print(encoded)\n",
    "        \n",
    "        \n",
    "def decode(encoded_message,shift):\n",
    "    decoded = \"\" \n",
    "    for letter in message:\n",
    "        position = letters.index(letter)\n",
    "        position -= shift\n",
    "        decoded +=letters[position]\n",
    "    print(decoded)\n",
    "        "
   ]
  }
 ],
 "metadata": {
  "kernelspec": {
   "display_name": "Python 3 (ipykernel)",
   "language": "python",
   "name": "python3"
  },
  "language_info": {
   "codemirror_mode": {
    "name": "ipython",
    "version": 3
   },
   "file_extension": ".py",
   "mimetype": "text/x-python",
   "name": "python",
   "nbconvert_exporter": "python",
   "pygments_lexer": "ipython3",
   "version": "3.10.9"
  }
 },
 "nbformat": 4,
 "nbformat_minor": 5
}
