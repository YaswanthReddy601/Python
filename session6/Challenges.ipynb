{
 "cells": [
  {
   "cell_type": "code",
   "execution_count": 1,
   "id": "789b8779",
   "metadata": {},
   "outputs": [],
   "source": [
    "#SPY GAME: Write a function that takes in a list of integers and returns True if it contains 007 in order"
   ]
  },
  {
   "cell_type": "code",
   "execution_count": 22,
   "id": "db0a1505",
   "metadata": {},
   "outputs": [
    {
     "data": {
      "text/plain": [
       "True"
      ]
     },
     "execution_count": 22,
     "metadata": {},
     "output_type": "execute_result"
    }
   ],
   "source": [
    "def spy_game(nums):\n",
    "    a = [0,0,7]\n",
    "    for x in nums:\n",
    "        if x == a[0]:\n",
    "            a.pop(0)\n",
    "    return len(a)==0\n",
    "spy_game([1,2,4,0,0,7])\n"
   ]
  },
  {
   "cell_type": "code",
   "execution_count": 23,
   "id": "4319266b",
   "metadata": {},
   "outputs": [
    {
     "data": {
      "text/plain": [
       "True"
      ]
     },
     "execution_count": 23,
     "metadata": {},
     "output_type": "execute_result"
    }
   ],
   "source": [
    "spy_game([1,0,2,4,0,5,7])\n"
   ]
  },
  {
   "cell_type": "code",
   "execution_count": 24,
   "id": "762d6082",
   "metadata": {},
   "outputs": [
    {
     "data": {
      "text/plain": [
       "False"
      ]
     },
     "execution_count": 24,
     "metadata": {},
     "output_type": "execute_result"
    }
   ],
   "source": [
    "spy_game([1,7,2,0,4,5,0])\n"
   ]
  },
  {
   "cell_type": "code",
   "execution_count": 25,
   "id": "774be917",
   "metadata": {},
   "outputs": [],
   "source": [
    "#COUNT PRIMES: Write a function that returns the number of prime numbers\n",
    "#that exist up to and including a given number"
   ]
  },
  {
   "cell_type": "code",
   "execution_count": null,
   "id": "dedcba52",
   "metadata": {},
   "outputs": [],
   "source": [
    "def count_primes(num):\n",
    "    if num <=1:\n",
    "        return False\n",
    "    prime_Numbers = []\n",
    "    x = 3\n",
    "    while x <= num:\n",
    "        for y in range(3,x,2):\n",
    "            if x%y == 0:\n",
    "                x +=2\n",
    "                break\n",
    "    else:\n",
    "        prime_numbersappend(x)\n",
    "    print(prime_Numbers)\n",
    "    return True if prime_Numbers>0 else False\n",
    "    \n",
    "    \n",
    "count_primes(35)"
   ]
  },
  {
   "cell_type": "code",
   "execution_count": null,
   "id": "ae281907",
   "metadata": {},
   "outputs": [],
   "source": []
  }
 ],
 "metadata": {
  "kernelspec": {
   "display_name": "Python 3 (ipykernel)",
   "language": "python",
   "name": "python3"
  },
  "language_info": {
   "codemirror_mode": {
    "name": "ipython",
    "version": 3
   },
   "file_extension": ".py",
   "mimetype": "text/x-python",
   "name": "python",
   "nbconvert_exporter": "python",
   "pygments_lexer": "ipython3",
   "version": "3.10.9"
  }
 },
 "nbformat": 4,
 "nbformat_minor": 5
}
