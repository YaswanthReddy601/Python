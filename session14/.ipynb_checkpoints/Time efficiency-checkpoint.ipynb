{
 "cells": [
  {
   "cell_type": "code",
   "execution_count": 1,
   "id": "737b7b51",
   "metadata": {},
   "outputs": [],
   "source": [
    "#we have 3 ways to know it"
   ]
  },
  {
   "cell_type": "code",
   "execution_count": 5,
   "id": "9d5fe032",
   "metadata": {},
   "outputs": [],
   "source": [
    "#1\n",
    "def func_one(n):\n",
    "    return [str(x) for x in range(0,n)]"
   ]
  },
  {
   "cell_type": "code",
   "execution_count": 7,
   "id": "c883d568",
   "metadata": {},
   "outputs": [
    {
     "data": {
      "text/plain": [
       "['0',\n",
       " '1',\n",
       " '2',\n",
       " '3',\n",
       " '4',\n",
       " '5',\n",
       " '6',\n",
       " '7',\n",
       " '8',\n",
       " '9',\n",
       " '10',\n",
       " '11',\n",
       " '12',\n",
       " '13',\n",
       " '14']"
      ]
     },
     "execution_count": 7,
     "metadata": {},
     "output_type": "execute_result"
    }
   ],
   "source": [
    "func_one(15)"
   ]
  },
  {
   "cell_type": "code",
   "execution_count": 8,
   "id": "e162f441",
   "metadata": {},
   "outputs": [],
   "source": [
    "def func_two(n):\n",
    "    return list(map(str, range(0,n)))"
   ]
  },
  {
   "cell_type": "code",
   "execution_count": 9,
   "id": "2a763d08",
   "metadata": {},
   "outputs": [
    {
     "data": {
      "text/plain": [
       "['0',\n",
       " '1',\n",
       " '2',\n",
       " '3',\n",
       " '4',\n",
       " '5',\n",
       " '6',\n",
       " '7',\n",
       " '8',\n",
       " '9',\n",
       " '10',\n",
       " '11',\n",
       " '12',\n",
       " '13',\n",
       " '14']"
      ]
     },
     "execution_count": 9,
     "metadata": {},
     "output_type": "execute_result"
    }
   ],
   "source": [
    "func_two(15)"
   ]
  },
  {
   "cell_type": "code",
   "execution_count": 10,
   "id": "3a05911a",
   "metadata": {},
   "outputs": [],
   "source": [
    "#TO know which way gives you faster output\n",
    "import time"
   ]
  },
  {
   "cell_type": "code",
   "execution_count": 22,
   "id": "67b20c47",
   "metadata": {},
   "outputs": [],
   "source": [
    "start1 = time.time()\n",
    "x = func_one(100000)\n",
    "stop1 = time.time() - start"
   ]
  },
  {
   "cell_type": "code",
   "execution_count": 23,
   "id": "c02f5846",
   "metadata": {},
   "outputs": [
    {
     "data": {
      "text/plain": [
       "56.08115291595459"
      ]
     },
     "execution_count": 23,
     "metadata": {},
     "output_type": "execute_result"
    }
   ],
   "source": [
    "stop1"
   ]
  },
  {
   "cell_type": "code",
   "execution_count": 24,
   "id": "ce0db624",
   "metadata": {},
   "outputs": [],
   "source": [
    "start2 = time.time()\n",
    "x = func_two(100000)\n",
    "stop2 = time.time() - start"
   ]
  },
  {
   "cell_type": "code",
   "execution_count": 25,
   "id": "a881f5ba",
   "metadata": {},
   "outputs": [
    {
     "data": {
      "text/plain": [
       "57.00495386123657"
      ]
     },
     "execution_count": 25,
     "metadata": {},
     "output_type": "execute_result"
    }
   ],
   "source": [
    "stop2"
   ]
  },
  {
   "cell_type": "code",
   "execution_count": 29,
   "id": "82d6cda8",
   "metadata": {},
   "outputs": [],
   "source": [
    "#2\n",
    "import timeit\n",
    "\n",
    "setup = \"\"\"\n",
    "def func_one(n):\n",
    "    return [str(num) for num in range(n)]\n",
    "\"\"\""
   ]
  },
  {
   "cell_type": "code",
   "execution_count": 30,
   "id": "65744690",
   "metadata": {},
   "outputs": [],
   "source": [
    "stmt = \"func_one(1000)\""
   ]
  },
  {
   "cell_type": "code",
   "execution_count": 31,
   "id": "4a7ff4c5",
   "metadata": {},
   "outputs": [
    {
     "data": {
      "text/plain": [
       "14.671153499999491"
      ]
     },
     "execution_count": 31,
     "metadata": {},
     "output_type": "execute_result"
    }
   ],
   "source": [
    "timeit.timeit(stmt,setup,number=100000)"
   ]
  },
  {
   "cell_type": "code",
   "execution_count": 33,
   "id": "28b52e74",
   "metadata": {},
   "outputs": [],
   "source": [
    "setup1 = \"\"\"\n",
    "def func_two(n):\n",
    "    return list(map(str,range(n)))\n",
    "\"\"\""
   ]
  },
  {
   "cell_type": "code",
   "execution_count": null,
   "id": "d5ce8fc8",
   "metadata": {},
   "outputs": [],
   "source": [
    "\n"
   ]
  }
 ],
 "metadata": {
  "kernelspec": {
   "display_name": "Python 3 (ipykernel)",
   "language": "python",
   "name": "python3"
  },
  "language_info": {
   "codemirror_mode": {
    "name": "ipython",
    "version": 3
   },
   "file_extension": ".py",
   "mimetype": "text/x-python",
   "name": "python",
   "nbconvert_exporter": "python",
   "pygments_lexer": "ipython3",
   "version": "3.10.9"
  }
 },
 "nbformat": 4,
 "nbformat_minor": 5
}
