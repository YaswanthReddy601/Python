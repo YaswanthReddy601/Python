{
 "cells": [
  {
   "cell_type": "code",
   "execution_count": 4,
   "id": "856a077f",
   "metadata": {},
   "outputs": [
    {
     "ename": "ZeroDivisionError",
     "evalue": "division by zero",
     "output_type": "error",
     "traceback": [
      "\u001b[1;31m---------------------------------------------------------------------------\u001b[0m",
      "\u001b[1;31mZeroDivisionError\u001b[0m                         Traceback (most recent call last)",
      "Cell \u001b[1;32mIn[4], line 4\u001b[0m\n\u001b[0;32m      2\u001b[0m b \u001b[38;5;241m=\u001b[39m \u001b[38;5;241m0\u001b[39m\n\u001b[0;32m      3\u001b[0m c \u001b[38;5;241m=\u001b[39m \u001b[38;5;241m2\u001b[39m\n\u001b[1;32m----> 4\u001b[0m \u001b[43ma\u001b[49m\u001b[38;5;241;43m/\u001b[39;49m\u001b[43mb\u001b[49m \u001b[38;5;66;03m#ZeroDivisionError occers to avoid this we can use try-except\u001b[39;00m\n\u001b[0;32m      5\u001b[0m a\u001b[38;5;241m/\u001b[39mc\n",
      "\u001b[1;31mZeroDivisionError\u001b[0m: division by zero"
     ]
    }
   ],
   "source": [
    "a = 10 \n",
    "b = 0\n",
    "c = 2\n",
    "a/b #ZeroDivisionError occers to avoid this we can use try-except\n",
    "a/c"
   ]
  },
  {
   "cell_type": "code",
   "execution_count": 8,
   "id": "e256936b",
   "metadata": {},
   "outputs": [
    {
     "name": "stdout",
     "output_type": "stream",
     "text": [
      "Error occurred please check once\n",
      "5.0\n"
     ]
    }
   ],
   "source": [
    "try:\n",
    "    a = 10 \n",
    "    b = 0\n",
    "    c = 2\n",
    "    print(a/b) \n",
    "except:\n",
    "    print(\"Error occurred please check once\")\n",
    "    print(a/c)"
   ]
  },
  {
   "cell_type": "code",
   "execution_count": 13,
   "id": "24142b41",
   "metadata": {},
   "outputs": [
    {
     "name": "stdout",
     "output_type": "stream",
     "text": [
      "Enter a number : rf\n",
      "you didn't entered a numeric value\n"
     ]
    }
   ],
   "source": [
    "#We can also use try-except with else\n",
    "try:\n",
    "    a = int(input(\"Enter a number : \"))\n",
    "except:\n",
    "    print(\"you didn't entered a numeric value\")\n",
    "else:\n",
    "    print(\"You Entered a numeric value\")\n",
    "    "
   ]
  },
  {
   "cell_type": "code",
   "execution_count": 15,
   "id": "b7dd5dfa",
   "metadata": {},
   "outputs": [
    {
     "name": "stdout",
     "output_type": "stream",
     "text": [
      "Enter a number : \n",
      "you didn't entered a numeric value\n",
      "Enter a number : t\n",
      "you didn't entered a numeric value\n",
      "Enter a number : 6\n",
      "You entered a numeric value\n"
     ]
    }
   ],
   "source": [
    "while True:\n",
    "    try:\n",
    "        a = int(input(\"Enter a number : \"))\n",
    "    except:\n",
    "        print(\"you didn't entered a numeric value\")\n",
    "    else:\n",
    "        print(\"You entered a numeric value\")\n",
    "        break\n",
    "    "
   ]
  },
  {
   "cell_type": "code",
   "execution_count": 18,
   "id": "7d35a593",
   "metadata": {},
   "outputs": [
    {
     "name": "stdout",
     "output_type": "stream",
     "text": [
      "from try\n",
      "Enter a number : f\n",
      "from except: you entered wrong input\n",
      "from finally\n"
     ]
    }
   ],
   "source": [
    "#We can also use finally block, it executes irrespective of the exception\n",
    "\n",
    "try:\n",
    "    print(\"from try\")\n",
    "    a = int(input(\"Enter a number : \"))\n",
    "except:\n",
    "    print(\"from except: you entered wrong input\")\n",
    "finally:\n",
    "    print(\"from finally\")"
   ]
  },
  {
   "cell_type": "code",
   "execution_count": 20,
   "id": "4fc3a5bb",
   "metadata": {},
   "outputs": [
    {
     "name": "stdout",
     "output_type": "stream",
     "text": [
      "from try\n",
      "Enter a number : 0\n",
      "from else: entered correct input\n",
      "from finally\n"
     ]
    }
   ],
   "source": [
    "\n",
    "try:\n",
    "    print(\"from try\")\n",
    "    a = int(input(\"Enter a number : \"))\n",
    "except:\n",
    "    print(\"from except: you entered wrong input\")\n",
    "else:\n",
    "    print(\"from else: entered correct input\")\n",
    "finally:\n",
    "    print(\"from finally\")"
   ]
  },
  {
   "cell_type": "code",
   "execution_count": 21,
   "id": "7f3d5d09",
   "metadata": {},
   "outputs": [
    {
     "ename": "SyntaxError",
     "evalue": "invalid syntax (2270346763.py, line 9)",
     "output_type": "error",
     "traceback": [
      "\u001b[1;36m  Cell \u001b[1;32mIn[21], line 9\u001b[1;36m\u001b[0m\n\u001b[1;33m    else:\u001b[0m\n\u001b[1;37m    ^\u001b[0m\n\u001b[1;31mSyntaxError\u001b[0m\u001b[1;31m:\u001b[0m invalid syntax\n"
     ]
    }
   ],
   "source": []
  },
  {
   "cell_type": "code",
   "execution_count": null,
   "id": "67bca627",
   "metadata": {},
   "outputs": [],
   "source": []
  }
 ],
 "metadata": {
  "kernelspec": {
   "display_name": "Python 3 (ipykernel)",
   "language": "python",
   "name": "python3"
  },
  "language_info": {
   "codemirror_mode": {
    "name": "ipython",
    "version": 3
   },
   "file_extension": ".py",
   "mimetype": "text/x-python",
   "name": "python",
   "nbconvert_exporter": "python",
   "pygments_lexer": "ipython3",
   "version": "3.10.9"
  }
 },
 "nbformat": 4,
 "nbformat_minor": 5
}
