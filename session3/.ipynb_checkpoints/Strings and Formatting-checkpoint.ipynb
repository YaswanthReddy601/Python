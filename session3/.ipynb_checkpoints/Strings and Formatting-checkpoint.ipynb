{
 "cells": [
  {
   "cell_type": "markdown",
   "id": "11aa8ee7",
   "metadata": {},
   "source": [
    "Def : String is a ordered sequence of the charecter data"
   ]
  },
  {
   "cell_type": "markdown",
   "id": "92d97884",
   "metadata": {},
   "source": [
    "Creating a String\n",
    "\n",
    "Different ways to create a string."
   ]
  },
  {
   "cell_type": "code",
   "execution_count": 1,
   "id": "3f283e62",
   "metadata": {},
   "outputs": [
    {
     "data": {
      "text/plain": [
       "'Hello world'"
      ]
     },
     "execution_count": 1,
     "metadata": {},
     "output_type": "execute_result"
    }
   ],
   "source": [
    "\"Hello world\""
   ]
  },
  {
   "cell_type": "code",
   "execution_count": 2,
   "id": "0a862fdf",
   "metadata": {},
   "outputs": [
    {
     "data": {
      "text/plain": [
       "'Hello World'"
      ]
     },
     "execution_count": 2,
     "metadata": {},
     "output_type": "execute_result"
    }
   ],
   "source": [
    "'Hello World'"
   ]
  },
  {
   "cell_type": "code",
   "execution_count": 3,
   "id": "3a13cfe4",
   "metadata": {},
   "outputs": [
    {
     "data": {
      "text/plain": [
       "'Hello World'"
      ]
     },
     "execution_count": 3,
     "metadata": {},
     "output_type": "execute_result"
    }
   ],
   "source": [
    "\"\"\"Hello World\"\"\""
   ]
  },
  {
   "cell_type": "code",
   "execution_count": null,
   "id": "4b45cad6",
   "metadata": {},
   "outputs": [],
   "source": []
  },
  {
   "cell_type": "code",
   "execution_count": 4,
   "id": "6e375f2e",
   "metadata": {},
   "outputs": [
    {
     "data": {
      "text/plain": [
       "\"hi ram, I'm good\""
      ]
     },
     "execution_count": 4,
     "metadata": {},
     "output_type": "execute_result"
    }
   ],
   "source": [
    "#'hi ram, I'm good'( gives exception )\n",
    "\"hi ram, I'm good\""
   ]
  },
  {
   "cell_type": "code",
   "execution_count": 5,
   "id": "44a4fb30",
   "metadata": {},
   "outputs": [
    {
     "data": {
      "text/plain": [
       "8"
      ]
     },
     "execution_count": 5,
     "metadata": {},
     "output_type": "execute_result"
    }
   ],
   "source": [
    "#To check length of the string we use len() function \n",
    "y = \"yaswanth\"\n",
    "len(y)"
   ]
  },
  {
   "cell_type": "code",
   "execution_count": 6,
   "id": "0005f29e",
   "metadata": {},
   "outputs": [
    {
     "data": {
      "text/plain": [
       "'a'"
      ]
     },
     "execution_count": 6,
     "metadata": {},
     "output_type": "execute_result"
    }
   ],
   "source": [
    "#indexing\n",
    "y[1]"
   ]
  },
  {
   "cell_type": "code",
   "execution_count": 7,
   "id": "aaccb837",
   "metadata": {},
   "outputs": [
    {
     "data": {
      "text/plain": [
       "'h'"
      ]
     },
     "execution_count": 7,
     "metadata": {},
     "output_type": "execute_result"
    }
   ],
   "source": [
    "y[-1]"
   ]
  },
  {
   "cell_type": "code",
   "execution_count": 8,
   "id": "718f1cd5",
   "metadata": {},
   "outputs": [
    {
     "data": {
      "text/plain": [
       "'y'"
      ]
     },
     "execution_count": 8,
     "metadata": {},
     "output_type": "execute_result"
    }
   ],
   "source": [
    "y[-0]"
   ]
  },
  {
   "cell_type": "code",
   "execution_count": 9,
   "id": "1d2491e0",
   "metadata": {},
   "outputs": [
    {
     "data": {
      "text/plain": [
       "12"
      ]
     },
     "execution_count": 9,
     "metadata": {},
     "output_type": "execute_result"
    }
   ],
   "source": [
    "#Data Slicing\n",
    "y = \"ram lakshnam\"\n",
    "len(y)"
   ]
  },
  {
   "cell_type": "code",
   "execution_count": 10,
   "id": "4886d17f",
   "metadata": {},
   "outputs": [
    {
     "data": {
      "text/plain": [
       "'ram lakshnam'"
      ]
     },
     "execution_count": 10,
     "metadata": {},
     "output_type": "execute_result"
    }
   ],
   "source": [
    "#to get entire string\n",
    "y[::]"
   ]
  },
  {
   "cell_type": "code",
   "execution_count": 11,
   "id": "79b31bed",
   "metadata": {},
   "outputs": [
    {
     "data": {
      "text/plain": [
       "'ram lakshnam'"
      ]
     },
     "execution_count": 11,
     "metadata": {},
     "output_type": "execute_result"
    }
   ],
   "source": [
    "#variable[starting index:ending index(exclude):step size]\n",
    "y[0:]"
   ]
  },
  {
   "cell_type": "code",
   "execution_count": 13,
   "id": "6686d7a9",
   "metadata": {},
   "outputs": [
    {
     "data": {
      "text/plain": [
       "'ram'"
      ]
     },
     "execution_count": 13,
     "metadata": {},
     "output_type": "execute_result"
    }
   ],
   "source": [
    "y[0:3]"
   ]
  },
  {
   "cell_type": "code",
   "execution_count": 14,
   "id": "361b66c8",
   "metadata": {},
   "outputs": [
    {
     "data": {
      "text/plain": [
       "'ram'"
      ]
     },
     "execution_count": 14,
     "metadata": {},
     "output_type": "execute_result"
    }
   ],
   "source": [
    "y[:3]"
   ]
  },
  {
   "cell_type": "code",
   "execution_count": 16,
   "id": "7f4d667b",
   "metadata": {},
   "outputs": [
    {
     "data": {
      "text/plain": [
       "'lakshnam'"
      ]
     },
     "execution_count": 16,
     "metadata": {},
     "output_type": "execute_result"
    }
   ],
   "source": [
    "y[4:]"
   ]
  },
  {
   "cell_type": "code",
   "execution_count": 17,
   "id": "f259ee93",
   "metadata": {},
   "outputs": [
    {
     "data": {
      "text/plain": [
       "'lkha'"
      ]
     },
     "execution_count": 17,
     "metadata": {},
     "output_type": "execute_result"
    }
   ],
   "source": [
    "y[4::2]"
   ]
  },
  {
   "cell_type": "code",
   "execution_count": 19,
   "id": "1aeceec4",
   "metadata": {},
   "outputs": [
    {
     "data": {
      "text/plain": [
       "'mlkh'"
      ]
     },
     "execution_count": 19,
     "metadata": {},
     "output_type": "execute_result"
    }
   ],
   "source": [
    "y[2:10:2]"
   ]
  },
  {
   "cell_type": "code",
   "execution_count": 24,
   "id": "958c9588",
   "metadata": {},
   "outputs": [
    {
     "data": {
      "text/plain": [
       "'mnsa a'"
      ]
     },
     "execution_count": 24,
     "metadata": {},
     "output_type": "execute_result"
    }
   ],
   "source": [
    "y[::-2]"
   ]
  },
  {
   "cell_type": "code",
   "execution_count": 25,
   "id": "78b503d7",
   "metadata": {},
   "outputs": [
    {
     "data": {
      "text/plain": [
       "'manhskal mar'"
      ]
     },
     "execution_count": 25,
     "metadata": {},
     "output_type": "execute_result"
    }
   ],
   "source": [
    "y[::-1]#print reverse of the string"
   ]
  },
  {
   "cell_type": "code",
   "execution_count": 26,
   "id": "0fd87359",
   "metadata": {},
   "outputs": [],
   "source": [
    "#Concatinating the strings\n",
    "x = 'ram '\n",
    "y = 'is '\n",
    "z = 'absent'"
   ]
  },
  {
   "cell_type": "code",
   "execution_count": 27,
   "id": "6346f9db",
   "metadata": {},
   "outputs": [
    {
     "data": {
      "text/plain": [
       "'ram is absent'"
      ]
     },
     "execution_count": 27,
     "metadata": {},
     "output_type": "execute_result"
    }
   ],
   "source": [
    "x+y+z"
   ]
  },
  {
   "cell_type": "code",
   "execution_count": 28,
   "id": "b4e18d12",
   "metadata": {},
   "outputs": [
    {
     "name": "stdout",
     "output_type": "stream",
     "text": [
      "ram is absent\n"
     ]
    }
   ],
   "source": [
    "print(x+y+z)"
   ]
  },
  {
   "cell_type": "code",
   "execution_count": 29,
   "id": "502a2856",
   "metadata": {},
   "outputs": [
    {
     "name": "stdout",
     "output_type": "stream",
     "text": [
      "ram is present\n"
     ]
    }
   ],
   "source": [
    "print(x+\"is present\")"
   ]
  },
  {
   "cell_type": "code",
   "execution_count": 30,
   "id": "57112ecb",
   "metadata": {},
   "outputs": [],
   "source": [
    "#we can also multiply the string using *\n",
    "z = \"ha\""
   ]
  },
  {
   "cell_type": "code",
   "execution_count": 31,
   "id": "55f4b796",
   "metadata": {},
   "outputs": [
    {
     "data": {
      "text/plain": [
       "'hahahahaha'"
      ]
     },
     "execution_count": 31,
     "metadata": {},
     "output_type": "execute_result"
    }
   ],
   "source": [
    "z*5"
   ]
  },
  {
   "cell_type": "code",
   "execution_count": 32,
   "id": "15e002fd",
   "metadata": {},
   "outputs": [
    {
     "name": "stdout",
     "output_type": "stream",
     "text": [
      "hahahahaha\n"
     ]
    }
   ],
   "source": [
    "print(z*5)"
   ]
  },
  {
   "cell_type": "markdown",
   "id": "e09d3e6c",
   "metadata": {},
   "source": [
    "strings  have Escape sequence charecters\n",
    "\n",
    "\\t for tab space\n",
    "\\n for next line\n",
    "\n",
    "strings are 2 types \n",
    "1. Normal string\n",
    "2. Raw string\n",
    "\n",
    "raw string treats escape sequence charecters as a part of that string\n",
    "raw string starts with r. ex: r\"ram\""
   ]
  },
  {
   "cell_type": "code",
   "execution_count": 33,
   "id": "a81d785e",
   "metadata": {},
   "outputs": [],
   "source": [
    "x = \"hai hello how are you\""
   ]
  },
  {
   "cell_type": "code",
   "execution_count": 34,
   "id": "4441b59c",
   "metadata": {},
   "outputs": [
    {
     "name": "stdout",
     "output_type": "stream",
     "text": [
      "hai hello how are you\n"
     ]
    }
   ],
   "source": [
    "print(x)"
   ]
  },
  {
   "cell_type": "code",
   "execution_count": 37,
   "id": "5d801957",
   "metadata": {},
   "outputs": [],
   "source": [
    "y = \"hai \\nhello \\nhow are you\""
   ]
  },
  {
   "cell_type": "code",
   "execution_count": 38,
   "id": "6238caf7",
   "metadata": {},
   "outputs": [
    {
     "name": "stdout",
     "output_type": "stream",
     "text": [
      "hai \n",
      "hello \n",
      "how are you\n"
     ]
    }
   ],
   "source": [
    "print(y)"
   ]
  },
  {
   "cell_type": "code",
   "execution_count": 39,
   "id": "dc700548",
   "metadata": {},
   "outputs": [],
   "source": [
    "z = r\"hai \\nhello \\nhow are you\""
   ]
  },
  {
   "cell_type": "code",
   "execution_count": 40,
   "id": "653ea86c",
   "metadata": {},
   "outputs": [
    {
     "name": "stdout",
     "output_type": "stream",
     "text": [
      "hai \\nhello \\nhow are you\n"
     ]
    }
   ],
   "source": [
    "print(z)"
   ]
  },
  {
   "cell_type": "markdown",
   "id": "8603fdba",
   "metadata": {},
   "source": [
    "String Methods"
   ]
  },
  {
   "cell_type": "code",
   "execution_count": 41,
   "id": "e142d328",
   "metadata": {},
   "outputs": [],
   "source": [
    "name = \"Rajesh\""
   ]
  },
  {
   "cell_type": "code",
   "execution_count": 42,
   "id": "18eb1f20",
   "metadata": {},
   "outputs": [
    {
     "data": {
      "text/plain": [
       "'RAJESH'"
      ]
     },
     "execution_count": 42,
     "metadata": {},
     "output_type": "execute_result"
    }
   ],
   "source": [
    "name.upper()"
   ]
  },
  {
   "cell_type": "code",
   "execution_count": 43,
   "id": "21529d75",
   "metadata": {},
   "outputs": [
    {
     "name": "stdout",
     "output_type": "stream",
     "text": [
      "RAJESH\n"
     ]
    }
   ],
   "source": [
    "print(name.upper())"
   ]
  },
  {
   "cell_type": "code",
   "execution_count": 44,
   "id": "68381613",
   "metadata": {},
   "outputs": [
    {
     "data": {
      "text/plain": [
       "'Rajesh'"
      ]
     },
     "execution_count": 44,
     "metadata": {},
     "output_type": "execute_result"
    }
   ],
   "source": [
    "name"
   ]
  },
  {
   "cell_type": "code",
   "execution_count": 45,
   "id": "46704de1",
   "metadata": {},
   "outputs": [],
   "source": [
    "name = name.upper()"
   ]
  },
  {
   "cell_type": "code",
   "execution_count": 46,
   "id": "3687787d",
   "metadata": {},
   "outputs": [
    {
     "data": {
      "text/plain": [
       "'RAJESH'"
      ]
     },
     "execution_count": 46,
     "metadata": {},
     "output_type": "execute_result"
    }
   ],
   "source": [
    "name"
   ]
  },
  {
   "cell_type": "code",
   "execution_count": 47,
   "id": "78228fb0",
   "metadata": {},
   "outputs": [],
   "source": [
    "name = name.lower()"
   ]
  },
  {
   "cell_type": "code",
   "execution_count": 48,
   "id": "9d4a897f",
   "metadata": {},
   "outputs": [
    {
     "data": {
      "text/plain": [
       "'rajesh'"
      ]
     },
     "execution_count": 48,
     "metadata": {},
     "output_type": "execute_result"
    }
   ],
   "source": [
    "name"
   ]
  },
  {
   "cell_type": "code",
   "execution_count": 51,
   "id": "216e4935",
   "metadata": {},
   "outputs": [
    {
     "data": {
      "text/plain": [
       "'sajesh'"
      ]
     },
     "execution_count": 51,
     "metadata": {},
     "output_type": "execute_result"
    }
   ],
   "source": [
    "#replace() to replace a charecter or sub string\n",
    "name.replace(\"r\",\"s\")"
   ]
  },
  {
   "cell_type": "code",
   "execution_count": 52,
   "id": "ee04bcc5",
   "metadata": {},
   "outputs": [
    {
     "data": {
      "text/plain": [
       "'jaresh'"
      ]
     },
     "execution_count": 52,
     "metadata": {},
     "output_type": "execute_result"
    }
   ],
   "source": [
    "name.replace(\"raj\",'jar')"
   ]
  },
  {
   "cell_type": "code",
   "execution_count": 54,
   "id": "17ce5d20",
   "metadata": {},
   "outputs": [
    {
     "data": {
      "text/plain": [
       "'rajeshwar'"
      ]
     },
     "execution_count": 54,
     "metadata": {},
     "output_type": "execute_result"
    }
   ],
   "source": [
    "name+\"war\""
   ]
  },
  {
   "cell_type": "code",
   "execution_count": 59,
   "id": "981f008f",
   "metadata": {},
   "outputs": [],
   "source": [
    "'''\n",
    "split(): removes the string which we inserted in peranthasis and splits\n",
    "into two paarts and returns as list type\n",
    "'''\n",
    "a = \"i am fine\""
   ]
  },
  {
   "cell_type": "code",
   "execution_count": 60,
   "id": "6f7673eb",
   "metadata": {},
   "outputs": [
    {
     "data": {
      "text/plain": [
       "['i', 'am', 'fine']"
      ]
     },
     "execution_count": 60,
     "metadata": {},
     "output_type": "execute_result"
    }
   ],
   "source": [
    "a.split()"
   ]
  },
  {
   "cell_type": "code",
   "execution_count": 61,
   "id": "49c0947e",
   "metadata": {},
   "outputs": [
    {
     "data": {
      "text/plain": [
       "['', ' am f', 'ne']"
      ]
     },
     "execution_count": 61,
     "metadata": {},
     "output_type": "execute_result"
    }
   ],
   "source": [
    "a.split('i')"
   ]
  },
  {
   "cell_type": "code",
   "execution_count": 62,
   "id": "59a6bc93",
   "metadata": {},
   "outputs": [
    {
     "data": {
      "text/plain": [
       "['', '', '', '', '']"
      ]
     },
     "execution_count": 62,
     "metadata": {},
     "output_type": "execute_result"
    }
   ],
   "source": [
    "c = \"cccc\"\n",
    "c.split(\"c\")"
   ]
  },
  {
   "cell_type": "markdown",
   "id": "1c9d07c1",
   "metadata": {},
   "source": [
    "Data Formating\n",
    "\n",
    "3 ways:\n",
    "\n",
    "using %, \n",
    "using {} and \n",
    "using f"
   ]
  },
  {
   "cell_type": "code",
   "execution_count": 78,
   "id": "4404f071",
   "metadata": {},
   "outputs": [],
   "source": [
    "string = \"%s got %d marks which is %.2f percentage\" %(\"eswar\",500,75.8)"
   ]
  },
  {
   "cell_type": "code",
   "execution_count": 79,
   "id": "d180daf0",
   "metadata": {},
   "outputs": [
    {
     "data": {
      "text/plain": [
       "'eswar got 500 marks which is 75.80 percentage'"
      ]
     },
     "execution_count": 79,
     "metadata": {},
     "output_type": "execute_result"
    }
   ],
   "source": [
    "string"
   ]
  },
  {
   "cell_type": "code",
   "execution_count": 83,
   "id": "3b5c171b",
   "metadata": {},
   "outputs": [],
   "source": [
    "string2 = \"my name is {}\".format(\"nithin\")"
   ]
  },
  {
   "cell_type": "code",
   "execution_count": 84,
   "id": "85061d04",
   "metadata": {},
   "outputs": [
    {
     "name": "stdout",
     "output_type": "stream",
     "text": [
      "my name is nithin\n"
     ]
    }
   ],
   "source": [
    "print(string2)"
   ]
  },
  {
   "cell_type": "code",
   "execution_count": 86,
   "id": "5ccc6e41",
   "metadata": {},
   "outputs": [
    {
     "name": "stdout",
     "output_type": "stream",
     "text": [
      "my age is 23\n"
     ]
    }
   ],
   "source": [
    "print(\"my age is {}\".format(23))"
   ]
  },
  {
   "cell_type": "code",
   "execution_count": 87,
   "id": "61f9e175",
   "metadata": {},
   "outputs": [
    {
     "name": "stdout",
     "output_type": "stream",
     "text": [
      "Today's weather temperature is 39.6 degrees C\n"
     ]
    }
   ],
   "source": [
    "print(\"Today's weather temperature is {} degrees C\".format(39.6))"
   ]
  },
  {
   "cell_type": "code",
   "execution_count": 89,
   "id": "8bb5b292",
   "metadata": {},
   "outputs": [
    {
     "name": "stdout",
     "output_type": "stream",
     "text": [
      "my country name is india\n"
     ]
    }
   ],
   "source": [
    "country = 'india'\n",
    "print(f\"my country name is {country}\")"
   ]
  },
  {
   "cell_type": "code",
   "execution_count": 90,
   "id": "ad937e83",
   "metadata": {},
   "outputs": [],
   "source": [
    "name = 'ram'\n",
    "marks1 = 88\n",
    "marks2 = 77\n"
   ]
  },
  {
   "cell_type": "code",
   "execution_count": 94,
   "id": "34ee9d03",
   "metadata": {},
   "outputs": [
    {
     "name": "stdout",
     "output_type": "stream",
     "text": [
      "ram got 88 marks in maths and 77 marks in social, average is 82.5\n"
     ]
    }
   ],
   "source": [
    "print(f\"{name} got {marks1} marks in maths and {marks2} marks in social, average is {(marks1+marks2)/2}\")"
   ]
  },
  {
   "cell_type": "code",
   "execution_count": null,
   "id": "c8aea22a",
   "metadata": {},
   "outputs": [],
   "source": []
  }
 ],
 "metadata": {
  "kernelspec": {
   "display_name": "Python 3 (ipykernel)",
   "language": "python",
   "name": "python3"
  },
  "language_info": {
   "codemirror_mode": {
    "name": "ipython",
    "version": 3
   },
   "file_extension": ".py",
   "mimetype": "text/x-python",
   "name": "python",
   "nbconvert_exporter": "python",
   "pygments_lexer": "ipython3",
   "version": "3.10.9"
  }
 },
 "nbformat": 4,
 "nbformat_minor": 5
}
