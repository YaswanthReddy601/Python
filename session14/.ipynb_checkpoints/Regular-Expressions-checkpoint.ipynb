{
 "cells": [
  {
   "cell_type": "code",
   "execution_count": 1,
   "id": "3f540f81",
   "metadata": {},
   "outputs": [],
   "source": [
    "#Regular Expressions (sometimes called regex for short) allows a user to search for strings\n",
    "#using almost any sort of rule they can come up\n"
   ]
  },
  {
   "cell_type": "code",
   "execution_count": 2,
   "id": "30496a76",
   "metadata": {},
   "outputs": [],
   "source": [
    "msg = \"Hello Mr.x this is y, I am sending this message to x\""
   ]
  },
  {
   "cell_type": "code",
   "execution_count": 4,
   "id": "3435e0e3",
   "metadata": {},
   "outputs": [
    {
     "data": {
      "text/plain": [
       "True"
      ]
     },
     "execution_count": 4,
     "metadata": {},
     "output_type": "execute_result"
    }
   ],
   "source": [
    "\"this\" in msg"
   ]
  },
  {
   "cell_type": "code",
   "execution_count": 6,
   "id": "b4345427",
   "metadata": {},
   "outputs": [
    {
     "data": {
      "text/plain": [
       "<re.Match object; span=(11, 15), match='this'>"
      ]
     },
     "execution_count": 6,
     "metadata": {},
     "output_type": "execute_result"
    }
   ],
   "source": [
    "#using regular expressions we can get the index value of the specified string is as below\n",
    "import re\n",
    "wrd = \"this\"\n",
    "re.search(wrd,msg)"
   ]
  },
  {
   "cell_type": "code",
   "execution_count": 7,
   "id": "4475d13c",
   "metadata": {},
   "outputs": [],
   "source": [
    "wrd = \"ram\"\n",
    "re.search(wrd,msg)"
   ]
  },
  {
   "cell_type": "code",
   "execution_count": 8,
   "id": "e7b34ddd",
   "metadata": {},
   "outputs": [],
   "source": [
    "wrd = \"Hello\""
   ]
  },
  {
   "cell_type": "code",
   "execution_count": 11,
   "id": "731a40e6",
   "metadata": {},
   "outputs": [],
   "source": [
    "scan = re.search(wrd,msg)"
   ]
  },
  {
   "cell_type": "code",
   "execution_count": 12,
   "id": "c04a6170",
   "metadata": {},
   "outputs": [
    {
     "data": {
      "text/plain": [
       "(0, 5)"
      ]
     },
     "execution_count": 12,
     "metadata": {},
     "output_type": "execute_result"
    }
   ],
   "source": [
    "scan.span()"
   ]
  },
  {
   "cell_type": "code",
   "execution_count": 15,
   "id": "d11dc551",
   "metadata": {},
   "outputs": [
    {
     "data": {
      "text/plain": [
       "0"
      ]
     },
     "execution_count": 15,
     "metadata": {},
     "output_type": "execute_result"
    }
   ],
   "source": [
    "scan.start()"
   ]
  },
  {
   "cell_type": "code",
   "execution_count": 16,
   "id": "5760d3a1",
   "metadata": {},
   "outputs": [
    {
     "data": {
      "text/plain": [
       "5"
      ]
     },
     "execution_count": 16,
     "metadata": {},
     "output_type": "execute_result"
    }
   ],
   "source": [
    "scan.end()"
   ]
  },
  {
   "cell_type": "code",
   "execution_count": 17,
   "id": "a0ac007e",
   "metadata": {},
   "outputs": [
    {
     "data": {
      "text/plain": [
       "['this', 'this']"
      ]
     },
     "execution_count": 17,
     "metadata": {},
     "output_type": "execute_result"
    }
   ],
   "source": [
    "#To get all occrence of the specified word\n",
    "re.findall(\"this\",msg)"
   ]
  },
  {
   "cell_type": "code",
   "execution_count": 18,
   "id": "ef4af792",
   "metadata": {},
   "outputs": [],
   "source": [
    "scan1 = re.findall(\"this\",msg)"
   ]
  },
  {
   "cell_type": "code",
   "execution_count": 22,
   "id": "5afa41a1",
   "metadata": {},
   "outputs": [
    {
     "data": {
      "text/plain": [
       "['this', 'this']"
      ]
     },
     "execution_count": 22,
     "metadata": {},
     "output_type": "execute_result"
    }
   ],
   "source": [
    "scan1"
   ]
  },
  {
   "cell_type": "code",
   "execution_count": 20,
   "id": "73ec6540",
   "metadata": {
    "scrolled": false
   },
   "outputs": [
    {
     "data": {
      "text/plain": [
       "2"
      ]
     },
     "execution_count": 20,
     "metadata": {},
     "output_type": "execute_result"
    }
   ],
   "source": [
    "len(scan1)"
   ]
  },
  {
   "cell_type": "code",
   "execution_count": 27,
   "id": "ce536d01",
   "metadata": {},
   "outputs": [
    {
     "name": "stdout",
     "output_type": "stream",
     "text": [
      "<generator object <genexpr> at 0x00000206D6201B60>\n"
     ]
    }
   ],
   "source": [
    "print(x.span for x in re.finditer(\"this\",msg))"
   ]
  },
  {
   "cell_type": "code",
   "execution_count": 28,
   "id": "6842c6dd",
   "metadata": {},
   "outputs": [
    {
     "name": "stdout",
     "output_type": "stream",
     "text": [
      "<re.Match object; span=(11, 15), match='this'>\n",
      "<re.Match object; span=(35, 39), match='this'>\n"
     ]
    }
   ],
   "source": [
    "for x in re.finditer(\"this\",msg):\n",
    "    print(x)"
   ]
  },
  {
   "cell_type": "code",
   "execution_count": 29,
   "id": "684115e0",
   "metadata": {},
   "outputs": [
    {
     "name": "stdout",
     "output_type": "stream",
     "text": [
      "(11, 15)\n",
      "(35, 39)\n"
     ]
    }
   ],
   "source": [
    "for x in re.finditer(\"this\",msg):\n",
    "    print(x.span())"
   ]
  },
  {
   "cell_type": "code",
   "execution_count": 30,
   "id": "0b9cc232",
   "metadata": {},
   "outputs": [],
   "source": [
    "paragraph = \"my mobile number is 91-9996663331\""
   ]
  },
  {
   "cell_type": "code",
   "execution_count": 31,
   "id": "13981ef2",
   "metadata": {},
   "outputs": [],
   "source": [
    "scan2 = re.search(r\"\\d\\d-\\d\\d\\d\\d\\d\\d\\d\\d\\d\\d\",paragraph)"
   ]
  },
  {
   "cell_type": "code",
   "execution_count": 34,
   "id": "be68cac3",
   "metadata": {},
   "outputs": [
    {
     "data": {
      "text/plain": [
       "<re.Match object; span=(20, 33), match='91-9996663331'>"
      ]
     },
     "execution_count": 34,
     "metadata": {},
     "output_type": "execute_result"
    }
   ],
   "source": [
    "scan2"
   ]
  },
  {
   "cell_type": "code",
   "execution_count": 35,
   "id": "ef8f4591",
   "metadata": {},
   "outputs": [
    {
     "data": {
      "text/plain": [
       "'91-9996663331'"
      ]
     },
     "execution_count": 35,
     "metadata": {},
     "output_type": "execute_result"
    }
   ],
   "source": [
    "scan2.group()"
   ]
  },
  {
   "cell_type": "code",
   "execution_count": 82,
   "id": "f3ba2b68",
   "metadata": {},
   "outputs": [
    {
     "data": {
      "text/plain": [
       "<re.Match object; span=(20, 33), match='91-9996663331'>"
      ]
     },
     "execution_count": 82,
     "metadata": {},
     "output_type": "execute_result"
    }
   ],
   "source": [
    "re.search(r\"\\d\\d-\\d{10}\",paragraph)"
   ]
  },
  {
   "cell_type": "code",
   "execution_count": 83,
   "id": "ee394507",
   "metadata": {},
   "outputs": [],
   "source": [
    "new_msg = \"my number is 9393939393\""
   ]
  },
  {
   "cell_type": "code",
   "execution_count": 84,
   "id": "a53cc813",
   "metadata": {},
   "outputs": [],
   "source": [
    "x = re.compile(r'(\\d{2})-(\\d{10})')"
   ]
  },
  {
   "cell_type": "code",
   "execution_count": 85,
   "id": "51e0f314",
   "metadata": {},
   "outputs": [
    {
     "data": {
      "text/plain": [
       "re.compile(r'(\\d{2})-(\\d{10})', re.UNICODE)"
      ]
     },
     "execution_count": 85,
     "metadata": {},
     "output_type": "execute_result"
    }
   ],
   "source": [
    "x"
   ]
  },
  {
   "cell_type": "code",
   "execution_count": 86,
   "id": "422e8e30",
   "metadata": {},
   "outputs": [],
   "source": [
    "y = re.search(x,paragraph)"
   ]
  },
  {
   "cell_type": "code",
   "execution_count": 95,
   "id": "ed6b782c",
   "metadata": {},
   "outputs": [
    {
     "data": {
      "text/plain": [
       "'91-9996663331'"
      ]
     },
     "execution_count": 95,
     "metadata": {},
     "output_type": "execute_result"
    }
   ],
   "source": [
    "y.group()"
   ]
  },
  {
   "cell_type": "code",
   "execution_count": 96,
   "id": "d2ad6143",
   "metadata": {},
   "outputs": [
    {
     "data": {
      "text/plain": [
       "'9996663331'"
      ]
     },
     "execution_count": 96,
     "metadata": {},
     "output_type": "execute_result"
    }
   ],
   "source": [
    "y.group(2)"
   ]
  },
  {
   "cell_type": "code",
   "execution_count": 97,
   "id": "2d009ae5",
   "metadata": {},
   "outputs": [
    {
     "data": {
      "text/plain": [
       "('91', '9996663331')"
      ]
     },
     "execution_count": 97,
     "metadata": {},
     "output_type": "execute_result"
    }
   ],
   "source": [
    "y.groups()"
   ]
  },
  {
   "cell_type": "code",
   "execution_count": 98,
   "id": "1b7306f7",
   "metadata": {},
   "outputs": [
    {
     "data": {
      "text/plain": [
       "'91'"
      ]
     },
     "execution_count": 98,
     "metadata": {},
     "output_type": "execute_result"
    }
   ],
   "source": [
    "y.group(1)"
   ]
  },
  {
   "cell_type": "code",
   "execution_count": 100,
   "id": "8fb2b9c3",
   "metadata": {},
   "outputs": [],
   "source": [
    "#Wild characters\n",
    "a = re.findall(r\".he\", \"the book she bought, was written by me\")"
   ]
  },
  {
   "cell_type": "code",
   "execution_count": 101,
   "id": "4369e136",
   "metadata": {},
   "outputs": [
    {
     "data": {
      "text/plain": [
       "['the', 'she']"
      ]
     },
     "execution_count": 101,
     "metadata": {},
     "output_type": "execute_result"
    }
   ],
   "source": [
    "a"
   ]
  },
  {
   "cell_type": "code",
   "execution_count": 102,
   "id": "be06faf7",
   "metadata": {},
   "outputs": [
    {
     "data": {
      "text/plain": [
       "['then', 'bhen', ' hen']"
      ]
     },
     "execution_count": 102,
     "metadata": {},
     "output_type": "execute_result"
    }
   ],
   "source": [
    "re.findall(r\"..en\",\"then the bhen got hen\")"
   ]
  },
  {
   "cell_type": "code",
   "execution_count": 103,
   "id": "51938f4e",
   "metadata": {},
   "outputs": [
    {
     "data": {
      "text/plain": [
       "['1']"
      ]
     },
     "execution_count": 103,
     "metadata": {},
     "output_type": "execute_result"
    }
   ],
   "source": [
    "re.findall(r'^\\d', \"1 is one\")"
   ]
  },
  {
   "cell_type": "code",
   "execution_count": 106,
   "id": "1ce607ae",
   "metadata": {},
   "outputs": [
    {
     "data": {
      "text/plain": [
       "['1']"
      ]
     },
     "execution_count": 106,
     "metadata": {},
     "output_type": "execute_result"
    }
   ],
   "source": [
    "re.findall(r'\\d$','one is 1')"
   ]
  },
  {
   "cell_type": "code",
   "execution_count": 107,
   "id": "67acb3d3",
   "metadata": {},
   "outputs": [],
   "source": [
    "sentence = \"there are 3 numbers 34 inside 5 this sentence.\""
   ]
  },
  {
   "cell_type": "code",
   "execution_count": 111,
   "id": "7760761d",
   "metadata": {},
   "outputs": [
    {
     "data": {
      "text/plain": [
       "['there are ', ' numbers ', ' inside ', ' this sentence.']"
      ]
     },
     "execution_count": 111,
     "metadata": {},
     "output_type": "execute_result"
    }
   ],
   "source": [
    "re.findall(r\"[^\\d]+\",sentence)"
   ]
  },
  {
   "cell_type": "code",
   "execution_count": 112,
   "id": "7cb5843f",
   "metadata": {},
   "outputs": [
    {
     "data": {
      "text/plain": [
       "['there are 3 numbers 34 inside 5 this sentence']"
      ]
     },
     "execution_count": 112,
     "metadata": {},
     "output_type": "execute_result"
    }
   ],
   "source": [
    "re.findall(r\"[^!.?]+\",sentence)"
   ]
  },
  {
   "cell_type": "code",
   "execution_count": 113,
   "id": "19048e44",
   "metadata": {},
   "outputs": [],
   "source": [
    "sen1 = \"hai, this is king.\"\n",
    "sen2 = \"hai, this is kang.\"\n",
    "sen3 = \"hai, this is wang.\""
   ]
  },
  {
   "cell_type": "code",
   "execution_count": 115,
   "id": "96829e5e",
   "metadata": {},
   "outputs": [
    {
     "data": {
      "text/plain": [
       "<re.Match object; span=(13, 17), match='king'>"
      ]
     },
     "execution_count": 115,
     "metadata": {},
     "output_type": "execute_result"
    }
   ],
   "source": [
    "re.search(r\"(ki|ka|wa)ng\",sen1)"
   ]
  },
  {
   "cell_type": "code",
   "execution_count": 116,
   "id": "c3d599e7",
   "metadata": {},
   "outputs": [
    {
     "data": {
      "text/plain": [
       "<re.Match object; span=(13, 17), match='kang'>"
      ]
     },
     "execution_count": 116,
     "metadata": {},
     "output_type": "execute_result"
    }
   ],
   "source": [
    "re.search(r\"(ki|ka|wa)ng\",sen2)"
   ]
  },
  {
   "cell_type": "code",
   "execution_count": 117,
   "id": "a0e6b795",
   "metadata": {},
   "outputs": [
    {
     "data": {
      "text/plain": [
       "<re.Match object; span=(13, 17), match='wang'>"
      ]
     },
     "execution_count": 117,
     "metadata": {},
     "output_type": "execute_result"
    }
   ],
   "source": [
    "re.search(r\"(ki|ka|wa)ng\",sen3)"
   ]
  },
  {
   "cell_type": "code",
   "execution_count": null,
   "id": "479261b4",
   "metadata": {},
   "outputs": [],
   "source": []
  }
 ],
 "metadata": {
  "kernelspec": {
   "display_name": "Python 3 (ipykernel)",
   "language": "python",
   "name": "python3"
  },
  "language_info": {
   "codemirror_mode": {
    "name": "ipython",
    "version": 3
   },
   "file_extension": ".py",
   "mimetype": "text/x-python",
   "name": "python",
   "nbconvert_exporter": "python",
   "pygments_lexer": "ipython3",
   "version": "3.10.9"
  }
 },
 "nbformat": 4,
 "nbformat_minor": 5
}
