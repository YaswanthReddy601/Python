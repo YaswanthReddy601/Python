{
 "cells": [
  {
   "cell_type": "code",
   "execution_count": 1,
   "id": "d4541fdb",
   "metadata": {},
   "outputs": [
    {
     "name": "stdout",
     "output_type": "stream",
     "text": [
      "\n"
     ]
    }
   ],
   "source": [
    "\"\"\"\n",
    "Step 1: Write a function that can print out a board. Set up your board as a list,\n",
    "where each index 1-9 corresponds with a number on a number pad, \n",
    "so you get a 3 by 3 board representation\n",
    "\"\"\"\n",
    "print()"
   ]
  },
  {
   "cell_type": "code",
   "execution_count": 2,
   "id": "556ac437",
   "metadata": {},
   "outputs": [],
   "source": [
    "def display_board(board):\n",
    "    print(board[1]+\"|\"+board[2]+\"|\"+board[3])\n",
    "    print(board[4]+\"|\"+board[5]+\"|\"+board[6])\n",
    "    print(board[7]+\"|\"+board[8]+\"|\"+board[9])"
   ]
  },
  {
   "cell_type": "code",
   "execution_count": 3,
   "id": "f1172f8f",
   "metadata": {},
   "outputs": [
    {
     "name": "stdout",
     "output_type": "stream",
     "text": [
      "\n"
     ]
    }
   ],
   "source": [
    "\"\"\"\n",
    "Step 2: Write a function that can take in a player input and assign\n",
    "their marker as 'X' or 'O'. Think about using while loops to continually\n",
    "ask until you get a correct answer.\n",
    "\"\"\"\n",
    "print()"
   ]
  },
  {
   "cell_type": "code",
   "execution_count": 4,
   "id": "6c6a9295",
   "metadata": {},
   "outputs": [],
   "source": [
    "def player_input():\n",
    "    \n",
    "    choice = \"wrong\"\n",
    "    \n",
    "    while choice not in [\"X\",\"O\"]:\n",
    "        \n",
    "        choice = input(\"Player1 choose your mark as (X/O) : \")\n",
    "        \n",
    "        if choice not in [\"X\",\"O\"]:\n",
    "            print(\"Invalid choice : Player1 choose your mark as (X/O) : \")\n",
    "    \n",
    "    if choice == 'X':\n",
    "        player1 = 'X'\n",
    "        player2 = 'O'\n",
    "    else:\n",
    "        player1 = 'O'\n",
    "        player2 = 'X'\n",
    "    return (player1,player2)"
   ]
  },
  {
   "cell_type": "code",
   "execution_count": 5,
   "id": "03be1ec1",
   "metadata": {},
   "outputs": [
    {
     "name": "stdout",
     "output_type": "stream",
     "text": [
      "\n"
     ]
    }
   ],
   "source": [
    "\"\"\"\n",
    "Step 3: Write a function that takes in the board list object, a marker ('X' or 'O'),\n",
    "and a desired position (number 1-9) and assigns it to the board.\n",
    "\"\"\"\n",
    "print()\n"
   ]
  },
  {
   "cell_type": "code",
   "execution_count": 6,
   "id": "0624a65a",
   "metadata": {},
   "outputs": [],
   "source": [
    "def place_marker(board, marker, position):\n",
    "    board[position] = marker\n",
    "        "
   ]
  },
  {
   "cell_type": "code",
   "execution_count": 7,
   "id": "3d57a67c",
   "metadata": {},
   "outputs": [
    {
     "name": "stdout",
     "output_type": "stream",
     "text": [
      "\n"
     ]
    }
   ],
   "source": [
    "\"\"\"\n",
    "Step 4: Write a function that takes in a board and a mark (X or O) and \n",
    "then checks to see if that mark has won.\n",
    "\"\"\"\n",
    "print()\n"
   ]
  },
  {
   "cell_type": "code",
   "execution_count": 8,
   "id": "438fba97",
   "metadata": {},
   "outputs": [],
   "source": [
    "def win_check(board, mark):\n",
    "    if (board[1]==board[2]==board[3]==mark) or (board[4]==board[5]==board[6]==mark) or (board[7]==board[8]==board[9]==mark) or (board[1]==board[5]==board[9]==mark) or (board[7]==board[5]==board[3]==mark) or  (board[1]==board[4]==board[7]==mark) or  (board[2]==board[5]==board[8]==mark) or  (board[3]==board[6]==board[9]==mark):    \n",
    "            return True\n",
    "    else:\n",
    "        return False\n",
    "        "
   ]
  },
  {
   "cell_type": "code",
   "execution_count": 9,
   "id": "c83975bf",
   "metadata": {},
   "outputs": [
    {
     "name": "stdout",
     "output_type": "stream",
     "text": [
      "\n"
     ]
    }
   ],
   "source": [
    "\"\"\"\n",
    "Step 5: Write a function that uses the random module to randomly decide\n",
    "which player goes first. You may want to lookup random.randint()\n",
    "Return a string of which player went first.\n",
    "\"\"\"\n",
    "print()"
   ]
  },
  {
   "cell_type": "code",
   "execution_count": 10,
   "id": "9cb5c056",
   "metadata": {},
   "outputs": [],
   "source": [
    "import random\n",
    "\n",
    "def choose_first():\n",
    "    rand = random.randint(0,1)\n",
    "    if rand==0:\n",
    "        return 'player1'\n",
    "    else:\n",
    "        return 'player2'"
   ]
  },
  {
   "cell_type": "code",
   "execution_count": 11,
   "id": "f1f7d1c6",
   "metadata": {},
   "outputs": [
    {
     "name": "stdout",
     "output_type": "stream",
     "text": [
      "\n"
     ]
    }
   ],
   "source": [
    "\"\"\"\n",
    "Step 6: Write a function that returns a boolean indicating whether a\n",
    "space on the board is freely available\n",
    "\"\"\"\n",
    "print()\n"
   ]
  },
  {
   "cell_type": "code",
   "execution_count": 12,
   "id": "e5b01c25",
   "metadata": {},
   "outputs": [],
   "source": [
    "def space_check(board, position):\n",
    "    if board[position] == \" \":\n",
    "        return True\n",
    "    else:\n",
    "        return False"
   ]
  },
  {
   "cell_type": "code",
   "execution_count": 13,
   "id": "c1ed06ed",
   "metadata": {},
   "outputs": [
    {
     "name": "stdout",
     "output_type": "stream",
     "text": [
      "\n"
     ]
    }
   ],
   "source": [
    "\"\"\"\n",
    "Step 7: Write a function that checks if the board is full and returns a\n",
    "boolean value. True if full, False otherwise.\n",
    "\"\"\"\n",
    "print()\n"
   ]
  },
  {
   "cell_type": "code",
   "execution_count": 14,
   "id": "24611b85",
   "metadata": {},
   "outputs": [],
   "source": [
    "def full_board_check(board):\n",
    "    for x in range(1,10):\n",
    "        if space_check(board,x):\n",
    "            return False\n",
    "    \n",
    "    return True"
   ]
  },
  {
   "cell_type": "code",
   "execution_count": 15,
   "id": "be877bb3",
   "metadata": {},
   "outputs": [
    {
     "name": "stdout",
     "output_type": "stream",
     "text": [
      "\n"
     ]
    }
   ],
   "source": [
    "\"\"\"\n",
    "Step 8: Write a function that asks for a player's next position\n",
    "(as a number 1-9) and then uses the function from step 6 to check \n",
    "if it's a free position. If it is, then return the position for later use.\n",
    "\"\"\"\n",
    "print()"
   ]
  },
  {
   "cell_type": "code",
   "execution_count": 16,
   "id": "18ad6915",
   "metadata": {},
   "outputs": [],
   "source": [
    "\n",
    "\n",
    "def player_choice(board):\n",
    "    \n",
    "    position = 0\n",
    "    \n",
    "    while position not in range(1,10) or not space_check(board,position):\n",
    "        position = int(input(\"choose your position: (1-9) : \"))\n",
    "    return position"
   ]
  },
  {
   "cell_type": "code",
   "execution_count": 17,
   "id": "7e5010a9",
   "metadata": {},
   "outputs": [
    {
     "name": "stdout",
     "output_type": "stream",
     "text": [
      "\n"
     ]
    }
   ],
   "source": [
    "\"\"\"\n",
    "Step 9: Write a function that asks the player if they want to play again\n",
    "and returns a boolean True if they do want to play again.\n",
    "\"\"\"\n",
    "print()"
   ]
  },
  {
   "cell_type": "code",
   "execution_count": 18,
   "id": "3bc10447",
   "metadata": {},
   "outputs": [],
   "source": [
    "def replay():\n",
    "    \n",
    "    game = \"wrong\"\n",
    "    \n",
    "    while game not in [\"Y\",\"N\"]:\n",
    "        game = input(\"Do you want to play the game? (Y/N)\")\n",
    "        if game not in [\"Y\",\"N\"]:\n",
    "            return True\n",
    "        else:\n",
    "            return False\n",
    "        "
   ]
  },
  {
   "cell_type": "code",
   "execution_count": 19,
   "id": "a69adccb",
   "metadata": {},
   "outputs": [
    {
     "name": "stdout",
     "output_type": "stream",
     "text": [
      "\n"
     ]
    }
   ],
   "source": [
    "\"\"\"\n",
    "Step 10: Here comes the hard part! Use while loops and the functions \n",
    "you've made to run the game!\n",
    "\"\"\"\n",
    "print()"
   ]
  },
  {
   "cell_type": "code",
   "execution_count": 21,
   "id": "e64634c2",
   "metadata": {},
   "outputs": [
    {
     "name": "stdout",
     "output_type": "stream",
     "text": [
      "Welcome to Tic Tac Toe!\n",
      "Player1 choose your mark as (X/O) : Y\n",
      "Invalid choice : Player1 choose your mark as (X/O) : \n",
      "Player1 choose your mark as (X/O) : O\n",
      " | | \n",
      " | | \n",
      " | | \n",
      "player  player2 will go first\n",
      "are you ready to start the game? (Y/N)Y\n",
      " | | \n",
      " | | \n",
      " | | \n",
      "choose your position: (1-9) : 1\n",
      "X| | \n",
      " | | \n",
      " | | \n",
      "choose your position: (1-9) : 7\n",
      "X| | \n",
      " | | \n",
      "O| | \n",
      "choose your position: (1-9) : 9\n",
      "X| | \n",
      " | | \n",
      "O| |X\n",
      "choose your position: (1-9) : 5\n",
      "X| | \n",
      " |O| \n",
      "O| |X\n",
      "choose your position: (1-9) : 6\n",
      "X| | \n",
      " |O|X\n",
      "O| |X\n",
      "choose your position: (1-9) : 3\n",
      "X| |O\n",
      " |O|X\n",
      "O| |X\n",
      "player1 won\n",
      "Do you want to play the game? (Y/N)N\n"
     ]
    }
   ],
   "source": [
    "\n",
    "print('Welcome to Tic Tac Toe!')\n",
    "\n",
    "while True:\n",
    "    player1_marker, player2_marker = player_input()\n",
    "    empty_board = [\" \"]*10\n",
    "    board = display_board(empty_board)\n",
    "    turn = choose_first()\n",
    "    print(\"player \",turn,\"will go first\")\n",
    "    \n",
    "    ready = input(\"are you ready to start the game? (Y/N)\")\n",
    "    \n",
    "    if ready == 'Y':\n",
    "        game_on = True\n",
    "    else:\n",
    "        game_on = False\n",
    "        \n",
    "    while game_on:\n",
    "        if turn == 'player1':\n",
    "            display_board(empty_board)\n",
    "            position = player_choice(empty_board)\n",
    "            place_marker(empty_board,player1_marker,position)\n",
    "            if win_check(empty_board,player1_marker):\n",
    "                display_board(empty_board)\n",
    "                print(\"player1 won\")\n",
    "                game_on = False\n",
    "            else:\n",
    "                if full_board_check(empty_board):\n",
    "                    display_board(empty_board)\n",
    "                    print(\"Game Tie\")\n",
    "                    break\n",
    "                else:\n",
    "                    turn = \"player2\"\n",
    "\n",
    "        else:\n",
    "            display_board(empty_board)\n",
    "            position = player_choice(empty_board)\n",
    "            place_marker(empty_board,player2_marker,position)\n",
    "            if win_check(empty_board,player2_marker):\n",
    "                display_board(empty_board)\n",
    "                print(\"player1 won\")\n",
    "                game_on = False\n",
    "            else:\n",
    "                if full_board_check(empty_board):\n",
    "                    display_board(empty_board)\n",
    "                    print(\"Game Tie\")\n",
    "                    break\n",
    "                else:\n",
    "                    turn = \"player1\"\n",
    "\n",
    "    again = replay()        \n",
    "    if again == False:\n",
    "        break\n"
   ]
  },
  {
   "cell_type": "code",
   "execution_count": null,
   "id": "748df0d5",
   "metadata": {},
   "outputs": [],
   "source": []
  },
  {
   "cell_type": "code",
   "execution_count": null,
   "id": "d83838e7",
   "metadata": {},
   "outputs": [],
   "source": []
  }
 ],
 "metadata": {
  "kernelspec": {
   "display_name": "Python 3 (ipykernel)",
   "language": "python",
   "name": "python3"
  },
  "language_info": {
   "codemirror_mode": {
    "name": "ipython",
    "version": 3
   },
   "file_extension": ".py",
   "mimetype": "text/x-python",
   "name": "python",
   "nbconvert_exporter": "python",
   "pygments_lexer": "ipython3",
   "version": "3.10.9"
  }
 },
 "nbformat": 4,
 "nbformat_minor": 5
}
