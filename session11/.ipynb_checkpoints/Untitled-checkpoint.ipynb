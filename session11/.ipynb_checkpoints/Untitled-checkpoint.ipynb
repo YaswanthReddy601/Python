{
 "cells": [
  {
   "cell_type": "code",
   "execution_count": 1,
   "id": "d4c44032",
   "metadata": {},
   "outputs": [],
   "source": [
    "import random"
   ]
  },
  {
   "cell_type": "code",
   "execution_count": 2,
   "id": "ddf4b2f5",
   "metadata": {},
   "outputs": [],
   "source": [
    "suits = ('Hearts', 'Diamonds', 'Spades', 'Clubs')\n",
    "ranks = ('Two', 'Three', 'Four', 'Five', 'Six', 'Seven', 'Eight', 'Nine', 'Ten', 'Jack', 'Queen', 'King', 'Ace')\n",
    "values = {'Two':2, 'Three':3, 'Four':4, 'Five':5, 'Six':6, 'Seven':7, 'Eight':8, 'Nine':9, 'Ten':10, 'Jack':10,\n",
    "         'Queen':10, 'King':10, 'Ace':11}"
   ]
  },
  {
   "cell_type": "code",
   "execution_count": 15,
   "id": "595f7a37",
   "metadata": {},
   "outputs": [],
   "source": [
    "import random\n",
    "\n",
    "suits = ('Hearts', 'Diamonds', 'Spades', 'Clubs')\n",
    "ranks = ('Two', 'Three', 'Four', 'Five', 'Six', 'Seven', 'Eight', 'Nine', 'Ten', 'Jack', 'Queen', 'King', 'Ace')\n",
    "values = {'Two':2, 'Three':3, 'Four':4, 'Five':5, 'Six':6, 'Seven':7, 'Eight':8, 'Nine':9, 'Ten':10, 'Jack':10,\n",
    "         'Queen':10, 'King':10, 'Ace':11}\n",
    "\n",
    "playing = True"
   ]
  },
  {
   "cell_type": "code",
   "execution_count": 16,
   "id": "f132f644",
   "metadata": {},
   "outputs": [],
   "source": [
    "class Card:\n",
    "    \n",
    "    def __init__(self,suit,rank):\n",
    "        self.suit = suit\n",
    "        self.rank = rank\n",
    "    \n",
    "    def __str__(self):\n",
    "        return self.suit+\" of \"+self.rank"
   ]
  },
  {
   "cell_type": "code",
   "execution_count": 17,
   "id": "9b9b0129",
   "metadata": {},
   "outputs": [],
   "source": [
    "caed = Card(\"Heart\",\"Four\")"
   ]
  },
  {
   "cell_type": "code",
   "execution_count": 21,
   "id": "6eb79dc1",
   "metadata": {},
   "outputs": [],
   "source": [
    "class Deck:\n",
    "    \n",
    "    def __init__(self):\n",
    "        self.deck = []  # start with an empty list\n",
    "        for suit in suits:\n",
    "            for rank in ranks:\n",
    "                self.deck.append(Card(suit,rank))\n",
    "    \n",
    "    def __str__(self):\n",
    "        deck_comp = \"\"\n",
    "        for card in self.deck:\n",
    "            deck_comp +=\"\\n\"+card.__str__()\n",
    "        return \"deck has : \" +deck_comp\n",
    "\n",
    "    def shuffle(self):\n",
    "        random.shuffle(self.deck)\n",
    "        \n",
    "    def deal(self):\n",
    "        return self.deck.pop()\n"
   ]
  },
  {
   "cell_type": "code",
   "execution_count": 22,
   "id": "6a06ae46",
   "metadata": {},
   "outputs": [],
   "source": [
    "test_deck = Deck()"
   ]
  },
  {
   "cell_type": "code",
   "execution_count": 28,
   "id": "2b43973b",
   "metadata": {},
   "outputs": [
    {
     "name": "stdout",
     "output_type": "stream",
     "text": [
      "deck has : \n",
      "Hearts of Six\n",
      "Clubs of Three\n",
      "Spades of Ace\n",
      "Clubs of Four\n",
      "Spades of Two\n",
      "Hearts of Queen\n",
      "Clubs of Nine\n",
      "Diamonds of Seven\n",
      "Spades of Jack\n",
      "Diamonds of Four\n",
      "Clubs of Jack\n",
      "Spades of Five\n",
      "Diamonds of King\n",
      "Diamonds of Ace\n",
      "Hearts of Two\n",
      "Hearts of Ten\n",
      "Hearts of Ace\n",
      "Spades of Seven\n",
      "Hearts of King\n",
      "Diamonds of Eight\n",
      "Clubs of Seven\n",
      "Clubs of Five\n",
      "Spades of Six\n",
      "Diamonds of Ten\n",
      "Hearts of Jack\n",
      "Diamonds of Six\n",
      "Diamonds of Two\n",
      "Spades of Nine\n",
      "Hearts of Five\n",
      "Hearts of Nine\n",
      "Spades of Eight\n",
      "Diamonds of Jack\n",
      "Diamonds of Five\n",
      "Spades of King\n",
      "Diamonds of Nine\n",
      "Spades of Four\n",
      "Clubs of Six\n",
      "Diamonds of Queen\n",
      "Diamonds of Three\n",
      "Spades of Three\n",
      "Hearts of Eight\n",
      "Clubs of Ten\n",
      "Hearts of Four\n",
      "Clubs of Two\n",
      "Clubs of Eight\n",
      "Clubs of Queen\n",
      "Spades of Ten\n",
      "Hearts of Seven\n",
      "Clubs of Ace\n",
      "Clubs of King\n",
      "Hearts of Three\n",
      "Spades of Queen\n"
     ]
    }
   ],
   "source": [
    "print(test_deck)"
   ]
  },
  {
   "cell_type": "code",
   "execution_count": 26,
   "id": "be3ab15c",
   "metadata": {},
   "outputs": [],
   "source": [
    "test_deck.shuffle()"
   ]
  },
  {
   "cell_type": "code",
   "execution_count": 29,
   "id": "1a3186b8",
   "metadata": {},
   "outputs": [
    {
     "name": "stdout",
     "output_type": "stream",
     "text": [
      "deck has : \n",
      "Hearts of Six\n",
      "Clubs of Three\n",
      "Spades of Ace\n",
      "Clubs of Four\n",
      "Spades of Two\n",
      "Hearts of Queen\n",
      "Clubs of Nine\n",
      "Diamonds of Seven\n",
      "Spades of Jack\n",
      "Diamonds of Four\n",
      "Clubs of Jack\n",
      "Spades of Five\n",
      "Diamonds of King\n",
      "Diamonds of Ace\n",
      "Hearts of Two\n",
      "Hearts of Ten\n",
      "Hearts of Ace\n",
      "Spades of Seven\n",
      "Hearts of King\n",
      "Diamonds of Eight\n",
      "Clubs of Seven\n",
      "Clubs of Five\n",
      "Spades of Six\n",
      "Diamonds of Ten\n",
      "Hearts of Jack\n",
      "Diamonds of Six\n",
      "Diamonds of Two\n",
      "Spades of Nine\n",
      "Hearts of Five\n",
      "Hearts of Nine\n",
      "Spades of Eight\n",
      "Diamonds of Jack\n",
      "Diamonds of Five\n",
      "Spades of King\n",
      "Diamonds of Nine\n",
      "Spades of Four\n",
      "Clubs of Six\n",
      "Diamonds of Queen\n",
      "Diamonds of Three\n",
      "Spades of Three\n",
      "Hearts of Eight\n",
      "Clubs of Ten\n",
      "Hearts of Four\n",
      "Clubs of Two\n",
      "Clubs of Eight\n",
      "Clubs of Queen\n",
      "Spades of Ten\n",
      "Hearts of Seven\n",
      "Clubs of Ace\n",
      "Clubs of King\n",
      "Hearts of Three\n",
      "Spades of Queen\n"
     ]
    }
   ],
   "source": [
    "print(test_deck)"
   ]
  },
  {
   "cell_type": "code",
   "execution_count": 31,
   "id": "2ad3aa2c",
   "metadata": {},
   "outputs": [],
   "source": [
    "class Hand:\n",
    "    def __init__(self):\n",
    "        self.cards = []  # start with an empty list as we did in the Deck class\n",
    "        self.value = 0   # start with zero value\n",
    "        self.aces = 0    # add an attribute to keep track of aces\n",
    "    \n",
    "    def add_card(self,card):\n",
    "        self.cards.append(card)\n",
    "        self.value += values[card.rank]\n",
    "        \n",
    "        \n",
    "    def adjust_for_ace(self):\n",
    "        pass"
   ]
  },
  {
   "cell_type": "code",
   "execution_count": null,
   "id": "de4fc587",
   "metadata": {},
   "outputs": [],
   "source": []
  }
 ],
 "metadata": {
  "kernelspec": {
   "display_name": "Python 3 (ipykernel)",
   "language": "python",
   "name": "python3"
  },
  "language_info": {
   "codemirror_mode": {
    "name": "ipython",
    "version": 3
   },
   "file_extension": ".py",
   "mimetype": "text/x-python",
   "name": "python",
   "nbconvert_exporter": "python",
   "pygments_lexer": "ipython3",
   "version": "3.10.9"
  }
 },
 "nbformat": 4,
 "nbformat_minor": 5
}
