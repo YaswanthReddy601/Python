{
 "cells": [
  {
   "cell_type": "code",
   "execution_count": 1,
   "id": "a0f99d28",
   "metadata": {},
   "outputs": [],
   "source": [
    "#Task One: Grab the Google Drive Link from .csv File"
   ]
  },
  {
   "cell_type": "code",
   "execution_count": 3,
   "id": "d7f810d3",
   "metadata": {},
   "outputs": [],
   "source": [
    "import csv"
   ]
  },
  {
   "cell_type": "code",
   "execution_count": 8,
   "id": "dd6381a8",
   "metadata": {},
   "outputs": [],
   "source": [
    "data = open('find_the_link.csv',encoding=\"utf-8\")"
   ]
  },
  {
   "cell_type": "code",
   "execution_count": 9,
   "id": "1d0b77a4",
   "metadata": {},
   "outputs": [],
   "source": [
    "csv_sdata= csv.reader(data)"
   ]
  },
  {
   "cell_type": "code",
   "execution_count": 10,
   "id": "39bd7459",
   "metadata": {},
   "outputs": [],
   "source": [
    "data_lines = list(csv_data)"
   ]
  },
  {
   "cell_type": "code",
   "execution_count": null,
   "id": "449c3dde",
   "metadata": {},
   "outputs": [],
   "source": []
  },
  {
   "cell_type": "code",
   "execution_count": null,
   "id": "a2554f54",
   "metadata": {},
   "outputs": [],
   "source": []
  }
 ],
 "metadata": {
  "kernelspec": {
   "display_name": "Python 3 (ipykernel)",
   "language": "python",
   "name": "python3"
  },
  "language_info": {
   "codemirror_mode": {
    "name": "ipython",
    "version": 3
   },
   "file_extension": ".py",
   "mimetype": "text/x-python",
   "name": "python",
   "nbconvert_exporter": "python",
   "pygments_lexer": "ipython3",
   "version": "3.10.9"
  }
 },
 "nbformat": 4,
 "nbformat_minor": 5
}
