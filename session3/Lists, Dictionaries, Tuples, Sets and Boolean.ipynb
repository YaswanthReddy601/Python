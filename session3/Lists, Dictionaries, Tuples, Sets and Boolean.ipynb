{
 "cells": [
  {
   "cell_type": "markdown",
   "id": "1c57b4ed",
   "metadata": {},
   "source": [
    "Lists: list is ordered, indexed, allows duplicates and mutable"
   ]
  },
  {
   "cell_type": "code",
   "execution_count": 2,
   "id": "db78eb90",
   "metadata": {},
   "outputs": [],
   "source": [
    "#Creating a list\n",
    "students = ['ram','raina','rani','ram']"
   ]
  },
  {
   "cell_type": "code",
   "execution_count": 3,
   "id": "fa2fe5a4",
   "metadata": {},
   "outputs": [
    {
     "name": "stdout",
     "output_type": "stream",
     "text": [
      "['ram', 'raina', 'rani', 'ram']\n"
     ]
    }
   ],
   "source": [
    "print(students)"
   ]
  },
  {
   "cell_type": "code",
   "execution_count": 4,
   "id": "1cb050eb",
   "metadata": {},
   "outputs": [],
   "source": [
    "numbers = [1,2,3,4,4,5,5,2]"
   ]
  },
  {
   "cell_type": "code",
   "execution_count": 5,
   "id": "cbc1efad",
   "metadata": {},
   "outputs": [
    {
     "name": "stdout",
     "output_type": "stream",
     "text": [
      "[1, 2, 3, 4, 4, 5, 5, 2]\n"
     ]
    }
   ],
   "source": [
    "print(numbers)"
   ]
  },
  {
   "cell_type": "code",
   "execution_count": 11,
   "id": "cdd862a9",
   "metadata": {},
   "outputs": [],
   "source": [
    "normal_list = ['a',2,2.5,'a']"
   ]
  },
  {
   "cell_type": "code",
   "execution_count": 12,
   "id": "f6f1f4d2",
   "metadata": {},
   "outputs": [
    {
     "data": {
      "text/plain": [
       "['a', 2, 2.5, 'a']"
      ]
     },
     "execution_count": 12,
     "metadata": {},
     "output_type": "execute_result"
    }
   ],
   "source": [
    "normal_list"
   ]
  },
  {
   "cell_type": "code",
   "execution_count": 13,
   "id": "d19e217f",
   "metadata": {},
   "outputs": [
    {
     "data": {
      "text/plain": [
       "'a'"
      ]
     },
     "execution_count": 13,
     "metadata": {},
     "output_type": "execute_result"
    }
   ],
   "source": [
    "normal_list.pop()"
   ]
  },
  {
   "cell_type": "code",
   "execution_count": 14,
   "id": "36aeb4bc",
   "metadata": {},
   "outputs": [],
   "source": [
    "normal_list.append(\"ram\")"
   ]
  },
  {
   "cell_type": "code",
   "execution_count": 15,
   "id": "b4ad9d7c",
   "metadata": {},
   "outputs": [
    {
     "name": "stdout",
     "output_type": "stream",
     "text": [
      "['a', 2, 2.5, 'ram']\n"
     ]
    }
   ],
   "source": [
    "print(normal_list)"
   ]
  },
  {
   "cell_type": "code",
   "execution_count": 16,
   "id": "11bb83e0",
   "metadata": {},
   "outputs": [],
   "source": [
    "#indexing\n",
    "a = [1,2,\"acb\",'aaa',22.5]"
   ]
  },
  {
   "cell_type": "code",
   "execution_count": 17,
   "id": "22d90480",
   "metadata": {},
   "outputs": [
    {
     "name": "stdout",
     "output_type": "stream",
     "text": [
      "1\n"
     ]
    }
   ],
   "source": [
    "print(a[0])"
   ]
  },
  {
   "cell_type": "code",
   "execution_count": 18,
   "id": "2489e5cb",
   "metadata": {},
   "outputs": [
    {
     "name": "stdout",
     "output_type": "stream",
     "text": [
      "22.5\n"
     ]
    }
   ],
   "source": [
    "print(a[4])"
   ]
  },
  {
   "cell_type": "code",
   "execution_count": 32,
   "id": "16d4238b",
   "metadata": {},
   "outputs": [
    {
     "name": "stdout",
     "output_type": "stream",
     "text": [
      "b\n"
     ]
    }
   ],
   "source": [
    "print(a[2][2])"
   ]
  },
  {
   "cell_type": "code",
   "execution_count": 20,
   "id": "d6f1d47a",
   "metadata": {},
   "outputs": [],
   "source": [
    "#Slicing\n",
    "x = [\"p\",\"q\",'r',\"s\",10]"
   ]
  },
  {
   "cell_type": "code",
   "execution_count": 21,
   "id": "3c5bc088",
   "metadata": {},
   "outputs": [
    {
     "data": {
      "text/plain": [
       "5"
      ]
     },
     "execution_count": 21,
     "metadata": {},
     "output_type": "execute_result"
    }
   ],
   "source": [
    "len(x)"
   ]
  },
  {
   "cell_type": "code",
   "execution_count": 22,
   "id": "87db8daf",
   "metadata": {},
   "outputs": [
    {
     "data": {
      "text/plain": [
       "['p', 'q', 'r', 's', 10]"
      ]
     },
     "execution_count": 22,
     "metadata": {},
     "output_type": "execute_result"
    }
   ],
   "source": [
    "x[:5]"
   ]
  },
  {
   "cell_type": "code",
   "execution_count": 23,
   "id": "9b20c03b",
   "metadata": {},
   "outputs": [
    {
     "data": {
      "text/plain": [
       "['r', 's']"
      ]
     },
     "execution_count": 23,
     "metadata": {},
     "output_type": "execute_result"
    }
   ],
   "source": [
    "x[2:4]"
   ]
  },
  {
   "cell_type": "code",
   "execution_count": 24,
   "id": "662e13c6",
   "metadata": {},
   "outputs": [
    {
     "data": {
      "text/plain": [
       "['p', 'r', 10]"
      ]
     },
     "execution_count": 24,
     "metadata": {},
     "output_type": "execute_result"
    }
   ],
   "source": [
    "x[::2]"
   ]
  },
  {
   "cell_type": "code",
   "execution_count": 25,
   "id": "4a433ac0",
   "metadata": {},
   "outputs": [
    {
     "data": {
      "text/plain": [
       "[10, 's', 'r', 'q', 'p']"
      ]
     },
     "execution_count": 25,
     "metadata": {},
     "output_type": "execute_result"
    }
   ],
   "source": [
    "x[::-1]"
   ]
  },
  {
   "cell_type": "code",
   "execution_count": 26,
   "id": "f0182c8e",
   "metadata": {},
   "outputs": [
    {
     "data": {
      "text/plain": [
       "['p', 'q', 'r', 's', 10, 'p', 'q', 'r', 's', 10]"
      ]
     },
     "execution_count": 26,
     "metadata": {},
     "output_type": "execute_result"
    }
   ],
   "source": [
    "x+x"
   ]
  },
  {
   "cell_type": "code",
   "execution_count": 78,
   "id": "40fa03cd",
   "metadata": {},
   "outputs": [],
   "source": [
    "y = x*3"
   ]
  },
  {
   "cell_type": "code",
   "execution_count": 79,
   "id": "18d3f267",
   "metadata": {},
   "outputs": [
    {
     "data": {
      "text/plain": [
       "['p', 'q', 'r', 's', 10, 'p', 'q', 'r', 's', 10, 'p', 'q', 'r', 's', 10]"
      ]
     },
     "execution_count": 79,
     "metadata": {},
     "output_type": "execute_result"
    }
   ],
   "source": [
    "y"
   ]
  },
  {
   "cell_type": "code",
   "execution_count": 31,
   "id": "621cd9a3",
   "metadata": {},
   "outputs": [
    {
     "name": "stdout",
     "output_type": "stream",
     "text": [
      "{'p', 's', 10, 'q', 'r'}\n"
     ]
    }
   ],
   "source": [
    "print(set(y))"
   ]
  },
  {
   "cell_type": "code",
   "execution_count": 33,
   "id": "830e1f7f",
   "metadata": {},
   "outputs": [],
   "source": [
    "#importent Methods of list\n",
    "r = [1,\"d\",4,55.5]"
   ]
  },
  {
   "cell_type": "code",
   "execution_count": 34,
   "id": "741de58a",
   "metadata": {},
   "outputs": [
    {
     "data": {
      "text/plain": [
       "55.5"
      ]
     },
     "execution_count": 34,
     "metadata": {},
     "output_type": "execute_result"
    }
   ],
   "source": [
    "r.pop()"
   ]
  },
  {
   "cell_type": "code",
   "execution_count": 35,
   "id": "9738bda1",
   "metadata": {},
   "outputs": [
    {
     "data": {
      "text/plain": [
       "[1, 'd', 4]"
      ]
     },
     "execution_count": 35,
     "metadata": {},
     "output_type": "execute_result"
    }
   ],
   "source": [
    "r"
   ]
  },
  {
   "cell_type": "code",
   "execution_count": 36,
   "id": "d8558c63",
   "metadata": {},
   "outputs": [
    {
     "data": {
      "text/plain": [
       "<function list.pop(index=-1, /)>"
      ]
     },
     "execution_count": 36,
     "metadata": {},
     "output_type": "execute_result"
    }
   ],
   "source": [
    "r.pop"
   ]
  },
  {
   "cell_type": "code",
   "execution_count": 37,
   "id": "6b724ac7",
   "metadata": {},
   "outputs": [
    {
     "data": {
      "text/plain": [
       "4"
      ]
     },
     "execution_count": 37,
     "metadata": {},
     "output_type": "execute_result"
    }
   ],
   "source": [
    "r.pop()"
   ]
  },
  {
   "cell_type": "code",
   "execution_count": 38,
   "id": "e586b370",
   "metadata": {},
   "outputs": [
    {
     "data": {
      "text/plain": [
       "[1, 'd']"
      ]
     },
     "execution_count": 38,
     "metadata": {},
     "output_type": "execute_result"
    }
   ],
   "source": [
    "r"
   ]
  },
  {
   "cell_type": "code",
   "execution_count": 40,
   "id": "0b7ac3ae",
   "metadata": {},
   "outputs": [
    {
     "data": {
      "text/plain": [
       "1"
      ]
     },
     "execution_count": 40,
     "metadata": {},
     "output_type": "execute_result"
    }
   ],
   "source": [
    "r.pop(0)"
   ]
  },
  {
   "cell_type": "code",
   "execution_count": 41,
   "id": "4e89b62f",
   "metadata": {},
   "outputs": [
    {
     "data": {
      "text/plain": [
       "['d']"
      ]
     },
     "execution_count": 41,
     "metadata": {},
     "output_type": "execute_result"
    }
   ],
   "source": [
    "r"
   ]
  },
  {
   "cell_type": "code",
   "execution_count": 42,
   "id": "8b133ba5",
   "metadata": {},
   "outputs": [],
   "source": [
    "r.append(\"e\")"
   ]
  },
  {
   "cell_type": "code",
   "execution_count": 43,
   "id": "72839379",
   "metadata": {},
   "outputs": [
    {
     "data": {
      "text/plain": [
       "['d', 'e']"
      ]
     },
     "execution_count": 43,
     "metadata": {},
     "output_type": "execute_result"
    }
   ],
   "source": [
    "r"
   ]
  },
  {
   "cell_type": "code",
   "execution_count": 44,
   "id": "abbeee81",
   "metadata": {},
   "outputs": [],
   "source": [
    "r.append('f')"
   ]
  },
  {
   "cell_type": "code",
   "execution_count": 45,
   "id": "78e33801",
   "metadata": {},
   "outputs": [
    {
     "data": {
      "text/plain": [
       "['d', 'e', 'f']"
      ]
     },
     "execution_count": 45,
     "metadata": {},
     "output_type": "execute_result"
    }
   ],
   "source": [
    "r"
   ]
  },
  {
   "cell_type": "code",
   "execution_count": 54,
   "id": "cab464f9",
   "metadata": {},
   "outputs": [],
   "source": [
    "#Nested lists: list in a list\n",
    "z = [2,55,[444,555,6666],\"rrr\",[555,66],55]"
   ]
  },
  {
   "cell_type": "code",
   "execution_count": 47,
   "id": "dc3724a3",
   "metadata": {},
   "outputs": [
    {
     "name": "stdout",
     "output_type": "stream",
     "text": [
      "[2, 55, [444, 555, 6666], 44, [555, 66], 55]\n"
     ]
    }
   ],
   "source": [
    "print(z)"
   ]
  },
  {
   "cell_type": "code",
   "execution_count": 48,
   "id": "cf43182f",
   "metadata": {},
   "outputs": [
    {
     "name": "stdout",
     "output_type": "stream",
     "text": [
      "555\n"
     ]
    }
   ],
   "source": [
    "print(z[2][1])"
   ]
  },
  {
   "cell_type": "code",
   "execution_count": 49,
   "id": "1d895138",
   "metadata": {},
   "outputs": [
    {
     "data": {
      "text/plain": [
       "555"
      ]
     },
     "execution_count": 49,
     "metadata": {},
     "output_type": "execute_result"
    }
   ],
   "source": [
    "z[4][0]"
   ]
  },
  {
   "cell_type": "code",
   "execution_count": 50,
   "id": "82932e3f",
   "metadata": {},
   "outputs": [
    {
     "data": {
      "text/plain": [
       "6"
      ]
     },
     "execution_count": 50,
     "metadata": {},
     "output_type": "execute_result"
    }
   ],
   "source": [
    "len(z)"
   ]
  },
  {
   "cell_type": "code",
   "execution_count": 55,
   "id": "2fa403be",
   "metadata": {},
   "outputs": [
    {
     "data": {
      "text/plain": [
       "3"
      ]
     },
     "execution_count": 55,
     "metadata": {},
     "output_type": "execute_result"
    }
   ],
   "source": [
    "len(z[3])"
   ]
  },
  {
   "cell_type": "code",
   "execution_count": 56,
   "id": "9aabf803",
   "metadata": {},
   "outputs": [
    {
     "data": {
      "text/plain": [
       "3"
      ]
     },
     "execution_count": 56,
     "metadata": {},
     "output_type": "execute_result"
    }
   ],
   "source": [
    "len(z[2])"
   ]
  },
  {
   "cell_type": "code",
   "execution_count": 63,
   "id": "5b89eaa0",
   "metadata": {},
   "outputs": [],
   "source": [
    "q = [2,4,8,12,6,3,1]"
   ]
  },
  {
   "cell_type": "code",
   "execution_count": 64,
   "id": "d032625e",
   "metadata": {},
   "outputs": [
    {
     "data": {
      "text/plain": [
       "[2, 4, 8, 12, 6, 3, 1]"
      ]
     },
     "execution_count": 64,
     "metadata": {},
     "output_type": "execute_result"
    }
   ],
   "source": [
    "q\n"
   ]
  },
  {
   "cell_type": "code",
   "execution_count": 65,
   "id": "9b77f0f1",
   "metadata": {},
   "outputs": [],
   "source": [
    "q.sort()"
   ]
  },
  {
   "cell_type": "code",
   "execution_count": 66,
   "id": "ef19a6fe",
   "metadata": {},
   "outputs": [
    {
     "data": {
      "text/plain": [
       "[1, 2, 3, 4, 6, 8, 12]"
      ]
     },
     "execution_count": 66,
     "metadata": {},
     "output_type": "execute_result"
    }
   ],
   "source": [
    "q"
   ]
  },
  {
   "cell_type": "code",
   "execution_count": 74,
   "id": "76842c7c",
   "metadata": {},
   "outputs": [],
   "source": [
    "q.reverse()"
   ]
  },
  {
   "cell_type": "code",
   "execution_count": 75,
   "id": "2e5de811",
   "metadata": {},
   "outputs": [
    {
     "data": {
      "text/plain": [
       "[1, 3, 6, 12, 8, 4, 2]"
      ]
     },
     "execution_count": 75,
     "metadata": {},
     "output_type": "execute_result"
    }
   ],
   "source": [
    "q"
   ]
  },
  {
   "cell_type": "markdown",
   "id": "b19790b7",
   "metadata": {},
   "source": [
    "\n",
    ".\n",
    "\n",
    "\n",
    "\n",
    "\n",
    "\n",
    "Dictionaries: it takes the data as key-value pairs\n",
    "this are unordered, unindexed, mutable and allows duplicate values but not keys"
   ]
  },
  {
   "cell_type": "code",
   "execution_count": 81,
   "id": "7504a876",
   "metadata": {},
   "outputs": [],
   "source": [
    "#Creating\n",
    "b = {\"w\":\"won\",\"e\":\"ear\"}"
   ]
  },
  {
   "cell_type": "code",
   "execution_count": 82,
   "id": "cda944cb",
   "metadata": {},
   "outputs": [
    {
     "data": {
      "text/plain": [
       "{'w': 'won', 'e': 'ear'}"
      ]
     },
     "execution_count": 82,
     "metadata": {},
     "output_type": "execute_result"
    }
   ],
   "source": [
    "b"
   ]
  },
  {
   "cell_type": "code",
   "execution_count": 84,
   "id": "73b902c6",
   "metadata": {},
   "outputs": [],
   "source": [
    "#Changing data\n",
    "b[\"e\"]=[\"tab\"]"
   ]
  },
  {
   "cell_type": "code",
   "execution_count": 85,
   "id": "1a70ac18",
   "metadata": {},
   "outputs": [
    {
     "data": {
      "text/plain": [
       "{'w': 'won', 'e': ['tab']}"
      ]
     },
     "execution_count": 85,
     "metadata": {},
     "output_type": "execute_result"
    }
   ],
   "source": [
    "b"
   ]
  },
  {
   "cell_type": "code",
   "execution_count": 86,
   "id": "0708d6e8",
   "metadata": {},
   "outputs": [],
   "source": [
    "b[\"g\"]=[\"tab\"]"
   ]
  },
  {
   "cell_type": "code",
   "execution_count": 87,
   "id": "dbec5720",
   "metadata": {},
   "outputs": [
    {
     "data": {
      "text/plain": [
       "{'w': 'won', 'e': ['tab'], 'g': ['tab']}"
      ]
     },
     "execution_count": 87,
     "metadata": {},
     "output_type": "execute_result"
    }
   ],
   "source": [
    "b"
   ]
  },
  {
   "cell_type": "code",
   "execution_count": 102,
   "id": "11a58945",
   "metadata": {},
   "outputs": [],
   "source": [
    "#Nested Dictionaries\n",
    "c = {1:\"ram\",2:{1:\"rrr\",3:888}}"
   ]
  },
  {
   "cell_type": "code",
   "execution_count": 103,
   "id": "29b0886b",
   "metadata": {},
   "outputs": [
    {
     "data": {
      "text/plain": [
       "{1: 'ram', 2: {1: 'rrr', 3: 888}}"
      ]
     },
     "execution_count": 103,
     "metadata": {},
     "output_type": "execute_result"
    }
   ],
   "source": [
    "c"
   ]
  },
  {
   "cell_type": "code",
   "execution_count": 104,
   "id": "6681b40b",
   "metadata": {},
   "outputs": [
    {
     "data": {
      "text/plain": [
       "'rrr'"
      ]
     },
     "execution_count": 104,
     "metadata": {},
     "output_type": "execute_result"
    }
   ],
   "source": [
    "c[2][1]"
   ]
  },
  {
   "cell_type": "code",
   "execution_count": 105,
   "id": "dced41d9",
   "metadata": {},
   "outputs": [
    {
     "data": {
      "text/plain": [
       "888"
      ]
     },
     "execution_count": 105,
     "metadata": {},
     "output_type": "execute_result"
    }
   ],
   "source": [
    "c[2][3]"
   ]
  },
  {
   "cell_type": "code",
   "execution_count": 106,
   "id": "5583715d",
   "metadata": {},
   "outputs": [
    {
     "data": {
      "text/plain": [
       "'RRR'"
      ]
     },
     "execution_count": 106,
     "metadata": {},
     "output_type": "execute_result"
    }
   ],
   "source": [
    "c[2][1].upper()"
   ]
  },
  {
   "cell_type": "code",
   "execution_count": 107,
   "id": "8e281009",
   "metadata": {},
   "outputs": [],
   "source": [
    "c[2][1]=999"
   ]
  },
  {
   "cell_type": "code",
   "execution_count": 108,
   "id": "5ae68a42",
   "metadata": {},
   "outputs": [
    {
     "data": {
      "text/plain": [
       "{1: 'ram', 2: {1: 999, 3: 888}}"
      ]
     },
     "execution_count": 108,
     "metadata": {},
     "output_type": "execute_result"
    }
   ],
   "source": [
    "c"
   ]
  },
  {
   "cell_type": "code",
   "execution_count": 109,
   "id": "b091e1a6",
   "metadata": {},
   "outputs": [],
   "source": [
    "c[2][1] = c[2][1]+1"
   ]
  },
  {
   "cell_type": "code",
   "execution_count": 110,
   "id": "497ad477",
   "metadata": {},
   "outputs": [
    {
     "data": {
      "text/plain": [
       "{1: 'ram', 2: {1: 1000, 3: 888}}"
      ]
     },
     "execution_count": 110,
     "metadata": {},
     "output_type": "execute_result"
    }
   ],
   "source": [
    "c"
   ]
  },
  {
   "cell_type": "code",
   "execution_count": 112,
   "id": "af9a7e60",
   "metadata": {},
   "outputs": [],
   "source": [
    "nest={\"key1\":{\"key2\":{\"key3\":111}}}"
   ]
  },
  {
   "cell_type": "code",
   "execution_count": 113,
   "id": "8dcb9893",
   "metadata": {},
   "outputs": [
    {
     "data": {
      "text/plain": [
       "{'key1': {'key2': {'key3': 111}}}"
      ]
     },
     "execution_count": 113,
     "metadata": {},
     "output_type": "execute_result"
    }
   ],
   "source": [
    "nest"
   ]
  },
  {
   "cell_type": "code",
   "execution_count": 116,
   "id": "f7138c14",
   "metadata": {},
   "outputs": [
    {
     "data": {
      "text/plain": [
       "111"
      ]
     },
     "execution_count": 116,
     "metadata": {},
     "output_type": "execute_result"
    }
   ],
   "source": [
    "nest[\"key1\"][\"key2\"][\"key3\"]"
   ]
  },
  {
   "cell_type": "code",
   "execution_count": 118,
   "id": "59b53e0d",
   "metadata": {},
   "outputs": [],
   "source": [
    "e={\"k1\":\"v1\",\"k2\":\"v2\",\"k3\":\"v3\"}"
   ]
  },
  {
   "cell_type": "code",
   "execution_count": 119,
   "id": "82f0bc7f",
   "metadata": {},
   "outputs": [
    {
     "data": {
      "text/plain": [
       "dict_values(['v1', 'v2', 'v3'])"
      ]
     },
     "execution_count": 119,
     "metadata": {},
     "output_type": "execute_result"
    }
   ],
   "source": [
    "e.values()"
   ]
  },
  {
   "cell_type": "code",
   "execution_count": 120,
   "id": "71de00e1",
   "metadata": {},
   "outputs": [
    {
     "data": {
      "text/plain": [
       "dict_keys(['k1', 'k2', 'k3'])"
      ]
     },
     "execution_count": 120,
     "metadata": {},
     "output_type": "execute_result"
    }
   ],
   "source": [
    "e.keys()"
   ]
  },
  {
   "cell_type": "code",
   "execution_count": 122,
   "id": "63e6489d",
   "metadata": {},
   "outputs": [
    {
     "data": {
      "text/plain": [
       "dict_items([('k1', 'v1'), ('k2', 'v2'), ('k3', 'v3')])"
      ]
     },
     "execution_count": 122,
     "metadata": {},
     "output_type": "execute_result"
    }
   ],
   "source": [
    "e.items()"
   ]
  },
  {
   "cell_type": "markdown",
   "id": "e4efb164",
   "metadata": {},
   "source": [
    ".\n",
    "\n",
    "\n",
    "Tuples: Tuples are same as list but thiese are immutable and uses () while creating "
   ]
  },
  {
   "cell_type": "code",
   "execution_count": 125,
   "id": "d0a2f607",
   "metadata": {},
   "outputs": [],
   "source": [
    "#Creatinig\n",
    "tu = (1,3,4,4)"
   ]
  },
  {
   "cell_type": "raw",
   "id": "ead782f8",
   "metadata": {},
   "source": [
    "tu"
   ]
  },
  {
   "cell_type": "code",
   "execution_count": 126,
   "id": "a977c687",
   "metadata": {},
   "outputs": [],
   "source": [
    "tu1 = (\"ram\",5,44.5)"
   ]
  },
  {
   "cell_type": "code",
   "execution_count": 127,
   "id": "b81ec709",
   "metadata": {},
   "outputs": [
    {
     "data": {
      "text/plain": [
       "('ram', 5, 44.5)"
      ]
     },
     "execution_count": 127,
     "metadata": {},
     "output_type": "execute_result"
    }
   ],
   "source": [
    "tu1"
   ]
  },
  {
   "cell_type": "code",
   "execution_count": 128,
   "id": "1eb29a4d",
   "metadata": {},
   "outputs": [
    {
     "data": {
      "text/plain": [
       "5"
      ]
     },
     "execution_count": 128,
     "metadata": {},
     "output_type": "execute_result"
    }
   ],
   "source": [
    "#indexing\n",
    "tu1[1]"
   ]
  },
  {
   "cell_type": "code",
   "execution_count": 130,
   "id": "5d648d3d",
   "metadata": {},
   "outputs": [
    {
     "data": {
      "text/plain": [
       "'ram'"
      ]
     },
     "execution_count": 130,
     "metadata": {},
     "output_type": "execute_result"
    }
   ],
   "source": [
    "tu1[0]"
   ]
  },
  {
   "cell_type": "code",
   "execution_count": 131,
   "id": "48b37332",
   "metadata": {},
   "outputs": [
    {
     "data": {
      "text/plain": [
       "('ram',)"
      ]
     },
     "execution_count": 131,
     "metadata": {},
     "output_type": "execute_result"
    }
   ],
   "source": [
    "#Slicing\n",
    "tu1[:1]"
   ]
  },
  {
   "cell_type": "code",
   "execution_count": 132,
   "id": "d7ff80c9",
   "metadata": {},
   "outputs": [
    {
     "data": {
      "text/plain": [
       "(1, 4)"
      ]
     },
     "execution_count": 132,
     "metadata": {},
     "output_type": "execute_result"
    }
   ],
   "source": [
    "tu[::2]"
   ]
  },
  {
   "cell_type": "code",
   "execution_count": 133,
   "id": "5d258943",
   "metadata": {},
   "outputs": [
    {
     "data": {
      "text/plain": [
       "(4, 4, 3, 1)"
      ]
     },
     "execution_count": 133,
     "metadata": {},
     "output_type": "execute_result"
    }
   ],
   "source": [
    "tu[::-1]"
   ]
  },
  {
   "cell_type": "code",
   "execution_count": 134,
   "id": "c03f362b",
   "metadata": {},
   "outputs": [],
   "source": [
    "#while we creaing a tuple with one value we need to write , after the value otherwise\n",
    "#it will be considdered as int/string,float\n",
    "tu2 = (1)"
   ]
  },
  {
   "cell_type": "code",
   "execution_count": 135,
   "id": "877bd4e2",
   "metadata": {},
   "outputs": [
    {
     "data": {
      "text/plain": [
       "int"
      ]
     },
     "execution_count": 135,
     "metadata": {},
     "output_type": "execute_result"
    }
   ],
   "source": [
    "type(tu2)"
   ]
  },
  {
   "cell_type": "code",
   "execution_count": 137,
   "id": "c7c4f9aa",
   "metadata": {},
   "outputs": [],
   "source": [
    "tu3=(5,)"
   ]
  },
  {
   "cell_type": "code",
   "execution_count": 138,
   "id": "07157e41",
   "metadata": {},
   "outputs": [
    {
     "data": {
      "text/plain": [
       "tuple"
      ]
     },
     "execution_count": 138,
     "metadata": {},
     "output_type": "execute_result"
    }
   ],
   "source": [
    "type(tu3)"
   ]
  },
  {
   "cell_type": "markdown",
   "id": "13fb1147",
   "metadata": {},
   "source": [
    ".\n",
    "\n",
    "\n",
    "Sets: sets are unordered, unindexed, unique which means does not allos=ws duplicate"
   ]
  },
  {
   "cell_type": "code",
   "execution_count": 141,
   "id": "12989bb3",
   "metadata": {},
   "outputs": [],
   "source": [
    "#sets can be created in 2 ways \n",
    "s1 = set(\"e\")#only one argument is allowed\n",
    "s2 = {1,2,5,7,\"u\"}"
   ]
  },
  {
   "cell_type": "code",
   "execution_count": 143,
   "id": "0a0893de",
   "metadata": {},
   "outputs": [
    {
     "data": {
      "text/plain": [
       "{'e'}"
      ]
     },
     "execution_count": 143,
     "metadata": {},
     "output_type": "execute_result"
    }
   ],
   "source": [
    "s1\n"
   ]
  },
  {
   "cell_type": "code",
   "execution_count": 144,
   "id": "1c3b6565",
   "metadata": {},
   "outputs": [
    {
     "data": {
      "text/plain": [
       "{1, 2, 5, 7, 'u'}"
      ]
     },
     "execution_count": 144,
     "metadata": {},
     "output_type": "execute_result"
    }
   ],
   "source": [
    "s2"
   ]
  },
  {
   "cell_type": "code",
   "execution_count": 146,
   "id": "792f7154",
   "metadata": {},
   "outputs": [],
   "source": [
    "s1.add(1)"
   ]
  },
  {
   "cell_type": "code",
   "execution_count": 147,
   "id": "2923f692",
   "metadata": {},
   "outputs": [],
   "source": [
    "s1.add(4)"
   ]
  },
  {
   "cell_type": "code",
   "execution_count": 148,
   "id": "d04704d7",
   "metadata": {},
   "outputs": [
    {
     "name": "stdout",
     "output_type": "stream",
     "text": [
      "s1 {1, 4, 'e'}\n",
      "s2 {1, 2, 5, 7, 'u'}\n"
     ]
    }
   ],
   "source": [
    "print(\"s1\",s1)\n",
    "print(\"s2\",s2)"
   ]
  },
  {
   "cell_type": "code",
   "execution_count": 149,
   "id": "0b373d92",
   "metadata": {},
   "outputs": [
    {
     "name": "stdout",
     "output_type": "stream",
     "text": [
      "{1, 2, 3, 4}\n"
     ]
    }
   ],
   "source": [
    "print({1,1,2,3,4,4,3,2})"
   ]
  },
  {
   "cell_type": "code",
   "execution_count": 150,
   "id": "fd651b44",
   "metadata": {},
   "outputs": [],
   "source": [
    "s3 = {1,9,3,6,7,4}"
   ]
  },
  {
   "cell_type": "markdown",
   "id": "7148215d",
   "metadata": {},
   "source": [
    ".\n",
    "\n",
    "Boolean, which gives obnly true or false"
   ]
  },
  {
   "cell_type": "code",
   "execution_count": 152,
   "id": "1cfb6915",
   "metadata": {},
   "outputs": [],
   "source": [
    "s = True"
   ]
  },
  {
   "cell_type": "code",
   "execution_count": 153,
   "id": "206d406a",
   "metadata": {},
   "outputs": [
    {
     "data": {
      "text/plain": [
       "True"
      ]
     },
     "execution_count": 153,
     "metadata": {},
     "output_type": "execute_result"
    }
   ],
   "source": [
    "s"
   ]
  },
  {
   "cell_type": "code",
   "execution_count": 154,
   "id": "403d87df",
   "metadata": {},
   "outputs": [],
   "source": [
    "t = False"
   ]
  },
  {
   "cell_type": "code",
   "execution_count": 155,
   "id": "694d6d75",
   "metadata": {},
   "outputs": [
    {
     "data": {
      "text/plain": [
       "False"
      ]
     },
     "execution_count": 155,
     "metadata": {},
     "output_type": "execute_result"
    }
   ],
   "source": [
    "t"
   ]
  },
  {
   "cell_type": "code",
   "execution_count": 156,
   "id": "212aaf13",
   "metadata": {},
   "outputs": [
    {
     "data": {
      "text/plain": [
       "False"
      ]
     },
     "execution_count": 156,
     "metadata": {},
     "output_type": "execute_result"
    }
   ],
   "source": [
    "s == t"
   ]
  },
  {
   "cell_type": "code",
   "execution_count": 157,
   "id": "a1cfc5a6",
   "metadata": {
    "scrolled": true
   },
   "outputs": [
    {
     "data": {
      "text/plain": [
       "True"
      ]
     },
     "execution_count": 157,
     "metadata": {},
     "output_type": "execute_result"
    }
   ],
   "source": [
    "s != t"
   ]
  },
  {
   "cell_type": "code",
   "execution_count": 158,
   "id": "915ca29d",
   "metadata": {},
   "outputs": [
    {
     "data": {
      "text/plain": [
       "True"
      ]
     },
     "execution_count": 158,
     "metadata": {},
     "output_type": "execute_result"
    }
   ],
   "source": [
    "s > t"
   ]
  },
  {
   "cell_type": "code",
   "execution_count": 160,
   "id": "d6dbf61e",
   "metadata": {},
   "outputs": [
    {
     "data": {
      "text/plain": [
       "False"
      ]
     },
     "execution_count": 160,
     "metadata": {},
     "output_type": "execute_result"
    }
   ],
   "source": [
    "s < t"
   ]
  },
  {
   "cell_type": "code",
   "execution_count": null,
   "id": "b92ab7c1",
   "metadata": {},
   "outputs": [],
   "source": []
  }
 ],
 "metadata": {
  "kernelspec": {
   "display_name": "Python 3 (ipykernel)",
   "language": "python",
   "name": "python3"
  },
  "language_info": {
   "codemirror_mode": {
    "name": "ipython",
    "version": 3
   },
   "file_extension": ".py",
   "mimetype": "text/x-python",
   "name": "python",
   "nbconvert_exporter": "python",
   "pygments_lexer": "ipython3",
   "version": "3.10.9"
  }
 },
 "nbformat": 4,
 "nbformat_minor": 5
}
