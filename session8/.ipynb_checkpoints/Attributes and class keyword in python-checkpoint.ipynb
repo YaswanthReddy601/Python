{
 "cells": [
  {
   "cell_type": "code",
   "execution_count": 1,
   "id": "42753e65",
   "metadata": {},
   "outputs": [],
   "source": [
    "#crating class\n",
    "class Class1:\n",
    "    pass"
   ]
  },
  {
   "cell_type": "code",
   "execution_count": 2,
   "id": "82705bdc",
   "metadata": {},
   "outputs": [],
   "source": [
    "#creating an instance of the class\n",
    "x = Class1()"
   ]
  },
  {
   "cell_type": "code",
   "execution_count": 4,
   "id": "bf8b9cfe",
   "metadata": {},
   "outputs": [
    {
     "data": {
      "text/plain": [
       "__main__.Class1"
      ]
     },
     "execution_count": 4,
     "metadata": {},
     "output_type": "execute_result"
    }
   ],
   "source": [
    "type(x)"
   ]
  },
  {
   "cell_type": "code",
   "execution_count": 17,
   "id": "557038e0",
   "metadata": {},
   "outputs": [],
   "source": [
    "class Human:\n",
    "    def __init__(self,name):\n",
    "        print(name)\n",
    "        self.name=\"rama\"\n",
    "        print(name)"
   ]
  },
  {
   "cell_type": "code",
   "execution_count": 19,
   "id": "1595fcb0",
   "metadata": {},
   "outputs": [
    {
     "name": "stdout",
     "output_type": "stream",
     "text": [
      "ram\n",
      "ram\n"
     ]
    }
   ],
   "source": [
    "h = Human(\"ram\")"
   ]
  },
  {
   "cell_type": "code",
   "execution_count": 7,
   "id": "095fd54d",
   "metadata": {},
   "outputs": [
    {
     "data": {
      "text/plain": [
       "__main__.Human"
      ]
     },
     "execution_count": 7,
     "metadata": {},
     "output_type": "execute_result"
    }
   ],
   "source": [
    "type(h)"
   ]
  },
  {
   "cell_type": "code",
   "execution_count": 21,
   "id": "c0196218",
   "metadata": {},
   "outputs": [
    {
     "data": {
      "text/plain": [
       "False"
      ]
     },
     "execution_count": 21,
     "metadata": {},
     "output_type": "execute_result"
    }
   ],
   "source": [
    "h.name==\"ram\""
   ]
  },
  {
   "cell_type": "code",
   "execution_count": 27,
   "id": "f7eb84c4",
   "metadata": {},
   "outputs": [
    {
     "name": "stdout",
     "output_type": "stream",
     "text": [
      "t\n",
      "t\n"
     ]
    }
   ],
   "source": [
    "h.__init__(name=\"t\")"
   ]
  },
  {
   "cell_type": "code",
   "execution_count": 140,
   "id": "40b730b5",
   "metadata": {},
   "outputs": [],
   "source": [
    "class Car:\n",
    "    wheels = \"4 wheels\"\n",
    "    def __init__(self,company,model,color):\n",
    "        a = 1\n",
    "    def details(request,company,model,color):\n",
    "        print(company, model, color)"
   ]
  },
  {
   "cell_type": "code",
   "execution_count": 141,
   "id": "307a3f4c",
   "metadata": {},
   "outputs": [
    {
     "data": {
      "text/plain": [
       "'4 wheels'"
      ]
     },
     "execution_count": 141,
     "metadata": {},
     "output_type": "execute_result"
    }
   ],
   "source": [
    "Car.wheels"
   ]
  },
  {
   "cell_type": "code",
   "execution_count": 142,
   "id": "4a29add0",
   "metadata": {},
   "outputs": [],
   "source": [
    "Car1 = Car(\"honda\",\"as\",\"red\")"
   ]
  },
  {
   "cell_type": "code",
   "execution_count": 143,
   "id": "51226768",
   "metadata": {},
   "outputs": [
    {
     "data": {
      "text/plain": [
       "'4 wheels'"
      ]
     },
     "execution_count": 143,
     "metadata": {},
     "output_type": "execute_result"
    }
   ],
   "source": [
    "Car1.wheels"
   ]
  },
  {
   "cell_type": "code",
   "execution_count": 144,
   "id": "63f74173",
   "metadata": {},
   "outputs": [
    {
     "name": "stdout",
     "output_type": "stream",
     "text": [
      "company model color\n"
     ]
    }
   ],
   "source": [
    "Car1.details(\"company\",\"model\",\"color\")"
   ]
  },
  {
   "cell_type": "code",
   "execution_count": 145,
   "id": "6c5c8c0d",
   "metadata": {},
   "outputs": [
    {
     "name": "stdout",
     "output_type": "stream",
     "text": [
      "TOyota Uzi4v white\n"
     ]
    }
   ],
   "source": [
    "Car1.details( \"TOyota\" ,\"Uzi4v\", \"white\")"
   ]
  },
  {
   "cell_type": "code",
   "execution_count": 149,
   "id": "bd2a6a77",
   "metadata": {},
   "outputs": [],
   "source": [
    "class C1:\n",
    "    def m1(self,name):\n",
    "        print(name)"
   ]
  },
  {
   "cell_type": "code",
   "execution_count": 150,
   "id": "38c15620",
   "metadata": {},
   "outputs": [],
   "source": [
    "CC1 = C1()"
   ]
  },
  {
   "cell_type": "code",
   "execution_count": 151,
   "id": "2503e492",
   "metadata": {},
   "outputs": [
    {
     "name": "stdout",
     "output_type": "stream",
     "text": [
      "ram\n"
     ]
    }
   ],
   "source": [
    "CC1.m1(\"ram\")"
   ]
  },
  {
   "cell_type": "code",
   "execution_count": 152,
   "id": "eaf237cd",
   "metadata": {},
   "outputs": [],
   "source": [
    "#we need to write self keyword in every method arguments"
   ]
  },
  {
   "cell_type": "code",
   "execution_count": null,
   "id": "38126d39",
   "metadata": {},
   "outputs": [],
   "source": []
  },
  {
   "cell_type": "code",
   "execution_count": 165,
   "id": "587d99e0",
   "metadata": {},
   "outputs": [],
   "source": [
    "class Circle:\n",
    "    pi = 3.14\n",
    "\n",
    "    # Circle gets instantiated with a radius (default is 1)\n",
    "    def __init__(self, radius=1):\n",
    "        self.radius = radius \n",
    "        self.area = radius * radius * Circle.pi\n",
    "\n",
    "    # Method for resetting Radius\n",
    "    def setRadius(self, new_radius):\n",
    "        radius = new_radius\n",
    "        self.area = new_radius * new_radius * self.pi\n",
    "\n",
    "    # Method for getting Circumference\n",
    "    def getCircumference(self):\n",
    "        return self.radius * self.pi * 2"
   ]
  },
  {
   "cell_type": "code",
   "execution_count": 166,
   "id": "2e61874a",
   "metadata": {},
   "outputs": [
    {
     "name": "stdout",
     "output_type": "stream",
     "text": [
      "Radius is:  1\n",
      "Area is:  3.14\n",
      "Circumference is:  6.28\n",
      "Radius is:  1\n",
      "Area is:  12.56\n",
      "Circumference is:  6.28\n"
     ]
    }
   ],
   "source": [
    "c = Circle()\n",
    "\n",
    "print('Radius is: ',c.radius)\n",
    "print('Area is: ',c.area)\n",
    "print('Circumference is: ',c.getCircumference())\n",
    "c.setRadius(2)\n",
    "print('Radius is: ',c.radius)\n",
    "print('Area is: ',c.area)\n",
    "print('Circumference is: ',c.getCircumference())"
   ]
  },
  {
   "cell_type": "code",
   "execution_count": null,
   "id": "92292e4a",
   "metadata": {},
   "outputs": [],
   "source": []
  },
  {
   "cell_type": "code",
   "execution_count": 232,
   "id": "21aefef7",
   "metadata": {},
   "outputs": [],
   "source": [
    "class Human:\n",
    "    def __init__(self,name):\n",
    "        self.name = \"rama\"\n",
    "    def human1(self):\n",
    "        print(name)\n",
    "        "
   ]
  },
  {
   "cell_type": "code",
   "execution_count": 233,
   "id": "fd1a1e8c",
   "metadata": {},
   "outputs": [],
   "source": [
    "h1 = Human(\"Ram\")"
   ]
  },
  {
   "cell_type": "code",
   "execution_count": 234,
   "id": "e6b09c9e",
   "metadata": {},
   "outputs": [
    {
     "ename": "NameError",
     "evalue": "name 'name' is not defined",
     "output_type": "error",
     "traceback": [
      "\u001b[1;31m---------------------------------------------------------------------------\u001b[0m",
      "\u001b[1;31mNameError\u001b[0m                                 Traceback (most recent call last)",
      "Cell \u001b[1;32mIn[234], line 1\u001b[0m\n\u001b[1;32m----> 1\u001b[0m \u001b[43mh1\u001b[49m\u001b[38;5;241;43m.\u001b[39;49m\u001b[43mhuman1\u001b[49m\u001b[43m(\u001b[49m\u001b[43m)\u001b[49m\n",
      "Cell \u001b[1;32mIn[232], line 5\u001b[0m, in \u001b[0;36mHuman.human1\u001b[1;34m(self)\u001b[0m\n\u001b[0;32m      4\u001b[0m \u001b[38;5;28;01mdef\u001b[39;00m \u001b[38;5;21mhuman1\u001b[39m(\u001b[38;5;28mself\u001b[39m):\n\u001b[1;32m----> 5\u001b[0m     \u001b[38;5;28mprint\u001b[39m(\u001b[43mname\u001b[49m)\n",
      "\u001b[1;31mNameError\u001b[0m: name 'name' is not defined"
     ]
    }
   ],
   "source": [
    "h1.human1()#NameError: name 'name' is not defined Because to print name value in human1() method we need to use\n",
    "                                                                        #self keyword which points to the current keyword\n"
   ]
  },
  {
   "cell_type": "code",
   "execution_count": 191,
   "id": "94c79261",
   "metadata": {},
   "outputs": [],
   "source": [
    "class Car: \n",
    "    def __init__(self, model): \n",
    "        self.model = model \n",
    "    def Car_info(self,model): \n",
    "        print(\"Model : \", model)"
   ]
  },
  {
   "cell_type": "code",
   "execution_count": 192,
   "id": "872882bd",
   "metadata": {},
   "outputs": [],
   "source": [
    "C2 = Car(\"A\")"
   ]
  },
  {
   "cell_type": "code",
   "execution_count": 193,
   "id": "fa355236",
   "metadata": {},
   "outputs": [
    {
     "name": "stdout",
     "output_type": "stream",
     "text": [
      "Model :  B\n"
     ]
    }
   ],
   "source": [
    "C2.Car_info(\"B\")"
   ]
  },
  {
   "cell_type": "code",
   "execution_count": 219,
   "id": "f39c14db",
   "metadata": {},
   "outputs": [],
   "source": [
    "class Human:\n",
    "    def __init__(self,name):\n",
    "        pass\n",
    "    def human1(self):\n",
    "        print(self.name)"
   ]
  },
  {
   "cell_type": "code",
   "execution_count": 220,
   "id": "9e30f47c",
   "metadata": {},
   "outputs": [],
   "source": [
    "h2 = Human(\"ram\")"
   ]
  },
  {
   "cell_type": "code",
   "execution_count": 222,
   "id": "7a7363e7",
   "metadata": {},
   "outputs": [
    {
     "ename": "AttributeError",
     "evalue": "'Human' object has no attribute 'name'",
     "output_type": "error",
     "traceback": [
      "\u001b[1;31m---------------------------------------------------------------------------\u001b[0m",
      "\u001b[1;31mAttributeError\u001b[0m                            Traceback (most recent call last)",
      "Cell \u001b[1;32mIn[222], line 1\u001b[0m\n\u001b[1;32m----> 1\u001b[0m \u001b[43mh2\u001b[49m\u001b[38;5;241;43m.\u001b[39;49m\u001b[43mhuman1\u001b[49m\u001b[43m(\u001b[49m\u001b[43m)\u001b[49m\n",
      "Cell \u001b[1;32mIn[219], line 5\u001b[0m, in \u001b[0;36mHuman.human1\u001b[1;34m(self)\u001b[0m\n\u001b[0;32m      4\u001b[0m \u001b[38;5;28;01mdef\u001b[39;00m \u001b[38;5;21mhuman1\u001b[39m(\u001b[38;5;28mself\u001b[39m):\n\u001b[1;32m----> 5\u001b[0m     \u001b[38;5;28mprint\u001b[39m(\u001b[38;5;28;43mself\u001b[39;49m\u001b[38;5;241;43m.\u001b[39;49m\u001b[43mname\u001b[49m)\n",
      "\u001b[1;31mAttributeError\u001b[0m: 'Human' object has no attribute 'name'"
     ]
    }
   ],
   "source": [
    "h2.human1() # AttributeError: 'Human' object has no attribute 'name'"
   ]
  },
  {
   "cell_type": "code",
   "execution_count": null,
   "id": "da8d1e08",
   "metadata": {},
   "outputs": [],
   "source": []
  },
  {
   "cell_type": "code",
   "execution_count": 225,
   "id": "2497ac82",
   "metadata": {},
   "outputs": [],
   "source": [
    "class Human:\n",
    "    def __init__(self,name):\n",
    "        self.name = None\n",
    "    def human1(self):\n",
    "        print(self.name)\n",
    "        "
   ]
  },
  {
   "cell_type": "code",
   "execution_count": 226,
   "id": "1cf198ff",
   "metadata": {},
   "outputs": [],
   "source": [
    "h3 = Human(\"ram\")"
   ]
  },
  {
   "cell_type": "code",
   "execution_count": 227,
   "id": "542aa92d",
   "metadata": {},
   "outputs": [
    {
     "name": "stdout",
     "output_type": "stream",
     "text": [
      "None\n"
     ]
    }
   ],
   "source": [
    "h3.human1()"
   ]
  },
  {
   "cell_type": "code",
   "execution_count": 228,
   "id": "0eceda0f",
   "metadata": {},
   "outputs": [],
   "source": [
    "class Human:\n",
    "    def __init__(self,name):\n",
    "        self.name = \"rama\"\n",
    "    def human1(self):\n",
    "        print(self.name)\n",
    "        "
   ]
  },
  {
   "cell_type": "code",
   "execution_count": 229,
   "id": "1ba1c395",
   "metadata": {},
   "outputs": [],
   "source": [
    "h4 = Human(\"Seetha\")# at line 2 parameeter the value of name is \"seetha\" later at line 3 it is overriden "
   ]
  },
  {
   "cell_type": "code",
   "execution_count": 231,
   "id": "1add2ddb",
   "metadata": {},
   "outputs": [
    {
     "name": "stdout",
     "output_type": "stream",
     "text": [
      "rama\n"
     ]
    }
   ],
   "source": [
    "h4.human1()#it tales the current pointing"
   ]
  },
  {
   "cell_type": "code",
   "execution_count": null,
   "id": "76fd354d",
   "metadata": {},
   "outputs": [],
   "source": []
  }
 ],
 "metadata": {
  "kernelspec": {
   "display_name": "Python 3 (ipykernel)",
   "language": "python",
   "name": "python3"
  },
  "language_info": {
   "codemirror_mode": {
    "name": "ipython",
    "version": 3
   },
   "file_extension": ".py",
   "mimetype": "text/x-python",
   "name": "python",
   "nbconvert_exporter": "python",
   "pygments_lexer": "ipython3",
   "version": "3.10.9"
  }
 },
 "nbformat": 4,
 "nbformat_minor": 5
}
