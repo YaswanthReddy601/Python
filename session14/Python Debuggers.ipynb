{
 "cells": [
  {
   "cell_type": "code",
   "execution_count": 1,
   "id": "9922c00b",
   "metadata": {},
   "outputs": [],
   "source": [
    "#The python debugger module implements an interactive debugging environment for Python programs"
   ]
  },
  {
   "cell_type": "code",
   "execution_count": 5,
   "id": "39cfebce",
   "metadata": {},
   "outputs": [
    {
     "ename": "TypeError",
     "evalue": "can only concatenate list (not \"str\") to list",
     "output_type": "error",
     "traceback": [
      "\u001b[1;31m---------------------------------------------------------------------------\u001b[0m",
      "\u001b[1;31mTypeError\u001b[0m                                 Traceback (most recent call last)",
      "Cell \u001b[1;32mIn[5], line 7\u001b[0m\n\u001b[0;32m      3\u001b[0m c \u001b[38;5;241m=\u001b[39m \u001b[38;5;124m\"\u001b[39m\u001b[38;5;124mravan\u001b[39m\u001b[38;5;124m\"\u001b[39m\n\u001b[0;32m      5\u001b[0m r1 \u001b[38;5;241m=\u001b[39m b \u001b[38;5;241m+\u001b[39m c\n\u001b[1;32m----> 7\u001b[0m r2 \u001b[38;5;241m=\u001b[39m \u001b[43ma\u001b[49m\u001b[43m \u001b[49m\u001b[38;5;241;43m+\u001b[39;49m\u001b[43m \u001b[49m\u001b[43mb\u001b[49m\n",
      "\u001b[1;31mTypeError\u001b[0m: can only concatenate list (not \"str\") to list"
     ]
    }
   ],
   "source": [
    "a = [\"ram\",\"seeta\"]\n",
    "b = \"ram\"\n",
    "c = \"ravan\"\n",
    "\n",
    "r1 = b + c\n",
    "\n",
    "r2 = a + b"
   ]
  },
  {
   "cell_type": "code",
   "execution_count": null,
   "id": "effac49f",
   "metadata": {},
   "outputs": [
    {
     "name": "stdout",
     "output_type": "stream",
     "text": [
      "--Return--\n",
      "None\n",
      "> \u001b[1;32mc:\\users\\yaswa\\appdata\\local\\temp\\ipykernel_8440\\2626352869.py\u001b[0m(9)\u001b[0;36m<module>\u001b[1;34m()\u001b[0m\n",
      "\n",
      "ipdb> r1\n",
      "'ramravan'\n",
      "ipdb> print(a)\n",
      "['ram', 'seeta']\n",
      "ipdb> print(b)\n",
      "ram\n",
      "ipdb> print(c)\n",
      "ravan\n",
      "ipdb> r2\n",
      "*** NameError: name 'r2' is not defined\n"
     ]
    }
   ],
   "source": [
    "import pdb\n",
    "\n",
    "a = [\"ram\",\"seeta\"]\n",
    "b = \"ram\"\n",
    "c = \"ravan\"\n",
    "\n",
    "r1 = b + c\n",
    "\n",
    "pdb.set_trace()\n",
    "\n",
    "r2 = a + b\n",
    "#We can also write 1+1 in pdb"
   ]
  },
  {
   "cell_type": "code",
   "execution_count": null,
   "id": "b4e880c4",
   "metadata": {},
   "outputs": [],
   "source": []
  }
 ],
 "metadata": {
  "kernelspec": {
   "display_name": "Python 3 (ipykernel)",
   "language": "python",
   "name": "python3"
  },
  "language_info": {
   "codemirror_mode": {
    "name": "ipython",
    "version": 3
   },
   "file_extension": ".py",
   "mimetype": "text/x-python",
   "name": "python",
   "nbconvert_exporter": "python",
   "pygments_lexer": "ipython3",
   "version": "3.10.9"
  }
 },
 "nbformat": 4,
 "nbformat_minor": 5
}
