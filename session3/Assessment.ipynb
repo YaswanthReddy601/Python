{
 "cells": [
  {
   "cell_type": "code",
   "execution_count": 11,
   "id": "b5ba877c",
   "metadata": {},
   "outputs": [
    {
     "data": {
      "text/plain": [
       "100.25"
      ]
     },
     "execution_count": 11,
     "metadata": {},
     "output_type": "execute_result"
    }
   ],
   "source": [
    "#Write an equation that uses multiplication, division, an exponent, addition, and subtraction that is equal to 100.25.\n",
    "1*10/1e1+100.25-1"
   ]
  },
  {
   "cell_type": "code",
   "execution_count": 12,
   "id": "fde168ec",
   "metadata": {},
   "outputs": [],
   "source": [
    "#What is the value of the expression 4 * (6 + 5)\n",
    "#44\n",
    "#What is the value of the expression 4 * 6 + 5 \n",
    "#29\n",
    "#What is the value of the expression 4 + 6 * 5\n",
    "#34"
   ]
  },
  {
   "cell_type": "code",
   "execution_count": 15,
   "id": "9b7368e5",
   "metadata": {},
   "outputs": [],
   "source": [
    "#What is the type of the result of the expression 3 + 1.5 + 4?\n",
    "#float"
   ]
  },
  {
   "cell_type": "code",
   "execution_count": 16,
   "id": "7b6ae879",
   "metadata": {},
   "outputs": [],
   "source": [
    "#What would you use to find a number’s square root, as well as its square?\n",
    "\n",
    "#square root: x*0.5\n",
    "#root: X*X"
   ]
  },
  {
   "cell_type": "code",
   "execution_count": 17,
   "id": "ab8a05cc",
   "metadata": {},
   "outputs": [
    {
     "data": {
      "text/plain": [
       "'e'"
      ]
     },
     "execution_count": 17,
     "metadata": {},
     "output_type": "execute_result"
    }
   ],
   "source": [
    "s = 'hello'\n",
    "# Print out 'e' using indexing\n",
    "s[1]"
   ]
  },
  {
   "cell_type": "code",
   "execution_count": 18,
   "id": "92e7a792",
   "metadata": {},
   "outputs": [
    {
     "data": {
      "text/plain": [
       "'olleh'"
      ]
     },
     "execution_count": 18,
     "metadata": {},
     "output_type": "execute_result"
    }
   ],
   "source": [
    "#Reverse the string 'hello' using slicing:\n",
    "s[::-1]"
   ]
  },
  {
   "cell_type": "code",
   "execution_count": 24,
   "id": "a8649e7f",
   "metadata": {},
   "outputs": [
    {
     "data": {
      "text/plain": [
       "'o'"
      ]
     },
     "execution_count": 24,
     "metadata": {},
     "output_type": "execute_result"
    }
   ],
   "source": [
    "#Given the string hello, give two methods of producing the letter 'o' using indexing.\n",
    "s ='hello'\n",
    "# Method 1:\n",
    "s[4]"
   ]
  },
  {
   "cell_type": "code",
   "execution_count": 25,
   "id": "e9b6f142",
   "metadata": {},
   "outputs": [
    {
     "data": {
      "text/plain": [
       "'o'"
      ]
     },
     "execution_count": 25,
     "metadata": {},
     "output_type": "execute_result"
    }
   ],
   "source": [
    "# Method 2:\n",
    "s[-1]"
   ]
  },
  {
   "cell_type": "code",
   "execution_count": 26,
   "id": "a5fd5ab0",
   "metadata": {},
   "outputs": [],
   "source": [
    "#Build this list [0,0,0] two separate ways.\n",
    "# Method 1:\n",
    "l1=[0]*3\n",
    "# Method 2:\n",
    "l2=[0,0,0]"
   ]
  },
  {
   "cell_type": "code",
   "execution_count": 34,
   "id": "93440031",
   "metadata": {},
   "outputs": [
    {
     "data": {
      "text/plain": [
       "[1, 2, [3, 4, ['goodbye']]]"
      ]
     },
     "execution_count": 34,
     "metadata": {},
     "output_type": "execute_result"
    }
   ],
   "source": [
    "#Reassign 'hello' in this nested list to say 'goodbye' instead:\n",
    "list3 = [1,2,[3,4,'hello']]\n",
    "list3[2][2] = ['goodbye']\n",
    "list3"
   ]
  },
  {
   "cell_type": "code",
   "execution_count": 35,
   "id": "08b549c5",
   "metadata": {},
   "outputs": [],
   "source": [
    "#Sort the list below:\n",
    "list4 = [5,3,4,6,1]\n",
    "list4.sort()"
   ]
  },
  {
   "cell_type": "code",
   "execution_count": 36,
   "id": "c5c31d34",
   "metadata": {},
   "outputs": [
    {
     "data": {
      "text/plain": [
       "[1, 3, 4, 5, 6]"
      ]
     },
     "execution_count": 36,
     "metadata": {},
     "output_type": "execute_result"
    }
   ],
   "source": [
    "list4"
   ]
  },
  {
   "cell_type": "code",
   "execution_count": 37,
   "id": "8e639ee5",
   "metadata": {},
   "outputs": [
    {
     "data": {
      "text/plain": [
       "'hello'"
      ]
     },
     "execution_count": 37,
     "metadata": {},
     "output_type": "execute_result"
    }
   ],
   "source": [
    "d = {'simple_key':'hello'}\n",
    "# Grab 'hello'\n",
    "d[\"simple_key\"]"
   ]
  },
  {
   "cell_type": "code",
   "execution_count": 38,
   "id": "1afe77dd",
   "metadata": {},
   "outputs": [
    {
     "data": {
      "text/plain": [
       "'hello'"
      ]
     },
     "execution_count": 38,
     "metadata": {},
     "output_type": "execute_result"
    }
   ],
   "source": [
    "d = {'k1':{'k2':'hello'}}\n",
    "# Grab 'hello\n",
    "d['k1']['k2']"
   ]
  },
  {
   "cell_type": "code",
   "execution_count": 61,
   "id": "07c5e5e1",
   "metadata": {},
   "outputs": [
    {
     "data": {
      "text/plain": [
       "'hello'"
      ]
     },
     "execution_count": 61,
     "metadata": {},
     "output_type": "execute_result"
    }
   ],
   "source": [
    "# Getting a little tricker\n",
    "d = {'k1':[{'nest_key':['this is deep',['hello']]}]}\n",
    "#Grab hello\n",
    "d[\"k1\"][0]['nest_key'][1][0]"
   ]
  },
  {
   "cell_type": "code",
   "execution_count": null,
   "id": "c54611df",
   "metadata": {},
   "outputs": [],
   "source": [
    "#What is the major difference between tuples and lists?\n",
    "#lists are mutable but tuples are immutable"
   ]
  },
  {
   "cell_type": "code",
   "execution_count": 49,
   "id": "064aa59f",
   "metadata": {},
   "outputs": [],
   "source": [
    "#How do you create a tuple?\n",
    "#by using ()#parnthasis separated by camas"
   ]
  },
  {
   "cell_type": "code",
   "execution_count": 50,
   "id": "eadf9605",
   "metadata": {},
   "outputs": [],
   "source": [
    "#What is unique about a set?\n",
    "#sets doesnot allow duplicates"
   ]
  },
  {
   "cell_type": "code",
   "execution_count": 53,
   "id": "7c7a6059",
   "metadata": {},
   "outputs": [
    {
     "name": "stdout",
     "output_type": "stream",
     "text": [
      "{1, 2, 33, 4, 3, 11, 22}\n"
     ]
    }
   ],
   "source": [
    "#Use a set to find the unique values of the list below:\n",
    "list5 = [1,2,2,33,4,4,11,22,3,3,2]\n",
    "set5 = set(list5)\n",
    "print(set5)"
   ]
  },
  {
   "cell_type": "code",
   "execution_count": 54,
   "id": "30ad3031",
   "metadata": {},
   "outputs": [
    {
     "data": {
      "text/plain": [
       "False"
      ]
     },
     "execution_count": 54,
     "metadata": {},
     "output_type": "execute_result"
    }
   ],
   "source": [
    "# Answer before running cell\n",
    "2 > 3\n",
    "#False"
   ]
  },
  {
   "cell_type": "code",
   "execution_count": 55,
   "id": "e8ad4e93",
   "metadata": {},
   "outputs": [
    {
     "data": {
      "text/plain": [
       "False"
      ]
     },
     "execution_count": 55,
     "metadata": {},
     "output_type": "execute_result"
    }
   ],
   "source": [
    "# Answer before running cell\n",
    "3 <= 2\n",
    "#False"
   ]
  },
  {
   "cell_type": "code",
   "execution_count": 56,
   "id": "c16b8e77",
   "metadata": {},
   "outputs": [
    {
     "data": {
      "text/plain": [
       "False"
      ]
     },
     "execution_count": 56,
     "metadata": {},
     "output_type": "execute_result"
    }
   ],
   "source": [
    "# Answer before running cell\n",
    "3 == 2.0\n",
    "##False"
   ]
  },
  {
   "cell_type": "code",
   "execution_count": 57,
   "id": "d9622ea8",
   "metadata": {},
   "outputs": [
    {
     "data": {
      "text/plain": [
       "True"
      ]
     },
     "execution_count": 57,
     "metadata": {},
     "output_type": "execute_result"
    }
   ],
   "source": [
    "# Answer before running cell\n",
    "3.0 == 3\n",
    "#True"
   ]
  },
  {
   "cell_type": "code",
   "execution_count": 58,
   "id": "5874390f",
   "metadata": {},
   "outputs": [
    {
     "data": {
      "text/plain": [
       "False"
      ]
     },
     "execution_count": 58,
     "metadata": {},
     "output_type": "execute_result"
    }
   ],
   "source": [
    "# Answer before running cell\n",
    "4**0.5 != 2\n",
    "#False"
   ]
  },
  {
   "cell_type": "code",
   "execution_count": 59,
   "id": "6e89b0f5",
   "metadata": {},
   "outputs": [
    {
     "data": {
      "text/plain": [
       "False"
      ]
     },
     "execution_count": 59,
     "metadata": {},
     "output_type": "execute_result"
    }
   ],
   "source": [
    "#Final Question: What is the boolean output of the cell block below?\n",
    "\n",
    "# two nested lists\n",
    "l_one = [1,2,[3,4]]\n",
    "l_two = [1,2,{'k1':4}]\n",
    "\n",
    "# True or False?\n",
    "l_one[2][0] >= l_two[2]['k1']\n",
    "#False"
   ]
  },
  {
   "cell_type": "code",
   "execution_count": null,
   "id": "b0b786c3",
   "metadata": {},
   "outputs": [],
   "source": []
  }
 ],
 "metadata": {
  "kernelspec": {
   "display_name": "Python 3 (ipykernel)",
   "language": "python",
   "name": "python3"
  },
  "language_info": {
   "codemirror_mode": {
    "name": "ipython",
    "version": 3
   },
   "file_extension": ".py",
   "mimetype": "text/x-python",
   "name": "python",
   "nbconvert_exporter": "python",
   "pygments_lexer": "ipython3",
   "version": "3.10.9"
  }
 },
 "nbformat": 4,
 "nbformat_minor": 5
}
