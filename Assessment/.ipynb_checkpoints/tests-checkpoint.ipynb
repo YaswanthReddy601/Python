{
 "cells": [
  {
   "cell_type": "code",
   "execution_count": 5,
   "id": "999bedcf",
   "metadata": {},
   "outputs": [
    {
     "name": "stdout",
     "output_type": "stream",
     "text": [
      "I want {} pens5\n",
      "5\n"
     ]
    }
   ],
   "source": [
    "x = int(input(\"I want {} pens\"))\n",
    "print(x)"
   ]
  },
  {
   "cell_type": "code",
   "execution_count": 15,
   "id": "e955475f",
   "metadata": {},
   "outputs": [
    {
     "data": {
      "text/plain": [
       "26"
      ]
     },
     "execution_count": 15,
     "metadata": {},
     "output_type": "execute_result"
    }
   ],
   "source": [
    "x = [11,2,3,5,5]\n",
    "sum(x)"
   ]
  },
  {
   "cell_type": "code",
   "execution_count": 70,
   "id": "76d58ae0",
   "metadata": {},
   "outputs": [
    {
     "name": "stdout",
     "output_type": "stream",
     "text": [
      "ram\n",
      "a\n",
      "a ram\n"
     ]
    }
   ],
   "source": [
    "class x:\n",
    "    cart =\"\"\n",
    "\n",
    "    def x1(self,name):\n",
    "        global cart\n",
    "        ptint(cart)\n",
    "        cart = input()\n",
    "        print(cart)\n",
    "x().x1(\"ram\")\n",
    "print(\"a\",cart)\n"
   ]
  },
  {
   "cell_type": "code",
   "execution_count": 48,
   "id": "d1bb434a",
   "metadata": {},
   "outputs": [
    {
     "data": {
      "text/plain": [
       "{'pens': 12, 'pencles': 0, 'notebooks': 0, 'chocolates': 0, 'biscuits': 0}"
      ]
     },
     "execution_count": 48,
     "metadata": {},
     "output_type": "execute_result"
    }
   ],
   "source": [
    "caart = {\"pens\":0,\"pencles\":0,\"notebooks\":0,\"chocolates\":0,\"biscuits\":0}\n",
    "caart[\"pens\"] += 6\n",
    "caart[\"pens\"] += 6\n",
    "caart"
   ]
  },
  {
   "cell_type": "code",
   "execution_count": 49,
   "id": "54319622",
   "metadata": {},
   "outputs": [
    {
     "ename": "IndentationError",
     "evalue": "expected an indented block after function definition on line 24 (2158223403.py, line 25)",
     "output_type": "error",
     "traceback": [
      "\u001b[1;36m  Cell \u001b[1;32mIn[49], line 25\u001b[1;36m\u001b[0m\n\u001b[1;33m    global pens\u001b[0m\n\u001b[1;37m    ^\u001b[0m\n\u001b[1;31mIndentationError\u001b[0m\u001b[1;31m:\u001b[0m expected an indented block after function definition on line 24\n"
     ]
    }
   ],
   "source": []
  },
  {
   "cell_type": "code",
   "execution_count": 50,
   "id": "382dfd52",
   "metadata": {},
   "outputs": [],
   "source": [
    "import datetime\n",
    "bill = datetime.datetime.now()"
   ]
  },
  {
   "cell_type": "code",
   "execution_count": 52,
   "id": "6ae58096",
   "metadata": {},
   "outputs": [
    {
     "name": "stdout",
     "output_type": "stream",
     "text": [
      "2023-06-09 13:23:45.926628\n"
     ]
    }
   ],
   "source": [
    "print(bill)"
   ]
  },
  {
   "cell_type": "code",
   "execution_count": 54,
   "id": "dc9f52d7",
   "metadata": {},
   "outputs": [
    {
     "ename": "IndentationError",
     "evalue": "unindent does not match any outer indentation level (<tokenize>, line 24)",
     "output_type": "error",
     "traceback": [
      "\u001b[1;36m  File \u001b[1;32m<tokenize>:24\u001b[1;36m\u001b[0m\n\u001b[1;33m    def notebook(self):\u001b[0m\n\u001b[1;37m    ^\u001b[0m\n\u001b[1;31mIndentationError\u001b[0m\u001b[1;31m:\u001b[0m unindent does not match any outer indentation level\n"
     ]
    }
   ],
   "source": [
    "class Customer:\n",
    "    name = \"\"\n",
    "    total = 0\n",
    "    def selecting_items(self):\n",
    "        global total\n",
    "        item = input(\"I want : \")\n",
    "        if item == \"pens\":\n",
    "            self.total = invent.pen()\n",
    "            return self.total\n",
    "        elif item == \"pencils\":\n",
    "            self.total = invent.pencil() \n",
    "            return self.total\n",
    "        elif item == \"notebooks\":\n",
    "            self.total = invent.notebook()\n",
    "            return self.total\n",
    "        elif item == \"erasers\":\n",
    "            self.total = invent.eraser()\n",
    "            return self.total\n",
    "        elif item == \"chocolates\":\n",
    "            self.total = invent.chocolate()\n",
    "            return self.total\n",
    "        elif item == \"biscuits\":\n",
    "            self.total = invent.biscuit()\n",
    "            return self.total\n",
    "        else:\n",
    "            print(\"Sorry we dont have that item\")\n",
    "            \n",
    "    def choose_quantity(self):\n",
    "        self.quant = int(input(\"I want : \"))\n",
    "        return self.quant\n",
    "    \n",
    "    \n",
    "    def choose_decide(self):\n",
    "        option = str(input(\"choose yes or no : \"))\n",
    "        return option\n",
    "    \n",
    "    def name(self):\n",
    "        self.name = input(\"My name is :\")\n",
    "        return self.name"
   ]
  },
  {
   "cell_type": "code",
   "execution_count": 71,
   "id": "4dad6ebb",
   "metadata": {},
   "outputs": [],
   "source": [
    "class Cart:\n",
    "    \n",
    "    quantity = []\n",
    "    cost = []\n",
    "    total_cost = 0\n",
    "    cart = {\"pens\":0,\"pencils\":0,\"notebooks\":0, \"erasers\":0, \"chocolates\":0,\"biscuits\":0}\n",
    "    \n",
    "    def add_cart(self,item,item_quantity,item_cost):\n",
    "        global cart, cost, total_cost\n",
    "        self.cart[item] += item_quantity\n",
    "        self.cost.append(item_cost)\n",
    "        self.total_cost = sum(self.cost)\n",
    "        print(f\"cart :{self.cart}\")\n",
    "        print(f\"your cart costs : {self.total_cost}\")    \n",
    "        return self.total_cost\n",
    "    \n"
   ]
  },
  {
   "cell_type": "code",
   "execution_count": null,
   "id": "17be7785",
   "metadata": {},
   "outputs": [],
   "source": [
    "import datetime\n",
    "class Payment:\n",
    "    name = \"\"\n",
    "    total_money = 0\n",
    "    def final_Payment(self,money):\n",
    "        global name, total_money\n",
    "        self.total_money = money\n",
    "        print(self.total_money)\n",
    "        print(f\"Your bill is {money}\")\n",
    "        name = InventoryShop().Owner()\n",
    "        Payment().billing(name, money)\n",
    "       \n",
    "    \n",
    "    def billing(self,name,money):\n",
    "        bill = datetime.datetime.now()\n",
    "        x = print(f\"on {bill} {name} paid {money} for the products he buyed in shop 'X'\")\n",
    "        "
   ]
  },
  {
   "cell_type": "code",
   "execution_count": null,
   "id": "c6280713",
   "metadata": {},
   "outputs": [],
   "source": [
    "class InventoryShop:\n",
    "    pencils = [10,3]\n",
    "    pens = [10,5]\n",
    "    notebooks = [10,20]\n",
    "    erasers = [10,2]\n",
    "    chocolates = [10,1]\n",
    "    biscuits = [10,5]\n",
    "    total_cost = 0\n",
    "    quantity = 0\n",
    "    \n",
    "    shopping = \"yes\"\n",
    "    cart = Cart()\n",
    "    \n",
    "    def Owner(self):\n",
    "        print(\"did the customer paid the money? (Yes/NO)\")\n",
    "        answer = input()\n",
    "        if answer == \"yes\" or answer == \"Yes\":\n",
    "            print(\"may i know your name ?\")\n",
    "            name = Customer().name()\n",
    "            print(name,\"rrr\")\n",
    "            return name\n",
    "        else:\n",
    "            print(\"Please pay to get the items...\")\n",
    "            InventoryShop().Owner()\n",
    "            \n",
    "    \n",
    "    \n",
    "    \n",
    "    def asking(self):\n",
    "        while self.shopping == \"yes\" or self.shopping == \"Yes\":\n",
    "            print(\"What do you want?\")\n",
    "            self.total_cost = Customer().selecting_items()\n",
    "            print(self.total_cost)\n",
    "        Payment().final_Payment(self.total_cost)\n",
    "            \n",
    "            \n",
    "    def pencil(self):\n",
    "        global pencils\n",
    "        if self.pencils[0] >= 1:\n",
    "            print(f\"Ok! each pencil cost is {self.pencils[1]} rupees, How many pencils do you want?:\")\n",
    "            quantity = Customer().choose_quantity()\n",
    "            if self.pencils[0] >= quantity:\n",
    "                self.pencils[0] = self.pencils[0] - self.quantity\n",
    "                cost = self.pencils[1]*quantity\n",
    "                print(f\"{quantity} pencils cost is {cost} rupees can i add to cart\")\n",
    "                opt = Customer().choose_decide()\n",
    "                if opt == \"yes\" or opt == \"Yes\":\n",
    "                    self.total =  self.cart.add_cart(\"pencils\",quantity,cost)\n",
    "                else:\n",
    "                    pass\n",
    "                \n",
    "            else:\n",
    "                print(f\"sorry sir, we have only {self.pencils[0]} pencils\")\n",
    "        else:\n",
    "            print(\"Sorry sir, we dont have pencils!! any thing else do you want sir\")\n",
    "            \n",
    "        self.shopping = input(\"Do you want any thing else (Yes/No)\")\n",
    "        return self.total\n",
    "        \n",
    "  \n",
    "        "
   ]
  },
  {
   "cell_type": "code",
   "execution_count": null,
   "id": "552dc539",
   "metadata": {},
   "outputs": [],
   "source": []
  },
  {
   "cell_type": "code",
   "execution_count": null,
   "id": "28238936",
   "metadata": {},
   "outputs": [],
   "source": [
    "class InventoryShop:\n",
    "    pencils = [10,3]\n",
    "    pens = [10,5]\n",
    "    notebooks = [10,20]\n",
    "    erasers = [10,2]\n",
    "    chocolates = [10,1]\n",
    "    biscuits = [10,5]\n",
    "    total_cost = 0\n",
    "    quantity = 0\n",
    "    \n",
    "    shopping = \"yes\"\n",
    "    cart = Cart()\n",
    "    name = \"\"\n",
    "    def Owner(self):\n",
    "        print(\"did the customer paid the money? (Yes/NO)\")\n",
    "        answer = input()\n",
    "        if answer == \"yes\" or answer == \"Yes\":\n",
    "            print(\"may i know your name ?\")\n",
    "            self.name = Customer().name()\n",
    "            print(self.name,\"rrr\")\n",
    "            return self.name\n",
    "        else:\n",
    "            print(\"Please pay to get the items...\")\n",
    "            InventoryShop().Owner()\n",
    "            \n",
    "    \n",
    "    \n",
    "    \n",
    "    def asking(self):\n",
    "        while self.shopping == \"yes\" or self.shopping == \"Yes\":\n",
    "            print(\"What do you want?\")\n",
    "            self.total_cost = Customer().selecting_items()\n",
    "            print(self.shopping)\n",
    "        Payment().final_Payment(self.total_cost)\n",
    "            \n",
    "            \n",
    "    def pencil(self):\n",
    "        global pencils\n",
    "        if self.pencils[0] >= 1:\n",
    "            print(f\"Ok! each pencil cost is {self.pencils[1]} rupees, How many pencils do you want?:\")\n",
    "            quantity = Customer().choose_quantity()\n",
    "            if self.pencils[0] >= quantity:\n",
    "                self.pencils[0] = self.pencils[0] - self.quantity\n",
    "                cost = self.pencils[1]*quantity\n",
    "                print(f\"{quantity} pencils cost is {cost} rupees can i add to cart\")\n",
    "                opt = Customer().choose_decide()\n",
    "                if opt == \"yes\" or opt == \"Yes\":\n",
    "                    self.total =  self.cart.add_cart(\"pencils\",quantity,cost)\n",
    "                else:\n",
    "                    pass\n",
    "                \n",
    "            else:\n",
    "                print(f\"sorry sir, we have only {self.pencils[0]} pencils\")\n",
    "        else:\n",
    "            print(\"Sorry sir, we dont have pencils!! any thing else do you want sir\")\n",
    "            \n",
    "        self.shopping = input(\"Do you want any thing else (Yes/No)\")\n",
    "        return self.total\n",
    "        \n",
    "    def pen(self):\n",
    "        global pens\n",
    "        if self.pens[0] >= 1:\n",
    "            print(f\"Ok! each pen cost is {self.pens[1]} rupees, How many pens do you want?:\")\n",
    "            quantity = Customer().choose_quantity()\n",
    "            if self.pens[0] >= quantity:\n",
    "                self.pens[0] = self.pens[0] - self.quantity\n",
    "                cost = self.pens[1]*quantity\n",
    "                print(f\"{quantity} pens cost is {cost} rupees can i add to cart\")\n",
    "                opt = Customer().choose_decide()\n",
    "                if opt == \"yes\" or opt == \"Yes\":\n",
    "                    self.total =  self.cart.add_cart(\"pens\",quantity,cost)\n",
    "                else:\n",
    "                    pass\n",
    "                \n",
    "            else:\n",
    "                print(f\"sorry sir, we have only {self.pens[0]} pens\")\n",
    "        else:\n",
    "            print(\"Sorry sir, we dont have pens!! any thing else do you want sir\")\n",
    "            \n",
    "        self.shopping = input(\"Do you want any thing else (Yes/No)\")\n",
    "        return self.total\n",
    "    \n",
    "    def notebook(self):\n",
    "        global notebooks\n",
    "        if self.pens[0] >= 1:\n",
    "            print(f\"Ok! each notebook cost is {self.notebooks[1]} rupees, How many notebooks do you want?:\")\n",
    "            quantity = Customer().choose_quantity()\n",
    "            if self.notebooks[0] >= quantity:\n",
    "                self.notebooks[0] = self.notebooks[0] - self.quantity\n",
    "                cost = self.notebooks[1]*quantity\n",
    "                print(f\"{quantity} notebooks cost is {cost} rupees can i add to cart\")\n",
    "                opt = Customer().choose_decide()\n",
    "                if opt == \"yes\" or opt == \"Yes\":\n",
    "                    self.total =  self.cart.add_cart(\"notebooks\",quantity,cost)\n",
    "                else:\n",
    "                    pass\n",
    "                \n",
    "            else:\n",
    "                print(f\"sorry sir, we have only {self.notebooks[0]} notebooks\")\n",
    "        else:\n",
    "            print(\"Sorry sir, we dont have notebooks!! any thing else do you want sir\")\n",
    "            \n",
    "        self.shopping = input(\"Do you want any thing else (Yes/No)\")\n",
    "        return self.total\n",
    "       \n",
    "    def eraser(self):\n",
    "        global erasers\n",
    "        if self.pens[0] >= 1:\n",
    "            print(f\"Ok! each erasers cost is {self.erasers[1]} rupees, How many erasers do you want?:\")\n",
    "            quantity = Customer().choose_quantity()\n",
    "            if self.erasers[0] >= quantity:\n",
    "                self.erasers[0] = self.erasers[0] - self.quantity\n",
    "                cost = self.erasers[1]*quantity\n",
    "                print(f\"{quantity} erasers cost is {cost} rupees can i add to cart\")\n",
    "                opt = Customer().choose_decide()\n",
    "                if opt == \"yes\" or opt == \"Yes\":\n",
    "                    self.total =  self.cart.add_cart(\"erasers\",quantity,cost)\n",
    "                else:\n",
    "                    pass\n",
    "                \n",
    "            else:\n",
    "                print(f\"sorry sir, we have only {self.erasers[0]} erasers\")\n",
    "        else:\n",
    "            print(\"Sorry sir, we dont have erasers!! any thing else do you want sir\")\n",
    "            \n",
    "        self.shopping = input(\"Do you want any thing else (Yes/No)\")\n",
    "        return self.total\n",
    "        \n",
    "    def chocolate(self):\n",
    "        global chocolates\n",
    "        if self.chocolates[0] >= 1:\n",
    "            print(f\"Ok! each chocolates cost is {self.chocolates[1]} rupees, How many chocolates do you want?:\")\n",
    "            quantity = Customer().choose_quantity()\n",
    "            if self.chocolates[0] >= quantity:\n",
    "                self.chocolates[0] = self.chocolates[0] - self.quantity\n",
    "                cost = self.chocolates[1]*quantity\n",
    "                print(f\"{quantity} chocolates cost is {cost} rupees can i add to cart\")\n",
    "                opt = Customer().choose_decide()\n",
    "                if opt == \"yes\" or opt == \"Yes\":\n",
    "                    self.total =  self.cart.add_cart(\"chocolates\",quantity,cost)\n",
    "                else:\n",
    "                    pass\n",
    "                \n",
    "            else:\n",
    "                print(f\"sorry sir, we have only {self.chocolates[0]} chocolates\")\n",
    "        else:\n",
    "            print(\"Sorry sir, we dont have chocolates!! any thing else do you want sir\")\n",
    "            \n",
    "        self.shopping = input(\"Do you want any thing else (Yes/No)\")\n",
    "        return self.total\n",
    "        \n",
    "    def biscuit(self):\n",
    "        global biscuits\n",
    "        if self.biscuits[0] >= 1:\n",
    "            print(f\"Ok! each biscuits cost is {self.biscuits[1]} rupees, How many biscuits do you want?:\")\n",
    "            quantity = Customer().choose_quantity()\n",
    "            if self.biscuits[0] >= quantity:\n",
    "                self.biscuits[0] = self.biscuits[0] - self.quantity\n",
    "                cost = self.biscuits[1]*quantity\n",
    "                print(f\"{quantity} biscuits cost is {cost} rupees can i add to cart\")\n",
    "                opt = Customer().choose_decide()\n",
    "                if opt == \"yes\" or opt == \"Yes\":\n",
    "                    self.total =  self.cart.add_cart(\"biscuits\",quantity,cost)\n",
    "                else:\n",
    "                    pass\n",
    "                \n",
    "            else:\n",
    "                print(f\"sorry sir, we have only {self.biscuits[0]} biscuits\")\n",
    "        else:\n",
    "            print(\"Sorry sir, we dont have biscuits!! any thing else do you want sir\")\n",
    "            \n",
    "        self.shopping = input(\"Do you want any thing else (Yes/No)\")\n",
    "        return self.total\n",
    "        \n",
    "        "
   ]
  }
 ],
 "metadata": {
  "kernelspec": {
   "display_name": "Python 3 (ipykernel)",
   "language": "python",
   "name": "python3"
  },
  "language_info": {
   "codemirror_mode": {
    "name": "ipython",
    "version": 3
   },
   "file_extension": ".py",
   "mimetype": "text/x-python",
   "name": "python",
   "nbconvert_exporter": "python",
   "pygments_lexer": "ipython3",
   "version": "3.10.9"
  }
 },
 "nbformat": 4,
 "nbformat_minor": 5
}
