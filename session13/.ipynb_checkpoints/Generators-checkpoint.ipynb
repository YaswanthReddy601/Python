{
 "cells": [
  {
   "cell_type": "code",
   "execution_count": 1,
   "id": "98b498b6",
   "metadata": {},
   "outputs": [],
   "source": [
    "#Generator\n",
    "#a generator function becomes an iterable after it is compiled\n"
   ]
  },
  {
   "cell_type": "code",
   "execution_count": 24,
   "id": "c09ab4a9",
   "metadata": {},
   "outputs": [],
   "source": [
    "#Iterator\n",
    "def ite(n):\n",
    "    for x in range(n):\n",
    "        y = x\n",
    "        print(y)"
   ]
  },
  {
   "cell_type": "code",
   "execution_count": 32,
   "id": "1748186b",
   "metadata": {},
   "outputs": [
    {
     "name": "stdout",
     "output_type": "stream",
     "text": [
      "0\n",
      "1\n",
      "2\n",
      "3\n",
      "4\n"
     ]
    }
   ],
   "source": [
    "l1 = ite(5)#non iterator"
   ]
  },
  {
   "cell_type": "code",
   "execution_count": 33,
   "id": "bc194320",
   "metadata": {},
   "outputs": [
    {
     "ename": "TypeError",
     "evalue": "'NoneType' object is not an iterator",
     "output_type": "error",
     "traceback": [
      "\u001b[1;31m---------------------------------------------------------------------------\u001b[0m",
      "\u001b[1;31mTypeError\u001b[0m                                 Traceback (most recent call last)",
      "Cell \u001b[1;32mIn[33], line 1\u001b[0m\n\u001b[1;32m----> 1\u001b[0m \u001b[38;5;28mprint\u001b[39m(\u001b[38;5;28;43mnext\u001b[39;49m\u001b[43m(\u001b[49m\u001b[43ml1\u001b[49m\u001b[43m)\u001b[49m)\n",
      "\u001b[1;31mTypeError\u001b[0m: 'NoneType' object is not an iterator"
     ]
    }
   ],
   "source": [
    "print(next(l1))"
   ]
  },
  {
   "cell_type": "code",
   "execution_count": 34,
   "id": "8117e790",
   "metadata": {
    "scrolled": true
   },
   "outputs": [],
   "source": [
    "#generator function for above function\n",
    "def ite(n):\n",
    "    for x in range(n):\n",
    "        yield x\n"
   ]
  },
  {
   "cell_type": "code",
   "execution_count": 36,
   "id": "9d14a13d",
   "metadata": {},
   "outputs": [
    {
     "name": "stdout",
     "output_type": "stream",
     "text": [
      "0\n",
      "1\n",
      "2\n",
      "3\n",
      "4\n"
     ]
    }
   ],
   "source": [
    "for y in ite(5):\n",
    "    print(y)"
   ]
  },
  {
   "cell_type": "code",
   "execution_count": 37,
   "id": "f0d66b4d",
   "metadata": {},
   "outputs": [],
   "source": [
    "#we can also get the values as below\n",
    "l2 = ite(5)\n"
   ]
  },
  {
   "cell_type": "code",
   "execution_count": 38,
   "id": "22442ecf",
   "metadata": {},
   "outputs": [
    {
     "name": "stdout",
     "output_type": "stream",
     "text": [
      "0\n"
     ]
    }
   ],
   "source": [
    "print(next(l2))"
   ]
  },
  {
   "cell_type": "code",
   "execution_count": 39,
   "id": "79667da7",
   "metadata": {},
   "outputs": [
    {
     "name": "stdout",
     "output_type": "stream",
     "text": [
      "1\n"
     ]
    }
   ],
   "source": [
    "print(next(l2))"
   ]
  },
  {
   "cell_type": "code",
   "execution_count": 40,
   "id": "a87486d2",
   "metadata": {},
   "outputs": [
    {
     "name": "stdout",
     "output_type": "stream",
     "text": [
      "2\n"
     ]
    }
   ],
   "source": [
    "print(next(l2))"
   ]
  },
  {
   "cell_type": "code",
   "execution_count": 41,
   "id": "d0e961c4",
   "metadata": {},
   "outputs": [
    {
     "name": "stdout",
     "output_type": "stream",
     "text": [
      "3\n"
     ]
    }
   ],
   "source": [
    "print(next(l2))"
   ]
  },
  {
   "cell_type": "code",
   "execution_count": 42,
   "id": "c8cbfb74",
   "metadata": {},
   "outputs": [
    {
     "name": "stdout",
     "output_type": "stream",
     "text": [
      "4\n"
     ]
    }
   ],
   "source": [
    "print(next(l2))"
   ]
  },
  {
   "cell_type": "code",
   "execution_count": 43,
   "id": "7a813766",
   "metadata": {},
   "outputs": [
    {
     "ename": "StopIteration",
     "evalue": "",
     "output_type": "error",
     "traceback": [
      "\u001b[1;31m---------------------------------------------------------------------------\u001b[0m",
      "\u001b[1;31mStopIteration\u001b[0m                             Traceback (most recent call last)",
      "Cell \u001b[1;32mIn[43], line 1\u001b[0m\n\u001b[1;32m----> 1\u001b[0m \u001b[38;5;28mprint\u001b[39m(\u001b[38;5;28;43mnext\u001b[39;49m\u001b[43m(\u001b[49m\u001b[43ml2\u001b[49m\u001b[43m)\u001b[49m)\n",
      "\u001b[1;31mStopIteration\u001b[0m: "
     ]
    }
   ],
   "source": [
    "print(next(l2))# there is no value to iterate"
   ]
  },
  {
   "cell_type": "code",
   "execution_count": 47,
   "id": "9a540063",
   "metadata": {},
   "outputs": [],
   "source": [
    "def fibonan(x):\n",
    "    a=0\n",
    "    b=1\n",
    "    print(a)\n",
    "    print(b)\n",
    "    for y in range(x):\n",
    "        c = a+b\n",
    "        a, b = b, c\n",
    "        print(c)"
   ]
  },
  {
   "cell_type": "code",
   "execution_count": 48,
   "id": "cdb375b5",
   "metadata": {},
   "outputs": [
    {
     "name": "stdout",
     "output_type": "stream",
     "text": [
      "0\n",
      "1\n",
      "1\n",
      "2\n",
      "3\n",
      "5\n",
      "8\n"
     ]
    }
   ],
   "source": [
    "fibonan(5)"
   ]
  },
  {
   "cell_type": "code",
   "execution_count": 56,
   "id": "2ceee9cc",
   "metadata": {},
   "outputs": [],
   "source": [
    "def fibonan(x):\n",
    "    a=0\n",
    "    b=1\n",
    "    print(a)\n",
    "    print(b)\n",
    "    for y in range(x):\n",
    "        yield a+b\n",
    "        a, b = b, a+b\n"
   ]
  },
  {
   "cell_type": "code",
   "execution_count": 57,
   "id": "549ee7d6",
   "metadata": {},
   "outputs": [
    {
     "name": "stdout",
     "output_type": "stream",
     "text": [
      "0\n",
      "1\n",
      "1\n",
      "2\n",
      "3\n",
      "5\n",
      "8\n"
     ]
    }
   ],
   "source": [
    "for m in fibonan(5):\n",
    "    print(m)"
   ]
  },
  {
   "cell_type": "code",
   "execution_count": 63,
   "id": "5334fa56",
   "metadata": {},
   "outputs": [],
   "source": [
    "x = fibonan(5)"
   ]
  },
  {
   "cell_type": "code",
   "execution_count": 64,
   "id": "c60bffcb",
   "metadata": {},
   "outputs": [
    {
     "name": "stdout",
     "output_type": "stream",
     "text": [
      "0\n",
      "1\n",
      "1\n"
     ]
    }
   ],
   "source": [
    "print(next(x))"
   ]
  },
  {
   "cell_type": "code",
   "execution_count": 65,
   "id": "19486659",
   "metadata": {},
   "outputs": [
    {
     "name": "stdout",
     "output_type": "stream",
     "text": [
      "2\n"
     ]
    }
   ],
   "source": [
    "print(next(x))"
   ]
  },
  {
   "cell_type": "code",
   "execution_count": 66,
   "id": "628cb9a8",
   "metadata": {},
   "outputs": [
    {
     "name": "stdout",
     "output_type": "stream",
     "text": [
      "3\n"
     ]
    }
   ],
   "source": [
    "print(next(x))"
   ]
  },
  {
   "cell_type": "code",
   "execution_count": 67,
   "id": "d4a0d367",
   "metadata": {},
   "outputs": [
    {
     "name": "stdout",
     "output_type": "stream",
     "text": [
      "5\n"
     ]
    }
   ],
   "source": [
    "print(next(x))"
   ]
  },
  {
   "cell_type": "code",
   "execution_count": 68,
   "id": "536d9de0",
   "metadata": {},
   "outputs": [
    {
     "name": "stdout",
     "output_type": "stream",
     "text": [
      "8\n"
     ]
    }
   ],
   "source": [
    "print(next(x))"
   ]
  },
  {
   "cell_type": "code",
   "execution_count": 72,
   "id": "18655584",
   "metadata": {},
   "outputs": [],
   "source": [
    "def strin(string):\n",
    "    for x in string:\n",
    "        print(x)"
   ]
  },
  {
   "cell_type": "code",
   "execution_count": 73,
   "id": "b867a303",
   "metadata": {},
   "outputs": [
    {
     "name": "stdout",
     "output_type": "stream",
     "text": [
      "r\n",
      "a\n",
      "m\n",
      "a\n"
     ]
    }
   ],
   "source": [
    "strin(\"rama\")"
   ]
  },
  {
   "cell_type": "code",
   "execution_count": 77,
   "id": "d7e6482e",
   "metadata": {},
   "outputs": [],
   "source": [
    "def strin(string):\n",
    "    for x in string:\n",
    "        yield x"
   ]
  },
  {
   "cell_type": "code",
   "execution_count": 78,
   "id": "f7c4692e",
   "metadata": {},
   "outputs": [],
   "source": [
    "s1 = strin(\"rama\")"
   ]
  },
  {
   "cell_type": "code",
   "execution_count": 79,
   "id": "dca1bdfe",
   "metadata": {},
   "outputs": [
    {
     "name": "stdout",
     "output_type": "stream",
     "text": [
      "r\n"
     ]
    }
   ],
   "source": [
    "print(next(s1))"
   ]
  },
  {
   "cell_type": "code",
   "execution_count": 80,
   "id": "32ad791e",
   "metadata": {},
   "outputs": [
    {
     "name": "stdout",
     "output_type": "stream",
     "text": [
      "a\n"
     ]
    }
   ],
   "source": [
    "print(next(s1))"
   ]
  },
  {
   "cell_type": "code",
   "execution_count": 81,
   "id": "b400a6a4",
   "metadata": {},
   "outputs": [
    {
     "name": "stdout",
     "output_type": "stream",
     "text": [
      "m\n"
     ]
    }
   ],
   "source": [
    "print(next(s1))"
   ]
  },
  {
   "cell_type": "code",
   "execution_count": 82,
   "id": "3f9e2ce0",
   "metadata": {},
   "outputs": [
    {
     "name": "stdout",
     "output_type": "stream",
     "text": [
      "a\n"
     ]
    }
   ],
   "source": [
    "print(next(s1))"
   ]
  },
  {
   "cell_type": "code",
   "execution_count": 83,
   "id": "2815ef23",
   "metadata": {},
   "outputs": [],
   "source": [
    "s = \"hai\""
   ]
  },
  {
   "cell_type": "code",
   "execution_count": 85,
   "id": "593f7d77",
   "metadata": {},
   "outputs": [
    {
     "ename": "TypeError",
     "evalue": "'str' object is not an iterator",
     "output_type": "error",
     "traceback": [
      "\u001b[1;31m---------------------------------------------------------------------------\u001b[0m",
      "\u001b[1;31mTypeError\u001b[0m                                 Traceback (most recent call last)",
      "Cell \u001b[1;32mIn[85], line 1\u001b[0m\n\u001b[1;32m----> 1\u001b[0m \u001b[38;5;28mprint\u001b[39m(\u001b[38;5;28;43mnext\u001b[39;49m\u001b[43m(\u001b[49m\u001b[43ms\u001b[49m\u001b[43m)\u001b[49m)\n",
      "\u001b[1;31mTypeError\u001b[0m: 'str' object is not an iterator"
     ]
    }
   ],
   "source": [
    "print(next(s))"
   ]
  },
  {
   "cell_type": "code",
   "execution_count": 86,
   "id": "10123a30",
   "metadata": {},
   "outputs": [],
   "source": [
    "#to iterate we need to use iter() funcation help"
   ]
  },
  {
   "cell_type": "code",
   "execution_count": 87,
   "id": "16e02009",
   "metadata": {},
   "outputs": [],
   "source": [
    "s2 = \"ram\""
   ]
  },
  {
   "cell_type": "code",
   "execution_count": 88,
   "id": "261aa9a2",
   "metadata": {},
   "outputs": [],
   "source": [
    "s3 = iter(s)"
   ]
  },
  {
   "cell_type": "code",
   "execution_count": 89,
   "id": "1a8ef7ba",
   "metadata": {},
   "outputs": [
    {
     "name": "stdout",
     "output_type": "stream",
     "text": [
      "r\n"
     ]
    }
   ],
   "source": [
    "print(next(s3))"
   ]
  },
  {
   "cell_type": "code",
   "execution_count": 90,
   "id": "86920390",
   "metadata": {},
   "outputs": [
    {
     "name": "stdout",
     "output_type": "stream",
     "text": [
      "a\n"
     ]
    }
   ],
   "source": [
    "print(next(s3))"
   ]
  },
  {
   "cell_type": "code",
   "execution_count": 91,
   "id": "1df57d71",
   "metadata": {},
   "outputs": [
    {
     "name": "stdout",
     "output_type": "stream",
     "text": [
      "m\n"
     ]
    }
   ],
   "source": [
    "print(next(s3))"
   ]
  },
  {
   "cell_type": "code",
   "execution_count": 92,
   "id": "73ffd9cb",
   "metadata": {},
   "outputs": [
    {
     "ename": "StopIteration",
     "evalue": "",
     "output_type": "error",
     "traceback": [
      "\u001b[1;31m---------------------------------------------------------------------------\u001b[0m",
      "\u001b[1;31mStopIteration\u001b[0m                             Traceback (most recent call last)",
      "Cell \u001b[1;32mIn[92], line 1\u001b[0m\n\u001b[1;32m----> 1\u001b[0m \u001b[38;5;28mprint\u001b[39m(\u001b[38;5;28;43mnext\u001b[39;49m\u001b[43m(\u001b[49m\u001b[43ms3\u001b[49m\u001b[43m)\u001b[49m)\n",
      "\u001b[1;31mStopIteration\u001b[0m: "
     ]
    }
   ],
   "source": [
    "print(next(s3))#string iteration is over"
   ]
  },
  {
   "cell_type": "code",
   "execution_count": null,
   "id": "1b8ddc92",
   "metadata": {},
   "outputs": [],
   "source": []
  }
 ],
 "metadata": {
  "kernelspec": {
   "display_name": "Python 3 (ipykernel)",
   "language": "python",
   "name": "python3"
  },
  "language_info": {
   "codemirror_mode": {
    "name": "ipython",
    "version": 3
   },
   "file_extension": ".py",
   "mimetype": "text/x-python",
   "name": "python",
   "nbconvert_exporter": "python",
   "pygments_lexer": "ipython3",
   "version": "3.10.9"
  }
 },
 "nbformat": 4,
 "nbformat_minor": 5
}
