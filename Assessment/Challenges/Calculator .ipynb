{
 "cells": [
  {
   "cell_type": "code",
   "execution_count": 10,
   "id": "83c647a3",
   "metadata": {},
   "outputs": [
    {
     "name": "stdout",
     "output_type": "stream",
     "text": [
      "enter a number4.5\n",
      "enter the operator \n",
      "+\n",
      "-\n",
      "/\n",
      "*\n",
      "+\n",
      "enter another number50.85\n",
      "To continue with 55.35 print 'yes'no\n"
     ]
    }
   ],
   "source": [
    "#Calculator\n",
    "x = \"yes\"\n",
    "num1 = float(input(\"enter a number\"))\n",
    "while x == \"yes\":\n",
    "    operator = input(\"enter the operator \\n+\\n-\\n/\\n*\\n\")\n",
    "    num2 = float(input(\"enter another number\"))\n",
    "\n",
    "    def add(num1,num2):\n",
    "        return num1+num2\n",
    "    def sub(num1,num2):\n",
    "        return num1-num2\n",
    "    def div(num1,num2):\n",
    "        return num1/num2\n",
    "    def mul(num1,num2):\n",
    "        return num1*num2\n",
    "\n",
    "    if operator == \"+\":\n",
    "        result = add(num1,num2)\n",
    "    elif operator == \"-\":\n",
    "        result = sub(num1,num2)\n",
    "    elif operator == \"/\":\n",
    "        result = div(num1,num2)\n",
    "    elif operator == \"*\":\n",
    "        result = mul(num1,num2)\n",
    "    else:\n",
    "        print(\"invalid input\")\n",
    "    x = input(f\"To continue with {result} print 'yes'\")\n",
    "    num1 = result\n"
   ]
  },
  {
   "cell_type": "code",
   "execution_count": null,
   "id": "a6bad501",
   "metadata": {},
   "outputs": [],
   "source": []
  }
 ],
 "metadata": {
  "kernelspec": {
   "display_name": "Python 3 (ipykernel)",
   "language": "python",
   "name": "python3"
  },
  "language_info": {
   "codemirror_mode": {
    "name": "ipython",
    "version": 3
   },
   "file_extension": ".py",
   "mimetype": "text/x-python",
   "name": "python",
   "nbconvert_exporter": "python",
   "pygments_lexer": "ipython3",
   "version": "3.10.9"
  }
 },
 "nbformat": 4,
 "nbformat_minor": 5
}
